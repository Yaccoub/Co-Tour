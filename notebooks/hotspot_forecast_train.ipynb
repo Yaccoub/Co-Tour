{
 "cells": [
  {
   "cell_type": "code",
   "execution_count": 1,
   "metadata": {},
   "outputs": [
    {
     "name": "stderr",
     "output_type": "stream",
     "text": [
      "Using TensorFlow backend.\n"
     ]
    }
   ],
   "source": [
    "from datetime import datetime\n",
    "import numpy as np\n",
    "import pandas as pd\n",
    "from keras.models import Sequential\n",
    "from keras.layers import Input, GRU, Dense,Flatten,Dropout,Conv1D, MaxPooling1D\n",
    "from keras.callbacks import EarlyStopping\n",
    "from keras.losses import mean_squared_error\n",
    "import mlflow.tensorflow\n",
    "import matplotlib.pyplot as plt\n",
    "from scipy.stats import pearsonr"
   ]
  },
  {
   "cell_type": "code",
   "execution_count": 26,
   "metadata": {},
   "outputs": [],
   "source": [
    "def create_sequences(dataset, in_steps=1, out_steps=1, dropNa=True):\n",
    "    \"\"\"Converts time series into a data set for supervised machine learning models\"\"\"\n",
    "    # drop row's which include Nan elements (data preprocessing)\n",
    "    df = pd.DataFrame(dataset)\n",
    "    if dropNa:\n",
    "        df.dropna(inplace=True)\n",
    "    dataset = df.values\n",
    "    # create x and y out of dataset\n",
    "    dataX, dataY = [], []\n",
    "    for i in range(len(dataset)):\n",
    "        endIdx = i + in_steps + out_steps\n",
    "        # stop if reached the end of dataset\n",
    "        if endIdx > len(dataset):\n",
    "            break\n",
    "        dataX.append(dataset[i:endIdx-out_steps, :])\n",
    "        dataY.append(dataset[endIdx-out_steps:endIdx, :])\n",
    "    return np.array(dataX), np.array(dataY)"
   ]
  },
  {
   "cell_type": "code",
   "execution_count": 215,
   "metadata": {},
   "outputs": [],
   "source": [
    "def test_train(datasetsize, testsize, shuffle=True):\n",
    "    \"\"\"Returns two dataset to train and test machine learning models\"\"\"\n",
    "    if shuffle:\n",
    "        ntest = int(np.ceil(testsize * datasetsize))\n",
    "        idx = np.arange(0, datasetsize)\n",
    "        np.random.shuffle(idx)\n",
    "        train_index = idx[ntest:]\n",
    "        test_index = idx[:ntest]\n",
    "        return train_index, test_index\n",
    "    else:\n",
    "        ntest = int(np.ceil(testsize * datasetsize))\n",
    "        idx = np.arange(0, datasetsize)\n",
    "        test_index = idx[datasetsize - ntest:]\n",
    "        train_index = idx[:datasetsize - ntest]\n",
    "        return train_index, test_index"
   ]
  },
  {
   "cell_type": "code",
   "execution_count": 4,
   "metadata": {},
   "outputs": [],
   "source": [
    "def build_model_lstm(n_steps,n_feats,n_fore=1):\n",
    "    model = Sequential()\n",
    "    model.add(LSTM(units=128, return_sequences=True, input_shape=(n_steps,n_feats)))\n",
    "    model.add(LSTM(units=256, return_sequences=False))\n",
    "    model.add(Dropout(0.20))\n",
    "    model.add(Dense(128, activation='relu'))\n",
    "    #model.add(Dense(units=25))\n",
    "    model.add(Dense(units=n_fore))\n",
    "    model.compile(optimizer='adam',\n",
    "                  loss='mse',\n",
    "                  metrics=['mean_squared_error', 'mean_absolute_error', 'mean_absolute_percentage_error', 'cosine_proximity']\n",
    "                 )\n",
    "    return model"
   ]
  },
  {
   "cell_type": "code",
   "execution_count": 131,
   "metadata": {},
   "outputs": [],
   "source": [
    "def build_model_cnn(n_steps,n_feats,n_fore=1):\n",
    "    model = Sequential()\n",
    "    model.add(Conv1D(filters=50, kernel_size=3, activation='relu',input_shape=(n_steps,n_feats)))\n",
    "    model.add(Conv1D(filters=256, kernel_size=3, activation='relu'))\n",
    "    model.add(MaxPooling1D(2))\n",
    "    model.add(Flatten())\n",
    "    #model.add(Dropout(0.20))\n",
    "    #model.add(Dense(128, activation='relu'))\n",
    "    model.add(Dense(32, activation='relu'))\n",
    "    model.add(Dense(n_fore, activation='linear'))\n",
    "    model.compile(optimizer='adam',\n",
    "                  loss='mse',\n",
    "                  metrics=['mean_squared_error', 'mean_absolute_error', 'mean_absolute_percentage_error', 'cosine_proximity']\n",
    "                 )\n",
    "    return model"
   ]
  },
  {
   "cell_type": "markdown",
   "metadata": {},
   "source": [
    "# Just to test the system"
   ]
  },
  {
   "cell_type": "code",
   "execution_count": 216,
   "metadata": {},
   "outputs": [],
   "source": [
    "# Create a test Sequence\n",
    "seq = pd.DataFrame([[1,101],[2,102],[3,103],[4,104],[5,105],[6,106],[7,107],[8,108],[9,109],[10,110]])\n",
    "n_steps = 6\n",
    "output_len = 2\n",
    "dropNan = False\n",
    "shuffle = False"
   ]
  },
  {
   "cell_type": "code",
   "execution_count": 133,
   "metadata": {},
   "outputs": [],
   "source": [
    "X_Data, y_Data = create_sequences(seq, n_steps, output_len, dropNan)"
   ]
  },
  {
   "cell_type": "code",
   "execution_count": 134,
   "metadata": {},
   "outputs": [
    {
     "name": "stdout",
     "output_type": "stream",
     "text": [
      "Input data:\n",
      "[[[  1 101]\n",
      "  [  2 102]\n",
      "  [  3 103]\n",
      "  [  4 104]\n",
      "  [  5 105]\n",
      "  [  6 106]]\n",
      "\n",
      " [[  2 102]\n",
      "  [  3 103]\n",
      "  [  4 104]\n",
      "  [  5 105]\n",
      "  [  6 106]\n",
      "  [  7 107]]\n",
      "\n",
      " [[  3 103]\n",
      "  [  4 104]\n",
      "  [  5 105]\n",
      "  [  6 106]\n",
      "  [  7 107]\n",
      "  [  8 108]]]\n",
      "\n",
      "Output data of the complete dataset\n",
      "[[[  7 107]\n",
      "  [  8 108]]\n",
      "\n",
      " [[  8 108]\n",
      "  [  9 109]]\n",
      "\n",
      " [[  9 109]\n",
      "  [ 10 110]]]\n",
      "\n",
      "Output data that we wonna use for prediction\n",
      "[[ 7  8]\n",
      " [ 8  9]\n",
      " [ 9 10]]\n"
     ]
    }
   ],
   "source": [
    "print(\"Input data:\")\n",
    "print(X_Data)\n",
    "print()\n",
    "print(\"Output data of the complete dataset\")\n",
    "print(y_Data)\n",
    "print()\n",
    "print(\"Output data that we wonna use for prediction\")\n",
    "print(y_Data[:,:,0])"
   ]
  },
  {
   "cell_type": "code",
   "execution_count": 217,
   "metadata": {},
   "outputs": [
    {
     "name": "stdout",
     "output_type": "stream",
     "text": [
      "[  0   1   2   3   4   5   6   7   8   9  10  11  12  13  14  15  16  17\n",
      "  18  19  20  21  22  23  24  25  26  27  28  29  30  31  32  33  34  35\n",
      "  36  37  38  39  40  41  42  43  44  45  46  47  48  49  50  51  52  53\n",
      "  54  55  56  57  58  59  60  61  62  63  64  65  66  67  68  69  70  71\n",
      "  72  73  74  75  76  77  78  79  80  81  82  83  84  85  86  87  88  89\n",
      "  90  91  92  93  94  95  96  97  98  99 100 101 102 103 104 105 106 107\n",
      " 108 109 110 111 112 113 114 115 116 117 118 119 120 121 122 123 124 125\n",
      " 126 127 128 129 130 131 132 133 134 135 136 137 138 139 140 141 142 143\n",
      " 144 145 146 147 148 149 150 151 152 153 154 155 156] [157 158 159 160 161 162 163 164 165 166 167 168 169 170 171 172 173 174\n",
      " 175 176 177 178 179 180 181 182 183 184 185 186 187 188 189 190 191 192\n",
      " 193 194 195 196 197 198 199 200 201 202 203 204 205 206 207 208 209 210\n",
      " 211 212 213 214 215 216 217 218 219 220 221 222 223 224 225 226 227 228\n",
      " 229 230 231 232 233 234]\n"
     ]
    }
   ],
   "source": [
    "train_index, test_index = test_train(len(X_Data), 0.33, shuffle)\n",
    "print(train_index,test_index)"
   ]
  },
  {
   "cell_type": "code",
   "execution_count": 136,
   "metadata": {},
   "outputs": [],
   "source": [
    "# take the wanted column\n",
    "y_Data_col = y_Data[:,:,0]\n",
    "# rename the columns of y_Data\n",
    "X_train = X_Data[train_index]\n",
    "X_test = X_Data[test_index]\n",
    "y_train = y_Data_col[train_index]\n",
    "y_test = y_Data_col[test_index]"
   ]
  },
  {
   "cell_type": "code",
   "execution_count": 137,
   "metadata": {},
   "outputs": [
    {
     "name": "stdout",
     "output_type": "stream",
     "text": [
      "6 2 2\n"
     ]
    }
   ],
   "source": [
    "n_feats = X_train.shape[2]\n",
    "n_fore = y_train.shape[1]\n",
    "print(n_steps,n_feats,n_fore)"
   ]
  },
  {
   "cell_type": "code",
   "execution_count": 138,
   "metadata": {},
   "outputs": [
    {
     "name": "stdout",
     "output_type": "stream",
     "text": [
      "Model: \"sequential_11\"\n",
      "_________________________________________________________________\n",
      "Layer (type)                 Output Shape              Param #   \n",
      "=================================================================\n",
      "conv1d_19 (Conv1D)           (None, 4, 50)             350       \n",
      "_________________________________________________________________\n",
      "conv1d_20 (Conv1D)           (None, 2, 256)            38656     \n",
      "_________________________________________________________________\n",
      "max_pooling1d_9 (MaxPooling1 (None, 1, 256)            0         \n",
      "_________________________________________________________________\n",
      "flatten_9 (Flatten)          (None, 256)               0         \n",
      "_________________________________________________________________\n",
      "dense_21 (Dense)             (None, 32)                8224      \n",
      "_________________________________________________________________\n",
      "dense_22 (Dense)             (None, 2)                 66        \n",
      "=================================================================\n",
      "Total params: 47,296\n",
      "Trainable params: 47,296\n",
      "Non-trainable params: 0\n",
      "_________________________________________________________________\n"
     ]
    }
   ],
   "source": [
    "model = build_model_cnn(n_steps,n_feats,n_fore)\n",
    "model.summary()\n",
    "\n",
    "history = model.fit(\n",
    "    X_train,\n",
    "    y_train,\n",
    "    batch_size=10,\n",
    "    epochs=100,\n",
    "    verbose=0,\n",
    "    validation_data=(X_test, y_test),\n",
    "    callbacks=[\n",
    "        EarlyStopping(patience=10),\n",
    "    ],\n",
    ")"
   ]
  },
  {
   "cell_type": "code",
   "execution_count": 139,
   "metadata": {},
   "outputs": [
    {
     "data": {
      "image/png": "[encoded data removed]",
      "text/plain": [
       "<Figure size 432x288 with 1 Axes>"
      ]
     },
     "metadata": {
      "needs_background": "light"
     },
     "output_type": "display_data"
    },
    {
     "data": {
      "image/png": "[encoded data removed]",
      "text/plain": [
       "<Figure size 432x288 with 1 Axes>"
      ]
     },
     "metadata": {
      "needs_background": "light"
     },
     "output_type": "display_data"
    },
    {
     "data": {
      "image/png": "[encoded data removed]",
      "text/plain": [
       "<Figure size 432x288 with 1 Axes>"
      ]
     },
     "metadata": {
      "needs_background": "light"
     },
     "output_type": "display_data"
    },
    {
     "data": {
      "image/png": "[encoded data removed]",
      "text/plain": [
       "<Figure size 432x288 with 1 Axes>"
      ]
     },
     "metadata": {
      "needs_background": "light"
     },
     "output_type": "display_data"
    }
   ],
   "source": [
    "# summarize history for accuracy\n",
    "plt.figure()\n",
    "plt.plot(history.history['mean_squared_error'])\n",
    "plt.plot(history.history['val_mean_squared_error'])\n",
    "plt.title('model mse')\n",
    "plt.ylabel('mean suqared error')\n",
    "plt.xlabel('epoch')\n",
    "plt.legend(['train', 'test'], loc='upper left')\n",
    "plt.show()\n",
    "\n",
    "plt.figure()\n",
    "plt.plot(history.history['mean_absolute_error'])\n",
    "plt.plot(history.history['val_mean_absolute_error'])\n",
    "plt.title('model mae')\n",
    "plt.ylabel('mean absolute error')\n",
    "plt.xlabel('epoch')\n",
    "plt.legend(['train', 'test'], loc='upper left')\n",
    "plt.show()\n",
    "\n",
    "plt.figure()\n",
    "plt.plot(history.history['mean_absolute_percentage_error'])\n",
    "plt.plot(history.history['val_mean_absolute_percentage_error'])\n",
    "plt.title('model mean absolute percentage error')\n",
    "plt.ylabel('mean absolute percentage error')\n",
    "plt.xlabel('epoch')\n",
    "plt.legend(['train', 'test'], loc='upper left')\n",
    "plt.show()\n",
    "\n",
    "plt.figure()\n",
    "plt.plot(history.history['cosine_proximity'])\n",
    "plt.plot(history.history['val_cosine_proximity'])\n",
    "plt.title('model cosine proximity')\n",
    "plt.ylabel('cosine proximity')\n",
    "plt.xlabel('epoch')\n",
    "plt.legend(['train', 'test'], loc='upper left')\n",
    "plt.show()"
   ]
  },
  {
   "cell_type": "code",
   "execution_count": 140,
   "metadata": {},
   "outputs": [
    {
     "name": "stdout",
     "output_type": "stream",
     "text": [
      "[ 9 10]\n"
     ]
    },
    {
     "data": {
      "text/plain": [
       "array([[8.250594, 9.125049]], dtype=float32)"
      ]
     },
     "execution_count": 140,
     "metadata": {},
     "output_type": "execute_result"
    }
   ],
   "source": [
    "print(y_train[0])\n",
    "model.predict(np.reshape(X_train[0], (1,X_train[0].shape[0], X_train[0].shape[1])))"
   ]
  },
  {
   "cell_type": "code",
   "execution_count": 141,
   "metadata": {},
   "outputs": [
    {
     "name": "stdout",
     "output_type": "stream",
     "text": [
      "[[8.053631 8.945402]]\n"
     ]
    }
   ],
   "source": [
    "predictions = model.predict(X_test)\n",
    "print(predictions)"
   ]
  },
  {
   "cell_type": "code",
   "execution_count": 142,
   "metadata": {},
   "outputs": [
    {
     "data": {
      "image/png": "[encoded data removed]",
      "text/plain": [
       "<Figure size 432x288 with 1 Axes>"
      ]
     },
     "metadata": {
      "needs_background": "light"
     },
     "output_type": "display_data"
    }
   ],
   "source": [
    "# Visualize the data\n",
    "plt.figure()\n",
    "plt.scatter(predictions,y_test)\n",
    "plt.grid(True)\n",
    "plt.title(\"title\")\n",
    "plt.xlabel(\"x-label\")\n",
    "plt.ylabel(\"y-label\")\n",
    "plt.show()"
   ]
  },
  {
   "cell_type": "markdown",
   "metadata": {},
   "source": [
    "# Real data"
   ]
  },
  {
   "cell_type": "code",
   "execution_count": 149,
   "metadata": {},
   "outputs": [],
   "source": [
    "dataset = pd.read_csv('../data/Forecast Data/dataset.csv')\n",
    "dataset['DATE'] = [datetime.strptime(date, '%Y-%m-%d') for date in dataset['DATE']]\n",
    "dataset = dataset.set_index('DATE')"
   ]
  },
  {
   "cell_type": "code",
   "execution_count": 150,
   "metadata": {},
   "outputs": [],
   "source": [
    "# Throw an exception when containing NaN values\n",
    "if dataset.isnull().sum().sum() != 0:\n",
    "    raise Exception(\"The dataset contains NaN values\")"
   ]
  },
  {
   "cell_type": "code",
   "execution_count": 151,
   "metadata": {},
   "outputs": [
    {
     "data": {
      "text/html": [
       "<div>\n",
       "<style scoped>\n",
       "    .dataframe tbody tr th:only-of-type {\n",
       "        vertical-align: middle;\n",
       "    }\n",
       "\n",
       "    .dataframe tbody tr th {\n",
       "        vertical-align: top;\n",
       "    }\n",
       "\n",
       "    .dataframe thead th {\n",
       "        text-align: right;\n",
       "    }\n",
       "</style>\n",
       "<table border=\"1\" class=\"dataframe\">\n",
       "  <thead>\n",
       "    <tr style=\"text-align: right;\">\n",
       "      <th></th>\n",
       "      <th>Alte Pinakothek</th>\n",
       "      <th>Ausland (Tourismus)</th>\n",
       "      <th>Olympiapark</th>\n",
       "      <th>Bayerisches Nationalmuseum</th>\n",
       "      <th>Bayerisches Staatsorchester</th>\n",
       "      <th>Deutsches Museum</th>\n",
       "      <th>Inland (Tourismus)</th>\n",
       "      <th>Kleine Olympiahalle</th>\n",
       "      <th>Museum Brandhorst</th>\n",
       "      <th>Museum Mensch und Natur</th>\n",
       "      <th>...</th>\n",
       "      <th>Pinakothek der Moderne</th>\n",
       "      <th>Prinzregententheater</th>\n",
       "      <th>Residenztheater</th>\n",
       "      <th>Schackgalerie</th>\n",
       "      <th>Schauburg - Theater fuer junges Publikum</th>\n",
       "      <th>Staedtische Galerie im Lenbachhaus</th>\n",
       "      <th>Theater am Gaertnerplatz</th>\n",
       "      <th>Tierpark Hellabrunn</th>\n",
       "      <th>Kinos</th>\n",
       "      <th>AnzahlFall</th>\n",
       "    </tr>\n",
       "    <tr>\n",
       "      <th>DATE</th>\n",
       "      <th></th>\n",
       "      <th></th>\n",
       "      <th></th>\n",
       "      <th></th>\n",
       "      <th></th>\n",
       "      <th></th>\n",
       "      <th></th>\n",
       "      <th></th>\n",
       "      <th></th>\n",
       "      <th></th>\n",
       "      <th></th>\n",
       "      <th></th>\n",
       "      <th></th>\n",
       "      <th></th>\n",
       "      <th></th>\n",
       "      <th></th>\n",
       "      <th></th>\n",
       "      <th></th>\n",
       "      <th></th>\n",
       "      <th></th>\n",
       "      <th></th>\n",
       "    </tr>\n",
       "  </thead>\n",
       "  <tbody>\n",
       "    <tr>\n",
       "      <th>2000-01-01</th>\n",
       "      <td>0.022074</td>\n",
       "      <td>0.000000</td>\n",
       "      <td>0.054662</td>\n",
       "      <td>0.021952</td>\n",
       "      <td>0.002828</td>\n",
       "      <td>0.058816</td>\n",
       "      <td>0.00000</td>\n",
       "      <td>0.004381</td>\n",
       "      <td>0.000000</td>\n",
       "      <td>0.000000</td>\n",
       "      <td>...</td>\n",
       "      <td>0.000000</td>\n",
       "      <td>0.000000</td>\n",
       "      <td>0.017838</td>\n",
       "      <td>0.003648</td>\n",
       "      <td>0.003261</td>\n",
       "      <td>0.012083</td>\n",
       "      <td>0.018596</td>\n",
       "      <td>0.031459</td>\n",
       "      <td>0.528175</td>\n",
       "      <td>0.0</td>\n",
       "    </tr>\n",
       "    <tr>\n",
       "      <th>2000-02-01</th>\n",
       "      <td>0.016799</td>\n",
       "      <td>0.000000</td>\n",
       "      <td>0.046616</td>\n",
       "      <td>0.012995</td>\n",
       "      <td>0.000535</td>\n",
       "      <td>0.048220</td>\n",
       "      <td>0.00000</td>\n",
       "      <td>0.046616</td>\n",
       "      <td>0.000000</td>\n",
       "      <td>0.000000</td>\n",
       "      <td>...</td>\n",
       "      <td>0.000000</td>\n",
       "      <td>0.000000</td>\n",
       "      <td>0.016106</td>\n",
       "      <td>0.001261</td>\n",
       "      <td>0.003885</td>\n",
       "      <td>0.010910</td>\n",
       "      <td>0.015347</td>\n",
       "      <td>0.032155</td>\n",
       "      <td>0.403690</td>\n",
       "      <td>0.0</td>\n",
       "    </tr>\n",
       "    <tr>\n",
       "      <th>2000-03-01</th>\n",
       "      <td>0.022843</td>\n",
       "      <td>0.000000</td>\n",
       "      <td>0.005556</td>\n",
       "      <td>0.003271</td>\n",
       "      <td>0.003547</td>\n",
       "      <td>0.084640</td>\n",
       "      <td>0.00000</td>\n",
       "      <td>0.000256</td>\n",
       "      <td>0.000000</td>\n",
       "      <td>0.000000</td>\n",
       "      <td>...</td>\n",
       "      <td>0.000000</td>\n",
       "      <td>0.000000</td>\n",
       "      <td>0.016766</td>\n",
       "      <td>0.001139</td>\n",
       "      <td>0.003324</td>\n",
       "      <td>0.016486</td>\n",
       "      <td>0.016687</td>\n",
       "      <td>0.038560</td>\n",
       "      <td>0.347004</td>\n",
       "      <td>0.0</td>\n",
       "    </tr>\n",
       "    <tr>\n",
       "      <th>2000-04-01</th>\n",
       "      <td>0.012550</td>\n",
       "      <td>0.000000</td>\n",
       "      <td>0.001199</td>\n",
       "      <td>0.002616</td>\n",
       "      <td>0.003440</td>\n",
       "      <td>0.083873</td>\n",
       "      <td>0.00000</td>\n",
       "      <td>0.000599</td>\n",
       "      <td>0.000000</td>\n",
       "      <td>0.000000</td>\n",
       "      <td>...</td>\n",
       "      <td>0.000000</td>\n",
       "      <td>0.000000</td>\n",
       "      <td>0.011828</td>\n",
       "      <td>0.000610</td>\n",
       "      <td>0.002396</td>\n",
       "      <td>0.012647</td>\n",
       "      <td>0.013023</td>\n",
       "      <td>0.114267</td>\n",
       "      <td>0.310064</td>\n",
       "      <td>0.0</td>\n",
       "    </tr>\n",
       "    <tr>\n",
       "      <th>2000-05-01</th>\n",
       "      <td>0.020215</td>\n",
       "      <td>0.000000</td>\n",
       "      <td>0.001662</td>\n",
       "      <td>0.002130</td>\n",
       "      <td>0.000501</td>\n",
       "      <td>0.087256</td>\n",
       "      <td>0.00000</td>\n",
       "      <td>0.000427</td>\n",
       "      <td>0.000000</td>\n",
       "      <td>0.000000</td>\n",
       "      <td>...</td>\n",
       "      <td>0.000000</td>\n",
       "      <td>0.000000</td>\n",
       "      <td>0.013875</td>\n",
       "      <td>0.000557</td>\n",
       "      <td>0.005129</td>\n",
       "      <td>0.013359</td>\n",
       "      <td>0.017279</td>\n",
       "      <td>0.078731</td>\n",
       "      <td>0.288977</td>\n",
       "      <td>0.0</td>\n",
       "    </tr>\n",
       "    <tr>\n",
       "      <th>...</th>\n",
       "      <td>...</td>\n",
       "      <td>...</td>\n",
       "      <td>...</td>\n",
       "      <td>...</td>\n",
       "      <td>...</td>\n",
       "      <td>...</td>\n",
       "      <td>...</td>\n",
       "      <td>...</td>\n",
       "      <td>...</td>\n",
       "      <td>...</td>\n",
       "      <td>...</td>\n",
       "      <td>...</td>\n",
       "      <td>...</td>\n",
       "      <td>...</td>\n",
       "      <td>...</td>\n",
       "      <td>...</td>\n",
       "      <td>...</td>\n",
       "      <td>...</td>\n",
       "      <td>...</td>\n",
       "      <td>...</td>\n",
       "      <td>...</td>\n",
       "    </tr>\n",
       "    <tr>\n",
       "      <th>2020-02-01</th>\n",
       "      <td>0.060554</td>\n",
       "      <td>0.176279</td>\n",
       "      <td>0.020328</td>\n",
       "      <td>0.019108</td>\n",
       "      <td>0.001141</td>\n",
       "      <td>0.070657</td>\n",
       "      <td>0.25623</td>\n",
       "      <td>0.000000</td>\n",
       "      <td>0.060554</td>\n",
       "      <td>0.033045</td>\n",
       "      <td>...</td>\n",
       "      <td>0.060554</td>\n",
       "      <td>0.034894</td>\n",
       "      <td>0.020034</td>\n",
       "      <td>0.000000</td>\n",
       "      <td>0.000866</td>\n",
       "      <td>0.008320</td>\n",
       "      <td>0.063272</td>\n",
       "      <td>0.021076</td>\n",
       "      <td>0.432509</td>\n",
       "      <td>1.0</td>\n",
       "    </tr>\n",
       "    <tr>\n",
       "      <th>2020-03-01</th>\n",
       "      <td>0.060034</td>\n",
       "      <td>0.000000</td>\n",
       "      <td>0.022493</td>\n",
       "      <td>0.028420</td>\n",
       "      <td>0.000000</td>\n",
       "      <td>0.122832</td>\n",
       "      <td>0.00000</td>\n",
       "      <td>0.000000</td>\n",
       "      <td>0.060034</td>\n",
       "      <td>0.042508</td>\n",
       "      <td>...</td>\n",
       "      <td>0.060034</td>\n",
       "      <td>0.052079</td>\n",
       "      <td>0.032594</td>\n",
       "      <td>0.000000</td>\n",
       "      <td>0.004643</td>\n",
       "      <td>0.029414</td>\n",
       "      <td>0.079618</td>\n",
       "      <td>0.083636</td>\n",
       "      <td>0.000000</td>\n",
       "      <td>23.0</td>\n",
       "    </tr>\n",
       "    <tr>\n",
       "      <th>2020-04-01</th>\n",
       "      <td>0.120421</td>\n",
       "      <td>0.000000</td>\n",
       "      <td>0.037304</td>\n",
       "      <td>0.036206</td>\n",
       "      <td>0.000000</td>\n",
       "      <td>0.124791</td>\n",
       "      <td>0.00000</td>\n",
       "      <td>0.000000</td>\n",
       "      <td>0.120421</td>\n",
       "      <td>0.061792</td>\n",
       "      <td>...</td>\n",
       "      <td>0.120421</td>\n",
       "      <td>0.063973</td>\n",
       "      <td>0.036206</td>\n",
       "      <td>0.000000</td>\n",
       "      <td>0.000000</td>\n",
       "      <td>0.000000</td>\n",
       "      <td>0.124791</td>\n",
       "      <td>0.027942</td>\n",
       "      <td>0.000000</td>\n",
       "      <td>3718.0</td>\n",
       "    </tr>\n",
       "    <tr>\n",
       "      <th>2020-05-01</th>\n",
       "      <td>0.061073</td>\n",
       "      <td>0.000000</td>\n",
       "      <td>0.018472</td>\n",
       "      <td>0.031939</td>\n",
       "      <td>0.000000</td>\n",
       "      <td>0.168947</td>\n",
       "      <td>0.00000</td>\n",
       "      <td>0.000000</td>\n",
       "      <td>0.061073</td>\n",
       "      <td>0.036382</td>\n",
       "      <td>...</td>\n",
       "      <td>0.061073</td>\n",
       "      <td>0.031791</td>\n",
       "      <td>0.018266</td>\n",
       "      <td>0.000000</td>\n",
       "      <td>0.000000</td>\n",
       "      <td>0.079635</td>\n",
       "      <td>0.061224</td>\n",
       "      <td>0.336681</td>\n",
       "      <td>0.000000</td>\n",
       "      <td>2092.0</td>\n",
       "    </tr>\n",
       "    <tr>\n",
       "      <th>2020-06-01</th>\n",
       "      <td>0.061204</td>\n",
       "      <td>0.000000</td>\n",
       "      <td>0.018415</td>\n",
       "      <td>0.030510</td>\n",
       "      <td>0.000000</td>\n",
       "      <td>0.215261</td>\n",
       "      <td>0.00000</td>\n",
       "      <td>0.000000</td>\n",
       "      <td>0.061204</td>\n",
       "      <td>0.050856</td>\n",
       "      <td>...</td>\n",
       "      <td>0.061204</td>\n",
       "      <td>0.032086</td>\n",
       "      <td>0.018612</td>\n",
       "      <td>0.000000</td>\n",
       "      <td>0.004836</td>\n",
       "      <td>0.065547</td>\n",
       "      <td>0.069296</td>\n",
       "      <td>0.252596</td>\n",
       "      <td>0.000000</td>\n",
       "      <td>674.0</td>\n",
       "    </tr>\n",
       "  </tbody>\n",
       "</table>\n",
       "<p>246 rows × 29 columns</p>\n",
       "</div>"
      ],
      "text/plain": [
       "            Alte Pinakothek  Ausland (Tourismus)  Olympiapark  \\\n",
       "DATE                                                            \n",
       "2000-01-01         0.022074             0.000000     0.054662   \n",
       "2000-02-01         0.016799             0.000000     0.046616   \n",
       "2000-03-01         0.022843             0.000000     0.005556   \n",
       "2000-04-01         0.012550             0.000000     0.001199   \n",
       "2000-05-01         0.020215             0.000000     0.001662   \n",
       "...                     ...                  ...          ...   \n",
       "2020-02-01         0.060554             0.176279     0.020328   \n",
       "2020-03-01         0.060034             0.000000     0.022493   \n",
       "2020-04-01         0.120421             0.000000     0.037304   \n",
       "2020-05-01         0.061073             0.000000     0.018472   \n",
       "2020-06-01         0.061204             0.000000     0.018415   \n",
       "\n",
       "            Bayerisches Nationalmuseum  Bayerisches Staatsorchester  \\\n",
       "DATE                                                                  \n",
       "2000-01-01                    0.021952                     0.002828   \n",
       "2000-02-01                    0.012995                     0.000535   \n",
       "2000-03-01                    0.003271                     0.003547   \n",
       "2000-04-01                    0.002616                     0.003440   \n",
       "2000-05-01                    0.002130                     0.000501   \n",
       "...                                ...                          ...   \n",
       "2020-02-01                    0.019108                     0.001141   \n",
       "2020-03-01                    0.028420                     0.000000   \n",
       "2020-04-01                    0.036206                     0.000000   \n",
       "2020-05-01                    0.031939                     0.000000   \n",
       "2020-06-01                    0.030510                     0.000000   \n",
       "\n",
       "            Deutsches Museum  Inland (Tourismus)  Kleine Olympiahalle  \\\n",
       "DATE                                                                    \n",
       "2000-01-01          0.058816             0.00000             0.004381   \n",
       "2000-02-01          0.048220             0.00000             0.046616   \n",
       "2000-03-01          0.084640             0.00000             0.000256   \n",
       "2000-04-01          0.083873             0.00000             0.000599   \n",
       "2000-05-01          0.087256             0.00000             0.000427   \n",
       "...                      ...                 ...                  ...   \n",
       "2020-02-01          0.070657             0.25623             0.000000   \n",
       "2020-03-01          0.122832             0.00000             0.000000   \n",
       "2020-04-01          0.124791             0.00000             0.000000   \n",
       "2020-05-01          0.168947             0.00000             0.000000   \n",
       "2020-06-01          0.215261             0.00000             0.000000   \n",
       "\n",
       "            Museum Brandhorst  Museum Mensch und Natur  ...  \\\n",
       "DATE                                                    ...   \n",
       "2000-01-01           0.000000                 0.000000  ...   \n",
       "2000-02-01           0.000000                 0.000000  ...   \n",
       "2000-03-01           0.000000                 0.000000  ...   \n",
       "2000-04-01           0.000000                 0.000000  ...   \n",
       "2000-05-01           0.000000                 0.000000  ...   \n",
       "...                       ...                      ...  ...   \n",
       "2020-02-01           0.060554                 0.033045  ...   \n",
       "2020-03-01           0.060034                 0.042508  ...   \n",
       "2020-04-01           0.120421                 0.061792  ...   \n",
       "2020-05-01           0.061073                 0.036382  ...   \n",
       "2020-06-01           0.061204                 0.050856  ...   \n",
       "\n",
       "            Pinakothek der Moderne  Prinzregententheater  Residenztheater  \\\n",
       "DATE                                                                        \n",
       "2000-01-01                0.000000              0.000000         0.017838   \n",
       "2000-02-01                0.000000              0.000000         0.016106   \n",
       "2000-03-01                0.000000              0.000000         0.016766   \n",
       "2000-04-01                0.000000              0.000000         0.011828   \n",
       "2000-05-01                0.000000              0.000000         0.013875   \n",
       "...                            ...                   ...              ...   \n",
       "2020-02-01                0.060554              0.034894         0.020034   \n",
       "2020-03-01                0.060034              0.052079         0.032594   \n",
       "2020-04-01                0.120421              0.063973         0.036206   \n",
       "2020-05-01                0.061073              0.031791         0.018266   \n",
       "2020-06-01                0.061204              0.032086         0.018612   \n",
       "\n",
       "            Schackgalerie  Schauburg - Theater fuer junges Publikum  \\\n",
       "DATE                                                                  \n",
       "2000-01-01       0.003648                                  0.003261   \n",
       "2000-02-01       0.001261                                  0.003885   \n",
       "2000-03-01       0.001139                                  0.003324   \n",
       "2000-04-01       0.000610                                  0.002396   \n",
       "2000-05-01       0.000557                                  0.005129   \n",
       "...                   ...                                       ...   \n",
       "2020-02-01       0.000000                                  0.000866   \n",
       "2020-03-01       0.000000                                  0.004643   \n",
       "2020-04-01       0.000000                                  0.000000   \n",
       "2020-05-01       0.000000                                  0.000000   \n",
       "2020-06-01       0.000000                                  0.004836   \n",
       "\n",
       "            Staedtische Galerie im Lenbachhaus  Theater am Gaertnerplatz  \\\n",
       "DATE                                                                       \n",
       "2000-01-01                            0.012083                  0.018596   \n",
       "2000-02-01                            0.010910                  0.015347   \n",
       "2000-03-01                            0.016486                  0.016687   \n",
       "2000-04-01                            0.012647                  0.013023   \n",
       "2000-05-01                            0.013359                  0.017279   \n",
       "...                                        ...                       ...   \n",
       "2020-02-01                            0.008320                  0.063272   \n",
       "2020-03-01                            0.029414                  0.079618   \n",
       "2020-04-01                            0.000000                  0.124791   \n",
       "2020-05-01                            0.079635                  0.061224   \n",
       "2020-06-01                            0.065547                  0.069296   \n",
       "\n",
       "            Tierpark Hellabrunn     Kinos  AnzahlFall  \n",
       "DATE                                                   \n",
       "2000-01-01             0.031459  0.528175         0.0  \n",
       "2000-02-01             0.032155  0.403690         0.0  \n",
       "2000-03-01             0.038560  0.347004         0.0  \n",
       "2000-04-01             0.114267  0.310064         0.0  \n",
       "2000-05-01             0.078731  0.288977         0.0  \n",
       "...                         ...       ...         ...  \n",
       "2020-02-01             0.021076  0.432509         1.0  \n",
       "2020-03-01             0.083636  0.000000        23.0  \n",
       "2020-04-01             0.027942  0.000000      3718.0  \n",
       "2020-05-01             0.336681  0.000000      2092.0  \n",
       "2020-06-01             0.252596  0.000000       674.0  \n",
       "\n",
       "[246 rows x 29 columns]"
      ]
     },
     "execution_count": 151,
     "metadata": {},
     "output_type": "execute_result"
    }
   ],
   "source": [
    "dataset"
   ]
  },
  {
   "cell_type": "code",
   "execution_count": 175,
   "metadata": {},
   "outputs": [],
   "source": [
    "n_steps = 8\n",
    "output_len = 4\n",
    "dropNan = False\n",
    "shuffle = True"
   ]
  },
  {
   "cell_type": "code",
   "execution_count": 176,
   "metadata": {},
   "outputs": [],
   "source": [
    "X_Data, y_Data_comp = create_sequences(dataset, n_steps, output_len, dropNan)"
   ]
  },
  {
   "cell_type": "code",
   "execution_count": 177,
   "metadata": {},
   "outputs": [
    {
     "data": {
      "text/plain": [
       "(238, 4)"
      ]
     },
     "execution_count": 177,
     "metadata": {},
     "output_type": "execute_result"
    }
   ],
   "source": [
    "y_Data.shape"
   ]
  },
  {
   "cell_type": "code",
   "execution_count": 178,
   "metadata": {},
   "outputs": [
    {
     "data": {
      "text/plain": [
       "(235, 4)"
      ]
     },
     "execution_count": 178,
     "metadata": {},
     "output_type": "execute_result"
    }
   ],
   "source": [
    "# Specify the wanted place\n",
    "idx = 0\n",
    "y_Data = y_Data_comp[:,:,idx]\n",
    "y_Data.shape"
   ]
  },
  {
   "cell_type": "code",
   "execution_count": 179,
   "metadata": {},
   "outputs": [],
   "source": [
    "train_index, test_index = test_train(len(X_Data), 0.33, shuffle)"
   ]
  },
  {
   "cell_type": "code",
   "execution_count": 180,
   "metadata": {},
   "outputs": [],
   "source": [
    "# rename the columns of y_Data\n",
    "X_train = X_Data[train_index]\n",
    "X_test = X_Data[test_index]\n",
    "y_train = y_Data[train_index]\n",
    "y_test = y_Data[test_index]"
   ]
  },
  {
   "cell_type": "code",
   "execution_count": 181,
   "metadata": {},
   "outputs": [
    {
     "name": "stdout",
     "output_type": "stream",
     "text": [
      "8 29 4\n"
     ]
    }
   ],
   "source": [
    "n_feats = X_train.shape[2]\n",
    "n_fore = y_Data.shape[1]\n",
    "print(n_steps,n_feats,n_fore)"
   ]
  },
  {
   "cell_type": "code",
   "execution_count": 194,
   "metadata": {},
   "outputs": [
    {
     "name": "stdout",
     "output_type": "stream",
     "text": [
      "Model: \"sequential_14\"\n",
      "_________________________________________________________________\n",
      "Layer (type)                 Output Shape              Param #   \n",
      "=================================================================\n",
      "conv1d_25 (Conv1D)           (None, 6, 50)             4400      \n",
      "_________________________________________________________________\n",
      "conv1d_26 (Conv1D)           (None, 4, 256)            38656     \n",
      "_________________________________________________________________\n",
      "max_pooling1d_12 (MaxPooling (None, 2, 256)            0         \n",
      "_________________________________________________________________\n",
      "flatten_11 (Flatten)         (None, 512)               0         \n",
      "_________________________________________________________________\n",
      "dense_25 (Dense)             (None, 32)                16416     \n",
      "_________________________________________________________________\n",
      "dense_26 (Dense)             (None, 4)                 132       \n",
      "=================================================================\n",
      "Total params: 59,604\n",
      "Trainable params: 59,604\n",
      "Non-trainable params: 0\n",
      "_________________________________________________________________\n"
     ]
    }
   ],
   "source": [
    "model = build_model_cnn(n_steps,n_feats,n_fore)\n",
    "model.summary()\n",
    "\n",
    "history = model.fit(\n",
    "    X_train,\n",
    "    y_train,\n",
    "    batch_size=1,\n",
    "    epochs=100,\n",
    "    verbose=0,\n",
    "    validation_data=(X_test, y_test),\n",
    "    callbacks=[\n",
    "        EarlyStopping(patience=10),\n",
    "    ],\n",
    ")"
   ]
  },
  {
   "cell_type": "code",
   "execution_count": 195,
   "metadata": {},
   "outputs": [
    {
     "data": {
      "image/png": "[encoded data removed]",
      "text/plain": [
       "<Figure size 432x288 with 1 Axes>"
      ]
     },
     "metadata": {
      "needs_background": "light"
     },
     "output_type": "display_data"
    },
    {
     "data": {
      "image/png": "[encoded data removed]",
      "text/plain": [
       "<Figure size 432x288 with 1 Axes>"
      ]
     },
     "metadata": {
      "needs_background": "light"
     },
     "output_type": "display_data"
    },
    {
     "data": {
      "image/png": "[encoded data removed]",
      "text/plain": [
       "<Figure size 432x288 with 1 Axes>"
      ]
     },
     "metadata": {
      "needs_background": "light"
     },
     "output_type": "display_data"
    },
    {
     "data": {
      "image/png": "[encoded data removed]",
      "text/plain": [
       "<Figure size 432x288 with 1 Axes>"
      ]
     },
     "metadata": {
      "needs_background": "light"
     },
     "output_type": "display_data"
    }
   ],
   "source": [
    "# summarize history for accuracy\n",
    "plt.figure()\n",
    "plt.plot(history.history['mean_squared_error'])\n",
    "plt.plot(history.history['val_mean_squared_error'])\n",
    "plt.title('model mse')\n",
    "plt.ylabel('mean suqared error')\n",
    "plt.xlabel('epoch')\n",
    "plt.legend(['train', 'test'], loc='upper left')\n",
    "plt.show()\n",
    "\n",
    "plt.figure()\n",
    "plt.plot(history.history['mean_absolute_error'])\n",
    "plt.plot(history.history['val_mean_absolute_error'])\n",
    "plt.title('model mae')\n",
    "plt.ylabel('mean absolute error')\n",
    "plt.xlabel('epoch')\n",
    "plt.legend(['train', 'test'], loc='upper left')\n",
    "plt.show()\n",
    "\n",
    "plt.figure()\n",
    "plt.plot(history.history['mean_absolute_percentage_error'])\n",
    "plt.plot(history.history['val_mean_absolute_percentage_error'])\n",
    "plt.title('model mean absolute percentage error')\n",
    "plt.ylabel('mean absolute percentage error')\n",
    "plt.xlabel('epoch')\n",
    "plt.legend(['train', 'test'], loc='upper left')\n",
    "plt.show()\n",
    "\n",
    "plt.figure()\n",
    "plt.plot(history.history['cosine_proximity'])\n",
    "plt.plot(history.history['val_cosine_proximity'])\n",
    "plt.title('model cosine proximity')\n",
    "plt.ylabel('cosine proximity')\n",
    "plt.xlabel('epoch')\n",
    "plt.legend(['train', 'test'], loc='upper left')\n",
    "plt.show()"
   ]
  },
  {
   "cell_type": "code",
   "execution_count": 196,
   "metadata": {},
   "outputs": [
    {
     "name": "stdout",
     "output_type": "stream",
     "text": [
      "[0.01695903 0.02023035 0.01633765 0.01666668]\n"
     ]
    },
    {
     "data": {
      "text/plain": [
       "array([[0.02240903, 0.01946029, 0.02488141, 0.02119153]], dtype=float32)"
      ]
     },
     "execution_count": 196,
     "metadata": {},
     "output_type": "execute_result"
    }
   ],
   "source": [
    "print(y_train[0])\n",
    "model.predict(np.reshape(X_train[0], (1,X_train[0].shape[0], X_train[0].shape[1])))"
   ]
  },
  {
   "cell_type": "code",
   "execution_count": 197,
   "metadata": {},
   "outputs": [],
   "source": [
    "predictions = model.predict(X_test)\n",
    "#print(predictions)"
   ]
  },
  {
   "cell_type": "code",
   "execution_count": 204,
   "metadata": {},
   "outputs": [
    {
     "data": {
      "text/plain": [
       "(78, 4)"
      ]
     },
     "execution_count": 204,
     "metadata": {},
     "output_type": "execute_result"
    }
   ],
   "source": [
    "predictions.shape"
   ]
  },
  {
   "cell_type": "code",
   "execution_count": 209,
   "metadata": {},
   "outputs": [
    {
     "data": {
      "text/plain": [
       "'first'"
      ]
     },
     "execution_count": 209,
     "metadata": {},
     "output_type": "execute_result"
    }
   ],
   "source": [
    "month = [\"first\", \"second\", \"third\", \"fourth\"]\n",
    "month[0]"
   ]
  },
  {
   "cell_type": "code",
   "execution_count": 212,
   "metadata": {},
   "outputs": [
    {
     "data": {
      "image/png": "[encoded data removed]",
      "text/plain": [
       "<Figure size 432x288 with 1 Axes>"
      ]
     },
     "metadata": {
      "needs_background": "light"
     },
     "output_type": "display_data"
    },
    {
     "data": {
      "image/png": "[encoded data removed]",
      "text/plain": [
       "<Figure size 432x288 with 1 Axes>"
      ]
     },
     "metadata": {
      "needs_background": "light"
     },
     "output_type": "display_data"
    },
    {
     "data": {
      "image/png": "[encoded data removed]",
      "text/plain": [
       "<Figure size 432x288 with 1 Axes>"
      ]
     },
     "metadata": {
      "needs_background": "light"
     },
     "output_type": "display_data"
    },
    {
     "data": {
      "image/png": "[encoded data removed]",
      "text/plain": [
       "<Figure size 432x288 with 1 Axes>"
      ]
     },
     "metadata": {
      "needs_background": "light"
     },
     "output_type": "display_data"
    }
   ],
   "source": [
    "# Visualize the data\n",
    "for i in np.arange(predictions.shape[1]):\n",
    "    month = [\"FIRST\", \"SECOND\", \"THIRD\", \"FOURTH\"]\n",
    "    fig = plt.figure()\n",
    "    plt.scatter(y_test[:,i],predictions[:,i])\n",
    "    plt.grid(True)\n",
    "    plt.title(\"Correlation of the forecast for the \"+month[i]+\" month\")\n",
    "    plt.xlabel(\"actual test data\")\n",
    "    plt.ylabel(\"predictions\")\n",
    "    Figure = \"../img/Forecast.png\"\n",
    "    fig.savefig(Figure)\n",
    "    plt.show()\n",
    "    mlflow.log_artifact(Figure)"
   ]
  },
  {
   "cell_type": "code",
   "execution_count": 219,
   "metadata": {},
   "outputs": [
    {
     "name": "stdout",
     "output_type": "stream",
     "text": [
      "Pearsons correlation for the FIRST month: 0.966\n",
      "Pearsons correlation for the SECOND month: 0.805\n",
      "Pearsons correlation for the THIRD month: 0.880\n",
      "Pearsons correlation for the FOURTH month: 0.804\n",
      "Mean Pearsons correlation: 0.864\n"
     ]
    }
   ],
   "source": [
    "# calculate Pearson's correlation\n",
    "li = []\n",
    "for i in np.arange(predictions.shape[1]):\n",
    "    corr, _ = pearsonr(y_test[:,i],predictions[:,i])\n",
    "    li.append(corr)\n",
    "    print('Pearsons correlation for the',month[i],'month: %.3f' % corr)\n",
    "# Calcuate the mean Pearson's correlation\n",
    "corr_mean = np.mean(li)\n",
    "print('Mean Pearsons correlation: %.3f' % corr_mean)\n",
    "mlflow.log_param(, corr_mean)"
   ]
  },
  {
   "cell_type": "code",
   "execution_count": null,
   "metadata": {},
   "outputs": [],
   "source": []
  }
 ],
 "metadata": {
  "kernelspec": {
   "display_name": "Python 3",
   "language": "python",
   "name": "python3"
  },
  "language_info": {
   "codemirror_mode": {
    "name": "ipython",
    "version": 3
   },
   "file_extension": ".py",
   "mimetype": "text/x-python",
   "name": "python",
   "nbconvert_exporter": "python",
   "pygments_lexer": "ipython3",
   "version": "3.7.7"
  }
 },
 "nbformat": 4,
 "nbformat_minor": 4
}
