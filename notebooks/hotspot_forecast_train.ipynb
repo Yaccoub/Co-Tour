{
 "cells": [
  {
   "cell_type": "code",
   "execution_count": 91,
   "metadata": {},
   "outputs": [],
   "source": [
    "from datetime import datetime\n",
    "import numpy as np\n",
    "import pandas as pd\n",
    "from keras.models import Sequential\n",
    "from keras.layers import Input, GRU, Dense,Flatten,Dropout,Conv1D, MaxPooling1D\n",
    "from keras.callbacks import EarlyStopping\n",
    "from keras.losses import mean_squared_error\n",
    "import mlflow.tensorflow\n",
    "import matplotlib.pyplot as plt\n",
    "from scipy.stats import pearsonr"
   ]
  },
  {
   "cell_type": "code",
   "execution_count": 92,
   "metadata": {},
   "outputs": [],
   "source": [
    "def create_sequences(dataset, timesteps=1, dropNa=True):\n",
    "    \"\"\"Converts time series into a data set for supervised machine learning models\"\"\"\n",
    "    # drop row's which include Nan elements (data preprocessing)\n",
    "    df = pd.DataFrame(dataset)\n",
    "    if dropNa:\n",
    "        df.dropna(inplace=True)\n",
    "    dataset = df.values\n",
    "    # create x and y out of dataset\n",
    "    dataX, dataY = [], []\n",
    "    for i in range(len(dataset)):\n",
    "        endIdx = i + timesteps\n",
    "        # stop if reached the end of dataset\n",
    "        if endIdx + 1 > len(dataset):\n",
    "            break\n",
    "        dataX.append(dataset[i:endIdx, :])\n",
    "        dataY.append(dataset[endIdx, :])\n",
    "    return np.array(dataX), np.array(dataY)"
   ]
  },
  {
   "cell_type": "code",
   "execution_count": 93,
   "metadata": {},
   "outputs": [],
   "source": [
    "def test_train(datasetsize, testsize, shuffle=True):\n",
    "    \"\"\"Returns two dataset to train and test machine learning models\"\"\"\n",
    "    if shuffle:\n",
    "        ntest = int(np.ceil(testsize * datasetsize))\n",
    "        idx = np.arange(0, datasetsize)\n",
    "        np.random.shuffle(idx)\n",
    "        train_index = idx[ntest:]\n",
    "        test_index = idx[:ntest]\n",
    "        return train_index, test_index\n",
    "    else:\n",
    "        #TODO: Check datasplitting use int(np.ceil(testsize * datasetsize))\n",
    "        ntest = int(np.ceil(testsize * datasetsize))\n",
    "        idx = np.arange(0, datasetsize)\n",
    "        test_index = idx[datasetsize - ntest:]\n",
    "        train_index = idx[:datasetsize - ntest]\n",
    "        return train_index, test_index"
   ]
  },
  {
   "cell_type": "code",
   "execution_count": 94,
   "metadata": {},
   "outputs": [],
   "source": [
    "def LSTM_model():\n",
    "    model = ks.Sequential()\n",
    "    model.add(ks.layers.LSTM(units=50, return_sequences=True, input_shape=(X_train.shape[1], 1)))\n",
    "    model.add(ks.layers.LSTM(units=50, return_sequences=False))\n",
    "    model.add(ks.layers.Dense(units=25))\n",
    "    model.add(ks.layers.Dense(units=1))\n",
    "    model.compile(optimizer='adam',\n",
    "              loss=mean_squared_error,\n",
    "              metrics=['accuracy'])\n",
    "    return model"
   ]
  },
  {
   "cell_type": "code",
   "execution_count": 95,
   "metadata": {},
   "outputs": [],
   "source": [
    "def build_model_cnn(n_steps,n_feats,n_fore=1):\n",
    "    model = Sequential()\n",
    "    model.add(Conv1D(filters=50, kernel_size=3, activation='relu',input_shape=(n_steps,n_feats)))\n",
    "    #model.add(Conv1D(filters=256, kernel_size=3, activation='relu'))\n",
    "    model.add(MaxPooling1D(2))\n",
    "    model.add(Flatten())\n",
    "    #model.add(Dropout(0.20))\n",
    "    #model.add(Dense(128, activation='relu'))\n",
    "    #model.add(Dense(32, activation='relu'))\n",
    "    model.add(Dense(n_fore, activation='linear'))\n",
    "    model.compile(optimizer='adam',\n",
    "                  loss=mean_squared_error,\n",
    "                  metrics=['mean_squared_error', 'mean_absolute_error', 'mean_absolute_percentage_error', 'cosine_proximity']\n",
    "                 )\n",
    "    return model"
   ]
  },
  {
   "cell_type": "markdown",
   "metadata": {},
   "source": [
    "# Just to test the system"
   ]
  },
  {
   "cell_type": "code",
   "execution_count": null,
   "metadata": {},
   "outputs": [],
   "source": [
    "# Create a test Sequence\n",
    "seq = pd.DataFrame([[1,101],[2,102],[3,103],[4,104],[5,105],[6,106],[7,107],[8,108],[9,109],[10,110]])\n",
    "n_steps = 5\n",
    "dropNan = False\n",
    "shuffle = True"
   ]
  },
  {
   "cell_type": "code",
   "execution_count": null,
   "metadata": {},
   "outputs": [],
   "source": [
    "X_Data, y_Data = create_sequences(seq, n_steps, dropNan)"
   ]
  },
  {
   "cell_type": "code",
   "execution_count": null,
   "metadata": {},
   "outputs": [],
   "source": [
    "train_index, test_index = test_train(len(X_Data), 0.33, shuffle)\n",
    "print(train_index,test_index)"
   ]
  },
  {
   "cell_type": "code",
   "execution_count": null,
   "metadata": {},
   "outputs": [],
   "source": [
    "# rename the columns of y_Data\n",
    "X_train = X_Data[train_index]\n",
    "X_test = X_Data[test_index]\n",
    "y_train = y_Data[train_index]\n",
    "y_test = y_Data[test_index]"
   ]
  },
  {
   "cell_type": "code",
   "execution_count": null,
   "metadata": {},
   "outputs": [],
   "source": [
    "n_feats = X_train.shape[2]\n",
    "n_fore = seq.shape[1]\n",
    "print(n_steps,n_feats,n_fore)"
   ]
  },
  {
   "cell_type": "code",
   "execution_count": null,
   "metadata": {},
   "outputs": [],
   "source": [
    "model = build_model_cnn(n_steps,n_feats,n_fore)\n",
    "model.summary()\n",
    "\n",
    "history = model.fit(\n",
    "    X_train,\n",
    "    y_train,\n",
    "    batch_size=10,\n",
    "    epochs=100,\n",
    "    validation_data=(X_test, y_test),\n",
    "    callbacks=[\n",
    "        EarlyStopping(patience=10),\n",
    "    ],\n",
    ")"
   ]
  },
  {
   "cell_type": "code",
   "execution_count": null,
   "metadata": {},
   "outputs": [],
   "source": [
    "# summarize history for accuracy\n",
    "plt.figure()\n",
    "plt.plot(history.history['mean_squared_error'])\n",
    "plt.plot(history.history['val_mean_squared_error'])\n",
    "plt.title('model mse')\n",
    "plt.ylabel('mean suqared error')\n",
    "plt.xlabel('epoch')\n",
    "plt.legend(['train', 'test'], loc='upper left')\n",
    "plt.show()\n",
    "\n",
    "plt.figure()\n",
    "plt.plot(history.history['mean_absolute_error'])\n",
    "plt.plot(history.history['val_mean_absolute_error'])\n",
    "plt.title('model mae')\n",
    "plt.ylabel('mean absolute error')\n",
    "plt.xlabel('epoch')\n",
    "plt.legend(['train', 'test'], loc='upper left')\n",
    "plt.show()\n",
    "\n",
    "plt.figure()\n",
    "plt.plot(history.history['mean_absolute_percentage_error'])\n",
    "plt.plot(history.history['val_mean_absolute_percentage_error'])\n",
    "plt.title('model mean absolute percentage error')\n",
    "plt.ylabel('mean absolute percentage error')\n",
    "plt.xlabel('epoch')\n",
    "plt.legend(['train', 'test'], loc='upper left')\n",
    "plt.show()\n",
    "\n",
    "plt.figure()\n",
    "plt.plot(history.history['cosine_proximity'])\n",
    "plt.plot(history.history['val_cosine_proximity'])\n",
    "plt.title('model cosine proximity')\n",
    "plt.ylabel('cosine proximity')\n",
    "plt.xlabel('epoch')\n",
    "plt.legend(['train', 'test'], loc='upper left')\n",
    "plt.show()"
   ]
  },
  {
   "cell_type": "code",
   "execution_count": null,
   "metadata": {},
   "outputs": [],
   "source": [
    "print(y_train[0])\n",
    "model.predict(np.reshape(X_train[0], (1,X_train[0].shape[0], X_train[0].shape[1])))"
   ]
  },
  {
   "cell_type": "code",
   "execution_count": null,
   "metadata": {},
   "outputs": [],
   "source": [
    "predictions = model.predict(X_test)\n",
    "print(predictions)"
   ]
  },
  {
   "cell_type": "code",
   "execution_count": null,
   "metadata": {},
   "outputs": [],
   "source": [
    "# Visualize the data\n",
    "plt.figure()\n",
    "plt.scatter(predictions,y_test)\n",
    "plt.grid(True)\n",
    "plt.title(\"title\")\n",
    "plt.xlabel(\"x-label\")\n",
    "plt.ylabel(\"y-label\")\n",
    "plt.show()"
   ]
  },
  {
   "cell_type": "markdown",
   "metadata": {},
   "source": [
    "# Real data"
   ]
  },
  {
   "cell_type": "code",
   "execution_count": 96,
   "metadata": {},
   "outputs": [],
   "source": [
    "dataset = pd.read_csv('../data/Forecast Data/dataset.csv')\n",
    "dataset['DATE'] = [datetime.strptime(date, '%Y-%m-%d') for date in dataset['DATE']]\n",
    "dataset = dataset.set_index('DATE')\n",
    "dataset = dataset[:-3]"
   ]
  },
  {
   "cell_type": "code",
   "execution_count": 97,
   "metadata": {},
   "outputs": [],
   "source": [
    "# Throw an exception when containing NaN values\n",
    "if dataset.isnull().sum().sum() != 0:\n",
    "    raise Exception(\"The dataset contains NaN values\")"
   ]
  },
  {
   "cell_type": "code",
   "execution_count": 98,
   "metadata": {},
   "outputs": [],
   "source": [
    "n_steps = 5\n",
    "dropNan = False\n",
    "shuffle = True"
   ]
  },
  {
   "cell_type": "code",
   "execution_count": 99,
   "metadata": {},
   "outputs": [],
   "source": [
    "X_Data, y_Data_comp = create_sequences(dataset, n_steps, dropNan)\n",
    "# Drop the featurs that we don't want to predict\n",
    "y_Data = y_Data_comp[:,:28]"
   ]
  },
  {
   "cell_type": "code",
   "execution_count": 100,
   "metadata": {},
   "outputs": [],
   "source": [
    "train_index, test_index = test_train(len(X_Data), 0.33, shuffle)"
   ]
  },
  {
   "cell_type": "code",
   "execution_count": 101,
   "metadata": {},
   "outputs": [],
   "source": [
    "# rename the columns of y_Data\n",
    "X_train = X_Data[train_index]\n",
    "X_test = X_Data[test_index]\n",
    "y_train = y_Data[train_index]\n",
    "y_test = y_Data[test_index]"
   ]
  },
  {
   "cell_type": "code",
   "execution_count": 102,
   "metadata": {},
   "outputs": [
    {
     "name": "stdout",
     "output_type": "stream",
     "text": [
      "5 29 28\n"
     ]
    }
   ],
   "source": [
    "n_feats = X_train.shape[2]\n",
    "n_fore = y_Data.shape[1]\n",
    "print(n_steps,n_feats,n_fore)"
   ]
  },
  {
   "cell_type": "code",
   "execution_count": 103,
   "metadata": {},
   "outputs": [
    {
     "name": "stdout",
     "output_type": "stream",
     "text": [
      "Model: \"sequential_3\"\n",
      "_________________________________________________________________\n",
      "Layer (type)                 Output Shape              Param #   \n",
      "=================================================================\n",
      "conv1d_3 (Conv1D)            (None, 3, 50)             4400      \n",
      "_________________________________________________________________\n",
      "max_pooling1d_3 (MaxPooling1 (None, 1, 50)             0         \n",
      "_________________________________________________________________\n",
      "flatten_3 (Flatten)          (None, 50)                0         \n",
      "_________________________________________________________________\n",
      "dense_3 (Dense)              (None, 28)                1428      \n",
      "=================================================================\n",
      "Total params: 5,828\n",
      "Trainable params: 5,828\n",
      "Non-trainable params: 0\n",
      "_________________________________________________________________\n",
      "Train on 159 samples, validate on 79 samples\n",
      "Epoch 1/100\n",
      "159/159 [==============================] - 1s 5ms/step - loss: 0.0098 - mean_squared_error: 0.0098 - mean_absolute_error: 0.0646 - mean_absolute_percentage_error: 3632652.5000 - cosine_proximity: 0.2692 - val_loss: 0.0073 - val_mean_squared_error: 0.0073 - val_mean_absolute_error: 0.0544 - val_mean_absolute_percentage_error: 3375008.7500 - val_cosine_proximity: 0.4532\n",
      "Epoch 2/100\n",
      "159/159 [==============================] - 0s 107us/step - loss: 0.0065 - mean_squared_error: 0.0065 - mean_absolute_error: 0.0514 - mean_absolute_percentage_error: 2619384.0000 - cosine_proximity: 0.5472 - val_loss: 0.0048 - val_mean_squared_error: 0.0048 - val_mean_absolute_error: 0.0436 - val_mean_absolute_percentage_error: 2595614.7500 - val_cosine_proximity: 0.7012\n",
      "Epoch 3/100\n",
      "159/159 [==============================] - 0s 144us/step - loss: 0.0042 - mean_squared_error: 0.0042 - mean_absolute_error: 0.0418 - mean_absolute_percentage_error: 2148419.5000 - cosine_proximity: 0.7539 - val_loss: 0.0031 - val_mean_squared_error: 0.0031 - val_mean_absolute_error: 0.0351 - val_mean_absolute_percentage_error: 2638110.0000 - val_cosine_proximity: 0.8348\n",
      "Epoch 4/100\n",
      "159/159 [==============================] - 0s 157us/step - loss: 0.0027 - mean_squared_error: 0.0027 - mean_absolute_error: 0.0343 - mean_absolute_percentage_error: 2283948.0000 - cosine_proximity: 0.8579 - val_loss: 0.0020 - val_mean_squared_error: 0.0020 - val_mean_absolute_error: 0.0290 - val_mean_absolute_percentage_error: 2755930.2500 - val_cosine_proximity: 0.8968\n",
      "Epoch 5/100\n",
      "159/159 [==============================] - 0s 126us/step - loss: 0.0018 - mean_squared_error: 0.0018 - mean_absolute_error: 0.0283 - mean_absolute_percentage_error: 2367738.7500 - cosine_proximity: 0.9080 - val_loss: 0.0013 - val_mean_squared_error: 0.0013 - val_mean_absolute_error: 0.0238 - val_mean_absolute_percentage_error: 2634451.7500 - val_cosine_proximity: 0.9284\n",
      "Epoch 6/100\n",
      "159/159 [==============================] - 0s 157us/step - loss: 0.0012 - mean_squared_error: 0.0012 - mean_absolute_error: 0.0228 - mean_absolute_percentage_error: 2384354.2500 - cosine_proximity: 0.9337 - val_loss: 9.3003e-04 - val_mean_squared_error: 9.3003e-04 - val_mean_absolute_error: 0.0202 - val_mean_absolute_percentage_error: 2715751.0000 - val_cosine_proximity: 0.9445\n",
      "Epoch 7/100\n",
      "159/159 [==============================] - 0s 157us/step - loss: 8.9274e-04 - mean_squared_error: 8.9274e-04 - mean_absolute_error: 0.0192 - mean_absolute_percentage_error: 2509292.2500 - cosine_proximity: 0.9467 - val_loss: 7.9028e-04 - val_mean_squared_error: 7.9028e-04 - val_mean_absolute_error: 0.0187 - val_mean_absolute_percentage_error: 2843889.7500 - val_cosine_proximity: 0.9520\n",
      "Epoch 8/100\n",
      "159/159 [==============================] - 0s 182us/step - loss: 7.8042e-04 - mean_squared_error: 7.8042e-04 - mean_absolute_error: 0.0175 - mean_absolute_percentage_error: 2474148.2500 - cosine_proximity: 0.9530 - val_loss: 7.3280e-04 - val_mean_squared_error: 7.3280e-04 - val_mean_absolute_error: 0.0174 - val_mean_absolute_percentage_error: 2677690.7500 - val_cosine_proximity: 0.9558\n",
      "Epoch 9/100\n",
      "159/159 [==============================] - 0s 144us/step - loss: 7.1943e-04 - mean_squared_error: 7.1943e-04 - mean_absolute_error: 0.0162 - mean_absolute_percentage_error: 2230314.2500 - cosine_proximity: 0.9567 - val_loss: 6.7198e-04 - val_mean_squared_error: 6.7198e-04 - val_mean_absolute_error: 0.0163 - val_mean_absolute_percentage_error: 2369245.0000 - val_cosine_proximity: 0.9585\n",
      "Epoch 10/100\n",
      "159/159 [==============================] - 0s 144us/step - loss: 6.5371e-04 - mean_squared_error: 6.5371e-04 - mean_absolute_error: 0.0152 - mean_absolute_percentage_error: 1988889.7500 - cosine_proximity: 0.9595 - val_loss: 6.0970e-04 - val_mean_squared_error: 6.0970e-04 - val_mean_absolute_error: 0.0156 - val_mean_absolute_percentage_error: 2157335.7500 - val_cosine_proximity: 0.9607\n",
      "Epoch 11/100\n",
      "159/159 [==============================] - 0s 163us/step - loss: 5.8467e-04 - mean_squared_error: 5.8467e-04 - mean_absolute_error: 0.0144 - mean_absolute_percentage_error: 1801976.7500 - cosine_proximity: 0.9623 - val_loss: 5.6337e-04 - val_mean_squared_error: 5.6337e-04 - val_mean_absolute_error: 0.0150 - val_mean_absolute_percentage_error: 1985311.7500 - val_cosine_proximity: 0.9627\n",
      "Epoch 12/100\n",
      "159/159 [==============================] - 0s 151us/step - loss: 5.4327e-04 - mean_squared_error: 5.4327e-04 - mean_absolute_error: 0.0139 - mean_absolute_percentage_error: 1680973.0000 - cosine_proximity: 0.9644 - val_loss: 5.3148e-04 - val_mean_squared_error: 5.3148e-04 - val_mean_absolute_error: 0.0146 - val_mean_absolute_percentage_error: 1820226.6250 - val_cosine_proximity: 0.9646\n",
      "Epoch 13/100\n",
      "159/159 [==============================] - 0s 163us/step - loss: 4.9658e-04 - mean_squared_error: 4.9658e-04 - mean_absolute_error: 0.0133 - mean_absolute_percentage_error: 1524793.5000 - cosine_proximity: 0.9671 - val_loss: 5.0867e-04 - val_mean_squared_error: 5.0867e-04 - val_mean_absolute_error: 0.0139 - val_mean_absolute_percentage_error: 1620928.0000 - val_cosine_proximity: 0.9661\n",
      "Epoch 14/100\n",
      "159/159 [==============================] - 0s 163us/step - loss: 4.6774e-04 - mean_squared_error: 4.6774e-04 - mean_absolute_error: 0.0127 - mean_absolute_percentage_error: 1394927.2500 - cosine_proximity: 0.9690 - val_loss: 4.8495e-04 - val_mean_squared_error: 4.8495e-04 - val_mean_absolute_error: 0.0134 - val_mean_absolute_percentage_error: 1488801.6250 - val_cosine_proximity: 0.9679\n",
      "Epoch 15/100\n",
      "159/159 [==============================] - 0s 157us/step - loss: 4.4371e-04 - mean_squared_error: 4.4371e-04 - mean_absolute_error: 0.0123 - mean_absolute_percentage_error: 1325182.7500 - cosine_proximity: 0.9706 - val_loss: 4.6751e-04 - val_mean_squared_error: 4.6751e-04 - val_mean_absolute_error: 0.0130 - val_mean_absolute_percentage_error: 1420219.5000 - val_cosine_proximity: 0.9692\n",
      "Epoch 16/100\n",
      "159/159 [==============================] - 0s 157us/step - loss: 4.2572e-04 - mean_squared_error: 4.2572e-04 - mean_absolute_error: 0.0119 - mean_absolute_percentage_error: 1251299.8750 - cosine_proximity: 0.9719 - val_loss: 4.5148e-04 - val_mean_squared_error: 4.5148e-04 - val_mean_absolute_error: 0.0125 - val_mean_absolute_percentage_error: 1308673.7500 - val_cosine_proximity: 0.9703\n",
      "Epoch 17/100\n",
      "159/159 [==============================] - 0s 188us/step - loss: 4.0730e-04 - mean_squared_error: 4.0730e-04 - mean_absolute_error: 0.0115 - mean_absolute_percentage_error: 1189242.1250 - cosine_proximity: 0.9731 - val_loss: 4.3430e-04 - val_mean_squared_error: 4.3430e-04 - val_mean_absolute_error: 0.0121 - val_mean_absolute_percentage_error: 1270214.1250 - val_cosine_proximity: 0.9714\n",
      "Epoch 18/100\n",
      "159/159 [==============================] - 0s 157us/step - loss: 3.9312e-04 - mean_squared_error: 3.9312e-04 - mean_absolute_error: 0.0110 - mean_absolute_percentage_error: 1134120.7500 - cosine_proximity: 0.9739 - val_loss: 4.2015e-04 - val_mean_squared_error: 4.2015e-04 - val_mean_absolute_error: 0.0116 - val_mean_absolute_percentage_error: 1180275.6250 - val_cosine_proximity: 0.9724\n",
      "Epoch 19/100\n",
      "159/159 [==============================] - 0s 163us/step - loss: 3.8215e-04 - mean_squared_error: 3.8215e-04 - mean_absolute_error: 0.0107 - mean_absolute_percentage_error: 1074448.6250 - cosine_proximity: 0.9747 - val_loss: 4.1209e-04 - val_mean_squared_error: 4.1209e-04 - val_mean_absolute_error: 0.0113 - val_mean_absolute_percentage_error: 1127576.2500 - val_cosine_proximity: 0.9730\n",
      "Epoch 20/100\n",
      "159/159 [==============================] - 0s 170us/step - loss: 3.7349e-04 - mean_squared_error: 3.7349e-04 - mean_absolute_error: 0.0104 - mean_absolute_percentage_error: 1047694.1875 - cosine_proximity: 0.9753 - val_loss: 4.0565e-04 - val_mean_squared_error: 4.0565e-04 - val_mean_absolute_error: 0.0111 - val_mean_absolute_percentage_error: 1123438.6250 - val_cosine_proximity: 0.9734\n",
      "Epoch 21/100\n",
      "159/159 [==============================] - 0s 170us/step - loss: 3.6667e-04 - mean_squared_error: 3.6667e-04 - mean_absolute_error: 0.0103 - mean_absolute_percentage_error: 1042055.2500 - cosine_proximity: 0.9757 - val_loss: 3.9675e-04 - val_mean_squared_error: 3.9675e-04 - val_mean_absolute_error: 0.0109 - val_mean_absolute_percentage_error: 1112578.8750 - val_cosine_proximity: 0.9739\n",
      "Epoch 22/100\n",
      "159/159 [==============================] - 0s 138us/step - loss: 3.5836e-04 - mean_squared_error: 3.5836e-04 - mean_absolute_error: 0.0101 - mean_absolute_percentage_error: 1029326.3125 - cosine_proximity: 0.9762 - val_loss: 3.9538e-04 - val_mean_squared_error: 3.9538e-04 - val_mean_absolute_error: 0.0108 - val_mean_absolute_percentage_error: 1081873.6250 - val_cosine_proximity: 0.9741\n",
      "Epoch 23/100\n",
      "159/159 [==============================] - 0s 142us/step - loss: 3.5302e-04 - mean_squared_error: 3.5302e-04 - mean_absolute_error: 0.0101 - mean_absolute_percentage_error: 1000484.7500 - cosine_proximity: 0.9766 - val_loss: 3.9227e-04 - val_mean_squared_error: 3.9227e-04 - val_mean_absolute_error: 0.0107 - val_mean_absolute_percentage_error: 1041236.0625 - val_cosine_proximity: 0.9744\n",
      "Epoch 24/100\n",
      "159/159 [==============================] - 0s 145us/step - loss: 3.5015e-04 - mean_squared_error: 3.5015e-04 - mean_absolute_error: 0.0100 - mean_absolute_percentage_error: 961426.4375 - cosine_proximity: 0.9769 - val_loss: 3.9136e-04 - val_mean_squared_error: 3.9136e-04 - val_mean_absolute_error: 0.0105 - val_mean_absolute_percentage_error: 992705.9375 - val_cosine_proximity: 0.9744\n",
      "Epoch 25/100\n",
      "159/159 [==============================] - 0s 139us/step - loss: 3.4428e-04 - mean_squared_error: 3.4428e-04 - mean_absolute_error: 0.0099 - mean_absolute_percentage_error: 945684.1250 - cosine_proximity: 0.9772 - val_loss: 3.8542e-04 - val_mean_squared_error: 3.8542e-04 - val_mean_absolute_error: 0.0105 - val_mean_absolute_percentage_error: 1024131.4375 - val_cosine_proximity: 0.9749\n",
      "Epoch 26/100\n",
      "159/159 [==============================] - 0s 176us/step - loss: 3.4071e-04 - mean_squared_error: 3.4071e-04 - mean_absolute_error: 0.0098 - mean_absolute_percentage_error: 960936.1250 - cosine_proximity: 0.9773 - val_loss: 3.8153e-04 - val_mean_squared_error: 3.8153e-04 - val_mean_absolute_error: 0.0105 - val_mean_absolute_percentage_error: 1043775.3125 - val_cosine_proximity: 0.9751\n",
      "Epoch 27/100\n",
      "159/159 [==============================] - 0s 132us/step - loss: 3.3739e-04 - mean_squared_error: 3.3739e-04 - mean_absolute_error: 0.0097 - mean_absolute_percentage_error: 952362.7500 - cosine_proximity: 0.9775 - val_loss: 3.7913e-04 - val_mean_squared_error: 3.7913e-04 - val_mean_absolute_error: 0.0104 - val_mean_absolute_percentage_error: 991006.5625 - val_cosine_proximity: 0.9753\n",
      "Epoch 28/100\n",
      "159/159 [==============================] - 0s 158us/step - loss: 3.3420e-04 - mean_squared_error: 3.3420e-04 - mean_absolute_error: 0.0096 - mean_absolute_percentage_error: 894441.6875 - cosine_proximity: 0.9778 - val_loss: 3.7767e-04 - val_mean_squared_error: 3.7767e-04 - val_mean_absolute_error: 0.0102 - val_mean_absolute_percentage_error: 944225.5000 - val_cosine_proximity: 0.9753\n",
      "Epoch 29/100\n",
      "159/159 [==============================] - 0s 163us/step - loss: 3.3085e-04 - mean_squared_error: 3.3085e-04 - mean_absolute_error: 0.0095 - mean_absolute_percentage_error: 891979.0625 - cosine_proximity: 0.9780 - val_loss: 3.7659e-04 - val_mean_squared_error: 3.7659e-04 - val_mean_absolute_error: 0.0102 - val_mean_absolute_percentage_error: 945405.6875 - val_cosine_proximity: 0.9754\n",
      "Epoch 30/100\n",
      "159/159 [==============================] - 0s 170us/step - loss: 3.2851e-04 - mean_squared_error: 3.2851e-04 - mean_absolute_error: 0.0095 - mean_absolute_percentage_error: 886157.3125 - cosine_proximity: 0.9782 - val_loss: 3.7121e-04 - val_mean_squared_error: 3.7121e-04 - val_mean_absolute_error: 0.0103 - val_mean_absolute_percentage_error: 951907.5625 - val_cosine_proximity: 0.9758\n",
      "Epoch 31/100\n",
      "159/159 [==============================] - 0s 157us/step - loss: 3.2551e-04 - mean_squared_error: 3.2551e-04 - mean_absolute_error: 0.0095 - mean_absolute_percentage_error: 886792.9375 - cosine_proximity: 0.9783 - val_loss: 3.7216e-04 - val_mean_squared_error: 3.7216e-04 - val_mean_absolute_error: 0.0102 - val_mean_absolute_percentage_error: 945213.5625 - val_cosine_proximity: 0.9757\n",
      "Epoch 32/100\n",
      "159/159 [==============================] - 0s 145us/step - loss: 3.2207e-04 - mean_squared_error: 3.2207e-04 - mean_absolute_error: 0.0094 - mean_absolute_percentage_error: 864154.8750 - cosine_proximity: 0.9786 - val_loss: 3.7119e-04 - val_mean_squared_error: 3.7119e-04 - val_mean_absolute_error: 0.0101 - val_mean_absolute_percentage_error: 920353.5000 - val_cosine_proximity: 0.9757\n",
      "Epoch 33/100\n",
      "159/159 [==============================] - 0s 138us/step - loss: 3.1954e-04 - mean_squared_error: 3.1954e-04 - mean_absolute_error: 0.0094 - mean_absolute_percentage_error: 864900.0000 - cosine_proximity: 0.9787 - val_loss: 3.6723e-04 - val_mean_squared_error: 3.6723e-04 - val_mean_absolute_error: 0.0102 - val_mean_absolute_percentage_error: 939538.9375 - val_cosine_proximity: 0.9761\n",
      "Epoch 34/100\n",
      "159/159 [==============================] - 0s 138us/step - loss: 3.1686e-04 - mean_squared_error: 3.1686e-04 - mean_absolute_error: 0.0093 - mean_absolute_percentage_error: 844062.8750 - cosine_proximity: 0.9789 - val_loss: 3.6583e-04 - val_mean_squared_error: 3.6583e-04 - val_mean_absolute_error: 0.0100 - val_mean_absolute_percentage_error: 898836.0625 - val_cosine_proximity: 0.9762\n",
      "Epoch 35/100\n",
      "159/159 [==============================] - 0s 138us/step - loss: 3.1408e-04 - mean_squared_error: 3.1408e-04 - mean_absolute_error: 0.0092 - mean_absolute_percentage_error: 836356.5000 - cosine_proximity: 0.9791 - val_loss: 3.6409e-04 - val_mean_squared_error: 3.6409e-04 - val_mean_absolute_error: 0.0100 - val_mean_absolute_percentage_error: 902831.8125 - val_cosine_proximity: 0.9762\n",
      "Epoch 36/100\n",
      "159/159 [==============================] - 0s 157us/step - loss: 3.1200e-04 - mean_squared_error: 3.1200e-04 - mean_absolute_error: 0.0092 - mean_absolute_percentage_error: 833397.0000 - cosine_proximity: 0.9793 - val_loss: 3.6135e-04 - val_mean_squared_error: 3.6135e-04 - val_mean_absolute_error: 0.0100 - val_mean_absolute_percentage_error: 895129.0000 - val_cosine_proximity: 0.9764\n",
      "Epoch 37/100\n",
      "159/159 [==============================] - 0s 167us/step - loss: 3.1021e-04 - mean_squared_error: 3.1021e-04 - mean_absolute_error: 0.0092 - mean_absolute_percentage_error: 824734.2500 - cosine_proximity: 0.9794 - val_loss: 3.5979e-04 - val_mean_squared_error: 3.5979e-04 - val_mean_absolute_error: 0.0099 - val_mean_absolute_percentage_error: 877617.4375 - val_cosine_proximity: 0.9765\n",
      "Epoch 38/100\n",
      "159/159 [==============================] - 0s 145us/step - loss: 3.0797e-04 - mean_squared_error: 3.0797e-04 - mean_absolute_error: 0.0091 - mean_absolute_percentage_error: 816242.9375 - cosine_proximity: 0.9795 - val_loss: 3.5920e-04 - val_mean_squared_error: 3.5920e-04 - val_mean_absolute_error: 0.0099 - val_mean_absolute_percentage_error: 868811.8750 - val_cosine_proximity: 0.9766\n",
      "Epoch 39/100\n",
      "159/159 [==============================] - 0s 170us/step - loss: 3.0536e-04 - mean_squared_error: 3.0536e-04 - mean_absolute_error: 0.0091 - mean_absolute_percentage_error: 822512.5000 - cosine_proximity: 0.9797 - val_loss: 3.5631e-04 - val_mean_squared_error: 3.5631e-04 - val_mean_absolute_error: 0.0099 - val_mean_absolute_percentage_error: 878424.3750 - val_cosine_proximity: 0.9767\n",
      "Epoch 40/100\n",
      "159/159 [==============================] - 0s 157us/step - loss: 3.0271e-04 - mean_squared_error: 3.0271e-04 - mean_absolute_error: 0.0090 - mean_absolute_percentage_error: 799593.3125 - cosine_proximity: 0.9799 - val_loss: 3.5646e-04 - val_mean_squared_error: 3.5646e-04 - val_mean_absolute_error: 0.0098 - val_mean_absolute_percentage_error: 843137.4375 - val_cosine_proximity: 0.9767\n",
      "Epoch 41/100\n",
      "159/159 [==============================] - 0s 145us/step - loss: 3.0181e-04 - mean_squared_error: 3.0181e-04 - mean_absolute_error: 0.0090 - mean_absolute_percentage_error: 801295.7500 - cosine_proximity: 0.9800 - val_loss: 3.5335e-04 - val_mean_squared_error: 3.5335e-04 - val_mean_absolute_error: 0.0098 - val_mean_absolute_percentage_error: 846278.2500 - val_cosine_proximity: 0.9769\n",
      "Epoch 42/100\n",
      "159/159 [==============================] - 0s 145us/step - loss: 2.9845e-04 - mean_squared_error: 2.9845e-04 - mean_absolute_error: 0.0089 - mean_absolute_percentage_error: 774052.5000 - cosine_proximity: 0.9802 - val_loss: 3.5422e-04 - val_mean_squared_error: 3.5422e-04 - val_mean_absolute_error: 0.0098 - val_mean_absolute_percentage_error: 804580.0625 - val_cosine_proximity: 0.9769\n",
      "Epoch 43/100\n",
      "159/159 [==============================] - 0s 145us/step - loss: 2.9591e-04 - mean_squared_error: 2.9591e-04 - mean_absolute_error: 0.0089 - mean_absolute_percentage_error: 780417.7500 - cosine_proximity: 0.9804 - val_loss: 3.5183e-04 - val_mean_squared_error: 3.5183e-04 - val_mean_absolute_error: 0.0098 - val_mean_absolute_percentage_error: 847003.2500 - val_cosine_proximity: 0.9770\n",
      "Epoch 44/100\n",
      "159/159 [==============================] - 0s 144us/step - loss: 2.9447e-04 - mean_squared_error: 2.9447e-04 - mean_absolute_error: 0.0089 - mean_absolute_percentage_error: 780261.3125 - cosine_proximity: 0.9805 - val_loss: 3.4793e-04 - val_mean_squared_error: 3.4793e-04 - val_mean_absolute_error: 0.0097 - val_mean_absolute_percentage_error: 825462.3125 - val_cosine_proximity: 0.9773\n",
      "Epoch 45/100\n",
      "159/159 [==============================] - 0s 169us/step - loss: 2.9200e-04 - mean_squared_error: 2.9200e-04 - mean_absolute_error: 0.0088 - mean_absolute_percentage_error: 756101.9375 - cosine_proximity: 0.9806 - val_loss: 3.4839e-04 - val_mean_squared_error: 3.4839e-04 - val_mean_absolute_error: 0.0096 - val_mean_absolute_percentage_error: 796362.5625 - val_cosine_proximity: 0.9773\n",
      "Epoch 46/100\n",
      "159/159 [==============================] - ETA: 0s - loss: 3.3206e-04 - mean_squared_error: 3.3206e-04 - mean_absolute_error: 0.0095 - mean_absolute_percentage_error: 654423.1875 - cosine_proximity: 0.979 - 0s 132us/step - loss: 2.9022e-04 - mean_squared_error: 2.9022e-04 - mean_absolute_error: 0.0088 - mean_absolute_percentage_error: 762785.8750 - cosine_proximity: 0.9808 - val_loss: 3.4714e-04 - val_mean_squared_error: 3.4714e-04 - val_mean_absolute_error: 0.0097 - val_mean_absolute_percentage_error: 829323.5625 - val_cosine_proximity: 0.9774\n",
      "Epoch 47/100\n",
      "159/159 [==============================] - 0s 145us/step - loss: 2.8849e-04 - mean_squared_error: 2.8849e-04 - mean_absolute_error: 0.0088 - mean_absolute_percentage_error: 768356.9375 - cosine_proximity: 0.9809 - val_loss: 3.4446e-04 - val_mean_squared_error: 3.4446e-04 - val_mean_absolute_error: 0.0096 - val_mean_absolute_percentage_error: 812630.5000 - val_cosine_proximity: 0.9776\n",
      "Epoch 48/100\n",
      "159/159 [==============================] - 0s 145us/step - loss: 2.8619e-04 - mean_squared_error: 2.8619e-04 - mean_absolute_error: 0.0087 - mean_absolute_percentage_error: 747837.0000 - cosine_proximity: 0.9811 - val_loss: 3.4343e-04 - val_mean_squared_error: 3.4343e-04 - val_mean_absolute_error: 0.0095 - val_mean_absolute_percentage_error: 797031.1250 - val_cosine_proximity: 0.9775\n",
      "Epoch 49/100\n",
      "159/159 [==============================] - 0s 157us/step - loss: 2.8436e-04 - mean_squared_error: 2.8436e-04 - mean_absolute_error: 0.0086 - mean_absolute_percentage_error: 735411.3125 - cosine_proximity: 0.9812 - val_loss: 3.4278e-04 - val_mean_squared_error: 3.4278e-04 - val_mean_absolute_error: 0.0096 - val_mean_absolute_percentage_error: 785298.7500 - val_cosine_proximity: 0.9776\n",
      "Epoch 50/100\n",
      "159/159 [==============================] - 0s 151us/step - loss: 2.8267e-04 - mean_squared_error: 2.8267e-04 - mean_absolute_error: 0.0086 - mean_absolute_percentage_error: 733194.3125 - cosine_proximity: 0.9813 - val_loss: 3.4158e-04 - val_mean_squared_error: 3.4158e-04 - val_mean_absolute_error: 0.0095 - val_mean_absolute_percentage_error: 788262.4375 - val_cosine_proximity: 0.9777\n",
      "Epoch 51/100\n",
      "159/159 [==============================] - 0s 176us/step - loss: 2.8134e-04 - mean_squared_error: 2.8134e-04 - mean_absolute_error: 0.0086 - mean_absolute_percentage_error: 744286.3125 - cosine_proximity: 0.9814 - val_loss: 3.4134e-04 - val_mean_squared_error: 3.4134e-04 - val_mean_absolute_error: 0.0095 - val_mean_absolute_percentage_error: 780850.7500 - val_cosine_proximity: 0.9778\n",
      "Epoch 52/100\n",
      "159/159 [==============================] - 0s 139us/step - loss: 2.7972e-04 - mean_squared_error: 2.7972e-04 - mean_absolute_error: 0.0085 - mean_absolute_percentage_error: 721086.5000 - cosine_proximity: 0.9816 - val_loss: 3.4447e-04 - val_mean_squared_error: 3.4447e-04 - val_mean_absolute_error: 0.0095 - val_mean_absolute_percentage_error: 766217.0000 - val_cosine_proximity: 0.9775\n",
      "Epoch 53/100\n",
      "159/159 [==============================] - 0s 145us/step - loss: 2.7827e-04 - mean_squared_error: 2.7827e-04 - mean_absolute_error: 0.0085 - mean_absolute_percentage_error: 719790.8125 - cosine_proximity: 0.9816 - val_loss: 3.3790e-04 - val_mean_squared_error: 3.3790e-04 - val_mean_absolute_error: 0.0095 - val_mean_absolute_percentage_error: 788222.8125 - val_cosine_proximity: 0.9780\n",
      "Epoch 54/100\n",
      "159/159 [==============================] - 0s 132us/step - loss: 2.7655e-04 - mean_squared_error: 2.7655e-04 - mean_absolute_error: 0.0084 - mean_absolute_percentage_error: 721120.8125 - cosine_proximity: 0.9817 - val_loss: 3.3648e-04 - val_mean_squared_error: 3.3648e-04 - val_mean_absolute_error: 0.0094 - val_mean_absolute_percentage_error: 769327.7500 - val_cosine_proximity: 0.9780\n",
      "Epoch 55/100\n",
      "159/159 [==============================] - 0s 220us/step - loss: 2.7505e-04 - mean_squared_error: 2.7505e-04 - mean_absolute_error: 0.0084 - mean_absolute_percentage_error: 702178.4375 - cosine_proximity: 0.9819 - val_loss: 3.3805e-04 - val_mean_squared_error: 3.3805e-04 - val_mean_absolute_error: 0.0094 - val_mean_absolute_percentage_error: 745408.2500 - val_cosine_proximity: 0.9779\n",
      "Epoch 56/100\n",
      "159/159 [==============================] - 0s 138us/step - loss: 2.7297e-04 - mean_squared_error: 2.7297e-04 - mean_absolute_error: 0.0084 - mean_absolute_percentage_error: 702180.1250 - cosine_proximity: 0.9820 - val_loss: 3.3526e-04 - val_mean_squared_error: 3.3526e-04 - val_mean_absolute_error: 0.0094 - val_mean_absolute_percentage_error: 772796.0625 - val_cosine_proximity: 0.9781\n",
      "Epoch 57/100\n",
      "159/159 [==============================] - 0s 145us/step - loss: 2.7168e-04 - mean_squared_error: 2.7168e-04 - mean_absolute_error: 0.0084 - mean_absolute_percentage_error: 710834.4375 - cosine_proximity: 0.9821 - val_loss: 3.3496e-04 - val_mean_squared_error: 3.3496e-04 - val_mean_absolute_error: 0.0094 - val_mean_absolute_percentage_error: 768298.7500 - val_cosine_proximity: 0.9781\n",
      "Epoch 58/100\n",
      "159/159 [==============================] - 0s 142us/step - loss: 2.7080e-04 - mean_squared_error: 2.7080e-04 - mean_absolute_error: 0.0083 - mean_absolute_percentage_error: 688186.1250 - cosine_proximity: 0.9822 - val_loss: 3.3602e-04 - val_mean_squared_error: 3.3602e-04 - val_mean_absolute_error: 0.0093 - val_mean_absolute_percentage_error: 719710.8125 - val_cosine_proximity: 0.9780\n",
      "Epoch 59/100\n",
      "159/159 [==============================] - 0s 132us/step - loss: 2.6835e-04 - mean_squared_error: 2.6835e-04 - mean_absolute_error: 0.0083 - mean_absolute_percentage_error: 678750.1875 - cosine_proximity: 0.9823 - val_loss: 3.3290e-04 - val_mean_squared_error: 3.3290e-04 - val_mean_absolute_error: 0.0093 - val_mean_absolute_percentage_error: 754918.3750 - val_cosine_proximity: 0.9783\n",
      "Epoch 60/100\n",
      "159/159 [==============================] - 0s 145us/step - loss: 2.6736e-04 - mean_squared_error: 2.6736e-04 - mean_absolute_error: 0.0083 - mean_absolute_percentage_error: 712919.2500 - cosine_proximity: 0.9824 - val_loss: 3.3413e-04 - val_mean_squared_error: 3.3413e-04 - val_mean_absolute_error: 0.0094 - val_mean_absolute_percentage_error: 771187.5625 - val_cosine_proximity: 0.9782\n",
      "Epoch 61/100\n",
      "159/159 [==============================] - 0s 138us/step - loss: 2.6696e-04 - mean_squared_error: 2.6696e-04 - mean_absolute_error: 0.0083 - mean_absolute_percentage_error: 688537.0625 - cosine_proximity: 0.9825 - val_loss: 3.3032e-04 - val_mean_squared_error: 3.3032e-04 - val_mean_absolute_error: 0.0093 - val_mean_absolute_percentage_error: 731066.5625 - val_cosine_proximity: 0.9784\n",
      "Epoch 62/100\n",
      "159/159 [==============================] - 0s 145us/step - loss: 2.6612e-04 - mean_squared_error: 2.6612e-04 - mean_absolute_error: 0.0082 - mean_absolute_percentage_error: 669173.8125 - cosine_proximity: 0.9826 - val_loss: 3.3439e-04 - val_mean_squared_error: 3.3439e-04 - val_mean_absolute_error: 0.0093 - val_mean_absolute_percentage_error: 720083.5625 - val_cosine_proximity: 0.9782\n",
      "Epoch 63/100\n",
      "159/159 [==============================] - 0s 138us/step - loss: 2.6394e-04 - mean_squared_error: 2.6394e-04 - mean_absolute_error: 0.0082 - mean_absolute_percentage_error: 667277.6875 - cosine_proximity: 0.9827 - val_loss: 3.2879e-04 - val_mean_squared_error: 3.2879e-04 - val_mean_absolute_error: 0.0093 - val_mean_absolute_percentage_error: 721935.8125 - val_cosine_proximity: 0.9785\n",
      "Epoch 64/100\n",
      "159/159 [==============================] - 0s 138us/step - loss: 2.6196e-04 - mean_squared_error: 2.6196e-04 - mean_absolute_error: 0.0081 - mean_absolute_percentage_error: 668974.8125 - cosine_proximity: 0.9828 - val_loss: 3.2910e-04 - val_mean_squared_error: 3.2910e-04 - val_mean_absolute_error: 0.0092 - val_mean_absolute_percentage_error: 733624.9375 - val_cosine_proximity: 0.9785\n",
      "Epoch 65/100\n",
      "159/159 [==============================] - 0s 151us/step - loss: 2.6128e-04 - mean_squared_error: 2.6128e-04 - mean_absolute_error: 0.0081 - mean_absolute_percentage_error: 673879.5000 - cosine_proximity: 0.9829 - val_loss: 3.3037e-04 - val_mean_squared_error: 3.3037e-04 - val_mean_absolute_error: 0.0093 - val_mean_absolute_percentage_error: 732114.7500 - val_cosine_proximity: 0.9784\n",
      "Epoch 66/100\n",
      "159/159 [==============================] - 0s 132us/step - loss: 2.5977e-04 - mean_squared_error: 2.5977e-04 - mean_absolute_error: 0.0081 - mean_absolute_percentage_error: 662851.5625 - cosine_proximity: 0.9830 - val_loss: 3.2721e-04 - val_mean_squared_error: 3.2721e-04 - val_mean_absolute_error: 0.0092 - val_mean_absolute_percentage_error: 718838.5625 - val_cosine_proximity: 0.9786\n",
      "Epoch 67/100\n",
      "159/159 [==============================] - 0s 151us/step - loss: 2.5851e-04 - mean_squared_error: 2.5851e-04 - mean_absolute_error: 0.0081 - mean_absolute_percentage_error: 647957.3750 - cosine_proximity: 0.9831 - val_loss: 3.2675e-04 - val_mean_squared_error: 3.2675e-04 - val_mean_absolute_error: 0.0092 - val_mean_absolute_percentage_error: 711440.4375 - val_cosine_proximity: 0.9786\n",
      "Epoch 68/100\n",
      "159/159 [==============================] - 0s 151us/step - loss: 2.5737e-04 - mean_squared_error: 2.5737e-04 - mean_absolute_error: 0.0080 - mean_absolute_percentage_error: 659306.1875 - cosine_proximity: 0.9832 - val_loss: 3.2333e-04 - val_mean_squared_error: 3.2333e-04 - val_mean_absolute_error: 0.0092 - val_mean_absolute_percentage_error: 753633.9375 - val_cosine_proximity: 0.9788\n",
      "Epoch 69/100\n",
      "159/159 [==============================] - 0s 138us/step - loss: 2.5629e-04 - mean_squared_error: 2.5629e-04 - mean_absolute_error: 0.0081 - mean_absolute_percentage_error: 662553.1250 - cosine_proximity: 0.9832 - val_loss: 3.2383e-04 - val_mean_squared_error: 3.2383e-04 - val_mean_absolute_error: 0.0092 - val_mean_absolute_percentage_error: 703634.6250 - val_cosine_proximity: 0.9789\n",
      "Epoch 70/100\n",
      "159/159 [==============================] - 0s 126us/step - loss: 2.5664e-04 - mean_squared_error: 2.5664e-04 - mean_absolute_error: 0.0080 - mean_absolute_percentage_error: 637668.3750 - cosine_proximity: 0.9832 - val_loss: 3.2568e-04 - val_mean_squared_error: 3.2568e-04 - val_mean_absolute_error: 0.0091 - val_mean_absolute_percentage_error: 712516.9375 - val_cosine_proximity: 0.9786\n",
      "Epoch 71/100\n",
      "159/159 [==============================] - 0s 151us/step - loss: 2.5334e-04 - mean_squared_error: 2.5334e-04 - mean_absolute_error: 0.0080 - mean_absolute_percentage_error: 651833.9375 - cosine_proximity: 0.9834 - val_loss: 3.2342e-04 - val_mean_squared_error: 3.2342e-04 - val_mean_absolute_error: 0.0092 - val_mean_absolute_percentage_error: 722021.0625 - val_cosine_proximity: 0.9788\n",
      "Epoch 72/100\n",
      "159/159 [==============================] - 0s 138us/step - loss: 2.5355e-04 - mean_squared_error: 2.5355e-04 - mean_absolute_error: 0.0080 - mean_absolute_percentage_error: 630493.4375 - cosine_proximity: 0.9835 - val_loss: 3.2454e-04 - val_mean_squared_error: 3.2454e-04 - val_mean_absolute_error: 0.0092 - val_mean_absolute_percentage_error: 700914.8750 - val_cosine_proximity: 0.9788\n",
      "Epoch 73/100\n",
      "159/159 [==============================] - 0s 135us/step - loss: 2.5174e-04 - mean_squared_error: 2.5174e-04 - mean_absolute_error: 0.0080 - mean_absolute_percentage_error: 650775.3750 - cosine_proximity: 0.9836 - val_loss: 3.2402e-04 - val_mean_squared_error: 3.2402e-04 - val_mean_absolute_error: 0.0091 - val_mean_absolute_percentage_error: 738845.5625 - val_cosine_proximity: 0.9787\n",
      "Epoch 74/100\n",
      "159/159 [==============================] - 0s 138us/step - loss: 2.5062e-04 - mean_squared_error: 2.5062e-04 - mean_absolute_error: 0.0079 - mean_absolute_percentage_error: 633732.0000 - cosine_proximity: 0.9837 - val_loss: 3.2131e-04 - val_mean_squared_error: 3.2131e-04 - val_mean_absolute_error: 0.0091 - val_mean_absolute_percentage_error: 688642.6875 - val_cosine_proximity: 0.9789\n",
      "Epoch 75/100\n",
      "159/159 [==============================] - 0s 195us/step - loss: 2.5050e-04 - mean_squared_error: 2.5050e-04 - mean_absolute_error: 0.0079 - mean_absolute_percentage_error: 628020.2500 - cosine_proximity: 0.9837 - val_loss: 3.1968e-04 - val_mean_squared_error: 3.1968e-04 - val_mean_absolute_error: 0.0091 - val_mean_absolute_percentage_error: 718819.6250 - val_cosine_proximity: 0.9790\n",
      "Epoch 76/100\n",
      "159/159 [==============================] - 0s 170us/step - loss: 2.4851e-04 - mean_squared_error: 2.4851e-04 - mean_absolute_error: 0.0079 - mean_absolute_percentage_error: 646041.9375 - cosine_proximity: 0.9838 - val_loss: 3.2031e-04 - val_mean_squared_error: 3.2031e-04 - val_mean_absolute_error: 0.0092 - val_mean_absolute_percentage_error: 719218.8750 - val_cosine_proximity: 0.9791\n",
      "Epoch 77/100\n",
      "159/159 [==============================] - 0s 132us/step - loss: 2.4746e-04 - mean_squared_error: 2.4746e-04 - mean_absolute_error: 0.0078 - mean_absolute_percentage_error: 622434.7500 - cosine_proximity: 0.9839 - val_loss: 3.2316e-04 - val_mean_squared_error: 3.2316e-04 - val_mean_absolute_error: 0.0091 - val_mean_absolute_percentage_error: 677236.1875 - val_cosine_proximity: 0.9788\n",
      "Epoch 78/100\n",
      "159/159 [==============================] - 0s 478us/step - loss: 2.4562e-04 - mean_squared_error: 2.4562e-04 - mean_absolute_error: 0.0078 - mean_absolute_percentage_error: 610046.3125 - cosine_proximity: 0.9840 - val_loss: 3.1872e-04 - val_mean_squared_error: 3.1872e-04 - val_mean_absolute_error: 0.0091 - val_mean_absolute_percentage_error: 718995.0625 - val_cosine_proximity: 0.9791\n",
      "Epoch 79/100\n",
      "159/159 [==============================] - 0s 138us/step - loss: 2.4455e-04 - mean_squared_error: 2.4455e-04 - mean_absolute_error: 0.0078 - mean_absolute_percentage_error: 638060.1875 - cosine_proximity: 0.9841 - val_loss: 3.1599e-04 - val_mean_squared_error: 3.1599e-04 - val_mean_absolute_error: 0.0090 - val_mean_absolute_percentage_error: 718039.4375 - val_cosine_proximity: 0.9793\n",
      "Epoch 80/100\n",
      "159/159 [==============================] - 0s 163us/step - loss: 2.4385e-04 - mean_squared_error: 2.4385e-04 - mean_absolute_error: 0.0077 - mean_absolute_percentage_error: 616186.5625 - cosine_proximity: 0.9841 - val_loss: 3.1774e-04 - val_mean_squared_error: 3.1774e-04 - val_mean_absolute_error: 0.0090 - val_mean_absolute_percentage_error: 696102.5000 - val_cosine_proximity: 0.9791\n",
      "Epoch 81/100\n",
      "159/159 [==============================] - 0s 176us/step - loss: 2.4255e-04 - mean_squared_error: 2.4255e-04 - mean_absolute_error: 0.0078 - mean_absolute_percentage_error: 630267.1875 - cosine_proximity: 0.9842 - val_loss: 3.1777e-04 - val_mean_squared_error: 3.1777e-04 - val_mean_absolute_error: 0.0090 - val_mean_absolute_percentage_error: 712065.6875 - val_cosine_proximity: 0.9791\n",
      "Epoch 82/100\n",
      "159/159 [==============================] - 0s 144us/step - loss: 2.4157e-04 - mean_squared_error: 2.4157e-04 - mean_absolute_error: 0.0077 - mean_absolute_percentage_error: 613845.6250 - cosine_proximity: 0.9843 - val_loss: 3.1739e-04 - val_mean_squared_error: 3.1739e-04 - val_mean_absolute_error: 0.0090 - val_mean_absolute_percentage_error: 686011.9375 - val_cosine_proximity: 0.9791\n",
      "Epoch 83/100\n",
      "159/159 [==============================] - 0s 151us/step - loss: 2.4062e-04 - mean_squared_error: 2.4062e-04 - mean_absolute_error: 0.0077 - mean_absolute_percentage_error: 603970.6875 - cosine_proximity: 0.9844 - val_loss: 3.1655e-04 - val_mean_squared_error: 3.1655e-04 - val_mean_absolute_error: 0.0090 - val_mean_absolute_percentage_error: 695245.5000 - val_cosine_proximity: 0.9792\n",
      "Epoch 84/100\n",
      "159/159 [==============================] - 0s 151us/step - loss: 2.4023e-04 - mean_squared_error: 2.4023e-04 - mean_absolute_error: 0.0077 - mean_absolute_percentage_error: 622838.6875 - cosine_proximity: 0.9844 - val_loss: 3.1596e-04 - val_mean_squared_error: 3.1596e-04 - val_mean_absolute_error: 0.0090 - val_mean_absolute_percentage_error: 714300.6250 - val_cosine_proximity: 0.9792\n",
      "Epoch 85/100\n",
      "159/159 [==============================] - 0s 164us/step - loss: 2.4067e-04 - mean_squared_error: 2.4067e-04 - mean_absolute_error: 0.0077 - mean_absolute_percentage_error: 601347.3125 - cosine_proximity: 0.9844 - val_loss: 3.1913e-04 - val_mean_squared_error: 3.1913e-04 - val_mean_absolute_error: 0.0090 - val_mean_absolute_percentage_error: 679484.3750 - val_cosine_proximity: 0.9791\n",
      "Epoch 86/100\n",
      "159/159 [==============================] - 0s 151us/step - loss: 2.3817e-04 - mean_squared_error: 2.3817e-04 - mean_absolute_error: 0.0076 - mean_absolute_percentage_error: 606076.2500 - cosine_proximity: 0.9846 - val_loss: 3.1329e-04 - val_mean_squared_error: 3.1329e-04 - val_mean_absolute_error: 0.0089 - val_mean_absolute_percentage_error: 701254.3750 - val_cosine_proximity: 0.9794\n",
      "Epoch 87/100\n",
      "159/159 [==============================] - 0s 157us/step - loss: 2.3732e-04 - mean_squared_error: 2.3732e-04 - mean_absolute_error: 0.0076 - mean_absolute_percentage_error: 615338.2500 - cosine_proximity: 0.9846 - val_loss: 3.1040e-04 - val_mean_squared_error: 3.1040e-04 - val_mean_absolute_error: 0.0089 - val_mean_absolute_percentage_error: 709136.5000 - val_cosine_proximity: 0.9796\n",
      "Epoch 88/100\n",
      "159/159 [==============================] - 0s 170us/step - loss: 2.3823e-04 - mean_squared_error: 2.3823e-04 - mean_absolute_error: 0.0077 - mean_absolute_percentage_error: 597818.2500 - cosine_proximity: 0.9845 - val_loss: 3.1652e-04 - val_mean_squared_error: 3.1652e-04 - val_mean_absolute_error: 0.0090 - val_mean_absolute_percentage_error: 694081.1875 - val_cosine_proximity: 0.9792\n",
      "Epoch 89/100\n",
      "159/159 [==============================] - 0s 195us/step - loss: 2.3647e-04 - mean_squared_error: 2.3647e-04 - mean_absolute_error: 0.0077 - mean_absolute_percentage_error: 598839.2500 - cosine_proximity: 0.9847 - val_loss: 3.1307e-04 - val_mean_squared_error: 3.1307e-04 - val_mean_absolute_error: 0.0089 - val_mean_absolute_percentage_error: 693277.2500 - val_cosine_proximity: 0.9794\n",
      "Epoch 90/100\n",
      "159/159 [==============================] - 0s 170us/step - loss: 2.3613e-04 - mean_squared_error: 2.3613e-04 - mean_absolute_error: 0.0076 - mean_absolute_percentage_error: 584849.7500 - cosine_proximity: 0.9847 - val_loss: 3.1460e-04 - val_mean_squared_error: 3.1460e-04 - val_mean_absolute_error: 0.0089 - val_mean_absolute_percentage_error: 686031.1250 - val_cosine_proximity: 0.9793\n",
      "Epoch 91/100\n",
      "159/159 [==============================] - 0s 138us/step - loss: 2.3409e-04 - mean_squared_error: 2.3409e-04 - mean_absolute_error: 0.0076 - mean_absolute_percentage_error: 603569.9375 - cosine_proximity: 0.9849 - val_loss: 3.1358e-04 - val_mean_squared_error: 3.1358e-04 - val_mean_absolute_error: 0.0090 - val_mean_absolute_percentage_error: 727061.7500 - val_cosine_proximity: 0.9794\n",
      "Epoch 92/100\n",
      "159/159 [==============================] - 0s 160us/step - loss: 2.3326e-04 - mean_squared_error: 2.3326e-04 - mean_absolute_error: 0.0076 - mean_absolute_percentage_error: 604895.5625 - cosine_proximity: 0.9849 - val_loss: 3.1356e-04 - val_mean_squared_error: 3.1356e-04 - val_mean_absolute_error: 0.0089 - val_mean_absolute_percentage_error: 690718.5000 - val_cosine_proximity: 0.9794\n",
      "Epoch 93/100\n",
      "159/159 [==============================] - 0s 160us/step - loss: 2.3225e-04 - mean_squared_error: 2.3225e-04 - mean_absolute_error: 0.0075 - mean_absolute_percentage_error: 581751.8750 - cosine_proximity: 0.9850 - val_loss: 3.1528e-04 - val_mean_squared_error: 3.1528e-04 - val_mean_absolute_error: 0.0090 - val_mean_absolute_percentage_error: 684315.0625 - val_cosine_proximity: 0.9793\n",
      "Epoch 94/100\n",
      "159/159 [==============================] - 0s 151us/step - loss: 2.3248e-04 - mean_squared_error: 2.3248e-04 - mean_absolute_error: 0.0075 - mean_absolute_percentage_error: 585453.3125 - cosine_proximity: 0.9850 - val_loss: 3.1097e-04 - val_mean_squared_error: 3.1097e-04 - val_mean_absolute_error: 0.0088 - val_mean_absolute_percentage_error: 703925.8750 - val_cosine_proximity: 0.9795\n",
      "Epoch 95/100\n",
      "159/159 [==============================] - 0s 151us/step - loss: 2.3142e-04 - mean_squared_error: 2.3142e-04 - mean_absolute_error: 0.0075 - mean_absolute_percentage_error: 610295.5625 - cosine_proximity: 0.9851 - val_loss: 3.0685e-04 - val_mean_squared_error: 3.0685e-04 - val_mean_absolute_error: 0.0089 - val_mean_absolute_percentage_error: 737285.7500 - val_cosine_proximity: 0.9799\n",
      "Epoch 96/100\n",
      "159/159 [==============================] - 0s 132us/step - loss: 2.3184e-04 - mean_squared_error: 2.3184e-04 - mean_absolute_error: 0.0075 - mean_absolute_percentage_error: 592658.8750 - cosine_proximity: 0.9851 - val_loss: 3.1535e-04 - val_mean_squared_error: 3.1535e-04 - val_mean_absolute_error: 0.0089 - val_mean_absolute_percentage_error: 670216.5000 - val_cosine_proximity: 0.9793\n",
      "Epoch 97/100\n",
      "159/159 [==============================] - 0s 157us/step - loss: 2.2937e-04 - mean_squared_error: 2.2937e-04 - mean_absolute_error: 0.0075 - mean_absolute_percentage_error: 581338.6875 - cosine_proximity: 0.9853 - val_loss: 3.1022e-04 - val_mean_squared_error: 3.1022e-04 - val_mean_absolute_error: 0.0089 - val_mean_absolute_percentage_error: 716595.1250 - val_cosine_proximity: 0.9796\n",
      "Epoch 98/100\n",
      "159/159 [==============================] - 0s 145us/step - loss: 2.2896e-04 - mean_squared_error: 2.2896e-04 - mean_absolute_error: 0.0075 - mean_absolute_percentage_error: 592929.9375 - cosine_proximity: 0.9852 - val_loss: 3.0763e-04 - val_mean_squared_error: 3.0763e-04 - val_mean_absolute_error: 0.0088 - val_mean_absolute_percentage_error: 711448.1250 - val_cosine_proximity: 0.9796\n",
      "Epoch 99/100\n",
      "159/159 [==============================] - 0s 145us/step - loss: 2.2891e-04 - mean_squared_error: 2.2891e-04 - mean_absolute_error: 0.0074 - mean_absolute_percentage_error: 582651.3750 - cosine_proximity: 0.9852 - val_loss: 3.0625e-04 - val_mean_squared_error: 3.0625e-04 - val_mean_absolute_error: 0.0088 - val_mean_absolute_percentage_error: 692443.8125 - val_cosine_proximity: 0.9798\n",
      "Epoch 100/100\n",
      "159/159 [==============================] - 0s 144us/step - loss: 2.3060e-04 - mean_squared_error: 2.3060e-04 - mean_absolute_error: 0.0075 - mean_absolute_percentage_error: 605846.0625 - cosine_proximity: 0.9853 - val_loss: 3.1707e-04 - val_mean_squared_error: 3.1707e-04 - val_mean_absolute_error: 0.0090 - val_mean_absolute_percentage_error: 706475.6250 - val_cosine_proximity: 0.9791\n"
     ]
    }
   ],
   "source": [
    "model = build_model_cnn(n_steps,n_feats,n_fore)\n",
    "model.summary()\n",
    "\n",
    "history = model.fit(\n",
    "    X_train,\n",
    "    y_train,\n",
    "    batch_size=32,\n",
    "    epochs=100,\n",
    "    validation_data=(X_test, y_test),\n",
    "    callbacks=[\n",
    "        EarlyStopping(patience=10),\n",
    "    ],\n",
    ")"
   ]
  },
  {
   "cell_type": "code",
   "execution_count": 104,
   "metadata": {},
   "outputs": [
    {
     "data": {
      "image/png": "[encoded data removed]",
      "text/plain": [
       "<Figure size 432x288 with 1 Axes>"
      ]
     },
     "metadata": {
      "needs_background": "light"
     },
     "output_type": "display_data"
    },
    {
     "data": {
      "image/png": "[encoded data removed]",
      "text/plain": [
       "<Figure size 432x288 with 1 Axes>"
      ]
     },
     "metadata": {
      "needs_background": "light"
     },
     "output_type": "display_data"
    },
    {
     "data": {
      "image/png": "[encoded data removed]",
      "text/plain": [
       "<Figure size 432x288 with 1 Axes>"
      ]
     },
     "metadata": {
      "needs_background": "light"
     },
     "output_type": "display_data"
    },
    {
     "data": {
      "image/png": "[encoded data removed]",
      "text/plain": [
       "<Figure size 432x288 with 1 Axes>"
      ]
     },
     "metadata": {
      "needs_background": "light"
     },
     "output_type": "display_data"
    }
   ],
   "source": [
    "# summarize history for accuracy\n",
    "plt.figure()\n",
    "plt.plot(history.history['mean_squared_error'])\n",
    "plt.plot(history.history['val_mean_squared_error'])\n",
    "plt.title('model mse')\n",
    "plt.ylabel('mean suqared error')\n",
    "plt.xlabel('epoch')\n",
    "plt.legend(['train', 'test'], loc='upper left')\n",
    "plt.show()\n",
    "\n",
    "plt.figure()\n",
    "plt.plot(history.history['mean_absolute_error'])\n",
    "plt.plot(history.history['val_mean_absolute_error'])\n",
    "plt.title('model mae')\n",
    "plt.ylabel('mean absolute error')\n",
    "plt.xlabel('epoch')\n",
    "plt.legend(['train', 'test'], loc='upper left')\n",
    "plt.show()\n",
    "\n",
    "plt.figure()\n",
    "plt.plot(history.history['mean_absolute_percentage_error'])\n",
    "plt.plot(history.history['val_mean_absolute_percentage_error'])\n",
    "plt.title('model mean absolute percentage error')\n",
    "plt.ylabel('mean absolute percentage error')\n",
    "plt.xlabel('epoch')\n",
    "plt.legend(['train', 'test'], loc='upper left')\n",
    "plt.show()\n",
    "\n",
    "plt.figure()\n",
    "plt.plot(history.history['cosine_proximity'])\n",
    "plt.plot(history.history['val_cosine_proximity'])\n",
    "plt.title('model cosine proximity')\n",
    "plt.ylabel('cosine proximity')\n",
    "plt.xlabel('epoch')\n",
    "plt.legend(['train', 'test'], loc='upper left')\n",
    "plt.show()"
   ]
  },
  {
   "cell_type": "code",
   "execution_count": 105,
   "metadata": {},
   "outputs": [
    {
     "name": "stdout",
     "output_type": "stream",
     "text": [
      "[0.00736857 0.13522446 0.00371248 0.0018442  0.00148796 0.01930255\n",
      " 0.19982339 0.01685773 0.00740029 0.00470287 0.00460585 0.00690046\n",
      " 0.00368017 0.01433355 0.00353714 0.00960869 0.04468487 0.00153845\n",
      " 0.00986744 0.00585068 0.00791237 0.00497748 0.00262958 0.00120955\n",
      " 0.00197137 0.00485941 0.01387775 0.46023069]\n"
     ]
    },
    {
     "data": {
      "text/plain": [
       "array([[ 0.00685267,  0.16566768,  0.01190649,  0.00175963,  0.00486401,\n",
       "         0.02239502,  0.19541836,  0.01091529,  0.00278235,  0.00572543,\n",
       "         0.00561197,  0.00290002,  0.00309935,  0.01353666,  0.00432224,\n",
       "         0.0136123 ,  0.01486866,  0.01638844,  0.0140532 ,  0.00639699,\n",
       "        -0.00101244,  0.00817684, -0.00226403,  0.00662706,  0.00496215,\n",
       "         0.0060941 ,  0.0233455 ,  0.46648097]], dtype=float32)"
      ]
     },
     "execution_count": 105,
     "metadata": {},
     "output_type": "execute_result"
    }
   ],
   "source": [
    "print(y_train[0])\n",
    "model.predict(np.reshape(X_train[0], (1,X_train[0].shape[0], X_train[0].shape[1])))"
   ]
  },
  {
   "cell_type": "code",
   "execution_count": 106,
   "metadata": {},
   "outputs": [
    {
     "name": "stdout",
     "output_type": "stream",
     "text": [
      "[[0.0149718  0.02319667 0.02790093 ... 0.00734136 0.03242293 0.38241762]\n",
      " [0.00822547 0.17092608 0.0078237  ... 0.00716316 0.00987937 0.4678691 ]\n",
      " [0.00897013 0.17162465 0.01114363 ... 0.00658646 0.01341332 0.46661222]\n",
      " ...\n",
      " [0.00974759 0.15812746 0.01200175 ... 0.00387855 0.02664655 0.44568354]\n",
      " [0.02826837 0.00069617 0.01455538 ... 0.00799793 0.07276108 0.3334809 ]\n",
      " [0.00892605 0.17784217 0.02300691 ... 0.00780704 0.02372941 0.44869828]]\n"
     ]
    }
   ],
   "source": [
    "predictions = model.predict(X_test)\n",
    "print(predictions)"
   ]
  },
  {
   "cell_type": "code",
   "execution_count": 107,
   "metadata": {},
   "outputs": [
    {
     "data": {
      "image/png": "[encoded data removed]",
      "text/plain": [
       "<Figure size 432x288 with 1 Axes>"
      ]
     },
     "metadata": {
      "needs_background": "light"
     },
     "output_type": "display_data"
    }
   ],
   "source": [
    "# Visualize the data\n",
    "plt.figure()\n",
    "plt.scatter(predictions,y_test)\n",
    "plt.grid(True)\n",
    "plt.title(\"title\")\n",
    "plt.xlabel(\"x-label\")\n",
    "plt.ylabel(\"y-label\")\n",
    "plt.show()"
   ]
  },
  {
   "cell_type": "code",
   "execution_count": 108,
   "metadata": {},
   "outputs": [
    {
     "name": "stdout",
     "output_type": "stream",
     "text": [
      "Mean Pearsons correlation: 0.965\n"
     ]
    }
   ],
   "source": [
    "# calculate Pearson's correlation\n",
    "li = []\n",
    "for i in np.arange(predictions.shape[1]):\n",
    "    corr, _ = pearsonr(predictions[i],y_test[i])\n",
    "    li.append(corr)\n",
    "# Calcuate the mean Pearson's correlation\n",
    "corr_mean = np.mean(li)\n",
    "print('Mean Pearsons correlation: %.3f' % corr_mean)"
   ]
  },
  {
   "cell_type": "code",
   "execution_count": null,
   "metadata": {},
   "outputs": [],
   "source": []
  }
 ],
 "metadata": {
  "kernelspec": {
   "display_name": "Python 3",
   "language": "python",
   "name": "python3"
  },
  "language_info": {
   "codemirror_mode": {
    "name": "ipython",
    "version": 3
   },
   "file_extension": ".py",
   "mimetype": "text/x-python",
   "name": "python",
   "nbconvert_exporter": "python",
   "pygments_lexer": "ipython3",
   "version": "3.7.7"
  }
 },
 "nbformat": 4,
 "nbformat_minor": 4
}
