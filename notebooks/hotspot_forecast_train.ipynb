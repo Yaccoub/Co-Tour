{
 "cells": [
  {
   "cell_type": "code",
   "execution_count": 1,
   "metadata": {},
   "outputs": [
    {
     "name": "stderr",
     "output_type": "stream",
     "text": [
      "Using TensorFlow backend.\n"
     ]
    }
   ],
   "source": [
    "from datetime import datetime\n",
    "import numpy as np\n",
    "import pandas as pd\n",
    "from keras.models import Sequential\n",
    "from keras.layers import Input, GRU, Dense,Flatten,Dropout,Conv1D, MaxPooling1D\n",
    "from keras.callbacks import EarlyStopping\n",
    "from keras.losses import mean_squared_error\n",
    "import mlflow.tensorflow\n",
    "import matplotlib.pyplot as plt"
   ]
  },
  {
   "cell_type": "code",
   "execution_count": 2,
   "metadata": {},
   "outputs": [],
   "source": [
    "def create_sequences(dataset, timesteps=1, dropNa=True):\n",
    "    \"\"\"Converts time series into a data set for supervised machine learning models\"\"\"\n",
    "    # drop row's which include Nan elements (data preprocessing)\n",
    "    df = pd.DataFrame(dataset)\n",
    "    if dropNa:\n",
    "        df.dropna(inplace=True)\n",
    "    dataset = df.values\n",
    "    # create x and y out of dataset\n",
    "    dataX, dataY = [], []\n",
    "    for i in range(len(dataset)):\n",
    "        endIdx = i + timesteps\n",
    "        # stop if reached the end of dataset\n",
    "        if endIdx + 1 > len(dataset):\n",
    "            break\n",
    "        dataX.append(dataset[i:endIdx, :])\n",
    "        dataY.append(dataset[endIdx, :])\n",
    "    return np.array(dataX), np.array(dataY)"
   ]
  },
  {
   "cell_type": "code",
   "execution_count": 3,
   "metadata": {},
   "outputs": [],
   "source": [
    "def test_train(datasetsize, testsize, shuffle=True):\n",
    "    \"\"\"Returns two dataset to train and test machine learning models\"\"\"\n",
    "    if shuffle:\n",
    "        ntest = int(np.ceil(testsize * datasetsize))\n",
    "        idx = np.arange(0, datasetsize)\n",
    "        np.random.shuffle(idx)\n",
    "        train_index = idx[ntest:]\n",
    "        test_index = idx[:ntest]\n",
    "        return train_index, test_index\n",
    "    else:\n",
    "        #TODO: Check datasplitting use int(np.ceil(testsize * datasetsize))\n",
    "        ntest = int(np.ceil(testsize * datasetsize))\n",
    "        idx = np.arange(0, datasetsize)\n",
    "        test_index = idx[datasetsize - ntest:]\n",
    "        train_index = idx[:datasetsize - ntest]\n",
    "        return train_index, test_index"
   ]
  },
  {
   "cell_type": "code",
   "execution_count": 4,
   "metadata": {},
   "outputs": [],
   "source": [
    "def LSTM_model():\n",
    "    model = ks.Sequential()\n",
    "    model.add(ks.layers.LSTM(units=50, return_sequences=True, input_shape=(X_train.shape[1], 1)))\n",
    "    model.add(ks.layers.LSTM(units=50, return_sequences=False))\n",
    "    model.add(ks.layers.Dense(units=25))\n",
    "    model.add(ks.layers.Dense(units=1))\n",
    "    model.compile(optimizer='adam',\n",
    "              loss=mean_squared_error,\n",
    "              metrics=['accuracy'])\n",
    "    return model"
   ]
  },
  {
   "cell_type": "code",
   "execution_count": 5,
   "metadata": {},
   "outputs": [],
   "source": [
    "def CNN_model():\n",
    "    model = Sequential()\n",
    "    model.add(Conv1D(filters=50, kernel_size=3, activation='relu', input_shape=(X_train.shape[1], 1)))\n",
    "    #model.add(ks.layers.Conv1D(filters=50, kernel_size=3, activation='relu'))\n",
    "    model.add(MaxPooling1D(2))\n",
    "    model.add(Flatten())\n",
    "    model.add(Dense(units=2))\n",
    "    model.compile(optimizer='adam',\n",
    "              loss=mean_squared_error,\n",
    "              metrics=['accuracy'])\n",
    "    return model"
   ]
  },
  {
   "cell_type": "code",
   "execution_count": 6,
   "metadata": {},
   "outputs": [],
   "source": [
    "# Create a test Sequence\n",
    "seq = [[1,101],[2,102],[3,103],[4,104],[5,105],[6,106],[7,107],[8,108],[9,109],[10,110]]\n",
    "timesteps = 5\n",
    "dropNan = False\n",
    "shuffle = False"
   ]
  },
  {
   "cell_type": "code",
   "execution_count": 7,
   "metadata": {},
   "outputs": [],
   "source": [
    "X_Data, y_Data = create_sequences(seq, timesteps, dropNan)"
   ]
  },
  {
   "cell_type": "code",
   "execution_count": 8,
   "metadata": {},
   "outputs": [
    {
     "name": "stdout",
     "output_type": "stream",
     "text": [
      "[0 1 2] [3 4]\n"
     ]
    }
   ],
   "source": [
    "train_index, test_index = test_train(len(X_Data), 0.33, shuffle)\n",
    "print(train_index,test_index)"
   ]
  },
  {
   "cell_type": "code",
   "execution_count": 9,
   "metadata": {},
   "outputs": [],
   "source": [
    "# rename the columns of y_Data\n",
    "X_train = X_Data[train_index]\n",
    "X_test = X_Data[test_index]\n",
    "y_train = y_Data[train_index]\n",
    "y_test = y_Data[test_index]"
   ]
  },
  {
   "cell_type": "code",
   "execution_count": 10,
   "metadata": {},
   "outputs": [
    {
     "name": "stdout",
     "output_type": "stream",
     "text": [
      "2 5 3\n"
     ]
    }
   ],
   "source": [
    "n_features = X_train.shape[2]\n",
    "n_period = X_train.shape[1]\n",
    "n_samples = X_train.shape[0]\n",
    "print(n_features,n_period,n_samples)"
   ]
  },
  {
   "cell_type": "code",
   "execution_count": 11,
   "metadata": {},
   "outputs": [
    {
     "name": "stderr",
     "output_type": "stream",
     "text": [
      "C:\\Users\\steph\\anaconda3\\envs\\ami-cpu\\lib\\site-packages\\keras\\engine\\training_utils.py:811: DeprecationWarning: Using or importing the ABCs from 'collections' instead of from 'collections.abc' is deprecated since Python 3.3,and in 3.9 it will stop working\n",
      "  if isinstance(loss, collections.Mapping):\n"
     ]
    },
    {
     "name": "stdout",
     "output_type": "stream",
     "text": [
      "Model: \"sequential_1\"\n",
      "_________________________________________________________________\n",
      "Layer (type)                 Output Shape              Param #   \n",
      "=================================================================\n",
      "conv1d_1 (Conv1D)            (None, 3, 50)             350       \n",
      "_________________________________________________________________\n",
      "max_pooling1d_1 (MaxPooling1 (None, 1, 50)             0         \n",
      "_________________________________________________________________\n",
      "flatten_1 (Flatten)          (None, 50)                0         \n",
      "_________________________________________________________________\n",
      "dropout_1 (Dropout)          (None, 50)                0         \n",
      "_________________________________________________________________\n",
      "dense_1 (Dense)              (None, 2)                 102       \n",
      "=================================================================\n",
      "Total params: 452\n",
      "Trainable params: 452\n",
      "Non-trainable params: 0\n",
      "_________________________________________________________________\n",
      "Train on 3 samples, validate on 2 samples\n",
      "Epoch 1/100\n",
      "3/3 [==============================] - 0s 143ms/step - loss: 3420.7336 - accuracy: 1.0000 - val_loss: 2725.0613 - val_accuracy: 1.0000\n",
      "Epoch 2/100\n",
      "3/3 [==============================] - 0s 5ms/step - loss: 1956.6585 - accuracy: 1.0000 - val_loss: 2337.0011 - val_accuracy: 1.0000\n",
      "Epoch 3/100\n",
      "3/3 [==============================] - 0s 4ms/step - loss: 1706.3682 - accuracy: 1.0000 - val_loss: 1980.8084 - val_accuracy: 1.0000\n",
      "Epoch 4/100\n",
      "3/3 [==============================] - 0s 6ms/step - loss: 1896.3590 - accuracy: 1.0000 - val_loss: 1672.2964 - val_accuracy: 1.0000\n",
      "Epoch 5/100\n",
      "3/3 [==============================] - 0s 5ms/step - loss: 1344.3795 - accuracy: 1.0000 - val_loss: 1398.1938 - val_accuracy: 1.0000\n",
      "Epoch 6/100\n",
      "3/3 [==============================] - 0s 17ms/step - loss: 907.8866 - accuracy: 1.0000 - val_loss: 1164.1483 - val_accuracy: 1.0000\n",
      "Epoch 7/100\n",
      "3/3 [==============================] - 0s 5ms/step - loss: 1252.1981 - accuracy: 1.0000 - val_loss: 963.8844 - val_accuracy: 1.0000\n",
      "Epoch 8/100\n",
      "3/3 [==============================] - 0s 7ms/step - loss: 1086.3059 - accuracy: 1.0000 - val_loss: 786.2346 - val_accuracy: 1.0000\n",
      "Epoch 9/100\n",
      "3/3 [==============================] - 0s 7ms/step - loss: 1403.3392 - accuracy: 1.0000 - val_loss: 629.1917 - val_accuracy: 1.0000\n",
      "Epoch 10/100\n",
      "3/3 [==============================] - 0s 4ms/step - loss: 425.6437 - accuracy: 1.0000 - val_loss: 498.6075 - val_accuracy: 1.0000\n",
      "Epoch 11/100\n",
      "3/3 [==============================] - 0s 7ms/step - loss: 353.1274 - accuracy: 1.0000 - val_loss: 396.2553 - val_accuracy: 1.0000\n",
      "Epoch 12/100\n",
      "3/3 [==============================] - 0s 5ms/step - loss: 229.0466 - accuracy: 1.0000 - val_loss: 307.7752 - val_accuracy: 1.0000\n",
      "Epoch 13/100\n",
      "3/3 [==============================] - 0s 7ms/step - loss: 501.5127 - accuracy: 1.0000 - val_loss: 230.8486 - val_accuracy: 1.0000\n",
      "Epoch 14/100\n",
      "3/3 [==============================] - 0s 4ms/step - loss: 143.6968 - accuracy: 1.0000 - val_loss: 171.5464 - val_accuracy: 1.0000\n",
      "Epoch 15/100\n",
      "3/3 [==============================] - 0s 5ms/step - loss: 241.2940 - accuracy: 1.0000 - val_loss: 126.6940 - val_accuracy: 1.0000\n",
      "Epoch 16/100\n",
      "3/3 [==============================] - 0s 4ms/step - loss: 128.4655 - accuracy: 1.0000 - val_loss: 91.2628 - val_accuracy: 1.0000\n",
      "Epoch 17/100\n",
      "3/3 [==============================] - 0s 6ms/step - loss: 199.1683 - accuracy: 1.0000 - val_loss: 62.2125 - val_accuracy: 1.0000\n",
      "Epoch 18/100\n",
      "3/3 [==============================] - 0s 5ms/step - loss: 173.3605 - accuracy: 1.0000 - val_loss: 43.2978 - val_accuracy: 1.0000\n",
      "Epoch 19/100\n",
      "3/3 [==============================] - 0s 6ms/step - loss: 270.7274 - accuracy: 1.0000 - val_loss: 28.1860 - val_accuracy: 1.0000\n",
      "Epoch 20/100\n",
      "3/3 [==============================] - 0s 6ms/step - loss: 69.3124 - accuracy: 1.0000 - val_loss: 18.2006 - val_accuracy: 1.0000\n",
      "Epoch 21/100\n",
      "3/3 [==============================] - 0s 17ms/step - loss: 138.1990 - accuracy: 1.0000 - val_loss: 13.7777 - val_accuracy: 1.0000\n",
      "Epoch 22/100\n",
      "3/3 [==============================] - 0s 5ms/step - loss: 109.8974 - accuracy: 1.0000 - val_loss: 14.0626 - val_accuracy: 1.0000\n",
      "Epoch 23/100\n",
      "3/3 [==============================] - 0s 5ms/step - loss: 129.8905 - accuracy: 1.0000 - val_loss: 15.5497 - val_accuracy: 1.0000\n",
      "Epoch 24/100\n",
      "3/3 [==============================] - 0s 4ms/step - loss: 227.5776 - accuracy: 1.0000 - val_loss: 15.0672 - val_accuracy: 1.0000\n",
      "Epoch 25/100\n",
      "3/3 [==============================] - 0s 13ms/step - loss: 166.3546 - accuracy: 1.0000 - val_loss: 12.2092 - val_accuracy: 1.0000\n",
      "Epoch 26/100\n",
      "3/3 [==============================] - 0s 5ms/step - loss: 304.8153 - accuracy: 1.0000 - val_loss: 6.9222 - val_accuracy: 1.0000\n",
      "Epoch 27/100\n",
      "3/3 [==============================] - 0s 4ms/step - loss: 88.6685 - accuracy: 1.0000 - val_loss: 2.8062 - val_accuracy: 1.0000\n",
      "Epoch 28/100\n",
      "3/3 [==============================] - 0s 5ms/step - loss: 19.9222 - accuracy: 1.0000 - val_loss: 1.3783 - val_accuracy: 1.0000\n",
      "Epoch 29/100\n",
      "3/3 [==============================] - 0s 5ms/step - loss: 25.4136 - accuracy: 1.0000 - val_loss: 0.8877 - val_accuracy: 1.0000\n",
      "Epoch 30/100\n",
      "3/3 [==============================] - 0s 6ms/step - loss: 347.6664 - accuracy: 1.0000 - val_loss: 1.1336 - val_accuracy: 1.0000\n",
      "Epoch 31/100\n",
      "3/3 [==============================] - 0s 4ms/step - loss: 122.4953 - accuracy: 1.0000 - val_loss: 0.9784 - val_accuracy: 1.0000\n",
      "Epoch 32/100\n",
      "3/3 [==============================] - 0s 8ms/step - loss: 291.4112 - accuracy: 1.0000 - val_loss: 1.6775 - val_accuracy: 1.0000\n",
      "Epoch 33/100\n",
      "3/3 [==============================] - 0s 4ms/step - loss: 366.9759 - accuracy: 1.0000 - val_loss: 2.9589 - val_accuracy: 1.0000\n",
      "Epoch 34/100\n",
      "3/3 [==============================] - 0s 5ms/step - loss: 396.3095 - accuracy: 1.0000 - val_loss: 4.8735 - val_accuracy: 1.0000\n",
      "Epoch 35/100\n",
      "3/3 [==============================] - 0s 5ms/step - loss: 107.9917 - accuracy: 1.0000 - val_loss: 9.0914 - val_accuracy: 1.0000\n",
      "Epoch 36/100\n",
      "3/3 [==============================] - 0s 7ms/step - loss: 344.4835 - accuracy: 1.0000 - val_loss: 15.0971 - val_accuracy: 1.0000\n",
      "Epoch 37/100\n",
      "3/3 [==============================] - 0s 4ms/step - loss: 349.7694 - accuracy: 1.0000 - val_loss: 24.6836 - val_accuracy: 1.0000\n",
      "Epoch 38/100\n",
      "3/3 [==============================] - 0s 6ms/step - loss: 42.9296 - accuracy: 1.0000 - val_loss: 30.0810 - val_accuracy: 1.0000\n",
      "Epoch 39/100\n",
      "3/3 [==============================] - 0s 11ms/step - loss: 240.2056 - accuracy: 1.0000 - val_loss: 29.4205 - val_accuracy: 1.0000\n"
     ]
    }
   ],
   "source": [
    "model = Sequential()\n",
    "model.add(Conv1D(filters=50, kernel_size=3, activation='relu', input_shape=(n_period, n_features)))\n",
    "#model.add(Conv1D(filters=50, kernel_size=3, activation='relu'))\n",
    "model.add(MaxPooling1D(2))\n",
    "model.add(Flatten())\n",
    "model.add(Dropout(0.20))\n",
    "model.add(Dense(units=2))\n",
    "model.compile(optimizer='adam',\n",
    "          loss=mean_squared_error,\n",
    "          metrics=['accuracy'])\n",
    "model.summary()\n",
    "\n",
    "history = model.fit(\n",
    "    X_train,\n",
    "    y_train,\n",
    "    batch_size=1,\n",
    "    epochs=100,\n",
    "    validation_data=(X_test, y_test),\n",
    "    callbacks=[\n",
    "        EarlyStopping(patience=10),\n",
    "    ],\n",
    ")"
   ]
  },
  {
   "cell_type": "code",
   "execution_count": 12,
   "metadata": {},
   "outputs": [
    {
     "data": {
      "image/png": "[encoded data removed]",
      "text/plain": [
       "<Figure size 432x288 with 1 Axes>"
      ]
     },
     "metadata": {
      "needs_background": "light"
     },
     "output_type": "display_data"
    },
    {
     "data": {
      "image/png": "[encoded data removed]",
      "text/plain": [
       "<Figure size 432x288 with 1 Axes>"
      ]
     },
     "metadata": {
      "needs_background": "light"
     },
     "output_type": "display_data"
    }
   ],
   "source": [
    "# summarize history for accuracy\n",
    "plt.plot(history.history['accuracy'])\n",
    "plt.plot(history.history['val_accuracy'])\n",
    "plt.title('model accuracy')\n",
    "plt.ylabel('accuracy')\n",
    "plt.xlabel('epoch')\n",
    "plt.legend(['train', 'test'], loc='upper left')\n",
    "plt.show()\n",
    "\n",
    "# summarize history for loss\n",
    "plt.plot(history.history['loss'])\n",
    "plt.plot(history.history['val_loss'])\n",
    "plt.title('model loss')\n",
    "plt.ylabel('loss')\n",
    "plt.xlabel('epoch')\n",
    "plt.legend(['train', 'test'], loc='upper left')\n",
    "plt.show()"
   ]
  },
  {
   "cell_type": "code",
   "execution_count": 13,
   "metadata": {},
   "outputs": [
    {
     "name": "stdout",
     "output_type": "stream",
     "text": [
      "[  6 106]\n"
     ]
    },
    {
     "data": {
      "text/plain": [
       "array([[  1.6018817, 105.62158  ]], dtype=float32)"
      ]
     },
     "execution_count": 13,
     "metadata": {},
     "output_type": "execute_result"
    }
   ],
   "source": [
    "print(y_train[0])\n",
    "model.predict(np.reshape(X_train[0], (1,X_train[0].shape[0], X_train[0].shape[1])))"
   ]
  },
  {
   "cell_type": "code",
   "execution_count": 14,
   "metadata": {},
   "outputs": [
    {
     "name": "stdout",
     "output_type": "stream",
     "text": [
      "[[  1.8872917 109.94421  ]\n",
      " [  1.9824321 111.38508  ]]\n"
     ]
    }
   ],
   "source": [
    "predictions = model.predict(X_test)\n",
    "print(predictions)"
   ]
  },
  {
   "cell_type": "code",
   "execution_count": 15,
   "metadata": {},
   "outputs": [
    {
     "data": {
      "image/png": "[encoded data removed]",
      "text/plain": [
       "<Figure size 432x288 with 1 Axes>"
      ]
     },
     "metadata": {
      "needs_background": "light"
     },
     "output_type": "display_data"
    }
   ],
   "source": [
    "# Visualize the data\n",
    "plt.figure()\n",
    "plt.scatter(predictions,y_test)\n",
    "plt.grid(True)\n",
    "plt.title(\"title\")\n",
    "plt.xlabel(\"x-label\")\n",
    "plt.ylabel(\"y-label\")\n",
    "plt.show()"
   ]
  },
  {
   "cell_type": "code",
   "execution_count": null,
   "metadata": {},
   "outputs": [],
   "source": []
  }
 ],
 "metadata": {
  "kernelspec": {
   "display_name": "Python 3",
   "language": "python",
   "name": "python3"
  },
  "language_info": {
   "codemirror_mode": {
    "name": "ipython",
    "version": 3
   },
   "file_extension": ".py",
   "mimetype": "text/x-python",
   "name": "python",
   "nbconvert_exporter": "python",
   "pygments_lexer": "ipython3",
   "version": "3.7.7"
  }
 },
 "nbformat": 4,
 "nbformat_minor": 4
}
