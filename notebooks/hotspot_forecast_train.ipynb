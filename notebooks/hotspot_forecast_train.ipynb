{
 "cells": [
  {
   "cell_type": "code",
   "execution_count": 1,
   "metadata": {},
   "outputs": [
    {
     "name": "stderr",
     "output_type": "stream",
     "text": [
      "Using TensorFlow backend.\n"
     ]
    }
   ],
   "source": [
    "from datetime import datetime\n",
    "import numpy as np\n",
    "import pandas as pd\n",
    "from keras.models import Sequential\n",
    "from keras.layers import Input, GRU, Dense,Flatten,Dropout,Conv1D, MaxPooling1D\n",
    "from keras.callbacks import EarlyStopping\n",
    "from keras.losses import mean_squared_error\n",
    "import mlflow.tensorflow\n",
    "import matplotlib.pyplot as plt"
   ]
  },
  {
   "cell_type": "code",
   "execution_count": 2,
   "metadata": {},
   "outputs": [],
   "source": [
    "def create_sequences(dataset, timesteps=1, dropNa=True):\n",
    "    \"\"\"Converts time series into a data set for supervised machine learning models\"\"\"\n",
    "    # drop row's which include Nan elements (data preprocessing)\n",
    "    df = pd.DataFrame(dataset)\n",
    "    if dropNa:\n",
    "        df.dropna(inplace=True)\n",
    "    dataset = df.values\n",
    "    # create x and y out of dataset\n",
    "    dataX, dataY = [], []\n",
    "    for i in range(len(dataset)):\n",
    "        endIdx = i + timesteps\n",
    "        # stop if reached the end of dataset\n",
    "        if endIdx + 1 > len(dataset):\n",
    "            break\n",
    "        dataX.append(dataset[i:endIdx, :])\n",
    "        dataY.append(dataset[endIdx, :])\n",
    "    return np.array(dataX), np.array(dataY)"
   ]
  },
  {
   "cell_type": "code",
   "execution_count": 3,
   "metadata": {},
   "outputs": [],
   "source": [
    "def test_train(datasetsize, testsize, shuffle=True):\n",
    "    \"\"\"Returns two dataset to train and test machine learning models\"\"\"\n",
    "    if shuffle:\n",
    "        ntest = int(np.ceil(testsize * datasetsize))\n",
    "        idx = np.arange(0, datasetsize)\n",
    "        np.random.shuffle(idx)\n",
    "        train_index = idx[ntest:]\n",
    "        test_index = idx[:ntest]\n",
    "        return train_index, test_index\n",
    "    else:\n",
    "        #TODO: Check datasplitting use int(np.ceil(testsize * datasetsize))\n",
    "        ntest = int(np.ceil(testsize * datasetsize))\n",
    "        idx = np.arange(0, datasetsize)\n",
    "        test_index = idx[datasetsize - ntest:]\n",
    "        train_index = idx[:datasetsize - ntest]\n",
    "        return train_index, test_index"
   ]
  },
  {
   "cell_type": "code",
   "execution_count": 4,
   "metadata": {},
   "outputs": [],
   "source": [
    "def LSTM_model():\n",
    "    model = ks.Sequential()\n",
    "    model.add(ks.layers.LSTM(units=50, return_sequences=True, input_shape=(X_train.shape[1], 1)))\n",
    "    model.add(ks.layers.LSTM(units=50, return_sequences=False))\n",
    "    model.add(ks.layers.Dense(units=25))\n",
    "    model.add(ks.layers.Dense(units=1))\n",
    "    model.compile(optimizer='adam',\n",
    "              loss=mean_squared_error,\n",
    "              metrics=['accuracy'])\n",
    "    return model"
   ]
  },
  {
   "cell_type": "code",
   "execution_count": 293,
   "metadata": {},
   "outputs": [],
   "source": [
    "def build_model_cnn(n_steps,n_feats,n_fore=1):\n",
    "    model = Sequential()\n",
    "    model.add(Conv1D(filters=50, kernel_size=3, activation='relu',input_shape=(n_steps,n_feats)))\n",
    "    #model.add(Conv1D(filters=256, kernel_size=3, activation='relu'))\n",
    "    model.add(MaxPooling1D(2))\n",
    "    model.add(Flatten())\n",
    "    #model.add(Dropout(0.20))\n",
    "    #model.add(Dense(128, activation='relu'))\n",
    "    #model.add(Dense(32, activation='relu'))\n",
    "    model.add(Dense(n_fore, activation='linear'))\n",
    "    model.compile(optimizer='adam',\n",
    "                  loss=mean_squared_error,\n",
    "                  metrics=['mean_squared_error', 'mean_absolute_error', 'mean_absolute_percentage_error', 'cosine_proximity']\n",
    "                 )\n",
    "    return model"
   ]
  },
  {
   "cell_type": "code",
   "execution_count": 322,
   "metadata": {},
   "outputs": [],
   "source": [
    "# Create a test Sequence\n",
    "seq = pd.DataFrame([[1,101],[2,102],[3,103],[4,104],[5,105],[6,106],[7,107],[8,108],[9,109],[10,110]])\n",
    "n_steps = 5\n",
    "dropNan = False\n",
    "shuffle = True"
   ]
  },
  {
   "cell_type": "code",
   "execution_count": 323,
   "metadata": {},
   "outputs": [],
   "source": [
    "X_Data, y_Data = create_sequences(seq, n_steps, dropNan)"
   ]
  },
  {
   "cell_type": "code",
   "execution_count": 324,
   "metadata": {},
   "outputs": [
    {
     "name": "stdout",
     "output_type": "stream",
     "text": [
      "[4 0 1] [2 3]\n"
     ]
    }
   ],
   "source": [
    "train_index, test_index = test_train(len(X_Data), 0.33, shuffle)\n",
    "print(train_index,test_index)"
   ]
  },
  {
   "cell_type": "code",
   "execution_count": 325,
   "metadata": {},
   "outputs": [],
   "source": [
    "# rename the columns of y_Data\n",
    "X_train = X_Data[train_index]\n",
    "X_test = X_Data[test_index]\n",
    "y_train = y_Data[train_index]\n",
    "y_test = y_Data[test_index]"
   ]
  },
  {
   "cell_type": "code",
   "execution_count": 326,
   "metadata": {},
   "outputs": [
    {
     "name": "stdout",
     "output_type": "stream",
     "text": [
      "5 2 2\n"
     ]
    }
   ],
   "source": [
    "n_feats = X_train.shape[2]\n",
    "n_fore = seq.shape[1]\n",
    "print(n_steps,n_feats,n_fore)"
   ]
  },
  {
   "cell_type": "code",
   "execution_count": 327,
   "metadata": {},
   "outputs": [
    {
     "name": "stdout",
     "output_type": "stream",
     "text": [
      "Model: \"sequential_47\"\n",
      "_________________________________________________________________\n",
      "Layer (type)                 Output Shape              Param #   \n",
      "=================================================================\n",
      "conv1d_62 (Conv1D)           (None, 3, 50)             350       \n",
      "_________________________________________________________________\n",
      "max_pooling1d_45 (MaxPooling (None, 1, 50)             0         \n",
      "_________________________________________________________________\n",
      "flatten_46 (Flatten)         (None, 50)                0         \n",
      "_________________________________________________________________\n",
      "dense_94 (Dense)             (None, 2)                 102       \n",
      "=================================================================\n",
      "Total params: 452\n",
      "Trainable params: 452\n",
      "Non-trainable params: 0\n",
      "_________________________________________________________________\n",
      "Train on 3 samples, validate on 2 samples\n",
      "Epoch 1/100\n",
      "3/3 [==============================] - 0s 47ms/step - loss: 5337.0610 - mean_squared_error: 5337.0610 - val_loss: 5123.0171 - val_mean_squared_error: 5123.0171\n",
      "Epoch 2/100\n",
      "3/3 [==============================] - 0s 998us/step - loss: 5047.6260 - mean_squared_error: 5047.6260 - val_loss: 4840.3691 - val_mean_squared_error: 4840.3691\n",
      "Epoch 3/100\n",
      "3/3 [==============================] - 0s 1ms/step - loss: 4771.9434 - mean_squared_error: 4771.9434 - val_loss: 4596.3926 - val_mean_squared_error: 4596.3926\n",
      "Epoch 4/100\n",
      "3/3 [==============================] - 0s 1ms/step - loss: 4533.1860 - mean_squared_error: 4533.1860 - val_loss: 4336.1670 - val_mean_squared_error: 4336.1670\n",
      "Epoch 5/100\n",
      "3/3 [==============================] - 0s 2ms/step - loss: 4279.2109 - mean_squared_error: 4279.2109 - val_loss: 4084.4810 - val_mean_squared_error: 4084.4810\n",
      "Epoch 6/100\n",
      "3/3 [==============================] - 0s 998us/step - loss: 4035.5518 - mean_squared_error: 4035.5518 - val_loss: 3841.6938 - val_mean_squared_error: 3841.6938\n",
      "Epoch 7/100\n",
      "3/3 [==============================] - 0s 2ms/step - loss: 3801.7981 - mean_squared_error: 3801.7981 - val_loss: 3610.3120 - val_mean_squared_error: 3610.3120\n",
      "Epoch 8/100\n",
      "3/3 [==============================] - 0s 2ms/step - loss: 3575.9192 - mean_squared_error: 3575.9192 - val_loss: 3389.4585 - val_mean_squared_error: 3389.4585\n",
      "Epoch 9/100\n",
      "3/3 [==============================] - 0s 3ms/step - loss: 3357.8264 - mean_squared_error: 3357.8264 - val_loss: 3178.6406 - val_mean_squared_error: 3178.6406\n",
      "Epoch 10/100\n",
      "3/3 [==============================] - 0s 1ms/step - loss: 3150.4080 - mean_squared_error: 3150.4080 - val_loss: 2973.7312 - val_mean_squared_error: 2973.7312\n",
      "Epoch 11/100\n",
      "3/3 [==============================] - 0s 2ms/step - loss: 2949.2854 - mean_squared_error: 2949.2854 - val_loss: 2776.6138 - val_mean_squared_error: 2776.6138\n",
      "Epoch 12/100\n",
      "3/3 [==============================] - 0s 2ms/step - loss: 2755.6897 - mean_squared_error: 2755.6897 - val_loss: 2587.0449 - val_mean_squared_error: 2587.0449\n",
      "Epoch 13/100\n",
      "3/3 [==============================] - 0s 2ms/step - loss: 2569.3796 - mean_squared_error: 2569.3796 - val_loss: 2404.8555 - val_mean_squared_error: 2404.8555\n",
      "Epoch 14/100\n",
      "3/3 [==============================] - 0s 2ms/step - loss: 2390.1951 - mean_squared_error: 2390.1951 - val_loss: 2231.0054 - val_mean_squared_error: 2231.0054\n",
      "Epoch 15/100\n",
      "3/3 [==============================] - 0s 2ms/step - loss: 2219.0847 - mean_squared_error: 2219.0847 - val_loss: 2064.9646 - val_mean_squared_error: 2064.9646\n",
      "Epoch 16/100\n",
      "3/3 [==============================] - 0s 2ms/step - loss: 2055.5420 - mean_squared_error: 2055.5420 - val_loss: 1906.6328 - val_mean_squared_error: 1906.6328\n",
      "Epoch 17/100\n",
      "3/3 [==============================] - 0s 2ms/step - loss: 1899.4775 - mean_squared_error: 1899.4775 - val_loss: 1755.9521 - val_mean_squared_error: 1755.9521\n",
      "Epoch 18/100\n",
      "3/3 [==============================] - 0s 1ms/step - loss: 1750.8473 - mean_squared_error: 1750.8473 - val_loss: 1612.8578 - val_mean_squared_error: 1612.8578\n",
      "Epoch 19/100\n",
      "3/3 [==============================] - 0s 2ms/step - loss: 1609.6019 - mean_squared_error: 1609.6019 - val_loss: 1477.3053 - val_mean_squared_error: 1477.3053\n",
      "Epoch 20/100\n",
      "3/3 [==============================] - 0s 2ms/step - loss: 1475.7125 - mean_squared_error: 1475.7125 - val_loss: 1347.8923 - val_mean_squared_error: 1347.8923\n",
      "Epoch 21/100\n",
      "3/3 [==============================] - 0s 1ms/step - loss: 1347.8082 - mean_squared_error: 1347.8082 - val_loss: 1227.1801 - val_mean_squared_error: 1227.1801\n",
      "Epoch 22/100\n",
      "3/3 [==============================] - 0s 2ms/step - loss: 1228.4351 - mean_squared_error: 1228.4351 - val_loss: 1112.4164 - val_mean_squared_error: 1112.4164\n",
      "Epoch 23/100\n",
      "3/3 [==============================] - 0s 2ms/step - loss: 1114.8873 - mean_squared_error: 1114.8873 - val_loss: 1005.9757 - val_mean_squared_error: 1005.9757\n",
      "Epoch 24/100\n",
      "3/3 [==============================] - 0s 4ms/step - loss: 1009.5276 - mean_squared_error: 1009.5276 - val_loss: 905.1910 - val_mean_squared_error: 905.1910\n",
      "Epoch 25/100\n",
      "3/3 [==============================] - 0s 2ms/step - loss: 909.7280 - mean_squared_error: 909.7280 - val_loss: 812.2341 - val_mean_squared_error: 812.2341\n",
      "Epoch 26/100\n",
      "3/3 [==============================] - 0s 2ms/step - loss: 817.6501 - mean_squared_error: 817.6501 - val_loss: 724.8576 - val_mean_squared_error: 724.8576\n",
      "Epoch 27/100\n",
      "3/3 [==============================] - 0s 2ms/step - loss: 731.2414 - mean_squared_error: 731.2414 - val_loss: 644.6472 - val_mean_squared_error: 644.6472\n",
      "Epoch 28/100\n",
      "3/3 [==============================] - 0s 2ms/step - loss: 651.2159 - mean_squared_error: 651.2159 - val_loss: 571.5364 - val_mean_squared_error: 571.5364\n",
      "Epoch 29/100\n",
      "3/3 [==============================] - 0s 1ms/step - loss: 578.5579 - mean_squared_error: 578.5579 - val_loss: 504.1552 - val_mean_squared_error: 504.1552\n",
      "Epoch 30/100\n",
      "3/3 [==============================] - 0s 2ms/step - loss: 511.7854 - mean_squared_error: 511.7854 - val_loss: 441.5717 - val_mean_squared_error: 441.5717\n",
      "Epoch 31/100\n",
      "3/3 [==============================] - 0s 1ms/step - loss: 449.7315 - mean_squared_error: 449.7315 - val_loss: 385.0774 - val_mean_squared_error: 385.0774\n",
      "Epoch 32/100\n",
      "3/3 [==============================] - 0s 2ms/step - loss: 393.6705 - mean_squared_error: 393.6705 - val_loss: 333.7172 - val_mean_squared_error: 333.7172\n",
      "Epoch 33/100\n",
      "3/3 [==============================] - 0s 2ms/step - loss: 342.6478 - mean_squared_error: 342.6478 - val_loss: 287.2634 - val_mean_squared_error: 287.2634\n",
      "Epoch 34/100\n",
      "3/3 [==============================] - 0s 2ms/step - loss: 296.4312 - mean_squared_error: 296.4312 - val_loss: 245.4740 - val_mean_squared_error: 245.4740\n",
      "Epoch 35/100\n",
      "3/3 [==============================] - 0s 2ms/step - loss: 254.7744 - mean_squared_error: 254.7744 - val_loss: 208.0962 - val_mean_squared_error: 208.0962\n",
      "Epoch 36/100\n",
      "3/3 [==============================] - 0s 2ms/step - loss: 217.4226 - mean_squared_error: 217.4226 - val_loss: 174.8696 - val_mean_squared_error: 174.8696\n",
      "Epoch 37/100\n",
      "3/3 [==============================] - 0s 2ms/step - loss: 184.1110 - mean_squared_error: 184.1110 - val_loss: 145.5340 - val_mean_squared_error: 145.5340\n",
      "Epoch 38/100\n",
      "3/3 [==============================] - 0s 2ms/step - loss: 154.5831 - mean_squared_error: 154.5831 - val_loss: 119.8291 - val_mean_squared_error: 119.8291\n",
      "Epoch 39/100\n",
      "3/3 [==============================] - 0s 2ms/step - loss: 128.5750 - mean_squared_error: 128.5750 - val_loss: 97.4792 - val_mean_squared_error: 97.4792\n",
      "Epoch 40/100\n",
      "3/3 [==============================] - 0s 2ms/step - loss: 105.8348 - mean_squared_error: 105.8348 - val_loss: 78.0473 - val_mean_squared_error: 78.0473\n",
      "Epoch 41/100\n",
      "3/3 [==============================] - 0s 3ms/step - loss: 85.9175 - mean_squared_error: 85.9175 - val_loss: 61.6700 - val_mean_squared_error: 61.6700\n",
      "Epoch 42/100\n",
      "3/3 [==============================] - 0s 2ms/step - loss: 69.0037 - mean_squared_error: 69.0037 - val_loss: 47.8691 - val_mean_squared_error: 47.8691\n",
      "Epoch 43/100\n",
      "3/3 [==============================] - 0s 1ms/step - loss: 54.6432 - mean_squared_error: 54.6432 - val_loss: 36.3952 - val_mean_squared_error: 36.3952\n",
      "Epoch 44/100\n",
      "3/3 [==============================] - 0s 2ms/step - loss: 42.6083 - mean_squared_error: 42.6083 - val_loss: 27.0031 - val_mean_squared_error: 27.0031\n",
      "Epoch 45/100\n",
      "3/3 [==============================] - 0s 1ms/step - loss: 32.6490 - mean_squared_error: 32.6490 - val_loss: 19.4534 - val_mean_squared_error: 19.4534\n",
      "Epoch 46/100\n",
      "3/3 [==============================] - 0s 2ms/step - loss: 24.5632 - mean_squared_error: 24.5632 - val_loss: 13.5165 - val_mean_squared_error: 13.5165\n",
      "Epoch 47/100\n",
      "3/3 [==============================] - 0s 5ms/step - loss: 18.1094 - mean_squared_error: 18.1094 - val_loss: 8.9779 - val_mean_squared_error: 8.9779\n",
      "Epoch 48/100\n",
      "3/3 [==============================] - 0s 3ms/step - loss: 13.0560 - mean_squared_error: 13.0560 - val_loss: 5.6416 - val_mean_squared_error: 5.6416\n",
      "Epoch 49/100\n",
      "3/3 [==============================] - 0s 2ms/step - loss: 9.2119 - mean_squared_error: 9.2119 - val_loss: 3.2981 - val_mean_squared_error: 3.2981\n",
      "Epoch 50/100\n",
      "3/3 [==============================] - 0s 1ms/step - loss: 6.3972 - mean_squared_error: 6.3972 - val_loss: 1.7860 - val_mean_squared_error: 1.7860\n",
      "Epoch 51/100\n",
      "3/3 [==============================] - 0s 2ms/step - loss: 4.4309 - mean_squared_error: 4.4309 - val_loss: 0.9644 - val_mean_squared_error: 0.9644\n",
      "Epoch 52/100\n",
      "3/3 [==============================] - 0s 7ms/step - loss: 3.1839 - mean_squared_error: 3.1839 - val_loss: 0.6742 - val_mean_squared_error: 0.6742\n",
      "Epoch 53/100\n",
      "3/3 [==============================] - 0s 2ms/step - loss: 2.5233 - mean_squared_error: 2.5233 - val_loss: 0.8093 - val_mean_squared_error: 0.8093\n",
      "Epoch 54/100\n",
      "3/3 [==============================] - 0s 3ms/step - loss: 2.3286 - mean_squared_error: 2.3286 - val_loss: 1.2717 - val_mean_squared_error: 1.2717\n",
      "Epoch 55/100\n",
      "3/3 [==============================] - 0s 2ms/step - loss: 2.4911 - mean_squared_error: 2.4911 - val_loss: 1.9631 - val_mean_squared_error: 1.9631\n",
      "Epoch 56/100\n",
      "3/3 [==============================] - 0s 3ms/step - loss: 2.9144 - mean_squared_error: 2.9144 - val_loss: 2.8075 - val_mean_squared_error: 2.8075\n",
      "Epoch 57/100\n",
      "3/3 [==============================] - 0s 7ms/step - loss: 3.5121 - mean_squared_error: 3.5121 - val_loss: 3.7377 - val_mean_squared_error: 3.7377\n",
      "Epoch 58/100\n",
      "3/3 [==============================] - 0s 3ms/step - loss: 4.2123 - mean_squared_error: 4.2123 - val_loss: 4.6962 - val_mean_squared_error: 4.6962\n",
      "Epoch 59/100\n",
      "3/3 [==============================] - 0s 2ms/step - loss: 4.9569 - mean_squared_error: 4.9569 - val_loss: 5.6431 - val_mean_squared_error: 5.6431\n",
      "Epoch 60/100\n",
      "3/3 [==============================] - 0s 2ms/step - loss: 5.7047 - mean_squared_error: 5.7047 - val_loss: 6.5261 - val_mean_squared_error: 6.5261\n",
      "Epoch 61/100\n",
      "3/3 [==============================] - 0s 3ms/step - loss: 6.4075 - mean_squared_error: 6.4075 - val_loss: 7.3298 - val_mean_squared_error: 7.3298\n",
      "Epoch 62/100\n",
      "3/3 [==============================] - 0s 2ms/step - loss: 7.0494 - mean_squared_error: 7.0494 - val_loss: 8.0251 - val_mean_squared_error: 8.0251\n"
     ]
    }
   ],
   "source": [
    "model = build_model_cnn(n_steps,n_feats,n_fore)\n",
    "model.summary()\n",
    "\n",
    "history = model.fit(\n",
    "    X_train,\n",
    "    y_train,\n",
    "    batch_size=10,\n",
    "    epochs=100,\n",
    "    validation_data=(X_test, y_test),\n",
    "    callbacks=[\n",
    "        EarlyStopping(patience=10),\n",
    "    ],\n",
    ")"
   ]
  },
  {
   "cell_type": "code",
   "execution_count": 328,
   "metadata": {},
   "outputs": [
    {
     "data": {
      "image/png": "[encoded data removed]",
      "text/plain": [
       "<Figure size 432x288 with 1 Axes>"
      ]
     },
     "metadata": {
      "needs_background": "light"
     },
     "output_type": "display_data"
    },
    {
     "ename": "KeyError",
     "evalue": "'mean_absolute_error'",
     "output_type": "error",
     "traceback": [
      "\u001b[1;31m---------------------------------------------------------------------------\u001b[0m",
      "\u001b[1;31mKeyError\u001b[0m                                  Traceback (most recent call last)",
      "\u001b[1;32m<ipython-input-328-5d83a2b42939>\u001b[0m in \u001b[0;36m<module>\u001b[1;34m\u001b[0m\n\u001b[0;32m     10\u001b[0m \u001b[1;33m\u001b[0m\u001b[0m\n\u001b[0;32m     11\u001b[0m \u001b[0mplt\u001b[0m\u001b[1;33m.\u001b[0m\u001b[0mfigure\u001b[0m\u001b[1;33m(\u001b[0m\u001b[1;33m)\u001b[0m\u001b[1;33m\u001b[0m\u001b[1;33m\u001b[0m\u001b[0m\n\u001b[1;32m---> 12\u001b[1;33m \u001b[0mplt\u001b[0m\u001b[1;33m.\u001b[0m\u001b[0mplot\u001b[0m\u001b[1;33m(\u001b[0m\u001b[0mhistory\u001b[0m\u001b[1;33m.\u001b[0m\u001b[0mhistory\u001b[0m\u001b[1;33m[\u001b[0m\u001b[1;34m'mean_absolute_error'\u001b[0m\u001b[1;33m]\u001b[0m\u001b[1;33m)\u001b[0m\u001b[1;33m\u001b[0m\u001b[1;33m\u001b[0m\u001b[0m\n\u001b[0m\u001b[0;32m     13\u001b[0m \u001b[0mplt\u001b[0m\u001b[1;33m.\u001b[0m\u001b[0mplot\u001b[0m\u001b[1;33m(\u001b[0m\u001b[0mhistory\u001b[0m\u001b[1;33m.\u001b[0m\u001b[0mhistory\u001b[0m\u001b[1;33m[\u001b[0m\u001b[1;34m'val_mean_absolute_error'\u001b[0m\u001b[1;33m]\u001b[0m\u001b[1;33m)\u001b[0m\u001b[1;33m\u001b[0m\u001b[1;33m\u001b[0m\u001b[0m\n\u001b[0;32m     14\u001b[0m \u001b[0mplt\u001b[0m\u001b[1;33m.\u001b[0m\u001b[0mtitle\u001b[0m\u001b[1;33m(\u001b[0m\u001b[1;34m'model mae'\u001b[0m\u001b[1;33m)\u001b[0m\u001b[1;33m\u001b[0m\u001b[1;33m\u001b[0m\u001b[0m\n",
      "\u001b[1;31mKeyError\u001b[0m: 'mean_absolute_error'"
     ]
    },
    {
     "data": {
      "text/plain": [
       "<Figure size 432x288 with 0 Axes>"
      ]
     },
     "metadata": {},
     "output_type": "display_data"
    }
   ],
   "source": [
    "# summarize history for accuracy\n",
    "plt.figure()\n",
    "plt.plot(history.history['mean_squared_error'])\n",
    "plt.plot(history.history['val_mean_squared_error'])\n",
    "plt.title('model mse')\n",
    "plt.ylabel('mean suqared error')\n",
    "plt.xlabel('epoch')\n",
    "plt.legend(['train', 'test'], loc='upper left')\n",
    "plt.show()\n",
    "\n",
    "plt.figure()\n",
    "plt.plot(history.history['mean_absolute_error'])\n",
    "plt.plot(history.history['val_mean_absolute_error'])\n",
    "plt.title('model mae')\n",
    "plt.ylabel('mean absolute error')\n",
    "plt.xlabel('epoch')\n",
    "plt.legend(['train', 'test'], loc='upper left')\n",
    "plt.show()\n",
    "\n",
    "plt.figure()\n",
    "plt.plot(history.history['mean_absolute_percentage_error'])\n",
    "plt.plot(history.history['val_mean_absolute_percentage_error'])\n",
    "plt.title('model mean absolute percentage error')\n",
    "plt.ylabel('mean absolute percentage error')\n",
    "plt.xlabel('epoch')\n",
    "plt.legend(['train', 'test'], loc='upper left')\n",
    "plt.show()\n",
    "\n",
    "plt.figure()\n",
    "plt.plot(history.history['cosine_proximity'])\n",
    "plt.plot(history.history['val_cosine_proximity'])\n",
    "plt.title('model cosine proximity')\n",
    "plt.ylabel('cosine proximity')\n",
    "plt.xlabel('epoch')\n",
    "plt.legend(['train', 'test'], loc='upper left')\n",
    "plt.show()"
   ]
  },
  {
   "cell_type": "code",
   "execution_count": 259,
   "metadata": {},
   "outputs": [
    {
     "name": "stdout",
     "output_type": "stream",
     "text": [
      "[  6 106]\n"
     ]
    },
    {
     "data": {
      "text/plain": [
       "array([[  7.1593447, 106.127174 ]], dtype=float32)"
      ]
     },
     "execution_count": 259,
     "metadata": {},
     "output_type": "execute_result"
    }
   ],
   "source": [
    "print(y_train[0])\n",
    "model.predict(np.reshape(X_train[0], (1,X_train[0].shape[0], X_train[0].shape[1])))"
   ]
  },
  {
   "cell_type": "code",
   "execution_count": 316,
   "metadata": {},
   "outputs": [
    {
     "name": "stdout",
     "output_type": "stream",
     "text": [
      "[[  7.391366  111.137596 ]\n",
      " [  7.6271095 113.205894 ]]\n"
     ]
    }
   ],
   "source": [
    "predictions = model.predict(X_test)\n",
    "print(predictions)"
   ]
  },
  {
   "cell_type": "code",
   "execution_count": 317,
   "metadata": {},
   "outputs": [
    {
     "data": {
      "image/png": "[encoded data removed]",
      "text/plain": [
       "<Figure size 432x288 with 1 Axes>"
      ]
     },
     "metadata": {
      "needs_background": "light"
     },
     "output_type": "display_data"
    }
   ],
   "source": [
    "# Visualize the data\n",
    "plt.figure()\n",
    "plt.scatter(predictions,y_test)\n",
    "plt.grid(True)\n",
    "plt.title(\"title\")\n",
    "plt.xlabel(\"x-label\")\n",
    "plt.ylabel(\"y-label\")\n",
    "plt.show()"
   ]
  },
  {
   "cell_type": "code",
   "execution_count": 414,
   "metadata": {},
   "outputs": [],
   "source": [
    "def build_model_cnn(n_steps,n_feats,n_fore=1):\n",
    "    model = Sequential()\n",
    "    model.add(Conv1D(filters=50, kernel_size=3, activation='relu',input_shape=(n_steps,n_feats)))\n",
    "    #model.add(Conv1D(filters=256, kernel_size=3, activation='relu'))\n",
    "    model.add(MaxPooling1D(2))\n",
    "    model.add(Flatten())\n",
    "    #model.add(Dropout(0.20))\n",
    "    #model.add(Dense(128, activation='relu'))\n",
    "    #model.add(Dense(32, activation='relu'))\n",
    "    model.add(Dense(n_fore, activation='linear'))\n",
    "    model.compile(optimizer='adam',\n",
    "                  loss=mean_squared_error,\n",
    "                  metrics=['mean_squared_error', 'mean_absolute_error', 'mean_absolute_percentage_error', 'cosine_proximity']\n",
    "                 )\n",
    "    return model"
   ]
  },
  {
   "cell_type": "code",
   "execution_count": 415,
   "metadata": {},
   "outputs": [],
   "source": [
    "dataset = pd.read_csv('../data/Forecast Data/dataset.csv')\n",
    "dataset['DATE'] = [datetime.strptime(date, '%Y-%m-%d') for date in dataset['DATE']]\n",
    "dataset = dataset.set_index('DATE')\n",
    "dataset = dataset[:-3]"
   ]
  },
  {
   "cell_type": "code",
   "execution_count": 416,
   "metadata": {},
   "outputs": [
    {
     "data": {
      "text/plain": [
       "Alte Pinakothek                             0\n",
       "Ausland (Tourismus)                         0\n",
       "Olympiapark                                 0\n",
       "Bayerisches Nationalmuseum                  0\n",
       "Bayerisches Staatsorchester                 0\n",
       "Deutsches Museum                            0\n",
       "Inland (Tourismus)                          0\n",
       "Kleine Olympiahalle                         0\n",
       "Museum Brandhorst                           0\n",
       "Museum Mensch und Natur                     0\n",
       "Muenchner Kammerspiele                      0\n",
       "Muenchner Philharmoniker                    0\n",
       "Muenchner Stadtmuseum                       0\n",
       "Nationaltheater                             0\n",
       "Neue Pinakothek                             0\n",
       "Olympia-Eissportzentrum                     0\n",
       "Olympiahalle                                0\n",
       "Olympiastadion                              0\n",
       "Olympiaturm                                 0\n",
       "Pinakothek der Moderne                      0\n",
       "Prinzregententheater                        0\n",
       "Residenztheater                             0\n",
       "Schackgalerie                               0\n",
       "Schauburg - Theater fuer junges Publikum    0\n",
       "Staedtische Galerie im Lenbachhaus          0\n",
       "Theater am Gaertnerplatz                    0\n",
       "Tierpark Hellabrunn                         0\n",
       "Kinos                                       0\n",
       "dtype: int64"
      ]
     },
     "execution_count": 416,
     "metadata": {},
     "output_type": "execute_result"
    }
   ],
   "source": [
    "dataset.isnull().sum()\n",
    "#TODO: Add COVID numbers\n",
    "#TODO: Remove NaN values (April)"
   ]
  },
  {
   "cell_type": "code",
   "execution_count": 417,
   "metadata": {},
   "outputs": [],
   "source": [
    "n_steps = 5\n",
    "dropNan = False\n",
    "shuffle = True"
   ]
  },
  {
   "cell_type": "code",
   "execution_count": 418,
   "metadata": {},
   "outputs": [],
   "source": [
    "X_Data, y_Data = create_sequences(dataset, n_steps, dropNan)"
   ]
  },
  {
   "cell_type": "code",
   "execution_count": 419,
   "metadata": {},
   "outputs": [],
   "source": [
    "train_index, test_index = test_train(len(X_Data), 0.33, shuffle)"
   ]
  },
  {
   "cell_type": "code",
   "execution_count": 420,
   "metadata": {},
   "outputs": [],
   "source": [
    "# rename the columns of y_Data\n",
    "X_train = X_Data[train_index]\n",
    "X_test = X_Data[test_index]\n",
    "y_train = y_Data[train_index]\n",
    "y_test = y_Data[test_index]"
   ]
  },
  {
   "cell_type": "code",
   "execution_count": 421,
   "metadata": {},
   "outputs": [
    {
     "name": "stdout",
     "output_type": "stream",
     "text": [
      "5 28 28\n"
     ]
    }
   ],
   "source": [
    "n_feats = X_train.shape[2]\n",
    "n_fore = dataset.shape[1]\n",
    "print(n_steps,n_feats,n_fore)"
   ]
  },
  {
   "cell_type": "code",
   "execution_count": 427,
   "metadata": {},
   "outputs": [
    {
     "name": "stdout",
     "output_type": "stream",
     "text": [
      "Model: \"sequential_56\"\n",
      "_________________________________________________________________\n",
      "Layer (type)                 Output Shape              Param #   \n",
      "=================================================================\n",
      "conv1d_71 (Conv1D)           (None, 3, 50)             4250      \n",
      "_________________________________________________________________\n",
      "max_pooling1d_54 (MaxPooling (None, 1, 50)             0         \n",
      "_________________________________________________________________\n",
      "flatten_55 (Flatten)         (None, 50)                0         \n",
      "_________________________________________________________________\n",
      "dense_103 (Dense)            (None, 28)                1428      \n",
      "=================================================================\n",
      "Total params: 5,678\n",
      "Trainable params: 5,678\n",
      "Non-trainable params: 0\n",
      "_________________________________________________________________\n",
      "Train on 159 samples, validate on 79 samples\n",
      "Epoch 1/100\n",
      "159/159 [==============================] - 0s 2ms/step - loss: 0.0078 - mean_squared_error: 0.0078 - mean_absolute_error: 0.0543 - mean_absolute_percentage_error: 2209543.7500 - cosine_proximity: 0.3901 - val_loss: 0.0067 - val_mean_squared_error: 0.0067 - val_mean_absolute_error: 0.0482 - val_mean_absolute_percentage_error: 1880287.0000 - val_cosine_proximity: 0.5312\n",
      "Epoch 2/100\n",
      "159/159 [==============================] - 0s 113us/step - loss: 0.0057 - mean_squared_error: 0.0057 - mean_absolute_error: 0.0441 - mean_absolute_percentage_error: 1803963.6250 - cosine_proximity: 0.6136 - val_loss: 0.0048 - val_mean_squared_error: 0.0048 - val_mean_absolute_error: 0.0398 - val_mean_absolute_percentage_error: 1857548.0000 - val_cosine_proximity: 0.7204\n",
      "Epoch 3/100\n",
      "159/159 [==============================] - 0s 125us/step - loss: 0.0041 - mean_squared_error: 0.0041 - mean_absolute_error: 0.0372 - mean_absolute_percentage_error: 2040878.1250 - cosine_proximity: 0.7630 - val_loss: 0.0034 - val_mean_squared_error: 0.0034 - val_mean_absolute_error: 0.0337 - val_mean_absolute_percentage_error: 1884104.7500 - val_cosine_proximity: 0.8303\n",
      "Epoch 4/100\n",
      "159/159 [==============================] - 0s 132us/step - loss: 0.0028 - mean_squared_error: 0.0028 - mean_absolute_error: 0.0318 - mean_absolute_percentage_error: 2150627.5000 - cosine_proximity: 0.8488 - val_loss: 0.0023 - val_mean_squared_error: 0.0023 - val_mean_absolute_error: 0.0287 - val_mean_absolute_percentage_error: 1984327.7500 - val_cosine_proximity: 0.8891\n",
      "Epoch 5/100\n",
      "159/159 [==============================] - 0s 157us/step - loss: 0.0019 - mean_squared_error: 0.0019 - mean_absolute_error: 0.0270 - mean_absolute_percentage_error: 2349178.0000 - cosine_proximity: 0.8960 - val_loss: 0.0015 - val_mean_squared_error: 0.0015 - val_mean_absolute_error: 0.0239 - val_mean_absolute_percentage_error: 2078909.7500 - val_cosine_proximity: 0.9240\n",
      "Epoch 6/100\n",
      "159/159 [==============================] - 0s 132us/step - loss: 0.0013 - mean_squared_error: 0.0013 - mean_absolute_error: 0.0225 - mean_absolute_percentage_error: 2417449.0000 - cosine_proximity: 0.9253 - val_loss: 0.0010 - val_mean_squared_error: 0.0010 - val_mean_absolute_error: 0.0199 - val_mean_absolute_percentage_error: 1995689.3750 - val_cosine_proximity: 0.9451\n",
      "Epoch 7/100\n",
      "159/159 [==============================] - 0s 157us/step - loss: 9.1195e-04 - mean_squared_error: 9.1195e-04 - mean_absolute_error: 0.0190 - mean_absolute_percentage_error: 2289327.7500 - cosine_proximity: 0.9427 - val_loss: 7.2863e-04 - val_mean_squared_error: 7.2863e-04 - val_mean_absolute_error: 0.0172 - val_mean_absolute_percentage_error: 1849192.1250 - val_cosine_proximity: 0.9560\n",
      "Epoch 8/100\n",
      "159/159 [==============================] - 0s 144us/step - loss: 7.2456e-04 - mean_squared_error: 7.2456e-04 - mean_absolute_error: 0.0168 - mean_absolute_percentage_error: 2109134.7500 - cosine_proximity: 0.9520 - val_loss: 6.2067e-04 - val_mean_squared_error: 6.2067e-04 - val_mean_absolute_error: 0.0160 - val_mean_absolute_percentage_error: 1739161.3750 - val_cosine_proximity: 0.9609\n",
      "Epoch 9/100\n",
      "159/159 [==============================] - 0s 138us/step - loss: 6.4870e-04 - mean_squared_error: 6.4870e-04 - mean_absolute_error: 0.0156 - mean_absolute_percentage_error: 1869643.8750 - cosine_proximity: 0.9569 - val_loss: 5.7959e-04 - val_mean_squared_error: 5.7959e-04 - val_mean_absolute_error: 0.0153 - val_mean_absolute_percentage_error: 1451281.1250 - val_cosine_proximity: 0.9636\n",
      "Epoch 10/100\n",
      "159/159 [==============================] - 0s 132us/step - loss: 6.0682e-04 - mean_squared_error: 6.0682e-04 - mean_absolute_error: 0.0147 - mean_absolute_percentage_error: 1548436.8750 - cosine_proximity: 0.9603 - val_loss: 5.4165e-04 - val_mean_squared_error: 5.4165e-04 - val_mean_absolute_error: 0.0143 - val_mean_absolute_percentage_error: 1164952.6250 - val_cosine_proximity: 0.9663\n",
      "Epoch 11/100\n",
      "159/159 [==============================] - 0s 113us/step - loss: 5.5367e-04 - mean_squared_error: 5.5367e-04 - mean_absolute_error: 0.0135 - mean_absolute_percentage_error: 1291218.8750 - cosine_proximity: 0.9637 - val_loss: 5.0411e-04 - val_mean_squared_error: 5.0411e-04 - val_mean_absolute_error: 0.0133 - val_mean_absolute_percentage_error: 1013214.5625 - val_cosine_proximity: 0.9686\n",
      "Epoch 12/100\n",
      "159/159 [==============================] - 0s 144us/step - loss: 5.0374e-04 - mean_squared_error: 5.0374e-04 - mean_absolute_error: 0.0126 - mean_absolute_percentage_error: 1181973.3750 - cosine_proximity: 0.9667 - val_loss: 4.7342e-04 - val_mean_squared_error: 4.7342e-04 - val_mean_absolute_error: 0.0125 - val_mean_absolute_percentage_error: 887348.9375 - val_cosine_proximity: 0.9705\n",
      "Epoch 13/100\n",
      "159/159 [==============================] - 0s 138us/step - loss: 4.6084e-04 - mean_squared_error: 4.6084e-04 - mean_absolute_error: 0.0118 - mean_absolute_percentage_error: 1072776.5000 - cosine_proximity: 0.9691 - val_loss: 4.5191e-04 - val_mean_squared_error: 4.5191e-04 - val_mean_absolute_error: 0.0120 - val_mean_absolute_percentage_error: 797238.1875 - val_cosine_proximity: 0.9721\n",
      "Epoch 14/100\n",
      "159/159 [==============================] - 0s 207us/step - loss: 4.2658e-04 - mean_squared_error: 4.2658e-04 - mean_absolute_error: 0.0112 - mean_absolute_percentage_error: 991482.0625 - cosine_proximity: 0.9714 - val_loss: 4.4091e-04 - val_mean_squared_error: 4.4091e-04 - val_mean_absolute_error: 0.0117 - val_mean_absolute_percentage_error: 765424.3750 - val_cosine_proximity: 0.9731\n",
      "Epoch 15/100\n",
      "159/159 [==============================] - 0s 119us/step - loss: 4.0891e-04 - mean_squared_error: 4.0891e-04 - mean_absolute_error: 0.0109 - mean_absolute_percentage_error: 970155.1875 - cosine_proximity: 0.9727 - val_loss: 4.3744e-04 - val_mean_squared_error: 4.3744e-04 - val_mean_absolute_error: 0.0114 - val_mean_absolute_percentage_error: 719978.0625 - val_cosine_proximity: 0.9736\n",
      "Epoch 16/100\n",
      "159/159 [==============================] - 0s 151us/step - loss: 3.9731e-04 - mean_squared_error: 3.9731e-04 - mean_absolute_error: 0.0106 - mean_absolute_percentage_error: 926895.3125 - cosine_proximity: 0.9737 - val_loss: 4.3744e-04 - val_mean_squared_error: 4.3744e-04 - val_mean_absolute_error: 0.0113 - val_mean_absolute_percentage_error: 724019.9375 - val_cosine_proximity: 0.9738\n",
      "Epoch 17/100\n",
      "159/159 [==============================] - 0s 163us/step - loss: 3.8703e-04 - mean_squared_error: 3.8703e-04 - mean_absolute_error: 0.0103 - mean_absolute_percentage_error: 904863.1250 - cosine_proximity: 0.9744 - val_loss: 4.3257e-04 - val_mean_squared_error: 4.3257e-04 - val_mean_absolute_error: 0.0110 - val_mean_absolute_percentage_error: 729063.6875 - val_cosine_proximity: 0.9740\n",
      "Epoch 18/100\n",
      "159/159 [==============================] - 0s 157us/step - loss: 3.7871e-04 - mean_squared_error: 3.7871e-04 - mean_absolute_error: 0.0101 - mean_absolute_percentage_error: 904133.1250 - cosine_proximity: 0.9749 - val_loss: 4.2853e-04 - val_mean_squared_error: 4.2853e-04 - val_mean_absolute_error: 0.0109 - val_mean_absolute_percentage_error: 746612.0000 - val_cosine_proximity: 0.9743\n",
      "Epoch 19/100\n",
      "159/159 [==============================] - 0s 188us/step - loss: 3.7351e-04 - mean_squared_error: 3.7351e-04 - mean_absolute_error: 0.0100 - mean_absolute_percentage_error: 901293.5625 - cosine_proximity: 0.9752 - val_loss: 4.2249e-04 - val_mean_squared_error: 4.2249e-04 - val_mean_absolute_error: 0.0107 - val_mean_absolute_percentage_error: 711514.3125 - val_cosine_proximity: 0.9746\n",
      "Epoch 20/100\n",
      "159/159 [==============================] - 0s 169us/step - loss: 3.6746e-04 - mean_squared_error: 3.6746e-04 - mean_absolute_error: 0.0097 - mean_absolute_percentage_error: 843811.6250 - cosine_proximity: 0.9756 - val_loss: 4.1846e-04 - val_mean_squared_error: 4.1846e-04 - val_mean_absolute_error: 0.0105 - val_mean_absolute_percentage_error: 699461.5625 - val_cosine_proximity: 0.9749\n",
      "Epoch 21/100\n",
      "159/159 [==============================] - 0s 182us/step - loss: 3.6163e-04 - mean_squared_error: 3.6163e-04 - mean_absolute_error: 0.0097 - mean_absolute_percentage_error: 859613.3750 - cosine_proximity: 0.9759 - val_loss: 4.1767e-04 - val_mean_squared_error: 4.1767e-04 - val_mean_absolute_error: 0.0106 - val_mean_absolute_percentage_error: 757500.3125 - val_cosine_proximity: 0.9750\n",
      "Epoch 22/100\n",
      "159/159 [==============================] - 0s 176us/step - loss: 3.5780e-04 - mean_squared_error: 3.5780e-04 - mean_absolute_error: 0.0098 - mean_absolute_percentage_error: 866729.3750 - cosine_proximity: 0.9762 - val_loss: 4.1426e-04 - val_mean_squared_error: 4.1426e-04 - val_mean_absolute_error: 0.0106 - val_mean_absolute_percentage_error: 679891.0625 - val_cosine_proximity: 0.9752\n",
      "Epoch 23/100\n",
      "159/159 [==============================] - 0s 207us/step - loss: 3.5217e-04 - mean_squared_error: 3.5217e-04 - mean_absolute_error: 0.0096 - mean_absolute_percentage_error: 810422.5000 - cosine_proximity: 0.9765 - val_loss: 4.0794e-04 - val_mean_squared_error: 4.0794e-04 - val_mean_absolute_error: 0.0104 - val_mean_absolute_percentage_error: 655651.0625 - val_cosine_proximity: 0.9756\n",
      "Epoch 24/100\n",
      "159/159 [==============================] - 0s 182us/step - loss: 3.4702e-04 - mean_squared_error: 3.4702e-04 - mean_absolute_error: 0.0094 - mean_absolute_percentage_error: 802560.5000 - cosine_proximity: 0.9768 - val_loss: 4.0524e-04 - val_mean_squared_error: 4.0524e-04 - val_mean_absolute_error: 0.0103 - val_mean_absolute_percentage_error: 683504.3125 - val_cosine_proximity: 0.9758\n",
      "Epoch 25/100\n",
      "159/159 [==============================] - 0s 144us/step - loss: 3.4210e-04 - mean_squared_error: 3.4210e-04 - mean_absolute_error: 0.0094 - mean_absolute_percentage_error: 809150.3125 - cosine_proximity: 0.9771 - val_loss: 4.0353e-04 - val_mean_squared_error: 4.0353e-04 - val_mean_absolute_error: 0.0103 - val_mean_absolute_percentage_error: 675103.0625 - val_cosine_proximity: 0.9760\n",
      "Epoch 26/100\n",
      "159/159 [==============================] - 0s 138us/step - loss: 3.3950e-04 - mean_squared_error: 3.3950e-04 - mean_absolute_error: 0.0094 - mean_absolute_percentage_error: 794818.8125 - cosine_proximity: 0.9773 - val_loss: 4.0047e-04 - val_mean_squared_error: 4.0047e-04 - val_mean_absolute_error: 0.0102 - val_mean_absolute_percentage_error: 654451.3750 - val_cosine_proximity: 0.9762\n",
      "Epoch 27/100\n",
      "159/159 [==============================] - 0s 163us/step - loss: 3.3474e-04 - mean_squared_error: 3.3474e-04 - mean_absolute_error: 0.0092 - mean_absolute_percentage_error: 784842.0625 - cosine_proximity: 0.9776 - val_loss: 3.9817e-04 - val_mean_squared_error: 3.9817e-04 - val_mean_absolute_error: 0.0101 - val_mean_absolute_percentage_error: 645673.5000 - val_cosine_proximity: 0.9763\n",
      "Epoch 28/100\n",
      "159/159 [==============================] - 0s 163us/step - loss: 3.3176e-04 - mean_squared_error: 3.3176e-04 - mean_absolute_error: 0.0091 - mean_absolute_percentage_error: 761380.2500 - cosine_proximity: 0.9777 - val_loss: 3.9422e-04 - val_mean_squared_error: 3.9422e-04 - val_mean_absolute_error: 0.0100 - val_mean_absolute_percentage_error: 635060.9375 - val_cosine_proximity: 0.9766\n",
      "Epoch 29/100\n",
      "159/159 [==============================] - 0s 157us/step - loss: 3.2807e-04 - mean_squared_error: 3.2807e-04 - mean_absolute_error: 0.0091 - mean_absolute_percentage_error: 764224.0625 - cosine_proximity: 0.9780 - val_loss: 3.9350e-04 - val_mean_squared_error: 3.9350e-04 - val_mean_absolute_error: 0.0101 - val_mean_absolute_percentage_error: 653049.1250 - val_cosine_proximity: 0.9767\n",
      "Epoch 30/100\n",
      "159/159 [==============================] - 0s 163us/step - loss: 3.2414e-04 - mean_squared_error: 3.2414e-04 - mean_absolute_error: 0.0091 - mean_absolute_percentage_error: 760819.6875 - cosine_proximity: 0.9782 - val_loss: 3.9011e-04 - val_mean_squared_error: 3.9011e-04 - val_mean_absolute_error: 0.0100 - val_mean_absolute_percentage_error: 633455.3125 - val_cosine_proximity: 0.9769\n",
      "Epoch 31/100\n",
      "159/159 [==============================] - 0s 157us/step - loss: 3.2158e-04 - mean_squared_error: 3.2158e-04 - mean_absolute_error: 0.0090 - mean_absolute_percentage_error: 763937.6250 - cosine_proximity: 0.9784 - val_loss: 3.9079e-04 - val_mean_squared_error: 3.9079e-04 - val_mean_absolute_error: 0.0100 - val_mean_absolute_percentage_error: 636207.4375 - val_cosine_proximity: 0.9769\n",
      "Epoch 32/100\n",
      "159/159 [==============================] - 0s 151us/step - loss: 3.1820e-04 - mean_squared_error: 3.1820e-04 - mean_absolute_error: 0.0089 - mean_absolute_percentage_error: 739183.1250 - cosine_proximity: 0.9786 - val_loss: 3.8476e-04 - val_mean_squared_error: 3.8476e-04 - val_mean_absolute_error: 0.0098 - val_mean_absolute_percentage_error: 615680.0625 - val_cosine_proximity: 0.9772\n",
      "Epoch 33/100\n",
      "159/159 [==============================] - 0s 163us/step - loss: 3.1480e-04 - mean_squared_error: 3.1480e-04 - mean_absolute_error: 0.0089 - mean_absolute_percentage_error: 761822.3125 - cosine_proximity: 0.9788 - val_loss: 3.8462e-04 - val_mean_squared_error: 3.8462e-04 - val_mean_absolute_error: 0.0099 - val_mean_absolute_percentage_error: 665337.3750 - val_cosine_proximity: 0.9772\n",
      "Epoch 34/100\n",
      "159/159 [==============================] - 0s 163us/step - loss: 3.1282e-04 - mean_squared_error: 3.1282e-04 - mean_absolute_error: 0.0089 - mean_absolute_percentage_error: 752874.0000 - cosine_proximity: 0.9790 - val_loss: 3.8525e-04 - val_mean_squared_error: 3.8525e-04 - val_mean_absolute_error: 0.0098 - val_mean_absolute_percentage_error: 612116.5625 - val_cosine_proximity: 0.9773\n",
      "Epoch 35/100\n",
      "159/159 [==============================] - 0s 151us/step - loss: 3.0934e-04 - mean_squared_error: 3.0934e-04 - mean_absolute_error: 0.0088 - mean_absolute_percentage_error: 720487.5000 - cosine_proximity: 0.9792 - val_loss: 3.8274e-04 - val_mean_squared_error: 3.8274e-04 - val_mean_absolute_error: 0.0098 - val_mean_absolute_percentage_error: 610263.6250 - val_cosine_proximity: 0.9775\n",
      "Epoch 36/100\n",
      "159/159 [==============================] - 0s 157us/step - loss: 3.0556e-04 - mean_squared_error: 3.0556e-04 - mean_absolute_error: 0.0087 - mean_absolute_percentage_error: 727377.1875 - cosine_proximity: 0.9794 - val_loss: 3.8044e-04 - val_mean_squared_error: 3.8044e-04 - val_mean_absolute_error: 0.0097 - val_mean_absolute_percentage_error: 630782.0000 - val_cosine_proximity: 0.9776\n",
      "Epoch 37/100\n",
      "159/159 [==============================] - 0s 144us/step - loss: 3.0345e-04 - mean_squared_error: 3.0345e-04 - mean_absolute_error: 0.0086 - mean_absolute_percentage_error: 736138.6875 - cosine_proximity: 0.9795 - val_loss: 3.7865e-04 - val_mean_squared_error: 3.7865e-04 - val_mean_absolute_error: 0.0097 - val_mean_absolute_percentage_error: 614051.6250 - val_cosine_proximity: 0.9777\n",
      "Epoch 38/100\n",
      "159/159 [==============================] - 0s 151us/step - loss: 3.0057e-04 - mean_squared_error: 3.0057e-04 - mean_absolute_error: 0.0086 - mean_absolute_percentage_error: 712086.6875 - cosine_proximity: 0.9797 - val_loss: 3.7228e-04 - val_mean_squared_error: 3.7228e-04 - val_mean_absolute_error: 0.0096 - val_mean_absolute_percentage_error: 603593.6250 - val_cosine_proximity: 0.9781\n",
      "Epoch 39/100\n",
      "159/159 [==============================] - 0s 150us/step - loss: 2.9810e-04 - mean_squared_error: 2.9810e-04 - mean_absolute_error: 0.0086 - mean_absolute_percentage_error: 718414.4375 - cosine_proximity: 0.9799 - val_loss: 3.7446e-04 - val_mean_squared_error: 3.7446e-04 - val_mean_absolute_error: 0.0097 - val_mean_absolute_percentage_error: 627906.6875 - val_cosine_proximity: 0.9780\n",
      "Epoch 40/100\n",
      "159/159 [==============================] - 0s 151us/step - loss: 2.9523e-04 - mean_squared_error: 2.9523e-04 - mean_absolute_error: 0.0085 - mean_absolute_percentage_error: 713433.9375 - cosine_proximity: 0.9801 - val_loss: 3.7283e-04 - val_mean_squared_error: 3.7283e-04 - val_mean_absolute_error: 0.0096 - val_mean_absolute_percentage_error: 603701.0625 - val_cosine_proximity: 0.9781\n",
      "Epoch 41/100\n",
      "159/159 [==============================] - 0s 151us/step - loss: 2.9328e-04 - mean_squared_error: 2.9328e-04 - mean_absolute_error: 0.0085 - mean_absolute_percentage_error: 696404.7500 - cosine_proximity: 0.9802 - val_loss: 3.7178e-04 - val_mean_squared_error: 3.7178e-04 - val_mean_absolute_error: 0.0096 - val_mean_absolute_percentage_error: 601767.0000 - val_cosine_proximity: 0.9782\n",
      "Epoch 42/100\n",
      "159/159 [==============================] - 0s 144us/step - loss: 2.9102e-04 - mean_squared_error: 2.9102e-04 - mean_absolute_error: 0.0084 - mean_absolute_percentage_error: 703932.1250 - cosine_proximity: 0.9804 - val_loss: 3.7077e-04 - val_mean_squared_error: 3.7077e-04 - val_mean_absolute_error: 0.0096 - val_mean_absolute_percentage_error: 603226.4375 - val_cosine_proximity: 0.9783\n",
      "Epoch 43/100\n",
      "159/159 [==============================] - 0s 151us/step - loss: 2.8820e-04 - mean_squared_error: 2.8820e-04 - mean_absolute_error: 0.0084 - mean_absolute_percentage_error: 712452.7500 - cosine_proximity: 0.9805 - val_loss: 3.6541e-04 - val_mean_squared_error: 3.6541e-04 - val_mean_absolute_error: 0.0095 - val_mean_absolute_percentage_error: 611192.1250 - val_cosine_proximity: 0.9786\n",
      "Epoch 44/100\n",
      "159/159 [==============================] - 0s 138us/step - loss: 2.8618e-04 - mean_squared_error: 2.8618e-04 - mean_absolute_error: 0.0084 - mean_absolute_percentage_error: 698534.2500 - cosine_proximity: 0.9807 - val_loss: 3.6625e-04 - val_mean_squared_error: 3.6625e-04 - val_mean_absolute_error: 0.0094 - val_mean_absolute_percentage_error: 593252.8750 - val_cosine_proximity: 0.9786\n",
      "Epoch 45/100\n",
      "159/159 [==============================] - 0s 169us/step - loss: 2.8364e-04 - mean_squared_error: 2.8364e-04 - mean_absolute_error: 0.0083 - mean_absolute_percentage_error: 685894.5625 - cosine_proximity: 0.9809 - val_loss: 3.6552e-04 - val_mean_squared_error: 3.6552e-04 - val_mean_absolute_error: 0.0095 - val_mean_absolute_percentage_error: 582044.8125 - val_cosine_proximity: 0.9787\n",
      "Epoch 46/100\n",
      "159/159 [==============================] - 0s 144us/step - loss: 2.8203e-04 - mean_squared_error: 2.8203e-04 - mean_absolute_error: 0.0083 - mean_absolute_percentage_error: 675352.6250 - cosine_proximity: 0.9809 - val_loss: 3.6298e-04 - val_mean_squared_error: 3.6298e-04 - val_mean_absolute_error: 0.0094 - val_mean_absolute_percentage_error: 587527.6250 - val_cosine_proximity: 0.9787\n",
      "Epoch 47/100\n",
      "159/159 [==============================] - 0s 157us/step - loss: 2.7979e-04 - mean_squared_error: 2.7979e-04 - mean_absolute_error: 0.0082 - mean_absolute_percentage_error: 678667.5625 - cosine_proximity: 0.9811 - val_loss: 3.6212e-04 - val_mean_squared_error: 3.6212e-04 - val_mean_absolute_error: 0.0094 - val_mean_absolute_percentage_error: 596568.1250 - val_cosine_proximity: 0.9789\n",
      "Epoch 48/100\n",
      "159/159 [==============================] - 0s 163us/step - loss: 2.7730e-04 - mean_squared_error: 2.7730e-04 - mean_absolute_error: 0.0082 - mean_absolute_percentage_error: 688208.1875 - cosine_proximity: 0.9813 - val_loss: 3.5884e-04 - val_mean_squared_error: 3.5884e-04 - val_mean_absolute_error: 0.0094 - val_mean_absolute_percentage_error: 605436.8125 - val_cosine_proximity: 0.9791\n",
      "Epoch 49/100\n",
      "159/159 [==============================] - 0s 188us/step - loss: 2.7511e-04 - mean_squared_error: 2.7511e-04 - mean_absolute_error: 0.0082 - mean_absolute_percentage_error: 686426.7500 - cosine_proximity: 0.9814 - val_loss: 3.5883e-04 - val_mean_squared_error: 3.5883e-04 - val_mean_absolute_error: 0.0094 - val_mean_absolute_percentage_error: 581834.5625 - val_cosine_proximity: 0.9791\n",
      "Epoch 50/100\n",
      "159/159 [==============================] - ETA: 0s - loss: 2.1022e-04 - mean_squared_error: 2.1022e-04 - mean_absolute_error: 0.0075 - mean_absolute_percentage_error: 435272.2812 - cosine_proximity: 0.986 - 0s 144us/step - loss: 2.7315e-04 - mean_squared_error: 2.7315e-04 - mean_absolute_error: 0.0081 - mean_absolute_percentage_error: 657735.1875 - cosine_proximity: 0.9815 - val_loss: 3.5949e-04 - val_mean_squared_error: 3.5949e-04 - val_mean_absolute_error: 0.0093 - val_mean_absolute_percentage_error: 572681.4375 - val_cosine_proximity: 0.9791\n",
      "Epoch 51/100\n",
      "159/159 [==============================] - 0s 151us/step - loss: 2.7149e-04 - mean_squared_error: 2.7149e-04 - mean_absolute_error: 0.0081 - mean_absolute_percentage_error: 659424.3125 - cosine_proximity: 0.9816 - val_loss: 3.5680e-04 - val_mean_squared_error: 3.5680e-04 - val_mean_absolute_error: 0.0093 - val_mean_absolute_percentage_error: 592120.1875 - val_cosine_proximity: 0.9792\n",
      "Epoch 52/100\n",
      "159/159 [==============================] - 0s 157us/step - loss: 2.6903e-04 - mean_squared_error: 2.6903e-04 - mean_absolute_error: 0.0081 - mean_absolute_percentage_error: 673667.0000 - cosine_proximity: 0.9818 - val_loss: 3.5578e-04 - val_mean_squared_error: 3.5578e-04 - val_mean_absolute_error: 0.0093 - val_mean_absolute_percentage_error: 589765.1875 - val_cosine_proximity: 0.9793\n",
      "Epoch 53/100\n",
      "159/159 [==============================] - 0s 151us/step - loss: 2.6828e-04 - mean_squared_error: 2.6828e-04 - mean_absolute_error: 0.0080 - mean_absolute_percentage_error: 663322.4375 - cosine_proximity: 0.9819 - val_loss: 3.5284e-04 - val_mean_squared_error: 3.5284e-04 - val_mean_absolute_error: 0.0092 - val_mean_absolute_percentage_error: 573032.8125 - val_cosine_proximity: 0.9795\n",
      "Epoch 54/100\n",
      "159/159 [==============================] - 0s 144us/step - loss: 2.6631e-04 - mean_squared_error: 2.6631e-04 - mean_absolute_error: 0.0080 - mean_absolute_percentage_error: 640644.4375 - cosine_proximity: 0.9820 - val_loss: 3.5415e-04 - val_mean_squared_error: 3.5415e-04 - val_mean_absolute_error: 0.0092 - val_mean_absolute_percentage_error: 563620.8125 - val_cosine_proximity: 0.9794\n",
      "Epoch 55/100\n",
      "159/159 [==============================] - 0s 151us/step - loss: 2.6447e-04 - mean_squared_error: 2.6447e-04 - mean_absolute_error: 0.0080 - mean_absolute_percentage_error: 662294.0000 - cosine_proximity: 0.9822 - val_loss: 3.5287e-04 - val_mean_squared_error: 3.5287e-04 - val_mean_absolute_error: 0.0092 - val_mean_absolute_percentage_error: 589598.8125 - val_cosine_proximity: 0.9795\n",
      "Epoch 56/100\n",
      "159/159 [==============================] - 0s 144us/step - loss: 2.6448e-04 - mean_squared_error: 2.6448e-04 - mean_absolute_error: 0.0080 - mean_absolute_percentage_error: 642044.8125 - cosine_proximity: 0.9822 - val_loss: 3.5144e-04 - val_mean_squared_error: 3.5144e-04 - val_mean_absolute_error: 0.0092 - val_mean_absolute_percentage_error: 544688.4375 - val_cosine_proximity: 0.9797\n",
      "Epoch 57/100\n",
      "159/159 [==============================] - 0s 144us/step - loss: 2.6060e-04 - mean_squared_error: 2.6060e-04 - mean_absolute_error: 0.0079 - mean_absolute_percentage_error: 623199.6250 - cosine_proximity: 0.9824 - val_loss: 3.4990e-04 - val_mean_squared_error: 3.4990e-04 - val_mean_absolute_error: 0.0091 - val_mean_absolute_percentage_error: 566670.5625 - val_cosine_proximity: 0.9797\n",
      "Epoch 58/100\n",
      "159/159 [==============================] - 0s 176us/step - loss: 2.5943e-04 - mean_squared_error: 2.5943e-04 - mean_absolute_error: 0.0078 - mean_absolute_percentage_error: 657212.7500 - cosine_proximity: 0.9825 - val_loss: 3.4664e-04 - val_mean_squared_error: 3.4664e-04 - val_mean_absolute_error: 0.0091 - val_mean_absolute_percentage_error: 578304.3125 - val_cosine_proximity: 0.9799\n",
      "Epoch 59/100\n",
      "159/159 [==============================] - 0s 144us/step - loss: 2.5810e-04 - mean_squared_error: 2.5810e-04 - mean_absolute_error: 0.0078 - mean_absolute_percentage_error: 632322.6875 - cosine_proximity: 0.9826 - val_loss: 3.4555e-04 - val_mean_squared_error: 3.4555e-04 - val_mean_absolute_error: 0.0091 - val_mean_absolute_percentage_error: 550979.2500 - val_cosine_proximity: 0.9800\n",
      "Epoch 60/100\n",
      "159/159 [==============================] - 0s 151us/step - loss: 2.5807e-04 - mean_squared_error: 2.5807e-04 - mean_absolute_error: 0.0078 - mean_absolute_percentage_error: 639120.8125 - cosine_proximity: 0.9825 - val_loss: 3.4810e-04 - val_mean_squared_error: 3.4810e-04 - val_mean_absolute_error: 0.0092 - val_mean_absolute_percentage_error: 577660.3750 - val_cosine_proximity: 0.9798\n",
      "Epoch 61/100\n",
      "159/159 [==============================] - 0s 144us/step - loss: 2.5525e-04 - mean_squared_error: 2.5525e-04 - mean_absolute_error: 0.0078 - mean_absolute_percentage_error: 630889.8750 - cosine_proximity: 0.9828 - val_loss: 3.4850e-04 - val_mean_squared_error: 3.4850e-04 - val_mean_absolute_error: 0.0091 - val_mean_absolute_percentage_error: 541544.1250 - val_cosine_proximity: 0.9798\n",
      "Epoch 62/100\n",
      "159/159 [==============================] - 0s 163us/step - loss: 2.5376e-04 - mean_squared_error: 2.5376e-04 - mean_absolute_error: 0.0077 - mean_absolute_percentage_error: 611042.8750 - cosine_proximity: 0.9829 - val_loss: 3.4491e-04 - val_mean_squared_error: 3.4491e-04 - val_mean_absolute_error: 0.0091 - val_mean_absolute_percentage_error: 572644.3750 - val_cosine_proximity: 0.9800\n",
      "Epoch 63/100\n",
      "159/159 [==============================] - 0s 151us/step - loss: 2.5213e-04 - mean_squared_error: 2.5213e-04 - mean_absolute_error: 0.0077 - mean_absolute_percentage_error: 645921.1875 - cosine_proximity: 0.9830 - val_loss: 3.4318e-04 - val_mean_squared_error: 3.4318e-04 - val_mean_absolute_error: 0.0090 - val_mean_absolute_percentage_error: 562881.8750 - val_cosine_proximity: 0.9801\n",
      "Epoch 64/100\n",
      "159/159 [==============================] - 0s 163us/step - loss: 2.5081e-04 - mean_squared_error: 2.5081e-04 - mean_absolute_error: 0.0076 - mean_absolute_percentage_error: 607894.3125 - cosine_proximity: 0.9831 - val_loss: 3.4272e-04 - val_mean_squared_error: 3.4272e-04 - val_mean_absolute_error: 0.0090 - val_mean_absolute_percentage_error: 543107.8750 - val_cosine_proximity: 0.9802\n",
      "Epoch 65/100\n",
      "159/159 [==============================] - 0s 163us/step - loss: 2.4934e-04 - mean_squared_error: 2.4934e-04 - mean_absolute_error: 0.0076 - mean_absolute_percentage_error: 614548.4375 - cosine_proximity: 0.9832 - val_loss: 3.4178e-04 - val_mean_squared_error: 3.4178e-04 - val_mean_absolute_error: 0.0090 - val_mean_absolute_percentage_error: 561356.7500 - val_cosine_proximity: 0.9802\n",
      "Epoch 66/100\n",
      "159/159 [==============================] - 0s 232us/step - loss: 2.4805e-04 - mean_squared_error: 2.4805e-04 - mean_absolute_error: 0.0076 - mean_absolute_percentage_error: 618924.8125 - cosine_proximity: 0.9833 - val_loss: 3.4062e-04 - val_mean_squared_error: 3.4062e-04 - val_mean_absolute_error: 0.0090 - val_mean_absolute_percentage_error: 544271.6250 - val_cosine_proximity: 0.9803\n",
      "Epoch 67/100\n",
      "159/159 [==============================] - 0s 170us/step - loss: 2.4642e-04 - mean_squared_error: 2.4642e-04 - mean_absolute_error: 0.0076 - mean_absolute_percentage_error: 598798.8125 - cosine_proximity: 0.9834 - val_loss: 3.3908e-04 - val_mean_squared_error: 3.3908e-04 - val_mean_absolute_error: 0.0089 - val_mean_absolute_percentage_error: 536209.1875 - val_cosine_proximity: 0.9804\n",
      "Epoch 68/100\n",
      "159/159 [==============================] - 0s 138us/step - loss: 2.4608e-04 - mean_squared_error: 2.4608e-04 - mean_absolute_error: 0.0075 - mean_absolute_percentage_error: 600150.8125 - cosine_proximity: 0.9834 - val_loss: 3.3809e-04 - val_mean_squared_error: 3.3809e-04 - val_mean_absolute_error: 0.0089 - val_mean_absolute_percentage_error: 544467.6250 - val_cosine_proximity: 0.9805\n",
      "Epoch 69/100\n",
      "159/159 [==============================] - 0s 144us/step - loss: 2.4499e-04 - mean_squared_error: 2.4499e-04 - mean_absolute_error: 0.0076 - mean_absolute_percentage_error: 617913.6875 - cosine_proximity: 0.9835 - val_loss: 3.4101e-04 - val_mean_squared_error: 3.4101e-04 - val_mean_absolute_error: 0.0090 - val_mean_absolute_percentage_error: 565443.1250 - val_cosine_proximity: 0.9803\n",
      "Epoch 70/100\n",
      "159/159 [==============================] - 0s 151us/step - loss: 2.4295e-04 - mean_squared_error: 2.4295e-04 - mean_absolute_error: 0.0075 - mean_absolute_percentage_error: 599917.9375 - cosine_proximity: 0.9836 - val_loss: 3.3814e-04 - val_mean_squared_error: 3.3814e-04 - val_mean_absolute_error: 0.0089 - val_mean_absolute_percentage_error: 515017.5312 - val_cosine_proximity: 0.9805\n",
      "Epoch 71/100\n",
      "159/159 [==============================] - 0s 144us/step - loss: 2.4239e-04 - mean_squared_error: 2.4239e-04 - mean_absolute_error: 0.0075 - mean_absolute_percentage_error: 587389.3750 - cosine_proximity: 0.9836 - val_loss: 3.3561e-04 - val_mean_squared_error: 3.3561e-04 - val_mean_absolute_error: 0.0089 - val_mean_absolute_percentage_error: 548165.0000 - val_cosine_proximity: 0.9806\n",
      "Epoch 72/100\n",
      "159/159 [==============================] - 0s 144us/step - loss: 2.4255e-04 - mean_squared_error: 2.4255e-04 - mean_absolute_error: 0.0076 - mean_absolute_percentage_error: 613440.1875 - cosine_proximity: 0.9837 - val_loss: 3.3826e-04 - val_mean_squared_error: 3.3826e-04 - val_mean_absolute_error: 0.0089 - val_mean_absolute_percentage_error: 537452.5000 - val_cosine_proximity: 0.9805\n",
      "Epoch 73/100\n",
      "159/159 [==============================] - 0s 150us/step - loss: 2.4015e-04 - mean_squared_error: 2.4015e-04 - mean_absolute_error: 0.0075 - mean_absolute_percentage_error: 582673.1250 - cosine_proximity: 0.9839 - val_loss: 3.3603e-04 - val_mean_squared_error: 3.3603e-04 - val_mean_absolute_error: 0.0089 - val_mean_absolute_percentage_error: 521197.4062 - val_cosine_proximity: 0.9807\n",
      "Epoch 74/100\n",
      "159/159 [==============================] - 0s 157us/step - loss: 2.3973e-04 - mean_squared_error: 2.3973e-04 - mean_absolute_error: 0.0074 - mean_absolute_percentage_error: 591455.2500 - cosine_proximity: 0.9838 - val_loss: 3.3276e-04 - val_mean_squared_error: 3.3276e-04 - val_mean_absolute_error: 0.0089 - val_mean_absolute_percentage_error: 546470.0625 - val_cosine_proximity: 0.9808\n",
      "Epoch 75/100\n",
      "159/159 [==============================] - 0s 144us/step - loss: 2.4017e-04 - mean_squared_error: 2.4017e-04 - mean_absolute_error: 0.0074 - mean_absolute_percentage_error: 589136.4375 - cosine_proximity: 0.9838 - val_loss: 3.3931e-04 - val_mean_squared_error: 3.3931e-04 - val_mean_absolute_error: 0.0089 - val_mean_absolute_percentage_error: 531685.0625 - val_cosine_proximity: 0.9804\n",
      "Epoch 76/100\n",
      "159/159 [==============================] - 0s 144us/step - loss: 2.4006e-04 - mean_squared_error: 2.4006e-04 - mean_absolute_error: 0.0075 - mean_absolute_percentage_error: 602870.3125 - cosine_proximity: 0.9838 - val_loss: 3.3358e-04 - val_mean_squared_error: 3.3358e-04 - val_mean_absolute_error: 0.0089 - val_mean_absolute_percentage_error: 535430.0000 - val_cosine_proximity: 0.9808\n",
      "Epoch 77/100\n",
      "159/159 [==============================] - 0s 151us/step - loss: 2.3711e-04 - mean_squared_error: 2.3711e-04 - mean_absolute_error: 0.0074 - mean_absolute_percentage_error: 583464.0625 - cosine_proximity: 0.9840 - val_loss: 3.3421e-04 - val_mean_squared_error: 3.3421e-04 - val_mean_absolute_error: 0.0088 - val_mean_absolute_percentage_error: 543526.5625 - val_cosine_proximity: 0.9808\n",
      "Epoch 78/100\n",
      "159/159 [==============================] - 0s 195us/step - loss: 2.3691e-04 - mean_squared_error: 2.3691e-04 - mean_absolute_error: 0.0074 - mean_absolute_percentage_error: 597642.2500 - cosine_proximity: 0.9840 - val_loss: 3.3404e-04 - val_mean_squared_error: 3.3404e-04 - val_mean_absolute_error: 0.0089 - val_mean_absolute_percentage_error: 540825.6250 - val_cosine_proximity: 0.9807\n",
      "Epoch 79/100\n",
      "159/159 [==============================] - 0s 144us/step - loss: 2.3662e-04 - mean_squared_error: 2.3662e-04 - mean_absolute_error: 0.0074 - mean_absolute_percentage_error: 603854.1875 - cosine_proximity: 0.9841 - val_loss: 3.3035e-04 - val_mean_squared_error: 3.3035e-04 - val_mean_absolute_error: 0.0088 - val_mean_absolute_percentage_error: 529539.7500 - val_cosine_proximity: 0.9810\n",
      "Epoch 80/100\n",
      "159/159 [==============================] - 0s 144us/step - loss: 2.3543e-04 - mean_squared_error: 2.3543e-04 - mean_absolute_error: 0.0074 - mean_absolute_percentage_error: 578298.4375 - cosine_proximity: 0.9841 - val_loss: 3.3320e-04 - val_mean_squared_error: 3.3320e-04 - val_mean_absolute_error: 0.0088 - val_mean_absolute_percentage_error: 526173.6250 - val_cosine_proximity: 0.9808\n",
      "Epoch 81/100\n",
      "159/159 [==============================] - 0s 132us/step - loss: 2.3416e-04 - mean_squared_error: 2.3416e-04 - mean_absolute_error: 0.0074 - mean_absolute_percentage_error: 602361.5625 - cosine_proximity: 0.9843 - val_loss: 3.3281e-04 - val_mean_squared_error: 3.3281e-04 - val_mean_absolute_error: 0.0089 - val_mean_absolute_percentage_error: 533026.7500 - val_cosine_proximity: 0.9809\n",
      "Epoch 82/100\n",
      "159/159 [==============================] - 0s 151us/step - loss: 2.3215e-04 - mean_squared_error: 2.3215e-04 - mean_absolute_error: 0.0073 - mean_absolute_percentage_error: 574510.6250 - cosine_proximity: 0.9844 - val_loss: 3.3249e-04 - val_mean_squared_error: 3.3249e-04 - val_mean_absolute_error: 0.0088 - val_mean_absolute_percentage_error: 499462.2812 - val_cosine_proximity: 0.9809\n",
      "Epoch 83/100\n",
      "159/159 [==============================] - 0s 138us/step - loss: 2.3205e-04 - mean_squared_error: 2.3205e-04 - mean_absolute_error: 0.0073 - mean_absolute_percentage_error: 566682.4375 - cosine_proximity: 0.9844 - val_loss: 3.2963e-04 - val_mean_squared_error: 3.2963e-04 - val_mean_absolute_error: 0.0088 - val_mean_absolute_percentage_error: 538893.1875 - val_cosine_proximity: 0.9810\n",
      "Epoch 84/100\n",
      "159/159 [==============================] - 0s 157us/step - loss: 2.3065e-04 - mean_squared_error: 2.3065e-04 - mean_absolute_error: 0.0073 - mean_absolute_percentage_error: 605138.1875 - cosine_proximity: 0.9845 - val_loss: 3.2994e-04 - val_mean_squared_error: 3.2994e-04 - val_mean_absolute_error: 0.0088 - val_mean_absolute_percentage_error: 540889.7500 - val_cosine_proximity: 0.9810\n",
      "Epoch 85/100\n",
      "159/159 [==============================] - 0s 144us/step - loss: 2.3103e-04 - mean_squared_error: 2.3103e-04 - mean_absolute_error: 0.0073 - mean_absolute_percentage_error: 565273.1875 - cosine_proximity: 0.9845 - val_loss: 3.3102e-04 - val_mean_squared_error: 3.3102e-04 - val_mean_absolute_error: 0.0088 - val_mean_absolute_percentage_error: 507522.1875 - val_cosine_proximity: 0.9810\n",
      "Epoch 86/100\n",
      "159/159 [==============================] - 0s 144us/step - loss: 2.3050e-04 - mean_squared_error: 2.3050e-04 - mean_absolute_error: 0.0073 - mean_absolute_percentage_error: 573396.8750 - cosine_proximity: 0.9845 - val_loss: 3.3172e-04 - val_mean_squared_error: 3.3172e-04 - val_mean_absolute_error: 0.0088 - val_mean_absolute_percentage_error: 544538.5000 - val_cosine_proximity: 0.9809\n",
      "Epoch 87/100\n",
      "159/159 [==============================] - 0s 162us/step - loss: 2.2920e-04 - mean_squared_error: 2.2920e-04 - mean_absolute_error: 0.0073 - mean_absolute_percentage_error: 603961.6875 - cosine_proximity: 0.9846 - val_loss: 3.2894e-04 - val_mean_squared_error: 3.2894e-04 - val_mean_absolute_error: 0.0088 - val_mean_absolute_percentage_error: 521375.5000 - val_cosine_proximity: 0.9811\n",
      "Epoch 88/100\n",
      "159/159 [==============================] - 0s 157us/step - loss: 2.2866e-04 - mean_squared_error: 2.2866e-04 - mean_absolute_error: 0.0073 - mean_absolute_percentage_error: 560852.0000 - cosine_proximity: 0.9846 - val_loss: 3.2855e-04 - val_mean_squared_error: 3.2855e-04 - val_mean_absolute_error: 0.0088 - val_mean_absolute_percentage_error: 506813.7812 - val_cosine_proximity: 0.9811\n",
      "Epoch 89/100\n",
      "159/159 [==============================] - 0s 144us/step - loss: 2.2763e-04 - mean_squared_error: 2.2763e-04 - mean_absolute_error: 0.0073 - mean_absolute_percentage_error: 582734.7500 - cosine_proximity: 0.9847 - val_loss: 3.2776e-04 - val_mean_squared_error: 3.2776e-04 - val_mean_absolute_error: 0.0087 - val_mean_absolute_percentage_error: 532937.5625 - val_cosine_proximity: 0.9811\n",
      "Epoch 90/100\n",
      "159/159 [==============================] - 0s 157us/step - loss: 2.2776e-04 - mean_squared_error: 2.2776e-04 - mean_absolute_error: 0.0073 - mean_absolute_percentage_error: 579924.7500 - cosine_proximity: 0.9847 - val_loss: 3.3049e-04 - val_mean_squared_error: 3.3049e-04 - val_mean_absolute_error: 0.0088 - val_mean_absolute_percentage_error: 522960.3125 - val_cosine_proximity: 0.9810\n",
      "Epoch 91/100\n",
      "159/159 [==============================] - 0s 138us/step - loss: 2.2641e-04 - mean_squared_error: 2.2641e-04 - mean_absolute_error: 0.0072 - mean_absolute_percentage_error: 552414.2500 - cosine_proximity: 0.9848 - val_loss: 3.2688e-04 - val_mean_squared_error: 3.2688e-04 - val_mean_absolute_error: 0.0087 - val_mean_absolute_percentage_error: 518823.6875 - val_cosine_proximity: 0.9812\n",
      "Epoch 92/100\n",
      "159/159 [==============================] - 0s 144us/step - loss: 2.2569e-04 - mean_squared_error: 2.2569e-04 - mean_absolute_error: 0.0072 - mean_absolute_percentage_error: 592676.7500 - cosine_proximity: 0.9848 - val_loss: 3.2783e-04 - val_mean_squared_error: 3.2783e-04 - val_mean_absolute_error: 0.0087 - val_mean_absolute_percentage_error: 538724.1250 - val_cosine_proximity: 0.9811\n",
      "Epoch 93/100\n",
      "159/159 [==============================] - 0s 176us/step - loss: 2.2482e-04 - mean_squared_error: 2.2482e-04 - mean_absolute_error: 0.0072 - mean_absolute_percentage_error: 584673.9375 - cosine_proximity: 0.9849 - val_loss: 3.2992e-04 - val_mean_squared_error: 3.2992e-04 - val_mean_absolute_error: 0.0088 - val_mean_absolute_percentage_error: 516079.6875 - val_cosine_proximity: 0.9810\n",
      "Epoch 94/100\n",
      "159/159 [==============================] - 0s 138us/step - loss: 2.2398e-04 - mean_squared_error: 2.2398e-04 - mean_absolute_error: 0.0072 - mean_absolute_percentage_error: 550507.7500 - cosine_proximity: 0.9850 - val_loss: 3.2745e-04 - val_mean_squared_error: 3.2745e-04 - val_mean_absolute_error: 0.0087 - val_mean_absolute_percentage_error: 510312.7188 - val_cosine_proximity: 0.9812\n",
      "Epoch 95/100\n",
      "159/159 [==============================] - 0s 151us/step - loss: 2.2299e-04 - mean_squared_error: 2.2299e-04 - mean_absolute_error: 0.0071 - mean_absolute_percentage_error: 564186.8125 - cosine_proximity: 0.9850 - val_loss: 3.2824e-04 - val_mean_squared_error: 3.2824e-04 - val_mean_absolute_error: 0.0087 - val_mean_absolute_percentage_error: 523421.3125 - val_cosine_proximity: 0.9811\n",
      "Epoch 96/100\n",
      "159/159 [==============================] - 0s 176us/step - loss: 2.2193e-04 - mean_squared_error: 2.2193e-04 - mean_absolute_error: 0.0071 - mean_absolute_percentage_error: 568488.5625 - cosine_proximity: 0.9851 - val_loss: 3.2600e-04 - val_mean_squared_error: 3.2600e-04 - val_mean_absolute_error: 0.0087 - val_mean_absolute_percentage_error: 524839.4375 - val_cosine_proximity: 0.9813\n",
      "Epoch 97/100\n",
      "159/159 [==============================] - 0s 138us/step - loss: 2.2224e-04 - mean_squared_error: 2.2224e-04 - mean_absolute_error: 0.0071 - mean_absolute_percentage_error: 582862.3125 - cosine_proximity: 0.9851 - val_loss: 3.2477e-04 - val_mean_squared_error: 3.2477e-04 - val_mean_absolute_error: 0.0087 - val_mean_absolute_percentage_error: 516393.4062 - val_cosine_proximity: 0.9813\n",
      "Epoch 98/100\n",
      "159/159 [==============================] - 0s 157us/step - loss: 2.2238e-04 - mean_squared_error: 2.2238e-04 - mean_absolute_error: 0.0071 - mean_absolute_percentage_error: 556703.1875 - cosine_proximity: 0.9851 - val_loss: 3.2801e-04 - val_mean_squared_error: 3.2801e-04 - val_mean_absolute_error: 0.0087 - val_mean_absolute_percentage_error: 504769.8750 - val_cosine_proximity: 0.9812\n",
      "Epoch 99/100\n",
      "159/159 [==============================] - 0s 144us/step - loss: 2.2088e-04 - mean_squared_error: 2.2088e-04 - mean_absolute_error: 0.0071 - mean_absolute_percentage_error: 558977.4375 - cosine_proximity: 0.9852 - val_loss: 3.2431e-04 - val_mean_squared_error: 3.2431e-04 - val_mean_absolute_error: 0.0087 - val_mean_absolute_percentage_error: 523447.8125 - val_cosine_proximity: 0.9813\n",
      "Epoch 100/100\n",
      "159/159 [==============================] - 0s 151us/step - loss: 2.2072e-04 - mean_squared_error: 2.2072e-04 - mean_absolute_error: 0.0071 - mean_absolute_percentage_error: 567683.4375 - cosine_proximity: 0.9852 - val_loss: 3.2386e-04 - val_mean_squared_error: 3.2386e-04 - val_mean_absolute_error: 0.0087 - val_mean_absolute_percentage_error: 510512.7500 - val_cosine_proximity: 0.9814\n"
     ]
    }
   ],
   "source": [
    "model = build_model_cnn(n_steps,n_feats,n_fore)\n",
    "model.summary()\n",
    "\n",
    "history = model.fit(\n",
    "    X_train,\n",
    "    y_train,\n",
    "    batch_size=32,\n",
    "    epochs=100,\n",
    "    validation_data=(X_test, y_test),\n",
    "    callbacks=[\n",
    "        EarlyStopping(patience=10),\n",
    "    ],\n",
    ")"
   ]
  },
  {
   "cell_type": "code",
   "execution_count": 428,
   "metadata": {},
   "outputs": [
    {
     "data": {
      "image/png": "[encoded data removed]",
      "text/plain": [
       "<Figure size 432x288 with 1 Axes>"
      ]
     },
     "metadata": {
      "needs_background": "light"
     },
     "output_type": "display_data"
    },
    {
     "data": {
      "image/png": "[encoded data removed]",
      "text/plain": [
       "<Figure size 432x288 with 1 Axes>"
      ]
     },
     "metadata": {
      "needs_background": "light"
     },
     "output_type": "display_data"
    },
    {
     "data": {
      "image/png": "[encoded data removed]",
      "text/plain": [
       "<Figure size 432x288 with 1 Axes>"
      ]
     },
     "metadata": {
      "needs_background": "light"
     },
     "output_type": "display_data"
    },
    {
     "data": {
      "image/png": "[encoded data removed]",
      "text/plain": [
       "<Figure size 432x288 with 1 Axes>"
      ]
     },
     "metadata": {
      "needs_background": "light"
     },
     "output_type": "display_data"
    }
   ],
   "source": [
    "# summarize history for accuracy\n",
    "plt.figure()\n",
    "plt.plot(history.history['mean_squared_error'])\n",
    "plt.plot(history.history['val_mean_squared_error'])\n",
    "plt.title('model mse')\n",
    "plt.ylabel('mean suqared error')\n",
    "plt.xlabel('epoch')\n",
    "plt.legend(['train', 'test'], loc='upper left')\n",
    "plt.show()\n",
    "\n",
    "plt.figure()\n",
    "plt.plot(history.history['mean_absolute_error'])\n",
    "plt.plot(history.history['val_mean_absolute_error'])\n",
    "plt.title('model mae')\n",
    "plt.ylabel('mean absolute error')\n",
    "plt.xlabel('epoch')\n",
    "plt.legend(['train', 'test'], loc='upper left')\n",
    "plt.show()\n",
    "\n",
    "plt.figure()\n",
    "plt.plot(history.history['mean_absolute_percentage_error'])\n",
    "plt.plot(history.history['val_mean_absolute_percentage_error'])\n",
    "plt.title('model mean absolute percentage error')\n",
    "plt.ylabel('mean absolute percentage error')\n",
    "plt.xlabel('epoch')\n",
    "plt.legend(['train', 'test'], loc='upper left')\n",
    "plt.show()\n",
    "\n",
    "plt.figure()\n",
    "plt.plot(history.history['cosine_proximity'])\n",
    "plt.plot(history.history['val_cosine_proximity'])\n",
    "plt.title('model cosine proximity')\n",
    "plt.ylabel('cosine proximity')\n",
    "plt.xlabel('epoch')\n",
    "plt.legend(['train', 'test'], loc='upper left')\n",
    "plt.show()"
   ]
  },
  {
   "cell_type": "code",
   "execution_count": 429,
   "metadata": {},
   "outputs": [
    {
     "name": "stdout",
     "output_type": "stream",
     "text": [
      "[3.41693569e-03 1.58974427e-01 4.17808265e-03 2.87075242e-03\n",
      " 1.86631810e-03 2.27027985e-02 2.10727760e-01 1.06933471e-03\n",
      " 2.82249526e-03 4.84737651e-03 4.65813168e-03 5.01660558e-03\n",
      " 4.28145168e-03 1.05334130e-02 4.65023506e-03 1.26592779e-02\n",
      " 1.58530242e-02 8.59032219e-04 9.13815059e-03 7.55553522e-03\n",
      " 5.46512295e-03 5.14594024e-03 2.82688228e-04 1.09036496e-03\n",
      " 7.06720570e-03 5.19051366e-03 1.09634227e-02 4.76113604e-01]\n"
     ]
    },
    {
     "data": {
      "text/plain": [
       "array([[ 4.6268683e-03,  1.7548195e-01,  1.0239055e-02,  2.6307655e-03,\n",
       "        -3.1659473e-03,  2.1153029e-02,  2.0775300e-01,  4.3873782e-03,\n",
       "         4.8268670e-03,  5.0778231e-03,  5.0841542e-03,  5.1991176e-04,\n",
       "         2.5587976e-03,  9.5276684e-03,  6.5129511e-03,  8.6552314e-03,\n",
       "         2.1513307e-02,  5.4438896e-03,  1.3496201e-02, -1.0235794e-03,\n",
       "         8.8952947e-03,  7.6508801e-03, -4.2855367e-04, -4.9001724e-04,\n",
       "         8.6211693e-03,  5.8455691e-03,  1.6656568e-02,  4.6873254e-01]],\n",
       "      dtype=float32)"
      ]
     },
     "execution_count": 429,
     "metadata": {},
     "output_type": "execute_result"
    }
   ],
   "source": [
    "print(y_train[0])\n",
    "model.predict(np.reshape(X_train[0], (1,X_train[0].shape[0], X_train[0].shape[1])))"
   ]
  },
  {
   "cell_type": "code",
   "execution_count": 430,
   "metadata": {},
   "outputs": [
    {
     "name": "stdout",
     "output_type": "stream",
     "text": [
      "[[ 8.4069390e-03  1.6450371e-01  1.7509505e-02 ...  2.7068332e-04\n",
      "   2.1467367e-02  4.5425031e-01]\n",
      " [ 1.1130369e-02  1.8293396e-01  2.2190463e-02 ... -1.0892078e-03\n",
      "   2.0289049e-02  4.5037252e-01]\n",
      " [ 5.8739208e-02  1.6243170e-01  1.5750347e-02 ...  7.1133345e-02\n",
      "   3.9423078e-02  3.7125906e-01]\n",
      " ...\n",
      " [ 5.2752513e-03  1.7543049e-01  8.6859418e-03 ...  9.1458634e-03\n",
      "   1.3037469e-02  4.6919915e-01]\n",
      " [ 8.8199172e-03  1.7427003e-01  2.1291588e-02 ...  2.0774752e-03\n",
      "   1.5394412e-02  4.5230058e-01]\n",
      " [ 1.0104513e-02  1.7271687e-01  2.3235627e-02 ... -5.6125969e-04\n",
      "   2.5559559e-02  4.4201508e-01]]\n"
     ]
    }
   ],
   "source": [
    "predictions = model.predict(X_test)\n",
    "print(predictions)"
   ]
  },
  {
   "cell_type": "code",
   "execution_count": 431,
   "metadata": {},
   "outputs": [
    {
     "data": {
      "image/png": "[encoded data removed]",
      "text/plain": [
       "<Figure size 432x288 with 1 Axes>"
      ]
     },
     "metadata": {
      "needs_background": "light"
     },
     "output_type": "display_data"
    }
   ],
   "source": [
    "# Visualize the data\n",
    "plt.figure()\n",
    "plt.scatter(predictions,y_test)\n",
    "plt.grid(True)\n",
    "plt.title(\"title\")\n",
    "plt.xlabel(\"x-label\")\n",
    "plt.ylabel(\"y-label\")\n",
    "plt.show()"
   ]
  }
 ],
 "metadata": {
  "kernelspec": {
   "display_name": "Python 3",
   "language": "python",
   "name": "python3"
  },
  "language_info": {
   "codemirror_mode": {
    "name": "ipython",
    "version": 3
   },
   "file_extension": ".py",
   "mimetype": "text/x-python",
   "name": "python",
   "nbconvert_exporter": "python",
   "pygments_lexer": "ipython3",
   "version": "3.7.7"
  }
 },
 "nbformat": 4,
 "nbformat_minor": 4
}
