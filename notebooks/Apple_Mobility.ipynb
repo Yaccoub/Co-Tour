{
 "cells": [
  {
   "cell_type": "markdown",
   "metadata": {},
   "source": [
    "# Mobility Data from Apple"
   ]
  },
  {
   "cell_type": "markdown",
   "metadata": {},
   "source": [
    "The dataset at hand represents the mobility data from apple from the 1st of January 2020 untill the 24th of juin 2020."
   ]
  },
  {
   "cell_type": "code",
   "execution_count": 31,
   "metadata": {},
   "outputs": [
    {
     "data": {
      "text/html": [
       "<div>\n",
       "<style scoped>\n",
       "    .dataframe tbody tr th:only-of-type {\n",
       "        vertical-align: middle;\n",
       "    }\n",
       "\n",
       "    .dataframe tbody tr th {\n",
       "        vertical-align: top;\n",
       "    }\n",
       "\n",
       "    .dataframe thead th {\n",
       "        text-align: right;\n",
       "    }\n",
       "</style>\n",
       "<table border=\"1\" class=\"dataframe\">\n",
       "  <thead>\n",
       "    <tr style=\"text-align: right;\">\n",
       "      <th></th>\n",
       "      <th>geo_type</th>\n",
       "      <th>region</th>\n",
       "      <th>transportation_type</th>\n",
       "      <th>alternative_name</th>\n",
       "      <th>sub-region</th>\n",
       "      <th>country</th>\n",
       "      <th>2020-01-13</th>\n",
       "      <th>2020-01-14</th>\n",
       "      <th>2020-01-15</th>\n",
       "      <th>2020-01-16</th>\n",
       "      <th>...</th>\n",
       "      <th>2020-06-15</th>\n",
       "      <th>2020-06-16</th>\n",
       "      <th>2020-06-17</th>\n",
       "      <th>2020-06-18</th>\n",
       "      <th>2020-06-19</th>\n",
       "      <th>2020-06-20</th>\n",
       "      <th>2020-06-21</th>\n",
       "      <th>2020-06-22</th>\n",
       "      <th>2020-06-23</th>\n",
       "      <th>2020-06-24</th>\n",
       "    </tr>\n",
       "  </thead>\n",
       "  <tbody>\n",
       "    <tr>\n",
       "      <td>0</td>\n",
       "      <td>country/region</td>\n",
       "      <td>Albania</td>\n",
       "      <td>driving</td>\n",
       "      <td>NaN</td>\n",
       "      <td>NaN</td>\n",
       "      <td>NaN</td>\n",
       "      <td>100.0</td>\n",
       "      <td>95.30</td>\n",
       "      <td>101.43</td>\n",
       "      <td>97.20</td>\n",
       "      <td>...</td>\n",
       "      <td>101.84</td>\n",
       "      <td>97.59</td>\n",
       "      <td>95.12</td>\n",
       "      <td>99.95</td>\n",
       "      <td>119.85</td>\n",
       "      <td>136.26</td>\n",
       "      <td>128.16</td>\n",
       "      <td>109.24</td>\n",
       "      <td>105.57</td>\n",
       "      <td>113.27</td>\n",
       "    </tr>\n",
       "    <tr>\n",
       "      <td>1</td>\n",
       "      <td>country/region</td>\n",
       "      <td>Albania</td>\n",
       "      <td>walking</td>\n",
       "      <td>NaN</td>\n",
       "      <td>NaN</td>\n",
       "      <td>NaN</td>\n",
       "      <td>100.0</td>\n",
       "      <td>100.68</td>\n",
       "      <td>98.93</td>\n",
       "      <td>98.46</td>\n",
       "      <td>...</td>\n",
       "      <td>88.49</td>\n",
       "      <td>92.28</td>\n",
       "      <td>89.77</td>\n",
       "      <td>94.63</td>\n",
       "      <td>96.59</td>\n",
       "      <td>97.74</td>\n",
       "      <td>84.18</td>\n",
       "      <td>96.67</td>\n",
       "      <td>97.83</td>\n",
       "      <td>103.88</td>\n",
       "    </tr>\n",
       "    <tr>\n",
       "      <td>2</td>\n",
       "      <td>country/region</td>\n",
       "      <td>Argentina</td>\n",
       "      <td>driving</td>\n",
       "      <td>NaN</td>\n",
       "      <td>NaN</td>\n",
       "      <td>NaN</td>\n",
       "      <td>100.0</td>\n",
       "      <td>97.07</td>\n",
       "      <td>102.45</td>\n",
       "      <td>111.21</td>\n",
       "      <td>...</td>\n",
       "      <td>33.74</td>\n",
       "      <td>48.36</td>\n",
       "      <td>49.04</td>\n",
       "      <td>50.71</td>\n",
       "      <td>60.57</td>\n",
       "      <td>57.48</td>\n",
       "      <td>32.01</td>\n",
       "      <td>42.79</td>\n",
       "      <td>46.38</td>\n",
       "      <td>48.12</td>\n",
       "    </tr>\n",
       "    <tr>\n",
       "      <td>3</td>\n",
       "      <td>country/region</td>\n",
       "      <td>Argentina</td>\n",
       "      <td>walking</td>\n",
       "      <td>NaN</td>\n",
       "      <td>NaN</td>\n",
       "      <td>NaN</td>\n",
       "      <td>100.0</td>\n",
       "      <td>95.11</td>\n",
       "      <td>101.37</td>\n",
       "      <td>112.67</td>\n",
       "      <td>...</td>\n",
       "      <td>25.34</td>\n",
       "      <td>35.80</td>\n",
       "      <td>36.15</td>\n",
       "      <td>37.47</td>\n",
       "      <td>42.79</td>\n",
       "      <td>40.95</td>\n",
       "      <td>24.00</td>\n",
       "      <td>31.28</td>\n",
       "      <td>33.56</td>\n",
       "      <td>34.09</td>\n",
       "    </tr>\n",
       "    <tr>\n",
       "      <td>4</td>\n",
       "      <td>country/region</td>\n",
       "      <td>Australia</td>\n",
       "      <td>driving</td>\n",
       "      <td>AU</td>\n",
       "      <td>NaN</td>\n",
       "      <td>NaN</td>\n",
       "      <td>100.0</td>\n",
       "      <td>102.98</td>\n",
       "      <td>104.21</td>\n",
       "      <td>108.63</td>\n",
       "      <td>...</td>\n",
       "      <td>89.68</td>\n",
       "      <td>92.79</td>\n",
       "      <td>94.78</td>\n",
       "      <td>103.06</td>\n",
       "      <td>106.05</td>\n",
       "      <td>85.04</td>\n",
       "      <td>88.15</td>\n",
       "      <td>91.10</td>\n",
       "      <td>94.49</td>\n",
       "      <td>97.77</td>\n",
       "    </tr>\n",
       "  </tbody>\n",
       "</table>\n",
       "<p>5 rows × 170 columns</p>\n",
       "</div>"
      ],
      "text/plain": [
       "         geo_type     region transportation_type alternative_name sub-region  \\\n",
       "0  country/region    Albania             driving              NaN        NaN   \n",
       "1  country/region    Albania             walking              NaN        NaN   \n",
       "2  country/region  Argentina             driving              NaN        NaN   \n",
       "3  country/region  Argentina             walking              NaN        NaN   \n",
       "4  country/region  Australia             driving               AU        NaN   \n",
       "\n",
       "  country  2020-01-13  2020-01-14  2020-01-15  2020-01-16  ...  2020-06-15  \\\n",
       "0     NaN       100.0       95.30      101.43       97.20  ...      101.84   \n",
       "1     NaN       100.0      100.68       98.93       98.46  ...       88.49   \n",
       "2     NaN       100.0       97.07      102.45      111.21  ...       33.74   \n",
       "3     NaN       100.0       95.11      101.37      112.67  ...       25.34   \n",
       "4     NaN       100.0      102.98      104.21      108.63  ...       89.68   \n",
       "\n",
       "   2020-06-16  2020-06-17  2020-06-18  2020-06-19  2020-06-20  2020-06-21  \\\n",
       "0       97.59       95.12       99.95      119.85      136.26      128.16   \n",
       "1       92.28       89.77       94.63       96.59       97.74       84.18   \n",
       "2       48.36       49.04       50.71       60.57       57.48       32.01   \n",
       "3       35.80       36.15       37.47       42.79       40.95       24.00   \n",
       "4       92.79       94.78      103.06      106.05       85.04       88.15   \n",
       "\n",
       "   2020-06-22  2020-06-23  2020-06-24  \n",
       "0      109.24      105.57      113.27  \n",
       "1       96.67       97.83      103.88  \n",
       "2       42.79       46.38       48.12  \n",
       "3       31.28       33.56       34.09  \n",
       "4       91.10       94.49       97.77  \n",
       "\n",
       "[5 rows x 170 columns]"
      ]
     },
     "execution_count": 31,
     "metadata": {},
     "output_type": "execute_result"
    }
   ],
   "source": [
    "import pandas as pd\n",
    "import numpy as np\n",
    "import matplotlib as mlt\n",
    "import matplotlib.pyplot as plt\n",
    "import seaborn as sb\n",
    "import statistics \n",
    "#import folium\n",
    "import os\n",
    "from datetime import datetime\n",
    "\n",
    "for dirname, _, filenames in os.walk('/kaggle/input'):\n",
    "    for filename in filenames:\n",
    "        print(os.path.join(dirname, filename))\n",
    "        \n",
    "Mobility_Apple = pd.read_csv('/Users/yosrabahri/Documents/AMI/Mobility data/applemobilitytrends-2020-06-24.csv')\n",
    "#Mobility_Apple.drop('Unnamed: 0', axis=1, inplace=True)\n",
    "Mobility_Apple.head()\n"
   ]
  },
  {
   "cell_type": "markdown",
   "metadata": {},
   "source": [
    "# Cleaning and shaping the dataset "
   ]
  },
  {
   "cell_type": "code",
   "execution_count": 32,
   "metadata": {},
   "outputs": [
    {
     "name": "stdout",
     "output_type": "stream",
     "text": [
      "geo_type               country/regioncountry/regioncountry/regioncoun...\n",
      "region                 AlbaniaAlbaniaArgentinaArgentinaAustraliaAustr...\n",
      "transportation_type    drivingwalkingdrivingwalkingdrivingtransitwalk...\n",
      "2020-01-13                                                        358600\n",
      "2020-01-14                                                        365736\n",
      "                                             ...                        \n",
      "2020-06-20                                                        621975\n",
      "2020-06-21                                                        497151\n",
      "2020-06-22                                                        514111\n",
      "2020-06-23                                                        518933\n",
      "2020-06-24                                                        535911\n",
      "Length: 167, dtype: object\n"
     ]
    },
    {
     "data": {
      "text/plain": [
       "(3625, 170)"
      ]
     },
     "execution_count": 32,
     "metadata": {},
     "output_type": "execute_result"
    }
   ],
   "source": [
    "print(Mobility_Apple.sum())\n",
    "Mobility_Apple.shape"
   ]
  },
  {
   "cell_type": "markdown",
   "metadata": {},
   "source": [
    "We print out the NaN data to see if this dataset is usuable."
   ]
  },
  {
   "cell_type": "code",
   "execution_count": 33,
   "metadata": {},
   "outputs": [
    {
     "name": "stdout",
     "output_type": "stream",
     "text": [
      "geo_type                  0\n",
      "region                    0\n",
      "transportation_type       0\n",
      "alternative_name       2892\n",
      "sub-region              844\n",
      "                       ... \n",
      "2020-06-20               39\n",
      "2020-06-21               39\n",
      "2020-06-22               39\n",
      "2020-06-23               39\n",
      "2020-06-24               39\n",
      "Length: 170, dtype: int64\n"
     ]
    }
   ],
   "source": [
    "print(Mobility_Apple.isnull().sum())"
   ]
  },
  {
   "cell_type": "markdown",
   "metadata": {},
   "source": [
    "We delete the row alternative_name since we won't need it."
   ]
  },
  {
   "cell_type": "code",
   "execution_count": 34,
   "metadata": {},
   "outputs": [
    {
     "data": {
      "text/html": [
       "<div>\n",
       "<style scoped>\n",
       "    .dataframe tbody tr th:only-of-type {\n",
       "        vertical-align: middle;\n",
       "    }\n",
       "\n",
       "    .dataframe tbody tr th {\n",
       "        vertical-align: top;\n",
       "    }\n",
       "\n",
       "    .dataframe thead th {\n",
       "        text-align: right;\n",
       "    }\n",
       "</style>\n",
       "<table border=\"1\" class=\"dataframe\">\n",
       "  <thead>\n",
       "    <tr style=\"text-align: right;\">\n",
       "      <th></th>\n",
       "      <th>geo_type</th>\n",
       "      <th>region</th>\n",
       "      <th>transportation_type</th>\n",
       "      <th>sub-region</th>\n",
       "      <th>country</th>\n",
       "      <th>2020-01-13</th>\n",
       "      <th>2020-01-14</th>\n",
       "      <th>2020-01-15</th>\n",
       "      <th>2020-01-16</th>\n",
       "      <th>2020-01-17</th>\n",
       "      <th>...</th>\n",
       "      <th>2020-06-15</th>\n",
       "      <th>2020-06-16</th>\n",
       "      <th>2020-06-17</th>\n",
       "      <th>2020-06-18</th>\n",
       "      <th>2020-06-19</th>\n",
       "      <th>2020-06-20</th>\n",
       "      <th>2020-06-21</th>\n",
       "      <th>2020-06-22</th>\n",
       "      <th>2020-06-23</th>\n",
       "      <th>2020-06-24</th>\n",
       "    </tr>\n",
       "  </thead>\n",
       "  <tbody>\n",
       "    <tr>\n",
       "      <td>0</td>\n",
       "      <td>country/region</td>\n",
       "      <td>Albania</td>\n",
       "      <td>driving</td>\n",
       "      <td>NaN</td>\n",
       "      <td>NaN</td>\n",
       "      <td>100.0</td>\n",
       "      <td>95.30</td>\n",
       "      <td>101.43</td>\n",
       "      <td>97.20</td>\n",
       "      <td>103.55</td>\n",
       "      <td>...</td>\n",
       "      <td>101.84</td>\n",
       "      <td>97.59</td>\n",
       "      <td>95.12</td>\n",
       "      <td>99.95</td>\n",
       "      <td>119.85</td>\n",
       "      <td>136.26</td>\n",
       "      <td>128.16</td>\n",
       "      <td>109.24</td>\n",
       "      <td>105.57</td>\n",
       "      <td>113.27</td>\n",
       "    </tr>\n",
       "    <tr>\n",
       "      <td>1</td>\n",
       "      <td>country/region</td>\n",
       "      <td>Albania</td>\n",
       "      <td>walking</td>\n",
       "      <td>NaN</td>\n",
       "      <td>NaN</td>\n",
       "      <td>100.0</td>\n",
       "      <td>100.68</td>\n",
       "      <td>98.93</td>\n",
       "      <td>98.46</td>\n",
       "      <td>100.85</td>\n",
       "      <td>...</td>\n",
       "      <td>88.49</td>\n",
       "      <td>92.28</td>\n",
       "      <td>89.77</td>\n",
       "      <td>94.63</td>\n",
       "      <td>96.59</td>\n",
       "      <td>97.74</td>\n",
       "      <td>84.18</td>\n",
       "      <td>96.67</td>\n",
       "      <td>97.83</td>\n",
       "      <td>103.88</td>\n",
       "    </tr>\n",
       "    <tr>\n",
       "      <td>2</td>\n",
       "      <td>country/region</td>\n",
       "      <td>Argentina</td>\n",
       "      <td>driving</td>\n",
       "      <td>NaN</td>\n",
       "      <td>NaN</td>\n",
       "      <td>100.0</td>\n",
       "      <td>97.07</td>\n",
       "      <td>102.45</td>\n",
       "      <td>111.21</td>\n",
       "      <td>118.45</td>\n",
       "      <td>...</td>\n",
       "      <td>33.74</td>\n",
       "      <td>48.36</td>\n",
       "      <td>49.04</td>\n",
       "      <td>50.71</td>\n",
       "      <td>60.57</td>\n",
       "      <td>57.48</td>\n",
       "      <td>32.01</td>\n",
       "      <td>42.79</td>\n",
       "      <td>46.38</td>\n",
       "      <td>48.12</td>\n",
       "    </tr>\n",
       "    <tr>\n",
       "      <td>3</td>\n",
       "      <td>country/region</td>\n",
       "      <td>Argentina</td>\n",
       "      <td>walking</td>\n",
       "      <td>NaN</td>\n",
       "      <td>NaN</td>\n",
       "      <td>100.0</td>\n",
       "      <td>95.11</td>\n",
       "      <td>101.37</td>\n",
       "      <td>112.67</td>\n",
       "      <td>116.72</td>\n",
       "      <td>...</td>\n",
       "      <td>25.34</td>\n",
       "      <td>35.80</td>\n",
       "      <td>36.15</td>\n",
       "      <td>37.47</td>\n",
       "      <td>42.79</td>\n",
       "      <td>40.95</td>\n",
       "      <td>24.00</td>\n",
       "      <td>31.28</td>\n",
       "      <td>33.56</td>\n",
       "      <td>34.09</td>\n",
       "    </tr>\n",
       "    <tr>\n",
       "      <td>4</td>\n",
       "      <td>country/region</td>\n",
       "      <td>Australia</td>\n",
       "      <td>driving</td>\n",
       "      <td>NaN</td>\n",
       "      <td>NaN</td>\n",
       "      <td>100.0</td>\n",
       "      <td>102.98</td>\n",
       "      <td>104.21</td>\n",
       "      <td>108.63</td>\n",
       "      <td>109.08</td>\n",
       "      <td>...</td>\n",
       "      <td>89.68</td>\n",
       "      <td>92.79</td>\n",
       "      <td>94.78</td>\n",
       "      <td>103.06</td>\n",
       "      <td>106.05</td>\n",
       "      <td>85.04</td>\n",
       "      <td>88.15</td>\n",
       "      <td>91.10</td>\n",
       "      <td>94.49</td>\n",
       "      <td>97.77</td>\n",
       "    </tr>\n",
       "    <tr>\n",
       "      <td>...</td>\n",
       "      <td>...</td>\n",
       "      <td>...</td>\n",
       "      <td>...</td>\n",
       "      <td>...</td>\n",
       "      <td>...</td>\n",
       "      <td>...</td>\n",
       "      <td>...</td>\n",
       "      <td>...</td>\n",
       "      <td>...</td>\n",
       "      <td>...</td>\n",
       "      <td>...</td>\n",
       "      <td>...</td>\n",
       "      <td>...</td>\n",
       "      <td>...</td>\n",
       "      <td>...</td>\n",
       "      <td>...</td>\n",
       "      <td>...</td>\n",
       "      <td>...</td>\n",
       "      <td>...</td>\n",
       "      <td>...</td>\n",
       "      <td>...</td>\n",
       "    </tr>\n",
       "    <tr>\n",
       "      <td>3620</td>\n",
       "      <td>county</td>\n",
       "      <td>York County</td>\n",
       "      <td>driving</td>\n",
       "      <td>Virginia</td>\n",
       "      <td>United States</td>\n",
       "      <td>100.0</td>\n",
       "      <td>100.96</td>\n",
       "      <td>111.03</td>\n",
       "      <td>111.97</td>\n",
       "      <td>136.50</td>\n",
       "      <td>...</td>\n",
       "      <td>150.99</td>\n",
       "      <td>142.99</td>\n",
       "      <td>149.53</td>\n",
       "      <td>168.66</td>\n",
       "      <td>199.54</td>\n",
       "      <td>235.96</td>\n",
       "      <td>167.22</td>\n",
       "      <td>159.07</td>\n",
       "      <td>184.33</td>\n",
       "      <td>178.73</td>\n",
       "    </tr>\n",
       "    <tr>\n",
       "      <td>3621</td>\n",
       "      <td>county</td>\n",
       "      <td>York County</td>\n",
       "      <td>driving</td>\n",
       "      <td>Maine</td>\n",
       "      <td>United States</td>\n",
       "      <td>100.0</td>\n",
       "      <td>103.05</td>\n",
       "      <td>103.98</td>\n",
       "      <td>82.24</td>\n",
       "      <td>129.29</td>\n",
       "      <td>...</td>\n",
       "      <td>171.46</td>\n",
       "      <td>174.12</td>\n",
       "      <td>184.54</td>\n",
       "      <td>200.76</td>\n",
       "      <td>240.55</td>\n",
       "      <td>246.19</td>\n",
       "      <td>207.79</td>\n",
       "      <td>188.26</td>\n",
       "      <td>193.35</td>\n",
       "      <td>186.68</td>\n",
       "    </tr>\n",
       "    <tr>\n",
       "      <td>3622</td>\n",
       "      <td>county</td>\n",
       "      <td>Young County</td>\n",
       "      <td>driving</td>\n",
       "      <td>Texas</td>\n",
       "      <td>United States</td>\n",
       "      <td>100.0</td>\n",
       "      <td>98.85</td>\n",
       "      <td>97.76</td>\n",
       "      <td>92.21</td>\n",
       "      <td>115.79</td>\n",
       "      <td>...</td>\n",
       "      <td>155.15</td>\n",
       "      <td>163.01</td>\n",
       "      <td>169.11</td>\n",
       "      <td>152.37</td>\n",
       "      <td>188.48</td>\n",
       "      <td>200.47</td>\n",
       "      <td>171.41</td>\n",
       "      <td>157.59</td>\n",
       "      <td>144.38</td>\n",
       "      <td>177.03</td>\n",
       "    </tr>\n",
       "    <tr>\n",
       "      <td>3623</td>\n",
       "      <td>county</td>\n",
       "      <td>Yuba County</td>\n",
       "      <td>driving</td>\n",
       "      <td>California</td>\n",
       "      <td>United States</td>\n",
       "      <td>100.0</td>\n",
       "      <td>102.98</td>\n",
       "      <td>103.10</td>\n",
       "      <td>114.08</td>\n",
       "      <td>118.83</td>\n",
       "      <td>...</td>\n",
       "      <td>146.81</td>\n",
       "      <td>151.66</td>\n",
       "      <td>153.60</td>\n",
       "      <td>154.83</td>\n",
       "      <td>181.33</td>\n",
       "      <td>190.91</td>\n",
       "      <td>180.60</td>\n",
       "      <td>161.82</td>\n",
       "      <td>153.96</td>\n",
       "      <td>156.65</td>\n",
       "    </tr>\n",
       "    <tr>\n",
       "      <td>3624</td>\n",
       "      <td>county</td>\n",
       "      <td>Yuma County</td>\n",
       "      <td>driving</td>\n",
       "      <td>Arizona</td>\n",
       "      <td>United States</td>\n",
       "      <td>100.0</td>\n",
       "      <td>101.82</td>\n",
       "      <td>106.67</td>\n",
       "      <td>108.93</td>\n",
       "      <td>135.92</td>\n",
       "      <td>...</td>\n",
       "      <td>111.64</td>\n",
       "      <td>111.90</td>\n",
       "      <td>108.80</td>\n",
       "      <td>118.52</td>\n",
       "      <td>134.33</td>\n",
       "      <td>125.80</td>\n",
       "      <td>97.72</td>\n",
       "      <td>113.91</td>\n",
       "      <td>112.03</td>\n",
       "      <td>110.73</td>\n",
       "    </tr>\n",
       "  </tbody>\n",
       "</table>\n",
       "<p>3625 rows × 169 columns</p>\n",
       "</div>"
      ],
      "text/plain": [
       "            geo_type        region transportation_type  sub-region  \\\n",
       "0     country/region       Albania             driving         NaN   \n",
       "1     country/region       Albania             walking         NaN   \n",
       "2     country/region     Argentina             driving         NaN   \n",
       "3     country/region     Argentina             walking         NaN   \n",
       "4     country/region     Australia             driving         NaN   \n",
       "...              ...           ...                 ...         ...   \n",
       "3620          county   York County             driving    Virginia   \n",
       "3621          county   York County             driving       Maine   \n",
       "3622          county  Young County             driving       Texas   \n",
       "3623          county   Yuba County             driving  California   \n",
       "3624          county   Yuma County             driving     Arizona   \n",
       "\n",
       "            country  2020-01-13  2020-01-14  2020-01-15  2020-01-16  \\\n",
       "0               NaN       100.0       95.30      101.43       97.20   \n",
       "1               NaN       100.0      100.68       98.93       98.46   \n",
       "2               NaN       100.0       97.07      102.45      111.21   \n",
       "3               NaN       100.0       95.11      101.37      112.67   \n",
       "4               NaN       100.0      102.98      104.21      108.63   \n",
       "...             ...         ...         ...         ...         ...   \n",
       "3620  United States       100.0      100.96      111.03      111.97   \n",
       "3621  United States       100.0      103.05      103.98       82.24   \n",
       "3622  United States       100.0       98.85       97.76       92.21   \n",
       "3623  United States       100.0      102.98      103.10      114.08   \n",
       "3624  United States       100.0      101.82      106.67      108.93   \n",
       "\n",
       "      2020-01-17  ...  2020-06-15  2020-06-16  2020-06-17  2020-06-18  \\\n",
       "0         103.55  ...      101.84       97.59       95.12       99.95   \n",
       "1         100.85  ...       88.49       92.28       89.77       94.63   \n",
       "2         118.45  ...       33.74       48.36       49.04       50.71   \n",
       "3         116.72  ...       25.34       35.80       36.15       37.47   \n",
       "4         109.08  ...       89.68       92.79       94.78      103.06   \n",
       "...          ...  ...         ...         ...         ...         ...   \n",
       "3620      136.50  ...      150.99      142.99      149.53      168.66   \n",
       "3621      129.29  ...      171.46      174.12      184.54      200.76   \n",
       "3622      115.79  ...      155.15      163.01      169.11      152.37   \n",
       "3623      118.83  ...      146.81      151.66      153.60      154.83   \n",
       "3624      135.92  ...      111.64      111.90      108.80      118.52   \n",
       "\n",
       "      2020-06-19  2020-06-20  2020-06-21  2020-06-22  2020-06-23  2020-06-24  \n",
       "0         119.85      136.26      128.16      109.24      105.57      113.27  \n",
       "1          96.59       97.74       84.18       96.67       97.83      103.88  \n",
       "2          60.57       57.48       32.01       42.79       46.38       48.12  \n",
       "3          42.79       40.95       24.00       31.28       33.56       34.09  \n",
       "4         106.05       85.04       88.15       91.10       94.49       97.77  \n",
       "...          ...         ...         ...         ...         ...         ...  \n",
       "3620      199.54      235.96      167.22      159.07      184.33      178.73  \n",
       "3621      240.55      246.19      207.79      188.26      193.35      186.68  \n",
       "3622      188.48      200.47      171.41      157.59      144.38      177.03  \n",
       "3623      181.33      190.91      180.60      161.82      153.96      156.65  \n",
       "3624      134.33      125.80       97.72      113.91      112.03      110.73  \n",
       "\n",
       "[3625 rows x 169 columns]"
      ]
     },
     "execution_count": 34,
     "metadata": {},
     "output_type": "execute_result"
    }
   ],
   "source": [
    "Mobility_Apple.drop(\"alternative_name\", axis=1)"
   ]
  },
  {
   "cell_type": "markdown",
   "metadata": {},
   "source": [
    "# Simple data exploration"
   ]
  },
  {
   "cell_type": "code",
   "execution_count": 35,
   "metadata": {},
   "outputs": [
    {
     "name": "stdout",
     "output_type": "stream",
     "text": [
      "There are a total of 153 countires and 3472 cities with provided mobility data.\n"
     ]
    }
   ],
   "source": [
    "geo_mask = Mobility_Apple[\"geo_type\"] == \"country/region\"\n",
    "mobility_countries = Mobility_Apple[geo_mask]\n",
    "mobility_cities = Mobility_Apple[~geo_mask]\n",
    "print(\"There are a total of {} countires and {} cities with provided mobility data.\".format(len(mobility_countries),\n",
    "                                                                                           len(mobility_cities)))"
   ]
  },
  {
   "cell_type": "markdown",
   "metadata": {},
   "source": [
    "We focus on the mobility data provided for germany\n",
    "we create a new Dataframe called germany."
   ]
  },
  {
   "cell_type": "code",
   "execution_count": 36,
   "metadata": {},
   "outputs": [
    {
     "data": {
      "text/html": [
       "<div>\n",
       "<style scoped>\n",
       "    .dataframe tbody tr th:only-of-type {\n",
       "        vertical-align: middle;\n",
       "    }\n",
       "\n",
       "    .dataframe tbody tr th {\n",
       "        vertical-align: top;\n",
       "    }\n",
       "\n",
       "    .dataframe thead th {\n",
       "        text-align: right;\n",
       "    }\n",
       "</style>\n",
       "<table border=\"1\" class=\"dataframe\">\n",
       "  <thead>\n",
       "    <tr style=\"text-align: right;\">\n",
       "      <th></th>\n",
       "      <th>geo_type</th>\n",
       "      <th>region</th>\n",
       "      <th>transportation_type</th>\n",
       "      <th>alternative_name</th>\n",
       "      <th>sub-region</th>\n",
       "      <th>country</th>\n",
       "      <th>2020-01-13</th>\n",
       "      <th>2020-01-14</th>\n",
       "      <th>2020-01-15</th>\n",
       "      <th>2020-01-16</th>\n",
       "      <th>...</th>\n",
       "      <th>2020-06-15</th>\n",
       "      <th>2020-06-16</th>\n",
       "      <th>2020-06-17</th>\n",
       "      <th>2020-06-18</th>\n",
       "      <th>2020-06-19</th>\n",
       "      <th>2020-06-20</th>\n",
       "      <th>2020-06-21</th>\n",
       "      <th>2020-06-22</th>\n",
       "      <th>2020-06-23</th>\n",
       "      <th>2020-06-24</th>\n",
       "    </tr>\n",
       "  </thead>\n",
       "  <tbody>\n",
       "    <tr>\n",
       "      <td>45</td>\n",
       "      <td>country/region</td>\n",
       "      <td>Germany</td>\n",
       "      <td>driving</td>\n",
       "      <td>Deutschland</td>\n",
       "      <td>NaN</td>\n",
       "      <td>NaN</td>\n",
       "      <td>100.0</td>\n",
       "      <td>101.31</td>\n",
       "      <td>102.82</td>\n",
       "      <td>104.61</td>\n",
       "      <td>...</td>\n",
       "      <td>117.11</td>\n",
       "      <td>118.08</td>\n",
       "      <td>119.46</td>\n",
       "      <td>121.90</td>\n",
       "      <td>131.22</td>\n",
       "      <td>123.26</td>\n",
       "      <td>127.78</td>\n",
       "      <td>121.89</td>\n",
       "      <td>127.65</td>\n",
       "      <td>128.77</td>\n",
       "    </tr>\n",
       "    <tr>\n",
       "      <td>46</td>\n",
       "      <td>country/region</td>\n",
       "      <td>Germany</td>\n",
       "      <td>transit</td>\n",
       "      <td>Deutschland</td>\n",
       "      <td>NaN</td>\n",
       "      <td>NaN</td>\n",
       "      <td>100.0</td>\n",
       "      <td>102.85</td>\n",
       "      <td>102.41</td>\n",
       "      <td>105.37</td>\n",
       "      <td>...</td>\n",
       "      <td>95.82</td>\n",
       "      <td>96.68</td>\n",
       "      <td>96.02</td>\n",
       "      <td>93.76</td>\n",
       "      <td>96.46</td>\n",
       "      <td>94.71</td>\n",
       "      <td>95.46</td>\n",
       "      <td>102.85</td>\n",
       "      <td>106.91</td>\n",
       "      <td>106.25</td>\n",
       "    </tr>\n",
       "    <tr>\n",
       "      <td>47</td>\n",
       "      <td>country/region</td>\n",
       "      <td>Germany</td>\n",
       "      <td>walking</td>\n",
       "      <td>Deutschland</td>\n",
       "      <td>NaN</td>\n",
       "      <td>NaN</td>\n",
       "      <td>100.0</td>\n",
       "      <td>104.04</td>\n",
       "      <td>107.18</td>\n",
       "      <td>110.76</td>\n",
       "      <td>...</td>\n",
       "      <td>104.74</td>\n",
       "      <td>107.81</td>\n",
       "      <td>107.90</td>\n",
       "      <td>110.78</td>\n",
       "      <td>118.48</td>\n",
       "      <td>131.78</td>\n",
       "      <td>112.89</td>\n",
       "      <td>115.69</td>\n",
       "      <td>123.12</td>\n",
       "      <td>122.28</td>\n",
       "    </tr>\n",
       "  </tbody>\n",
       "</table>\n",
       "<p>3 rows × 170 columns</p>\n",
       "</div>"
      ],
      "text/plain": [
       "          geo_type   region transportation_type alternative_name sub-region  \\\n",
       "45  country/region  Germany             driving      Deutschland        NaN   \n",
       "46  country/region  Germany             transit      Deutschland        NaN   \n",
       "47  country/region  Germany             walking      Deutschland        NaN   \n",
       "\n",
       "   country  2020-01-13  2020-01-14  2020-01-15  2020-01-16  ...  2020-06-15  \\\n",
       "45     NaN       100.0      101.31      102.82      104.61  ...      117.11   \n",
       "46     NaN       100.0      102.85      102.41      105.37  ...       95.82   \n",
       "47     NaN       100.0      104.04      107.18      110.76  ...      104.74   \n",
       "\n",
       "    2020-06-16  2020-06-17  2020-06-18  2020-06-19  2020-06-20  2020-06-21  \\\n",
       "45      118.08      119.46      121.90      131.22      123.26      127.78   \n",
       "46       96.68       96.02       93.76       96.46       94.71       95.46   \n",
       "47      107.81      107.90      110.78      118.48      131.78      112.89   \n",
       "\n",
       "    2020-06-22  2020-06-23  2020-06-24  \n",
       "45      121.89      127.65      128.77  \n",
       "46      102.85      106.91      106.25  \n",
       "47      115.69      123.12      122.28  \n",
       "\n",
       "[3 rows x 170 columns]"
      ]
     },
     "execution_count": 36,
     "metadata": {},
     "output_type": "execute_result"
    }
   ],
   "source": [
    "Germany=Mobility_Apple[Mobility_Apple.region == 'Germany'].copy()\n",
    "Germany.head(60)"
   ]
  },
  {
   "cell_type": "code",
   "execution_count": 38,
   "metadata": {},
   "outputs": [
    {
     "data": {
      "text/html": [
       "<div>\n",
       "<style scoped>\n",
       "    .dataframe tbody tr th:only-of-type {\n",
       "        vertical-align: middle;\n",
       "    }\n",
       "\n",
       "    .dataframe tbody tr th {\n",
       "        vertical-align: top;\n",
       "    }\n",
       "\n",
       "    .dataframe thead th {\n",
       "        text-align: right;\n",
       "    }\n",
       "</style>\n",
       "<table border=\"1\" class=\"dataframe\">\n",
       "  <thead>\n",
       "    <tr style=\"text-align: right;\">\n",
       "      <th></th>\n",
       "      <th>geo_type</th>\n",
       "      <th>region</th>\n",
       "      <th>transportation_type</th>\n",
       "      <th>Date</th>\n",
       "      <th>pct_of_baseline</th>\n",
       "    </tr>\n",
       "  </thead>\n",
       "  <tbody>\n",
       "    <tr>\n",
       "      <td>0</td>\n",
       "      <td>country/region</td>\n",
       "      <td>Germany</td>\n",
       "      <td>driving</td>\n",
       "      <td>alternative_name</td>\n",
       "      <td>Deutschland</td>\n",
       "    </tr>\n",
       "    <tr>\n",
       "      <td>1</td>\n",
       "      <td>country/region</td>\n",
       "      <td>Germany</td>\n",
       "      <td>transit</td>\n",
       "      <td>alternative_name</td>\n",
       "      <td>Deutschland</td>\n",
       "    </tr>\n",
       "    <tr>\n",
       "      <td>2</td>\n",
       "      <td>country/region</td>\n",
       "      <td>Germany</td>\n",
       "      <td>walking</td>\n",
       "      <td>alternative_name</td>\n",
       "      <td>Deutschland</td>\n",
       "    </tr>\n",
       "    <tr>\n",
       "      <td>3</td>\n",
       "      <td>country/region</td>\n",
       "      <td>Germany</td>\n",
       "      <td>driving</td>\n",
       "      <td>sub-region</td>\n",
       "      <td>NaN</td>\n",
       "    </tr>\n",
       "    <tr>\n",
       "      <td>4</td>\n",
       "      <td>country/region</td>\n",
       "      <td>Germany</td>\n",
       "      <td>transit</td>\n",
       "      <td>sub-region</td>\n",
       "      <td>NaN</td>\n",
       "    </tr>\n",
       "  </tbody>\n",
       "</table>\n",
       "</div>"
      ],
      "text/plain": [
       "         geo_type   region transportation_type              Date  \\\n",
       "0  country/region  Germany             driving  alternative_name   \n",
       "1  country/region  Germany             transit  alternative_name   \n",
       "2  country/region  Germany             walking  alternative_name   \n",
       "3  country/region  Germany             driving        sub-region   \n",
       "4  country/region  Germany             transit        sub-region   \n",
       "\n",
       "  pct_of_baseline  \n",
       "0     Deutschland  \n",
       "1     Deutschland  \n",
       "2     Deutschland  \n",
       "3             NaN  \n",
       "4             NaN  "
      ]
     },
     "execution_count": 38,
     "metadata": {},
     "output_type": "execute_result"
    }
   ],
   "source": [
    "#Melt into timeseries\n",
    "id_vars = [\"geo_type\", \"region\",\"transportation_type\"]\n",
    "\n",
    "Germany_new=Germany.melt(id_vars=id_vars,var_name=\"Date\",value_name=\"pct_of_baseline\")\n",
    "#Germany_new = mobility_cities.melt(id_vars=id_vars,var_name=\"Date\",value_name=\"pct_of_baseline\")\n",
    "#mobility_cities_melted.head()\n",
    "Germany_new.head()"
   ]
  },
  {
   "cell_type": "code",
   "execution_count": 39,
   "metadata": {},
   "outputs": [
    {
     "data": {
      "text/html": [
       "<div>\n",
       "<style scoped>\n",
       "    .dataframe tbody tr th:only-of-type {\n",
       "        vertical-align: middle;\n",
       "    }\n",
       "\n",
       "    .dataframe tbody tr th {\n",
       "        vertical-align: top;\n",
       "    }\n",
       "\n",
       "    .dataframe thead th {\n",
       "        text-align: right;\n",
       "    }\n",
       "</style>\n",
       "<table border=\"1\" class=\"dataframe\">\n",
       "  <thead>\n",
       "    <tr style=\"text-align: right;\">\n",
       "      <th></th>\n",
       "      <th>geo_type</th>\n",
       "      <th>region</th>\n",
       "      <th>transportation_type</th>\n",
       "      <th>Date</th>\n",
       "      <th>pct_of_baseline</th>\n",
       "    </tr>\n",
       "  </thead>\n",
       "  <tbody>\n",
       "    <tr>\n",
       "      <td>0</td>\n",
       "      <td>city</td>\n",
       "      <td>Aachen</td>\n",
       "      <td>driving</td>\n",
       "      <td>alternative_name</td>\n",
       "      <td>NaN</td>\n",
       "    </tr>\n",
       "    <tr>\n",
       "      <td>1</td>\n",
       "      <td>city</td>\n",
       "      <td>Aachen</td>\n",
       "      <td>walking</td>\n",
       "      <td>alternative_name</td>\n",
       "      <td>NaN</td>\n",
       "    </tr>\n",
       "    <tr>\n",
       "      <td>2</td>\n",
       "      <td>city</td>\n",
       "      <td>Adelaide</td>\n",
       "      <td>driving</td>\n",
       "      <td>alternative_name</td>\n",
       "      <td>NaN</td>\n",
       "    </tr>\n",
       "    <tr>\n",
       "      <td>3</td>\n",
       "      <td>city</td>\n",
       "      <td>Adelaide</td>\n",
       "      <td>transit</td>\n",
       "      <td>alternative_name</td>\n",
       "      <td>NaN</td>\n",
       "    </tr>\n",
       "    <tr>\n",
       "      <td>4</td>\n",
       "      <td>city</td>\n",
       "      <td>Adelaide</td>\n",
       "      <td>walking</td>\n",
       "      <td>alternative_name</td>\n",
       "      <td>NaN</td>\n",
       "    </tr>\n",
       "  </tbody>\n",
       "</table>\n",
       "</div>"
      ],
      "text/plain": [
       "  geo_type    region transportation_type              Date pct_of_baseline\n",
       "0     city    Aachen             driving  alternative_name             NaN\n",
       "1     city    Aachen             walking  alternative_name             NaN\n",
       "2     city  Adelaide             driving  alternative_name             NaN\n",
       "3     city  Adelaide             transit  alternative_name             NaN\n",
       "4     city  Adelaide             walking  alternative_name             NaN"
      ]
     },
     "execution_count": 39,
     "metadata": {},
     "output_type": "execute_result"
    }
   ],
   "source": [
    "#Melt into timeseries\n",
    "id_vars = [\"geo_type\", \"region\",\"transportation_type\"]\n",
    "mobility_countries_melted = mobility_countries.melt(id_vars=id_vars,var_name=\"Date\",value_name=\"pct_of_baseline\")\n",
    "mobility_cities_melted = mobility_cities.melt(id_vars=id_vars,var_name=\"Date\",value_name=\"pct_of_baseline\")\n",
    "mobility_cities_melted.head()"
   ]
  },
  {
   "cell_type": "code",
   "execution_count": 40,
   "metadata": {},
   "outputs": [
    {
     "data": {
      "text/html": [
       "<div>\n",
       "<style scoped>\n",
       "    .dataframe tbody tr th:only-of-type {\n",
       "        vertical-align: middle;\n",
       "    }\n",
       "\n",
       "    .dataframe tbody tr th {\n",
       "        vertical-align: top;\n",
       "    }\n",
       "\n",
       "    .dataframe thead th {\n",
       "        text-align: right;\n",
       "    }\n",
       "</style>\n",
       "<table border=\"1\" class=\"dataframe\">\n",
       "  <thead>\n",
       "    <tr style=\"text-align: right;\">\n",
       "      <th></th>\n",
       "      <th>country/region</th>\n",
       "      <th>city</th>\n",
       "    </tr>\n",
       "  </thead>\n",
       "  <tbody>\n",
       "    <tr>\n",
       "      <td>driving</td>\n",
       "      <td>63</td>\n",
       "      <td>2985</td>\n",
       "    </tr>\n",
       "    <tr>\n",
       "      <td>walking</td>\n",
       "      <td>63</td>\n",
       "      <td>292</td>\n",
       "    </tr>\n",
       "    <tr>\n",
       "      <td>transit</td>\n",
       "      <td>27</td>\n",
       "      <td>195</td>\n",
       "    </tr>\n",
       "  </tbody>\n",
       "</table>\n",
       "</div>"
      ],
      "text/plain": [
       "         country/region  city\n",
       "driving              63  2985\n",
       "walking              63   292\n",
       "transit              27   195"
      ]
     },
     "execution_count": 40,
     "metadata": {},
     "output_type": "execute_result"
    }
   ],
   "source": [
    "def get_trans_count(df):\n",
    "    name = df[\"geo_type\"].iloc[0]\n",
    "    return df[\"transportation_type\"].value_counts().rename(str(name))\n",
    "transport_types_count = pd.concat([get_trans_count(mobility_countries), get_trans_count(mobility_cities)], axis=1, sort=False)\n",
    "transport_types_count"
   ]
  },
  {
   "cell_type": "code",
   "execution_count": 41,
   "metadata": {},
   "outputs": [
    {
     "data": {
      "text/html": [
       "<div>\n",
       "<style scoped>\n",
       "    .dataframe tbody tr th:only-of-type {\n",
       "        vertical-align: middle;\n",
       "    }\n",
       "\n",
       "    .dataframe tbody tr th {\n",
       "        vertical-align: top;\n",
       "    }\n",
       "\n",
       "    .dataframe thead th {\n",
       "        text-align: right;\n",
       "    }\n",
       "</style>\n",
       "<table border=\"1\" class=\"dataframe\">\n",
       "  <thead>\n",
       "    <tr style=\"text-align: right;\">\n",
       "      <th></th>\n",
       "      <th>geo_type</th>\n",
       "      <th>region</th>\n",
       "      <th>transportation_type</th>\n",
       "      <th>Date</th>\n",
       "      <th>pct_of_baseline</th>\n",
       "    </tr>\n",
       "  </thead>\n",
       "  <tbody>\n",
       "    <tr>\n",
       "      <td>0</td>\n",
       "      <td>country/region</td>\n",
       "      <td>Albania</td>\n",
       "      <td>driving</td>\n",
       "      <td>alternative_name</td>\n",
       "      <td>NaN</td>\n",
       "    </tr>\n",
       "    <tr>\n",
       "      <td>1</td>\n",
       "      <td>country/region</td>\n",
       "      <td>Albania</td>\n",
       "      <td>walking</td>\n",
       "      <td>alternative_name</td>\n",
       "      <td>NaN</td>\n",
       "    </tr>\n",
       "    <tr>\n",
       "      <td>2</td>\n",
       "      <td>country/region</td>\n",
       "      <td>Argentina</td>\n",
       "      <td>driving</td>\n",
       "      <td>alternative_name</td>\n",
       "      <td>NaN</td>\n",
       "    </tr>\n",
       "    <tr>\n",
       "      <td>3</td>\n",
       "      <td>country/region</td>\n",
       "      <td>Argentina</td>\n",
       "      <td>walking</td>\n",
       "      <td>alternative_name</td>\n",
       "      <td>NaN</td>\n",
       "    </tr>\n",
       "    <tr>\n",
       "      <td>4</td>\n",
       "      <td>country/region</td>\n",
       "      <td>Australia</td>\n",
       "      <td>driving</td>\n",
       "      <td>alternative_name</td>\n",
       "      <td>AU</td>\n",
       "    </tr>\n",
       "  </tbody>\n",
       "</table>\n",
       "</div>"
      ],
      "text/plain": [
       "         geo_type     region transportation_type              Date  \\\n",
       "0  country/region    Albania             driving  alternative_name   \n",
       "1  country/region    Albania             walking  alternative_name   \n",
       "2  country/region  Argentina             driving  alternative_name   \n",
       "3  country/region  Argentina             walking  alternative_name   \n",
       "4  country/region  Australia             driving  alternative_name   \n",
       "\n",
       "  pct_of_baseline  \n",
       "0             NaN  \n",
       "1             NaN  \n",
       "2             NaN  \n",
       "3             NaN  \n",
       "4              AU  "
      ]
     },
     "execution_count": 41,
     "metadata": {},
     "output_type": "execute_result"
    }
   ],
   "source": [
    "id_vars = [\"geo_type\", \"region\",\"transportation_type\"]\n",
    "mobility_countries_melted = mobility_countries.melt(id_vars=id_vars,var_name=\"Date\",value_name=\"pct_of_baseline\")\n",
    "mobility_countries_melted.head()"
   ]
  },
  {
   "cell_type": "markdown",
   "metadata": {},
   "source": [
    "There are 3 different types of transportation presented in this dataset: driving, transit and walking.\n",
    "We visualize the development of each one in germany from the january 13th till now."
   ]
  },
  {
   "cell_type": "code",
   "execution_count": 42,
   "metadata": {},
   "outputs": [
    {
     "data": {
      "application/vnd.plotly.v1+json": {
       "config": {
        "plotlyServerURL": "https://plot.ly"
       },
       "data": [
        {
         "hovertemplate": "<b>%{hovertext}</b><br><br>transportation_type=driving<br>region=Germany<br>Date=%{x}<br>pct_of_baseline=%{y}<extra></extra>",
         "hovertext": [
          "Germany",
          "Germany",
          "Germany",
          "Germany",
          "Germany",
          "Germany",
          "Germany",
          "Germany",
          "Germany",
          "Germany",
          "Germany",
          "Germany",
          "Germany",
          "Germany",
          "Germany",
          "Germany",
          "Germany",
          "Germany",
          "Germany",
          "Germany",
          "Germany",
          "Germany",
          "Germany",
          "Germany",
          "Germany",
          "Germany",
          "Germany",
          "Germany",
          "Germany",
          "Germany",
          "Germany",
          "Germany",
          "Germany",
          "Germany",
          "Germany",
          "Germany",
          "Germany",
          "Germany",
          "Germany",
          "Germany",
          "Germany",
          "Germany",
          "Germany",
          "Germany",
          "Germany",
          "Germany",
          "Germany",
          "Germany",
          "Germany",
          "Germany",
          "Germany",
          "Germany",
          "Germany",
          "Germany",
          "Germany",
          "Germany",
          "Germany",
          "Germany",
          "Germany",
          "Germany",
          "Germany",
          "Germany",
          "Germany",
          "Germany",
          "Germany",
          "Germany",
          "Germany",
          "Germany",
          "Germany",
          "Germany",
          "Germany",
          "Germany",
          "Germany",
          "Germany",
          "Germany",
          "Germany",
          "Germany",
          "Germany",
          "Germany",
          "Germany",
          "Germany",
          "Germany",
          "Germany",
          "Germany",
          "Germany",
          "Germany",
          "Germany",
          "Germany",
          "Germany",
          "Germany",
          "Germany",
          "Germany",
          "Germany",
          "Germany",
          "Germany",
          "Germany",
          "Germany",
          "Germany",
          "Germany",
          "Germany",
          "Germany",
          "Germany",
          "Germany",
          "Germany",
          "Germany",
          "Germany",
          "Germany",
          "Germany",
          "Germany",
          "Germany",
          "Germany",
          "Germany",
          "Germany",
          "Germany",
          "Germany",
          "Germany",
          "Germany",
          "Germany",
          "Germany",
          "Germany",
          "Germany",
          "Germany",
          "Germany",
          "Germany",
          "Germany",
          "Germany",
          "Germany",
          "Germany",
          "Germany",
          "Germany",
          "Germany",
          "Germany",
          "Germany",
          "Germany",
          "Germany",
          "Germany",
          "Germany",
          "Germany",
          "Germany",
          "Germany",
          "Germany",
          "Germany",
          "Germany",
          "Germany",
          "Germany",
          "Germany",
          "Germany",
          "Germany",
          "Germany",
          "Germany",
          "Germany",
          "Germany",
          "Germany",
          "Germany",
          "Germany",
          "Germany",
          "Germany",
          "Germany",
          "Germany",
          "Germany",
          "Germany",
          "Germany",
          "Germany",
          "Germany",
          "Germany",
          "Germany",
          "Germany"
         ],
         "legendgroup": "driving",
         "line": {
          "color": "#636efa",
          "dash": "solid"
         },
         "mode": "lines",
         "name": "driving",
         "orientation": "v",
         "showlegend": true,
         "type": "scatter",
         "x": [
          "alternative_name",
          "sub-region",
          "country",
          "2020-01-13",
          "2020-01-14",
          "2020-01-15",
          "2020-01-16",
          "2020-01-17",
          "2020-01-18",
          "2020-01-19",
          "2020-01-20",
          "2020-01-21",
          "2020-01-22",
          "2020-01-23",
          "2020-01-24",
          "2020-01-25",
          "2020-01-26",
          "2020-01-27",
          "2020-01-28",
          "2020-01-29",
          "2020-01-30",
          "2020-01-31",
          "2020-02-01",
          "2020-02-02",
          "2020-02-03",
          "2020-02-04",
          "2020-02-05",
          "2020-02-06",
          "2020-02-07",
          "2020-02-08",
          "2020-02-09",
          "2020-02-10",
          "2020-02-11",
          "2020-02-12",
          "2020-02-13",
          "2020-02-14",
          "2020-02-15",
          "2020-02-16",
          "2020-02-17",
          "2020-02-18",
          "2020-02-19",
          "2020-02-20",
          "2020-02-21",
          "2020-02-22",
          "2020-02-23",
          "2020-02-24",
          "2020-02-25",
          "2020-02-26",
          "2020-02-27",
          "2020-02-28",
          "2020-02-29",
          "2020-03-01",
          "2020-03-02",
          "2020-03-03",
          "2020-03-04",
          "2020-03-05",
          "2020-03-06",
          "2020-03-07",
          "2020-03-08",
          "2020-03-09",
          "2020-03-10",
          "2020-03-11",
          "2020-03-12",
          "2020-03-13",
          "2020-03-14",
          "2020-03-15",
          "2020-03-16",
          "2020-03-17",
          "2020-03-18",
          "2020-03-19",
          "2020-03-20",
          "2020-03-21",
          "2020-03-22",
          "2020-03-23",
          "2020-03-24",
          "2020-03-25",
          "2020-03-26",
          "2020-03-27",
          "2020-03-28",
          "2020-03-29",
          "2020-03-30",
          "2020-03-31",
          "2020-04-01",
          "2020-04-02",
          "2020-04-03",
          "2020-04-04",
          "2020-04-05",
          "2020-04-06",
          "2020-04-07",
          "2020-04-08",
          "2020-04-09",
          "2020-04-10",
          "2020-04-11",
          "2020-04-12",
          "2020-04-13",
          "2020-04-14",
          "2020-04-15",
          "2020-04-16",
          "2020-04-17",
          "2020-04-18",
          "2020-04-19",
          "2020-04-20",
          "2020-04-21",
          "2020-04-22",
          "2020-04-23",
          "2020-04-24",
          "2020-04-25",
          "2020-04-26",
          "2020-04-27",
          "2020-04-28",
          "2020-04-29",
          "2020-04-30",
          "2020-05-01",
          "2020-05-02",
          "2020-05-03",
          "2020-05-04",
          "2020-05-05",
          "2020-05-06",
          "2020-05-07",
          "2020-05-08",
          "2020-05-09",
          "2020-05-10",
          "2020-05-11",
          "2020-05-12",
          "2020-05-13",
          "2020-05-14",
          "2020-05-15",
          "2020-05-16",
          "2020-05-17",
          "2020-05-18",
          "2020-05-19",
          "2020-05-20",
          "2020-05-21",
          "2020-05-22",
          "2020-05-23",
          "2020-05-24",
          "2020-05-25",
          "2020-05-26",
          "2020-05-27",
          "2020-05-28",
          "2020-05-29",
          "2020-05-30",
          "2020-05-31",
          "2020-06-01",
          "2020-06-02",
          "2020-06-03",
          "2020-06-04",
          "2020-06-05",
          "2020-06-06",
          "2020-06-07",
          "2020-06-08",
          "2020-06-09",
          "2020-06-10",
          "2020-06-11",
          "2020-06-12",
          "2020-06-13",
          "2020-06-14",
          "2020-06-15",
          "2020-06-16",
          "2020-06-17",
          "2020-06-18",
          "2020-06-19",
          "2020-06-20",
          "2020-06-21",
          "2020-06-22",
          "2020-06-23",
          "2020-06-24"
         ],
         "xaxis": "x",
         "y": [
          "Deutschland",
          null,
          null,
          100,
          101.31,
          102.82,
          104.61,
          114.38,
          109.65,
          103.81,
          100.54,
          102.9,
          102.65,
          102.61,
          112.68,
          108.85,
          102.26,
          101.93,
          105.2,
          102.84,
          105.23,
          119.14,
          115.73,
          106.1,
          105.13,
          107.72,
          106.59,
          105.26,
          120.68,
          120.85,
          105.91,
          105.72,
          108.42,
          108.83,
          112.43,
          130.41,
          128,
          109.63,
          108,
          109.42,
          110.81,
          108.14,
          125.52,
          119.65,
          99.22,
          102.49,
          105.39,
          104.39,
          110.47,
          117.01,
          115.16,
          106.11,
          101.52,
          104.1,
          102.87,
          105.34,
          115.68,
          112.85,
          105.05,
          99.11,
          100.16,
          97.05,
          87.94,
          86.47,
          78.32,
          72.26,
          68.97,
          63.71,
          59.52,
          54.87,
          50.87,
          37.9,
          39.75,
          45.1,
          45.53,
          46.48,
          48.12,
          49.58,
          45.98,
          42.18,
          50,
          52.68,
          53.29,
          53.15,
          51.46,
          47.44,
          55.02,
          58.99,
          60.26,
          61.92,
          58.89,
          51.44,
          51.05,
          46.1,
          53.67,
          61.19,
          63.04,
          65.48,
          64.69,
          57.58,
          63.82,
          66.95,
          68.02,
          69.71,
          70.28,
          67.88,
          62.8,
          68.59,
          70.08,
          69.04,
          70.61,
          70.3,
          62.46,
          65.91,
          73.49,
          75.92,
          77.39,
          79.3,
          81.72,
          84.77,
          79.18,
          78.63,
          null,
          null,
          84.55,
          87.25,
          92.03,
          87.64,
          93.4,
          95.37,
          97.63,
          105.56,
          102.46,
          102.01,
          91.77,
          100.28,
          100.75,
          102.28,
          104.72,
          109.93,
          126.42,
          114.01,
          110.23,
          134.41,
          121.2,
          114.95,
          111.66,
          116.95,
          112.64,
          112.92,
          113.83,
          115.42,
          121.66,
          124.56,
          134.06,
          116.11,
          123.09,
          117.11,
          118.08,
          119.46,
          121.9,
          131.22,
          123.26,
          127.78,
          121.89,
          127.65,
          128.77
         ],
         "yaxis": "y"
        },
        {
         "hovertemplate": "<b>%{hovertext}</b><br><br>transportation_type=transit<br>region=Germany<br>Date=%{x}<br>pct_of_baseline=%{y}<extra></extra>",
         "hovertext": [
          "Germany",
          "Germany",
          "Germany",
          "Germany",
          "Germany",
          "Germany",
          "Germany",
          "Germany",
          "Germany",
          "Germany",
          "Germany",
          "Germany",
          "Germany",
          "Germany",
          "Germany",
          "Germany",
          "Germany",
          "Germany",
          "Germany",
          "Germany",
          "Germany",
          "Germany",
          "Germany",
          "Germany",
          "Germany",
          "Germany",
          "Germany",
          "Germany",
          "Germany",
          "Germany",
          "Germany",
          "Germany",
          "Germany",
          "Germany",
          "Germany",
          "Germany",
          "Germany",
          "Germany",
          "Germany",
          "Germany",
          "Germany",
          "Germany",
          "Germany",
          "Germany",
          "Germany",
          "Germany",
          "Germany",
          "Germany",
          "Germany",
          "Germany",
          "Germany",
          "Germany",
          "Germany",
          "Germany",
          "Germany",
          "Germany",
          "Germany",
          "Germany",
          "Germany",
          "Germany",
          "Germany",
          "Germany",
          "Germany",
          "Germany",
          "Germany",
          "Germany",
          "Germany",
          "Germany",
          "Germany",
          "Germany",
          "Germany",
          "Germany",
          "Germany",
          "Germany",
          "Germany",
          "Germany",
          "Germany",
          "Germany",
          "Germany",
          "Germany",
          "Germany",
          "Germany",
          "Germany",
          "Germany",
          "Germany",
          "Germany",
          "Germany",
          "Germany",
          "Germany",
          "Germany",
          "Germany",
          "Germany",
          "Germany",
          "Germany",
          "Germany",
          "Germany",
          "Germany",
          "Germany",
          "Germany",
          "Germany",
          "Germany",
          "Germany",
          "Germany",
          "Germany",
          "Germany",
          "Germany",
          "Germany",
          "Germany",
          "Germany",
          "Germany",
          "Germany",
          "Germany",
          "Germany",
          "Germany",
          "Germany",
          "Germany",
          "Germany",
          "Germany",
          "Germany",
          "Germany",
          "Germany",
          "Germany",
          "Germany",
          "Germany",
          "Germany",
          "Germany",
          "Germany",
          "Germany",
          "Germany",
          "Germany",
          "Germany",
          "Germany",
          "Germany",
          "Germany",
          "Germany",
          "Germany",
          "Germany",
          "Germany",
          "Germany",
          "Germany",
          "Germany",
          "Germany",
          "Germany",
          "Germany",
          "Germany",
          "Germany",
          "Germany",
          "Germany",
          "Germany",
          "Germany",
          "Germany",
          "Germany",
          "Germany",
          "Germany",
          "Germany",
          "Germany",
          "Germany",
          "Germany",
          "Germany",
          "Germany",
          "Germany",
          "Germany",
          "Germany",
          "Germany",
          "Germany",
          "Germany",
          "Germany"
         ],
         "legendgroup": "transit",
         "line": {
          "color": "#EF553B",
          "dash": "solid"
         },
         "mode": "lines",
         "name": "transit",
         "orientation": "v",
         "showlegend": true,
         "type": "scatter",
         "x": [
          "alternative_name",
          "sub-region",
          "country",
          "2020-01-13",
          "2020-01-14",
          "2020-01-15",
          "2020-01-16",
          "2020-01-17",
          "2020-01-18",
          "2020-01-19",
          "2020-01-20",
          "2020-01-21",
          "2020-01-22",
          "2020-01-23",
          "2020-01-24",
          "2020-01-25",
          "2020-01-26",
          "2020-01-27",
          "2020-01-28",
          "2020-01-29",
          "2020-01-30",
          "2020-01-31",
          "2020-02-01",
          "2020-02-02",
          "2020-02-03",
          "2020-02-04",
          "2020-02-05",
          "2020-02-06",
          "2020-02-07",
          "2020-02-08",
          "2020-02-09",
          "2020-02-10",
          "2020-02-11",
          "2020-02-12",
          "2020-02-13",
          "2020-02-14",
          "2020-02-15",
          "2020-02-16",
          "2020-02-17",
          "2020-02-18",
          "2020-02-19",
          "2020-02-20",
          "2020-02-21",
          "2020-02-22",
          "2020-02-23",
          "2020-02-24",
          "2020-02-25",
          "2020-02-26",
          "2020-02-27",
          "2020-02-28",
          "2020-02-29",
          "2020-03-01",
          "2020-03-02",
          "2020-03-03",
          "2020-03-04",
          "2020-03-05",
          "2020-03-06",
          "2020-03-07",
          "2020-03-08",
          "2020-03-09",
          "2020-03-10",
          "2020-03-11",
          "2020-03-12",
          "2020-03-13",
          "2020-03-14",
          "2020-03-15",
          "2020-03-16",
          "2020-03-17",
          "2020-03-18",
          "2020-03-19",
          "2020-03-20",
          "2020-03-21",
          "2020-03-22",
          "2020-03-23",
          "2020-03-24",
          "2020-03-25",
          "2020-03-26",
          "2020-03-27",
          "2020-03-28",
          "2020-03-29",
          "2020-03-30",
          "2020-03-31",
          "2020-04-01",
          "2020-04-02",
          "2020-04-03",
          "2020-04-04",
          "2020-04-05",
          "2020-04-06",
          "2020-04-07",
          "2020-04-08",
          "2020-04-09",
          "2020-04-10",
          "2020-04-11",
          "2020-04-12",
          "2020-04-13",
          "2020-04-14",
          "2020-04-15",
          "2020-04-16",
          "2020-04-17",
          "2020-04-18",
          "2020-04-19",
          "2020-04-20",
          "2020-04-21",
          "2020-04-22",
          "2020-04-23",
          "2020-04-24",
          "2020-04-25",
          "2020-04-26",
          "2020-04-27",
          "2020-04-28",
          "2020-04-29",
          "2020-04-30",
          "2020-05-01",
          "2020-05-02",
          "2020-05-03",
          "2020-05-04",
          "2020-05-05",
          "2020-05-06",
          "2020-05-07",
          "2020-05-08",
          "2020-05-09",
          "2020-05-10",
          "2020-05-11",
          "2020-05-12",
          "2020-05-13",
          "2020-05-14",
          "2020-05-15",
          "2020-05-16",
          "2020-05-17",
          "2020-05-18",
          "2020-05-19",
          "2020-05-20",
          "2020-05-21",
          "2020-05-22",
          "2020-05-23",
          "2020-05-24",
          "2020-05-25",
          "2020-05-26",
          "2020-05-27",
          "2020-05-28",
          "2020-05-29",
          "2020-05-30",
          "2020-05-31",
          "2020-06-01",
          "2020-06-02",
          "2020-06-03",
          "2020-06-04",
          "2020-06-05",
          "2020-06-06",
          "2020-06-07",
          "2020-06-08",
          "2020-06-09",
          "2020-06-10",
          "2020-06-11",
          "2020-06-12",
          "2020-06-13",
          "2020-06-14",
          "2020-06-15",
          "2020-06-16",
          "2020-06-17",
          "2020-06-18",
          "2020-06-19",
          "2020-06-20",
          "2020-06-21",
          "2020-06-22",
          "2020-06-23",
          "2020-06-24"
         ],
         "xaxis": "x",
         "y": [
          "Deutschland",
          null,
          null,
          100,
          102.85,
          102.41,
          105.37,
          114.32,
          116.37,
          102.26,
          99.42,
          101.25,
          100.44,
          103.03,
          111.85,
          117.24,
          99.33,
          101.54,
          101.07,
          99.92,
          102.77,
          113.42,
          115.02,
          104.64,
          104.37,
          104.7,
          101.33,
          101.98,
          113.45,
          117.99,
          100.3,
          104.99,
          105.67,
          106.43,
          112.26,
          121.04,
          125.2,
          114.91,
          157.64,
          140.18,
          132.15,
          135.25,
          145.98,
          149.75,
          127.86,
          129.82,
          128.68,
          123.84,
          128.01,
          138.23,
          140.56,
          123.28,
          118.97,
          116.1,
          114.82,
          117.3,
          127.44,
          134.51,
          115.27,
          110.61,
          106.74,
          101.51,
          91.75,
          82.21,
          77.72,
          63.99,
          57.93,
          50.68,
          46.15,
          39.17,
          33.88,
          29.1,
          30.14,
          31.37,
          31,
          31.36,
          31.4,
          31.8,
          31.88,
          29.48,
          32.39,
          35.14,
          33.52,
          33.82,
          32.02,
          33.02,
          39.16,
          40.67,
          40.58,
          39.96,
          38.54,
          40.24,
          36.2,
          37.88,
          38.77,
          41.62,
          43.22,
          44.83,
          43.47,
          42.91,
          46.65,
          47.02,
          44.89,
          46.87,
          47.32,
          44.47,
          44.16,
          49.81,
          48.72,
          46.4,
          45.55,
          45.07,
          45.75,
          44.9,
          53.31,
          54.35,
          54.6,
          55.35,
          56.71,
          57.39,
          56.13,
          55.81,
          null,
          null,
          59.26,
          60.24,
          61.23,
          61.89,
          66.72,
          68.3,
          69.67,
          69.97,
          74.63,
          68.55,
          64.35,
          66.62,
          74.08,
          75.87,
          77.79,
          77.53,
          80.63,
          79.95,
          78.92,
          93.36,
          92.7,
          89.61,
          84.31,
          86.59,
          87.81,
          83.7,
          89.42,
          90.4,
          88.74,
          95.02,
          102.48,
          90.55,
          92.71,
          95.82,
          96.68,
          96.02,
          93.76,
          96.46,
          94.71,
          95.46,
          102.85,
          106.91,
          106.25
         ],
         "yaxis": "y"
        },
        {
         "hovertemplate": "<b>%{hovertext}</b><br><br>transportation_type=walking<br>region=Germany<br>Date=%{x}<br>pct_of_baseline=%{y}<extra></extra>",
         "hovertext": [
          "Germany",
          "Germany",
          "Germany",
          "Germany",
          "Germany",
          "Germany",
          "Germany",
          "Germany",
          "Germany",
          "Germany",
          "Germany",
          "Germany",
          "Germany",
          "Germany",
          "Germany",
          "Germany",
          "Germany",
          "Germany",
          "Germany",
          "Germany",
          "Germany",
          "Germany",
          "Germany",
          "Germany",
          "Germany",
          "Germany",
          "Germany",
          "Germany",
          "Germany",
          "Germany",
          "Germany",
          "Germany",
          "Germany",
          "Germany",
          "Germany",
          "Germany",
          "Germany",
          "Germany",
          "Germany",
          "Germany",
          "Germany",
          "Germany",
          "Germany",
          "Germany",
          "Germany",
          "Germany",
          "Germany",
          "Germany",
          "Germany",
          "Germany",
          "Germany",
          "Germany",
          "Germany",
          "Germany",
          "Germany",
          "Germany",
          "Germany",
          "Germany",
          "Germany",
          "Germany",
          "Germany",
          "Germany",
          "Germany",
          "Germany",
          "Germany",
          "Germany",
          "Germany",
          "Germany",
          "Germany",
          "Germany",
          "Germany",
          "Germany",
          "Germany",
          "Germany",
          "Germany",
          "Germany",
          "Germany",
          "Germany",
          "Germany",
          "Germany",
          "Germany",
          "Germany",
          "Germany",
          "Germany",
          "Germany",
          "Germany",
          "Germany",
          "Germany",
          "Germany",
          "Germany",
          "Germany",
          "Germany",
          "Germany",
          "Germany",
          "Germany",
          "Germany",
          "Germany",
          "Germany",
          "Germany",
          "Germany",
          "Germany",
          "Germany",
          "Germany",
          "Germany",
          "Germany",
          "Germany",
          "Germany",
          "Germany",
          "Germany",
          "Germany",
          "Germany",
          "Germany",
          "Germany",
          "Germany",
          "Germany",
          "Germany",
          "Germany",
          "Germany",
          "Germany",
          "Germany",
          "Germany",
          "Germany",
          "Germany",
          "Germany",
          "Germany",
          "Germany",
          "Germany",
          "Germany",
          "Germany",
          "Germany",
          "Germany",
          "Germany",
          "Germany",
          "Germany",
          "Germany",
          "Germany",
          "Germany",
          "Germany",
          "Germany",
          "Germany",
          "Germany",
          "Germany",
          "Germany",
          "Germany",
          "Germany",
          "Germany",
          "Germany",
          "Germany",
          "Germany",
          "Germany",
          "Germany",
          "Germany",
          "Germany",
          "Germany",
          "Germany",
          "Germany",
          "Germany",
          "Germany",
          "Germany",
          "Germany",
          "Germany",
          "Germany",
          "Germany",
          "Germany",
          "Germany",
          "Germany",
          "Germany"
         ],
         "legendgroup": "walking",
         "line": {
          "color": "#00cc96",
          "dash": "solid"
         },
         "mode": "lines",
         "name": "walking",
         "orientation": "v",
         "showlegend": true,
         "type": "scatter",
         "x": [
          "alternative_name",
          "sub-region",
          "country",
          "2020-01-13",
          "2020-01-14",
          "2020-01-15",
          "2020-01-16",
          "2020-01-17",
          "2020-01-18",
          "2020-01-19",
          "2020-01-20",
          "2020-01-21",
          "2020-01-22",
          "2020-01-23",
          "2020-01-24",
          "2020-01-25",
          "2020-01-26",
          "2020-01-27",
          "2020-01-28",
          "2020-01-29",
          "2020-01-30",
          "2020-01-31",
          "2020-02-01",
          "2020-02-02",
          "2020-02-03",
          "2020-02-04",
          "2020-02-05",
          "2020-02-06",
          "2020-02-07",
          "2020-02-08",
          "2020-02-09",
          "2020-02-10",
          "2020-02-11",
          "2020-02-12",
          "2020-02-13",
          "2020-02-14",
          "2020-02-15",
          "2020-02-16",
          "2020-02-17",
          "2020-02-18",
          "2020-02-19",
          "2020-02-20",
          "2020-02-21",
          "2020-02-22",
          "2020-02-23",
          "2020-02-24",
          "2020-02-25",
          "2020-02-26",
          "2020-02-27",
          "2020-02-28",
          "2020-02-29",
          "2020-03-01",
          "2020-03-02",
          "2020-03-03",
          "2020-03-04",
          "2020-03-05",
          "2020-03-06",
          "2020-03-07",
          "2020-03-08",
          "2020-03-09",
          "2020-03-10",
          "2020-03-11",
          "2020-03-12",
          "2020-03-13",
          "2020-03-14",
          "2020-03-15",
          "2020-03-16",
          "2020-03-17",
          "2020-03-18",
          "2020-03-19",
          "2020-03-20",
          "2020-03-21",
          "2020-03-22",
          "2020-03-23",
          "2020-03-24",
          "2020-03-25",
          "2020-03-26",
          "2020-03-27",
          "2020-03-28",
          "2020-03-29",
          "2020-03-30",
          "2020-03-31",
          "2020-04-01",
          "2020-04-02",
          "2020-04-03",
          "2020-04-04",
          "2020-04-05",
          "2020-04-06",
          "2020-04-07",
          "2020-04-08",
          "2020-04-09",
          "2020-04-10",
          "2020-04-11",
          "2020-04-12",
          "2020-04-13",
          "2020-04-14",
          "2020-04-15",
          "2020-04-16",
          "2020-04-17",
          "2020-04-18",
          "2020-04-19",
          "2020-04-20",
          "2020-04-21",
          "2020-04-22",
          "2020-04-23",
          "2020-04-24",
          "2020-04-25",
          "2020-04-26",
          "2020-04-27",
          "2020-04-28",
          "2020-04-29",
          "2020-04-30",
          "2020-05-01",
          "2020-05-02",
          "2020-05-03",
          "2020-05-04",
          "2020-05-05",
          "2020-05-06",
          "2020-05-07",
          "2020-05-08",
          "2020-05-09",
          "2020-05-10",
          "2020-05-11",
          "2020-05-12",
          "2020-05-13",
          "2020-05-14",
          "2020-05-15",
          "2020-05-16",
          "2020-05-17",
          "2020-05-18",
          "2020-05-19",
          "2020-05-20",
          "2020-05-21",
          "2020-05-22",
          "2020-05-23",
          "2020-05-24",
          "2020-05-25",
          "2020-05-26",
          "2020-05-27",
          "2020-05-28",
          "2020-05-29",
          "2020-05-30",
          "2020-05-31",
          "2020-06-01",
          "2020-06-02",
          "2020-06-03",
          "2020-06-04",
          "2020-06-05",
          "2020-06-06",
          "2020-06-07",
          "2020-06-08",
          "2020-06-09",
          "2020-06-10",
          "2020-06-11",
          "2020-06-12",
          "2020-06-13",
          "2020-06-14",
          "2020-06-15",
          "2020-06-16",
          "2020-06-17",
          "2020-06-18",
          "2020-06-19",
          "2020-06-20",
          "2020-06-21",
          "2020-06-22",
          "2020-06-23",
          "2020-06-24"
         ],
         "xaxis": "x",
         "y": [
          "Deutschland",
          null,
          null,
          100,
          104.04,
          107.18,
          110.76,
          124.13,
          137.91,
          91.01,
          99.26,
          102.36,
          100.62,
          104.64,
          119.37,
          135.62,
          89.33,
          99.07,
          98.48,
          99.88,
          106.28,
          127.99,
          139.86,
          91.42,
          104.16,
          105.5,
          108.79,
          109.22,
          128.59,
          150.13,
          86.21,
          91.76,
          104.04,
          108.17,
          112.38,
          141.37,
          161.49,
          98.68,
          111.55,
          115.71,
          109.61,
          121.49,
          131.42,
          149.93,
          93.4,
          114.25,
          106.82,
          99.85,
          104.58,
          123.05,
          138.07,
          95.72,
          102.74,
          103.29,
          101.89,
          102.6,
          116.04,
          140.22,
          93.98,
          96.92,
          90.68,
          96.4,
          89.79,
          88.28,
          95.38,
          75.8,
          71.25,
          61.98,
          57.99,
          51.98,
          45.37,
          36.4,
          42.76,
          42.11,
          43.85,
          43.83,
          45.78,
          52.26,
          58.85,
          33.95,
          42.5,
          47.88,
          50.5,
          50.82,
          48.24,
          59.17,
          75.42,
          66.13,
          66.37,
          67.94,
          65.26,
          73.42,
          67.61,
          67.93,
          54.13,
          55.07,
          63.21,
          69.23,
          69.5,
          69.57,
          75.93,
          66.52,
          66.47,
          68.86,
          72.15,
          68.32,
          72.98,
          81.52,
          70.04,
          59.81,
          59.04,
          60.08,
          59.29,
          59.26,
          75.48,
          67.46,
          71.69,
          76.51,
          79.51,
          83.97,
          86.37,
          67.66,
          null,
          null,
          70.99,
          76.74,
          81.74,
          90.52,
          90.51,
          88.46,
          92.02,
          95.48,
          115.17,
          99.99,
          86.18,
          76.8,
          88.31,
          96.16,
          98.12,
          100.55,
          110.61,
          124.97,
          115.52,
          130.53,
          118.8,
          107.89,
          95.61,
          100.36,
          115.09,
          92.43,
          106.73,
          105.71,
          107.56,
          117.11,
          147.47,
          124.84,
          89.06,
          104.74,
          107.81,
          107.9,
          110.78,
          118.48,
          131.78,
          112.89,
          115.69,
          123.12,
          122.28
         ],
         "yaxis": "y"
        }
       ],
       "layout": {
        "legend": {
         "title": {
          "text": "transportation_type"
         },
         "tracegroupgap": 0
        },
        "margin": {
         "t": 60
        },
        "template": {
         "data": {
          "bar": [
           {
            "error_x": {
             "color": "#2a3f5f"
            },
            "error_y": {
             "color": "#2a3f5f"
            },
            "marker": {
             "line": {
              "color": "#E5ECF6",
              "width": 0.5
             }
            },
            "type": "bar"
           }
          ],
          "barpolar": [
           {
            "marker": {
             "line": {
              "color": "#E5ECF6",
              "width": 0.5
             }
            },
            "type": "barpolar"
           }
          ],
          "carpet": [
           {
            "aaxis": {
             "endlinecolor": "#2a3f5f",
             "gridcolor": "white",
             "linecolor": "white",
             "minorgridcolor": "white",
             "startlinecolor": "#2a3f5f"
            },
            "baxis": {
             "endlinecolor": "#2a3f5f",
             "gridcolor": "white",
             "linecolor": "white",
             "minorgridcolor": "white",
             "startlinecolor": "#2a3f5f"
            },
            "type": "carpet"
           }
          ],
          "choropleth": [
           {
            "colorbar": {
             "outlinewidth": 0,
             "ticks": ""
            },
            "type": "choropleth"
           }
          ],
          "contour": [
           {
            "colorbar": {
             "outlinewidth": 0,
             "ticks": ""
            },
            "colorscale": [
             [
              0,
              "#0d0887"
             ],
             [
              0.1111111111111111,
              "#46039f"
             ],
             [
              0.2222222222222222,
              "#7201a8"
             ],
             [
              0.3333333333333333,
              "#9c179e"
             ],
             [
              0.4444444444444444,
              "#bd3786"
             ],
             [
              0.5555555555555556,
              "#d8576b"
             ],
             [
              0.6666666666666666,
              "#ed7953"
             ],
             [
              0.7777777777777778,
              "#fb9f3a"
             ],
             [
              0.8888888888888888,
              "#fdca26"
             ],
             [
              1,
              "#f0f921"
             ]
            ],
            "type": "contour"
           }
          ],
          "contourcarpet": [
           {
            "colorbar": {
             "outlinewidth": 0,
             "ticks": ""
            },
            "type": "contourcarpet"
           }
          ],
          "heatmap": [
           {
            "colorbar": {
             "outlinewidth": 0,
             "ticks": ""
            },
            "colorscale": [
             [
              0,
              "#0d0887"
             ],
             [
              0.1111111111111111,
              "#46039f"
             ],
             [
              0.2222222222222222,
              "#7201a8"
             ],
             [
              0.3333333333333333,
              "#9c179e"
             ],
             [
              0.4444444444444444,
              "#bd3786"
             ],
             [
              0.5555555555555556,
              "#d8576b"
             ],
             [
              0.6666666666666666,
              "#ed7953"
             ],
             [
              0.7777777777777778,
              "#fb9f3a"
             ],
             [
              0.8888888888888888,
              "#fdca26"
             ],
             [
              1,
              "#f0f921"
             ]
            ],
            "type": "heatmap"
           }
          ],
          "heatmapgl": [
           {
            "colorbar": {
             "outlinewidth": 0,
             "ticks": ""
            },
            "colorscale": [
             [
              0,
              "#0d0887"
             ],
             [
              0.1111111111111111,
              "#46039f"
             ],
             [
              0.2222222222222222,
              "#7201a8"
             ],
             [
              0.3333333333333333,
              "#9c179e"
             ],
             [
              0.4444444444444444,
              "#bd3786"
             ],
             [
              0.5555555555555556,
              "#d8576b"
             ],
             [
              0.6666666666666666,
              "#ed7953"
             ],
             [
              0.7777777777777778,
              "#fb9f3a"
             ],
             [
              0.8888888888888888,
              "#fdca26"
             ],
             [
              1,
              "#f0f921"
             ]
            ],
            "type": "heatmapgl"
           }
          ],
          "histogram": [
           {
            "marker": {
             "colorbar": {
              "outlinewidth": 0,
              "ticks": ""
             }
            },
            "type": "histogram"
           }
          ],
          "histogram2d": [
           {
            "colorbar": {
             "outlinewidth": 0,
             "ticks": ""
            },
            "colorscale": [
             [
              0,
              "#0d0887"
             ],
             [
              0.1111111111111111,
              "#46039f"
             ],
             [
              0.2222222222222222,
              "#7201a8"
             ],
             [
              0.3333333333333333,
              "#9c179e"
             ],
             [
              0.4444444444444444,
              "#bd3786"
             ],
             [
              0.5555555555555556,
              "#d8576b"
             ],
             [
              0.6666666666666666,
              "#ed7953"
             ],
             [
              0.7777777777777778,
              "#fb9f3a"
             ],
             [
              0.8888888888888888,
              "#fdca26"
             ],
             [
              1,
              "#f0f921"
             ]
            ],
            "type": "histogram2d"
           }
          ],
          "histogram2dcontour": [
           {
            "colorbar": {
             "outlinewidth": 0,
             "ticks": ""
            },
            "colorscale": [
             [
              0,
              "#0d0887"
             ],
             [
              0.1111111111111111,
              "#46039f"
             ],
             [
              0.2222222222222222,
              "#7201a8"
             ],
             [
              0.3333333333333333,
              "#9c179e"
             ],
             [
              0.4444444444444444,
              "#bd3786"
             ],
             [
              0.5555555555555556,
              "#d8576b"
             ],
             [
              0.6666666666666666,
              "#ed7953"
             ],
             [
              0.7777777777777778,
              "#fb9f3a"
             ],
             [
              0.8888888888888888,
              "#fdca26"
             ],
             [
              1,
              "#f0f921"
             ]
            ],
            "type": "histogram2dcontour"
           }
          ],
          "mesh3d": [
           {
            "colorbar": {
             "outlinewidth": 0,
             "ticks": ""
            },
            "type": "mesh3d"
           }
          ],
          "parcoords": [
           {
            "line": {
             "colorbar": {
              "outlinewidth": 0,
              "ticks": ""
             }
            },
            "type": "parcoords"
           }
          ],
          "pie": [
           {
            "automargin": true,
            "type": "pie"
           }
          ],
          "scatter": [
           {
            "marker": {
             "colorbar": {
              "outlinewidth": 0,
              "ticks": ""
             }
            },
            "type": "scatter"
           }
          ],
          "scatter3d": [
           {
            "line": {
             "colorbar": {
              "outlinewidth": 0,
              "ticks": ""
             }
            },
            "marker": {
             "colorbar": {
              "outlinewidth": 0,
              "ticks": ""
             }
            },
            "type": "scatter3d"
           }
          ],
          "scattercarpet": [
           {
            "marker": {
             "colorbar": {
              "outlinewidth": 0,
              "ticks": ""
             }
            },
            "type": "scattercarpet"
           }
          ],
          "scattergeo": [
           {
            "marker": {
             "colorbar": {
              "outlinewidth": 0,
              "ticks": ""
             }
            },
            "type": "scattergeo"
           }
          ],
          "scattergl": [
           {
            "marker": {
             "colorbar": {
              "outlinewidth": 0,
              "ticks": ""
             }
            },
            "type": "scattergl"
           }
          ],
          "scattermapbox": [
           {
            "marker": {
             "colorbar": {
              "outlinewidth": 0,
              "ticks": ""
             }
            },
            "type": "scattermapbox"
           }
          ],
          "scatterpolar": [
           {
            "marker": {
             "colorbar": {
              "outlinewidth": 0,
              "ticks": ""
             }
            },
            "type": "scatterpolar"
           }
          ],
          "scatterpolargl": [
           {
            "marker": {
             "colorbar": {
              "outlinewidth": 0,
              "ticks": ""
             }
            },
            "type": "scatterpolargl"
           }
          ],
          "scatterternary": [
           {
            "marker": {
             "colorbar": {
              "outlinewidth": 0,
              "ticks": ""
             }
            },
            "type": "scatterternary"
           }
          ],
          "surface": [
           {
            "colorbar": {
             "outlinewidth": 0,
             "ticks": ""
            },
            "colorscale": [
             [
              0,
              "#0d0887"
             ],
             [
              0.1111111111111111,
              "#46039f"
             ],
             [
              0.2222222222222222,
              "#7201a8"
             ],
             [
              0.3333333333333333,
              "#9c179e"
             ],
             [
              0.4444444444444444,
              "#bd3786"
             ],
             [
              0.5555555555555556,
              "#d8576b"
             ],
             [
              0.6666666666666666,
              "#ed7953"
             ],
             [
              0.7777777777777778,
              "#fb9f3a"
             ],
             [
              0.8888888888888888,
              "#fdca26"
             ],
             [
              1,
              "#f0f921"
             ]
            ],
            "type": "surface"
           }
          ],
          "table": [
           {
            "cells": {
             "fill": {
              "color": "#EBF0F8"
             },
             "line": {
              "color": "white"
             }
            },
            "header": {
             "fill": {
              "color": "#C8D4E3"
             },
             "line": {
              "color": "white"
             }
            },
            "type": "table"
           }
          ]
         },
         "layout": {
          "annotationdefaults": {
           "arrowcolor": "#2a3f5f",
           "arrowhead": 0,
           "arrowwidth": 1
          },
          "coloraxis": {
           "colorbar": {
            "outlinewidth": 0,
            "ticks": ""
           }
          },
          "colorscale": {
           "diverging": [
            [
             0,
             "#8e0152"
            ],
            [
             0.1,
             "#c51b7d"
            ],
            [
             0.2,
             "#de77ae"
            ],
            [
             0.3,
             "#f1b6da"
            ],
            [
             0.4,
             "#fde0ef"
            ],
            [
             0.5,
             "#f7f7f7"
            ],
            [
             0.6,
             "#e6f5d0"
            ],
            [
             0.7,
             "#b8e186"
            ],
            [
             0.8,
             "#7fbc41"
            ],
            [
             0.9,
             "#4d9221"
            ],
            [
             1,
             "#276419"
            ]
           ],
           "sequential": [
            [
             0,
             "#0d0887"
            ],
            [
             0.1111111111111111,
             "#46039f"
            ],
            [
             0.2222222222222222,
             "#7201a8"
            ],
            [
             0.3333333333333333,
             "#9c179e"
            ],
            [
             0.4444444444444444,
             "#bd3786"
            ],
            [
             0.5555555555555556,
             "#d8576b"
            ],
            [
             0.6666666666666666,
             "#ed7953"
            ],
            [
             0.7777777777777778,
             "#fb9f3a"
            ],
            [
             0.8888888888888888,
             "#fdca26"
            ],
            [
             1,
             "#f0f921"
            ]
           ],
           "sequentialminus": [
            [
             0,
             "#0d0887"
            ],
            [
             0.1111111111111111,
             "#46039f"
            ],
            [
             0.2222222222222222,
             "#7201a8"
            ],
            [
             0.3333333333333333,
             "#9c179e"
            ],
            [
             0.4444444444444444,
             "#bd3786"
            ],
            [
             0.5555555555555556,
             "#d8576b"
            ],
            [
             0.6666666666666666,
             "#ed7953"
            ],
            [
             0.7777777777777778,
             "#fb9f3a"
            ],
            [
             0.8888888888888888,
             "#fdca26"
            ],
            [
             1,
             "#f0f921"
            ]
           ]
          },
          "colorway": [
           "#636efa",
           "#EF553B",
           "#00cc96",
           "#ab63fa",
           "#FFA15A",
           "#19d3f3",
           "#FF6692",
           "#B6E880",
           "#FF97FF",
           "#FECB52"
          ],
          "font": {
           "color": "#2a3f5f"
          },
          "geo": {
           "bgcolor": "white",
           "lakecolor": "white",
           "landcolor": "#E5ECF6",
           "showlakes": true,
           "showland": true,
           "subunitcolor": "white"
          },
          "hoverlabel": {
           "align": "left"
          },
          "hovermode": "closest",
          "mapbox": {
           "style": "light"
          },
          "paper_bgcolor": "white",
          "plot_bgcolor": "#E5ECF6",
          "polar": {
           "angularaxis": {
            "gridcolor": "white",
            "linecolor": "white",
            "ticks": ""
           },
           "bgcolor": "#E5ECF6",
           "radialaxis": {
            "gridcolor": "white",
            "linecolor": "white",
            "ticks": ""
           }
          },
          "scene": {
           "xaxis": {
            "backgroundcolor": "#E5ECF6",
            "gridcolor": "white",
            "gridwidth": 2,
            "linecolor": "white",
            "showbackground": true,
            "ticks": "",
            "zerolinecolor": "white"
           },
           "yaxis": {
            "backgroundcolor": "#E5ECF6",
            "gridcolor": "white",
            "gridwidth": 2,
            "linecolor": "white",
            "showbackground": true,
            "ticks": "",
            "zerolinecolor": "white"
           },
           "zaxis": {
            "backgroundcolor": "#E5ECF6",
            "gridcolor": "white",
            "gridwidth": 2,
            "linecolor": "white",
            "showbackground": true,
            "ticks": "",
            "zerolinecolor": "white"
           }
          },
          "shapedefaults": {
           "line": {
            "color": "#2a3f5f"
           }
          },
          "ternary": {
           "aaxis": {
            "gridcolor": "white",
            "linecolor": "white",
            "ticks": ""
           },
           "baxis": {
            "gridcolor": "white",
            "linecolor": "white",
            "ticks": ""
           },
           "bgcolor": "#E5ECF6",
           "caxis": {
            "gridcolor": "white",
            "linecolor": "white",
            "ticks": ""
           }
          },
          "title": {
           "x": 0.05
          },
          "xaxis": {
           "automargin": true,
           "gridcolor": "white",
           "linecolor": "white",
           "ticks": "",
           "title": {
            "standoff": 15
           },
           "zerolinecolor": "white",
           "zerolinewidth": 2
          },
          "yaxis": {
           "automargin": true,
           "gridcolor": "white",
           "linecolor": "white",
           "ticks": "",
           "title": {
            "standoff": 15
           },
           "zerolinecolor": "white",
           "zerolinewidth": 2
          }
         }
        },
        "xaxis": {
         "anchor": "y",
         "domain": [
          0,
          1
         ],
         "title": {
          "text": "Date"
         }
        },
        "yaxis": {
         "anchor": "x",
         "domain": [
          0,
          1
         ],
         "title": {
          "text": "pct_of_baseline"
         }
        }
       }
      },
      "text/html": [
       "<div>\n",
       "        \n",
       "        \n",
       "            <div id=\"cd98af7b-e922-4ea9-8646-8102df8e4f86\" class=\"plotly-graph-div\" style=\"height:525px; width:100%;\"></div>\n",
       "            <script type=\"text/javascript\">\n",
       "                require([\"plotly\"], function(Plotly) {\n",
       "                    window.PLOTLYENV=window.PLOTLYENV || {};\n",
       "                    \n",
       "                if (document.getElementById(\"cd98af7b-e922-4ea9-8646-8102df8e4f86\")) {\n",
       "                    Plotly.newPlot(\n",
       "                        'cd98af7b-e922-4ea9-8646-8102df8e4f86',\n",
       "                        [{\"hovertemplate\": \"<b>%{hovertext}</b><br><br>transportation_type=driving<br>region=Germany<br>Date=%{x}<br>pct_of_baseline=%{y}<extra></extra>\", \"hovertext\": [\"Germany\", \"Germany\", \"Germany\", \"Germany\", \"Germany\", \"Germany\", \"Germany\", \"Germany\", \"Germany\", \"Germany\", \"Germany\", \"Germany\", \"Germany\", \"Germany\", \"Germany\", \"Germany\", \"Germany\", \"Germany\", \"Germany\", \"Germany\", \"Germany\", \"Germany\", \"Germany\", \"Germany\", \"Germany\", \"Germany\", \"Germany\", \"Germany\", \"Germany\", \"Germany\", \"Germany\", \"Germany\", \"Germany\", \"Germany\", \"Germany\", \"Germany\", \"Germany\", \"Germany\", \"Germany\", \"Germany\", \"Germany\", \"Germany\", \"Germany\", \"Germany\", \"Germany\", \"Germany\", \"Germany\", \"Germany\", \"Germany\", \"Germany\", \"Germany\", \"Germany\", \"Germany\", \"Germany\", \"Germany\", \"Germany\", \"Germany\", \"Germany\", \"Germany\", \"Germany\", \"Germany\", \"Germany\", \"Germany\", \"Germany\", \"Germany\", \"Germany\", \"Germany\", \"Germany\", \"Germany\", \"Germany\", \"Germany\", \"Germany\", \"Germany\", \"Germany\", \"Germany\", \"Germany\", \"Germany\", \"Germany\", \"Germany\", \"Germany\", \"Germany\", \"Germany\", \"Germany\", \"Germany\", \"Germany\", \"Germany\", \"Germany\", \"Germany\", \"Germany\", \"Germany\", \"Germany\", \"Germany\", \"Germany\", \"Germany\", \"Germany\", \"Germany\", \"Germany\", \"Germany\", \"Germany\", \"Germany\", \"Germany\", \"Germany\", \"Germany\", \"Germany\", \"Germany\", \"Germany\", \"Germany\", \"Germany\", \"Germany\", \"Germany\", \"Germany\", \"Germany\", \"Germany\", \"Germany\", \"Germany\", \"Germany\", \"Germany\", \"Germany\", \"Germany\", \"Germany\", \"Germany\", \"Germany\", \"Germany\", \"Germany\", \"Germany\", \"Germany\", \"Germany\", \"Germany\", \"Germany\", \"Germany\", \"Germany\", \"Germany\", \"Germany\", \"Germany\", \"Germany\", \"Germany\", \"Germany\", \"Germany\", \"Germany\", \"Germany\", \"Germany\", \"Germany\", \"Germany\", \"Germany\", \"Germany\", \"Germany\", \"Germany\", \"Germany\", \"Germany\", \"Germany\", \"Germany\", \"Germany\", \"Germany\", \"Germany\", \"Germany\", \"Germany\", \"Germany\", \"Germany\", \"Germany\", \"Germany\", \"Germany\", \"Germany\", \"Germany\", \"Germany\", \"Germany\", \"Germany\", \"Germany\"], \"legendgroup\": \"driving\", \"line\": {\"color\": \"#636efa\", \"dash\": \"solid\"}, \"mode\": \"lines\", \"name\": \"driving\", \"orientation\": \"v\", \"showlegend\": true, \"type\": \"scatter\", \"x\": [\"alternative_name\", \"sub-region\", \"country\", \"2020-01-13\", \"2020-01-14\", \"2020-01-15\", \"2020-01-16\", \"2020-01-17\", \"2020-01-18\", \"2020-01-19\", \"2020-01-20\", \"2020-01-21\", \"2020-01-22\", \"2020-01-23\", \"2020-01-24\", \"2020-01-25\", \"2020-01-26\", \"2020-01-27\", \"2020-01-28\", \"2020-01-29\", \"2020-01-30\", \"2020-01-31\", \"2020-02-01\", \"2020-02-02\", \"2020-02-03\", \"2020-02-04\", \"2020-02-05\", \"2020-02-06\", \"2020-02-07\", \"2020-02-08\", \"2020-02-09\", \"2020-02-10\", \"2020-02-11\", \"2020-02-12\", \"2020-02-13\", \"2020-02-14\", \"2020-02-15\", \"2020-02-16\", \"2020-02-17\", \"2020-02-18\", \"2020-02-19\", \"2020-02-20\", \"2020-02-21\", \"2020-02-22\", \"2020-02-23\", \"2020-02-24\", \"2020-02-25\", \"2020-02-26\", \"2020-02-27\", \"2020-02-28\", \"2020-02-29\", \"2020-03-01\", \"2020-03-02\", \"2020-03-03\", \"2020-03-04\", \"2020-03-05\", \"2020-03-06\", \"2020-03-07\", \"2020-03-08\", \"2020-03-09\", \"2020-03-10\", \"2020-03-11\", \"2020-03-12\", \"2020-03-13\", \"2020-03-14\", \"2020-03-15\", \"2020-03-16\", \"2020-03-17\", \"2020-03-18\", \"2020-03-19\", \"2020-03-20\", \"2020-03-21\", \"2020-03-22\", \"2020-03-23\", \"2020-03-24\", \"2020-03-25\", \"2020-03-26\", \"2020-03-27\", \"2020-03-28\", \"2020-03-29\", \"2020-03-30\", \"2020-03-31\", \"2020-04-01\", \"2020-04-02\", \"2020-04-03\", \"2020-04-04\", \"2020-04-05\", \"2020-04-06\", \"2020-04-07\", \"2020-04-08\", \"2020-04-09\", \"2020-04-10\", \"2020-04-11\", \"2020-04-12\", \"2020-04-13\", \"2020-04-14\", \"2020-04-15\", \"2020-04-16\", \"2020-04-17\", \"2020-04-18\", \"2020-04-19\", \"2020-04-20\", \"2020-04-21\", \"2020-04-22\", \"2020-04-23\", \"2020-04-24\", \"2020-04-25\", \"2020-04-26\", \"2020-04-27\", \"2020-04-28\", \"2020-04-29\", \"2020-04-30\", \"2020-05-01\", \"2020-05-02\", \"2020-05-03\", \"2020-05-04\", \"2020-05-05\", \"2020-05-06\", \"2020-05-07\", \"2020-05-08\", \"2020-05-09\", \"2020-05-10\", \"2020-05-11\", \"2020-05-12\", \"2020-05-13\", \"2020-05-14\", \"2020-05-15\", \"2020-05-16\", \"2020-05-17\", \"2020-05-18\", \"2020-05-19\", \"2020-05-20\", \"2020-05-21\", \"2020-05-22\", \"2020-05-23\", \"2020-05-24\", \"2020-05-25\", \"2020-05-26\", \"2020-05-27\", \"2020-05-28\", \"2020-05-29\", \"2020-05-30\", \"2020-05-31\", \"2020-06-01\", \"2020-06-02\", \"2020-06-03\", \"2020-06-04\", \"2020-06-05\", \"2020-06-06\", \"2020-06-07\", \"2020-06-08\", \"2020-06-09\", \"2020-06-10\", \"2020-06-11\", \"2020-06-12\", \"2020-06-13\", \"2020-06-14\", \"2020-06-15\", \"2020-06-16\", \"2020-06-17\", \"2020-06-18\", \"2020-06-19\", \"2020-06-20\", \"2020-06-21\", \"2020-06-22\", \"2020-06-23\", \"2020-06-24\"], \"xaxis\": \"x\", \"y\": [\"Deutschland\", null, null, 100.0, 101.31, 102.82, 104.61, 114.38, 109.65, 103.81, 100.54, 102.9, 102.65, 102.61, 112.68, 108.85, 102.26, 101.93, 105.2, 102.84, 105.23, 119.14, 115.73, 106.1, 105.13, 107.72, 106.59, 105.26, 120.68, 120.85, 105.91, 105.72, 108.42, 108.83, 112.43, 130.41, 128.0, 109.63, 108.0, 109.42, 110.81, 108.14, 125.52, 119.65, 99.22, 102.49, 105.39, 104.39, 110.47, 117.01, 115.16, 106.11, 101.52, 104.1, 102.87, 105.34, 115.68, 112.85, 105.05, 99.11, 100.16, 97.05, 87.94, 86.47, 78.32, 72.26, 68.97, 63.71, 59.52, 54.87, 50.87, 37.9, 39.75, 45.1, 45.53, 46.48, 48.12, 49.58, 45.98, 42.18, 50.0, 52.68, 53.29, 53.15, 51.46, 47.44, 55.02, 58.99, 60.26, 61.92, 58.89, 51.44, 51.05, 46.1, 53.67, 61.19, 63.04, 65.48, 64.69, 57.58, 63.82, 66.95, 68.02, 69.71, 70.28, 67.88, 62.8, 68.59, 70.08, 69.04, 70.61, 70.3, 62.46, 65.91, 73.49, 75.92, 77.39, 79.3, 81.72, 84.77, 79.18, 78.63, null, null, 84.55, 87.25, 92.03, 87.64, 93.4, 95.37, 97.63, 105.56, 102.46, 102.01, 91.77, 100.28, 100.75, 102.28, 104.72, 109.93, 126.42, 114.01, 110.23, 134.41, 121.2, 114.95, 111.66, 116.95, 112.64, 112.92, 113.83, 115.42, 121.66, 124.56, 134.06, 116.11, 123.09, 117.11, 118.08, 119.46, 121.9, 131.22, 123.26, 127.78, 121.89, 127.65, 128.77], \"yaxis\": \"y\"}, {\"hovertemplate\": \"<b>%{hovertext}</b><br><br>transportation_type=transit<br>region=Germany<br>Date=%{x}<br>pct_of_baseline=%{y}<extra></extra>\", \"hovertext\": [\"Germany\", \"Germany\", \"Germany\", \"Germany\", \"Germany\", \"Germany\", \"Germany\", \"Germany\", \"Germany\", \"Germany\", \"Germany\", \"Germany\", \"Germany\", \"Germany\", \"Germany\", \"Germany\", \"Germany\", \"Germany\", \"Germany\", \"Germany\", \"Germany\", \"Germany\", \"Germany\", \"Germany\", \"Germany\", \"Germany\", \"Germany\", \"Germany\", \"Germany\", \"Germany\", \"Germany\", \"Germany\", \"Germany\", \"Germany\", \"Germany\", \"Germany\", \"Germany\", \"Germany\", \"Germany\", \"Germany\", \"Germany\", \"Germany\", \"Germany\", \"Germany\", \"Germany\", \"Germany\", \"Germany\", \"Germany\", \"Germany\", \"Germany\", \"Germany\", \"Germany\", \"Germany\", \"Germany\", \"Germany\", \"Germany\", \"Germany\", \"Germany\", \"Germany\", \"Germany\", \"Germany\", \"Germany\", \"Germany\", \"Germany\", \"Germany\", \"Germany\", \"Germany\", \"Germany\", \"Germany\", \"Germany\", \"Germany\", \"Germany\", \"Germany\", \"Germany\", \"Germany\", \"Germany\", \"Germany\", \"Germany\", \"Germany\", \"Germany\", \"Germany\", \"Germany\", \"Germany\", \"Germany\", \"Germany\", \"Germany\", \"Germany\", \"Germany\", \"Germany\", \"Germany\", \"Germany\", \"Germany\", \"Germany\", \"Germany\", \"Germany\", \"Germany\", \"Germany\", \"Germany\", \"Germany\", \"Germany\", \"Germany\", \"Germany\", \"Germany\", \"Germany\", \"Germany\", \"Germany\", \"Germany\", \"Germany\", \"Germany\", \"Germany\", \"Germany\", \"Germany\", \"Germany\", \"Germany\", \"Germany\", \"Germany\", \"Germany\", \"Germany\", \"Germany\", \"Germany\", \"Germany\", \"Germany\", \"Germany\", \"Germany\", \"Germany\", \"Germany\", \"Germany\", \"Germany\", \"Germany\", \"Germany\", \"Germany\", \"Germany\", \"Germany\", \"Germany\", \"Germany\", \"Germany\", \"Germany\", \"Germany\", \"Germany\", \"Germany\", \"Germany\", \"Germany\", \"Germany\", \"Germany\", \"Germany\", \"Germany\", \"Germany\", \"Germany\", \"Germany\", \"Germany\", \"Germany\", \"Germany\", \"Germany\", \"Germany\", \"Germany\", \"Germany\", \"Germany\", \"Germany\", \"Germany\", \"Germany\", \"Germany\", \"Germany\", \"Germany\", \"Germany\", \"Germany\", \"Germany\", \"Germany\"], \"legendgroup\": \"transit\", \"line\": {\"color\": \"#EF553B\", \"dash\": \"solid\"}, \"mode\": \"lines\", \"name\": \"transit\", \"orientation\": \"v\", \"showlegend\": true, \"type\": \"scatter\", \"x\": [\"alternative_name\", \"sub-region\", \"country\", \"2020-01-13\", \"2020-01-14\", \"2020-01-15\", \"2020-01-16\", \"2020-01-17\", \"2020-01-18\", \"2020-01-19\", \"2020-01-20\", \"2020-01-21\", \"2020-01-22\", \"2020-01-23\", \"2020-01-24\", \"2020-01-25\", \"2020-01-26\", \"2020-01-27\", \"2020-01-28\", \"2020-01-29\", \"2020-01-30\", \"2020-01-31\", \"2020-02-01\", \"2020-02-02\", \"2020-02-03\", \"2020-02-04\", \"2020-02-05\", \"2020-02-06\", \"2020-02-07\", \"2020-02-08\", \"2020-02-09\", \"2020-02-10\", \"2020-02-11\", \"2020-02-12\", \"2020-02-13\", \"2020-02-14\", \"2020-02-15\", \"2020-02-16\", \"2020-02-17\", \"2020-02-18\", \"2020-02-19\", \"2020-02-20\", \"2020-02-21\", \"2020-02-22\", \"2020-02-23\", \"2020-02-24\", \"2020-02-25\", \"2020-02-26\", \"2020-02-27\", \"2020-02-28\", \"2020-02-29\", \"2020-03-01\", \"2020-03-02\", \"2020-03-03\", \"2020-03-04\", \"2020-03-05\", \"2020-03-06\", \"2020-03-07\", \"2020-03-08\", \"2020-03-09\", \"2020-03-10\", \"2020-03-11\", \"2020-03-12\", \"2020-03-13\", \"2020-03-14\", \"2020-03-15\", \"2020-03-16\", \"2020-03-17\", \"2020-03-18\", \"2020-03-19\", \"2020-03-20\", \"2020-03-21\", \"2020-03-22\", \"2020-03-23\", \"2020-03-24\", \"2020-03-25\", \"2020-03-26\", \"2020-03-27\", \"2020-03-28\", \"2020-03-29\", \"2020-03-30\", \"2020-03-31\", \"2020-04-01\", \"2020-04-02\", \"2020-04-03\", \"2020-04-04\", \"2020-04-05\", \"2020-04-06\", \"2020-04-07\", \"2020-04-08\", \"2020-04-09\", \"2020-04-10\", \"2020-04-11\", \"2020-04-12\", \"2020-04-13\", \"2020-04-14\", \"2020-04-15\", \"2020-04-16\", \"2020-04-17\", \"2020-04-18\", \"2020-04-19\", \"2020-04-20\", \"2020-04-21\", \"2020-04-22\", \"2020-04-23\", \"2020-04-24\", \"2020-04-25\", \"2020-04-26\", \"2020-04-27\", \"2020-04-28\", \"2020-04-29\", \"2020-04-30\", \"2020-05-01\", \"2020-05-02\", \"2020-05-03\", \"2020-05-04\", \"2020-05-05\", \"2020-05-06\", \"2020-05-07\", \"2020-05-08\", \"2020-05-09\", \"2020-05-10\", \"2020-05-11\", \"2020-05-12\", \"2020-05-13\", \"2020-05-14\", \"2020-05-15\", \"2020-05-16\", \"2020-05-17\", \"2020-05-18\", \"2020-05-19\", \"2020-05-20\", \"2020-05-21\", \"2020-05-22\", \"2020-05-23\", \"2020-05-24\", \"2020-05-25\", \"2020-05-26\", \"2020-05-27\", \"2020-05-28\", \"2020-05-29\", \"2020-05-30\", \"2020-05-31\", \"2020-06-01\", \"2020-06-02\", \"2020-06-03\", \"2020-06-04\", \"2020-06-05\", \"2020-06-06\", \"2020-06-07\", \"2020-06-08\", \"2020-06-09\", \"2020-06-10\", \"2020-06-11\", \"2020-06-12\", \"2020-06-13\", \"2020-06-14\", \"2020-06-15\", \"2020-06-16\", \"2020-06-17\", \"2020-06-18\", \"2020-06-19\", \"2020-06-20\", \"2020-06-21\", \"2020-06-22\", \"2020-06-23\", \"2020-06-24\"], \"xaxis\": \"x\", \"y\": [\"Deutschland\", null, null, 100.0, 102.85, 102.41, 105.37, 114.32, 116.37, 102.26, 99.42, 101.25, 100.44, 103.03, 111.85, 117.24, 99.33, 101.54, 101.07, 99.92, 102.77, 113.42, 115.02, 104.64, 104.37, 104.7, 101.33, 101.98, 113.45, 117.99, 100.3, 104.99, 105.67, 106.43, 112.26, 121.04, 125.2, 114.91, 157.64, 140.18, 132.15, 135.25, 145.98, 149.75, 127.86, 129.82, 128.68, 123.84, 128.01, 138.23, 140.56, 123.28, 118.97, 116.1, 114.82, 117.3, 127.44, 134.51, 115.27, 110.61, 106.74, 101.51, 91.75, 82.21, 77.72, 63.99, 57.93, 50.68, 46.15, 39.17, 33.88, 29.1, 30.14, 31.37, 31.0, 31.36, 31.4, 31.8, 31.88, 29.48, 32.39, 35.14, 33.52, 33.82, 32.02, 33.02, 39.16, 40.67, 40.58, 39.96, 38.54, 40.24, 36.2, 37.88, 38.77, 41.62, 43.22, 44.83, 43.47, 42.91, 46.65, 47.02, 44.89, 46.87, 47.32, 44.47, 44.16, 49.81, 48.72, 46.4, 45.55, 45.07, 45.75, 44.9, 53.31, 54.35, 54.6, 55.35, 56.71, 57.39, 56.13, 55.81, null, null, 59.26, 60.24, 61.23, 61.89, 66.72, 68.3, 69.67, 69.97, 74.63, 68.55, 64.35, 66.62, 74.08, 75.87, 77.79, 77.53, 80.63, 79.95, 78.92, 93.36, 92.7, 89.61, 84.31, 86.59, 87.81, 83.7, 89.42, 90.4, 88.74, 95.02, 102.48, 90.55, 92.71, 95.82, 96.68, 96.02, 93.76, 96.46, 94.71, 95.46, 102.85, 106.91, 106.25], \"yaxis\": \"y\"}, {\"hovertemplate\": \"<b>%{hovertext}</b><br><br>transportation_type=walking<br>region=Germany<br>Date=%{x}<br>pct_of_baseline=%{y}<extra></extra>\", \"hovertext\": [\"Germany\", \"Germany\", \"Germany\", \"Germany\", \"Germany\", \"Germany\", \"Germany\", \"Germany\", \"Germany\", \"Germany\", \"Germany\", \"Germany\", \"Germany\", \"Germany\", \"Germany\", \"Germany\", \"Germany\", \"Germany\", \"Germany\", \"Germany\", \"Germany\", \"Germany\", \"Germany\", \"Germany\", \"Germany\", \"Germany\", \"Germany\", \"Germany\", \"Germany\", \"Germany\", \"Germany\", \"Germany\", \"Germany\", \"Germany\", \"Germany\", \"Germany\", \"Germany\", \"Germany\", \"Germany\", \"Germany\", \"Germany\", \"Germany\", \"Germany\", \"Germany\", \"Germany\", \"Germany\", \"Germany\", \"Germany\", \"Germany\", \"Germany\", \"Germany\", \"Germany\", \"Germany\", \"Germany\", \"Germany\", \"Germany\", \"Germany\", \"Germany\", \"Germany\", \"Germany\", \"Germany\", \"Germany\", \"Germany\", \"Germany\", \"Germany\", \"Germany\", \"Germany\", \"Germany\", \"Germany\", \"Germany\", \"Germany\", \"Germany\", \"Germany\", \"Germany\", \"Germany\", \"Germany\", \"Germany\", \"Germany\", \"Germany\", \"Germany\", \"Germany\", \"Germany\", \"Germany\", \"Germany\", \"Germany\", \"Germany\", \"Germany\", \"Germany\", \"Germany\", \"Germany\", \"Germany\", \"Germany\", \"Germany\", \"Germany\", \"Germany\", \"Germany\", \"Germany\", \"Germany\", \"Germany\", \"Germany\", \"Germany\", \"Germany\", \"Germany\", \"Germany\", \"Germany\", \"Germany\", \"Germany\", \"Germany\", \"Germany\", \"Germany\", \"Germany\", \"Germany\", \"Germany\", \"Germany\", \"Germany\", \"Germany\", \"Germany\", \"Germany\", \"Germany\", \"Germany\", \"Germany\", \"Germany\", \"Germany\", \"Germany\", \"Germany\", \"Germany\", \"Germany\", \"Germany\", \"Germany\", \"Germany\", \"Germany\", \"Germany\", \"Germany\", \"Germany\", \"Germany\", \"Germany\", \"Germany\", \"Germany\", \"Germany\", \"Germany\", \"Germany\", \"Germany\", \"Germany\", \"Germany\", \"Germany\", \"Germany\", \"Germany\", \"Germany\", \"Germany\", \"Germany\", \"Germany\", \"Germany\", \"Germany\", \"Germany\", \"Germany\", \"Germany\", \"Germany\", \"Germany\", \"Germany\", \"Germany\", \"Germany\", \"Germany\", \"Germany\", \"Germany\", \"Germany\", \"Germany\", \"Germany\"], \"legendgroup\": \"walking\", \"line\": {\"color\": \"#00cc96\", \"dash\": \"solid\"}, \"mode\": \"lines\", \"name\": \"walking\", \"orientation\": \"v\", \"showlegend\": true, \"type\": \"scatter\", \"x\": [\"alternative_name\", \"sub-region\", \"country\", \"2020-01-13\", \"2020-01-14\", \"2020-01-15\", \"2020-01-16\", \"2020-01-17\", \"2020-01-18\", \"2020-01-19\", \"2020-01-20\", \"2020-01-21\", \"2020-01-22\", \"2020-01-23\", \"2020-01-24\", \"2020-01-25\", \"2020-01-26\", \"2020-01-27\", \"2020-01-28\", \"2020-01-29\", \"2020-01-30\", \"2020-01-31\", \"2020-02-01\", \"2020-02-02\", \"2020-02-03\", \"2020-02-04\", \"2020-02-05\", \"2020-02-06\", \"2020-02-07\", \"2020-02-08\", \"2020-02-09\", \"2020-02-10\", \"2020-02-11\", \"2020-02-12\", \"2020-02-13\", \"2020-02-14\", \"2020-02-15\", \"2020-02-16\", \"2020-02-17\", \"2020-02-18\", \"2020-02-19\", \"2020-02-20\", \"2020-02-21\", \"2020-02-22\", \"2020-02-23\", \"2020-02-24\", \"2020-02-25\", \"2020-02-26\", \"2020-02-27\", \"2020-02-28\", \"2020-02-29\", \"2020-03-01\", \"2020-03-02\", \"2020-03-03\", \"2020-03-04\", \"2020-03-05\", \"2020-03-06\", \"2020-03-07\", \"2020-03-08\", \"2020-03-09\", \"2020-03-10\", \"2020-03-11\", \"2020-03-12\", \"2020-03-13\", \"2020-03-14\", \"2020-03-15\", \"2020-03-16\", \"2020-03-17\", \"2020-03-18\", \"2020-03-19\", \"2020-03-20\", \"2020-03-21\", \"2020-03-22\", \"2020-03-23\", \"2020-03-24\", \"2020-03-25\", \"2020-03-26\", \"2020-03-27\", \"2020-03-28\", \"2020-03-29\", \"2020-03-30\", \"2020-03-31\", \"2020-04-01\", \"2020-04-02\", \"2020-04-03\", \"2020-04-04\", \"2020-04-05\", \"2020-04-06\", \"2020-04-07\", \"2020-04-08\", \"2020-04-09\", \"2020-04-10\", \"2020-04-11\", \"2020-04-12\", \"2020-04-13\", \"2020-04-14\", \"2020-04-15\", \"2020-04-16\", \"2020-04-17\", \"2020-04-18\", \"2020-04-19\", \"2020-04-20\", \"2020-04-21\", \"2020-04-22\", \"2020-04-23\", \"2020-04-24\", \"2020-04-25\", \"2020-04-26\", \"2020-04-27\", \"2020-04-28\", \"2020-04-29\", \"2020-04-30\", \"2020-05-01\", \"2020-05-02\", \"2020-05-03\", \"2020-05-04\", \"2020-05-05\", \"2020-05-06\", \"2020-05-07\", \"2020-05-08\", \"2020-05-09\", \"2020-05-10\", \"2020-05-11\", \"2020-05-12\", \"2020-05-13\", \"2020-05-14\", \"2020-05-15\", \"2020-05-16\", \"2020-05-17\", \"2020-05-18\", \"2020-05-19\", \"2020-05-20\", \"2020-05-21\", \"2020-05-22\", \"2020-05-23\", \"2020-05-24\", \"2020-05-25\", \"2020-05-26\", \"2020-05-27\", \"2020-05-28\", \"2020-05-29\", \"2020-05-30\", \"2020-05-31\", \"2020-06-01\", \"2020-06-02\", \"2020-06-03\", \"2020-06-04\", \"2020-06-05\", \"2020-06-06\", \"2020-06-07\", \"2020-06-08\", \"2020-06-09\", \"2020-06-10\", \"2020-06-11\", \"2020-06-12\", \"2020-06-13\", \"2020-06-14\", \"2020-06-15\", \"2020-06-16\", \"2020-06-17\", \"2020-06-18\", \"2020-06-19\", \"2020-06-20\", \"2020-06-21\", \"2020-06-22\", \"2020-06-23\", \"2020-06-24\"], \"xaxis\": \"x\", \"y\": [\"Deutschland\", null, null, 100.0, 104.04, 107.18, 110.76, 124.13, 137.91, 91.01, 99.26, 102.36, 100.62, 104.64, 119.37, 135.62, 89.33, 99.07, 98.48, 99.88, 106.28, 127.99, 139.86, 91.42, 104.16, 105.5, 108.79, 109.22, 128.59, 150.13, 86.21, 91.76, 104.04, 108.17, 112.38, 141.37, 161.49, 98.68, 111.55, 115.71, 109.61, 121.49, 131.42, 149.93, 93.4, 114.25, 106.82, 99.85, 104.58, 123.05, 138.07, 95.72, 102.74, 103.29, 101.89, 102.6, 116.04, 140.22, 93.98, 96.92, 90.68, 96.4, 89.79, 88.28, 95.38, 75.8, 71.25, 61.98, 57.99, 51.98, 45.37, 36.4, 42.76, 42.11, 43.85, 43.83, 45.78, 52.26, 58.85, 33.95, 42.5, 47.88, 50.5, 50.82, 48.24, 59.17, 75.42, 66.13, 66.37, 67.94, 65.26, 73.42, 67.61, 67.93, 54.13, 55.07, 63.21, 69.23, 69.5, 69.57, 75.93, 66.52, 66.47, 68.86, 72.15, 68.32, 72.98, 81.52, 70.04, 59.81, 59.04, 60.08, 59.29, 59.26, 75.48, 67.46, 71.69, 76.51, 79.51, 83.97, 86.37, 67.66, null, null, 70.99, 76.74, 81.74, 90.52, 90.51, 88.46, 92.02, 95.48, 115.17, 99.99, 86.18, 76.8, 88.31, 96.16, 98.12, 100.55, 110.61, 124.97, 115.52, 130.53, 118.8, 107.89, 95.61, 100.36, 115.09, 92.43, 106.73, 105.71, 107.56, 117.11, 147.47, 124.84, 89.06, 104.74, 107.81, 107.9, 110.78, 118.48, 131.78, 112.89, 115.69, 123.12, 122.28], \"yaxis\": \"y\"}],\n",
       "                        {\"legend\": {\"title\": {\"text\": \"transportation_type\"}, \"tracegroupgap\": 0}, \"margin\": {\"t\": 60}, \"template\": {\"data\": {\"bar\": [{\"error_x\": {\"color\": \"#2a3f5f\"}, \"error_y\": {\"color\": \"#2a3f5f\"}, \"marker\": {\"line\": {\"color\": \"#E5ECF6\", \"width\": 0.5}}, \"type\": \"bar\"}], \"barpolar\": [{\"marker\": {\"line\": {\"color\": \"#E5ECF6\", \"width\": 0.5}}, \"type\": \"barpolar\"}], \"carpet\": [{\"aaxis\": {\"endlinecolor\": \"#2a3f5f\", \"gridcolor\": \"white\", \"linecolor\": \"white\", \"minorgridcolor\": \"white\", \"startlinecolor\": \"#2a3f5f\"}, \"baxis\": {\"endlinecolor\": \"#2a3f5f\", \"gridcolor\": \"white\", \"linecolor\": \"white\", \"minorgridcolor\": \"white\", \"startlinecolor\": \"#2a3f5f\"}, \"type\": \"carpet\"}], \"choropleth\": [{\"colorbar\": {\"outlinewidth\": 0, \"ticks\": \"\"}, \"type\": \"choropleth\"}], \"contour\": [{\"colorbar\": {\"outlinewidth\": 0, \"ticks\": \"\"}, \"colorscale\": [[0.0, \"#0d0887\"], [0.1111111111111111, \"#46039f\"], [0.2222222222222222, \"#7201a8\"], [0.3333333333333333, \"#9c179e\"], [0.4444444444444444, \"#bd3786\"], [0.5555555555555556, \"#d8576b\"], [0.6666666666666666, \"#ed7953\"], [0.7777777777777778, \"#fb9f3a\"], [0.8888888888888888, \"#fdca26\"], [1.0, \"#f0f921\"]], \"type\": \"contour\"}], \"contourcarpet\": [{\"colorbar\": {\"outlinewidth\": 0, \"ticks\": \"\"}, \"type\": \"contourcarpet\"}], \"heatmap\": [{\"colorbar\": {\"outlinewidth\": 0, \"ticks\": \"\"}, \"colorscale\": [[0.0, \"#0d0887\"], [0.1111111111111111, \"#46039f\"], [0.2222222222222222, \"#7201a8\"], [0.3333333333333333, \"#9c179e\"], [0.4444444444444444, \"#bd3786\"], [0.5555555555555556, \"#d8576b\"], [0.6666666666666666, \"#ed7953\"], [0.7777777777777778, \"#fb9f3a\"], [0.8888888888888888, \"#fdca26\"], [1.0, \"#f0f921\"]], \"type\": \"heatmap\"}], \"heatmapgl\": [{\"colorbar\": {\"outlinewidth\": 0, \"ticks\": \"\"}, \"colorscale\": [[0.0, \"#0d0887\"], [0.1111111111111111, \"#46039f\"], [0.2222222222222222, \"#7201a8\"], [0.3333333333333333, \"#9c179e\"], [0.4444444444444444, \"#bd3786\"], [0.5555555555555556, \"#d8576b\"], [0.6666666666666666, \"#ed7953\"], [0.7777777777777778, \"#fb9f3a\"], [0.8888888888888888, \"#fdca26\"], [1.0, \"#f0f921\"]], \"type\": \"heatmapgl\"}], \"histogram\": [{\"marker\": {\"colorbar\": {\"outlinewidth\": 0, \"ticks\": \"\"}}, \"type\": \"histogram\"}], \"histogram2d\": [{\"colorbar\": {\"outlinewidth\": 0, \"ticks\": \"\"}, \"colorscale\": [[0.0, \"#0d0887\"], [0.1111111111111111, \"#46039f\"], [0.2222222222222222, \"#7201a8\"], [0.3333333333333333, \"#9c179e\"], [0.4444444444444444, \"#bd3786\"], [0.5555555555555556, \"#d8576b\"], [0.6666666666666666, \"#ed7953\"], [0.7777777777777778, \"#fb9f3a\"], [0.8888888888888888, \"#fdca26\"], [1.0, \"#f0f921\"]], \"type\": \"histogram2d\"}], \"histogram2dcontour\": [{\"colorbar\": {\"outlinewidth\": 0, \"ticks\": \"\"}, \"colorscale\": [[0.0, \"#0d0887\"], [0.1111111111111111, \"#46039f\"], [0.2222222222222222, \"#7201a8\"], [0.3333333333333333, \"#9c179e\"], [0.4444444444444444, \"#bd3786\"], [0.5555555555555556, \"#d8576b\"], [0.6666666666666666, \"#ed7953\"], [0.7777777777777778, \"#fb9f3a\"], [0.8888888888888888, \"#fdca26\"], [1.0, \"#f0f921\"]], \"type\": \"histogram2dcontour\"}], \"mesh3d\": [{\"colorbar\": {\"outlinewidth\": 0, \"ticks\": \"\"}, \"type\": \"mesh3d\"}], \"parcoords\": [{\"line\": {\"colorbar\": {\"outlinewidth\": 0, \"ticks\": \"\"}}, \"type\": \"parcoords\"}], \"pie\": [{\"automargin\": true, \"type\": \"pie\"}], \"scatter\": [{\"marker\": {\"colorbar\": {\"outlinewidth\": 0, \"ticks\": \"\"}}, \"type\": \"scatter\"}], \"scatter3d\": [{\"line\": {\"colorbar\": {\"outlinewidth\": 0, \"ticks\": \"\"}}, \"marker\": {\"colorbar\": {\"outlinewidth\": 0, \"ticks\": \"\"}}, \"type\": \"scatter3d\"}], \"scattercarpet\": [{\"marker\": {\"colorbar\": {\"outlinewidth\": 0, \"ticks\": \"\"}}, \"type\": \"scattercarpet\"}], \"scattergeo\": [{\"marker\": {\"colorbar\": {\"outlinewidth\": 0, \"ticks\": \"\"}}, \"type\": \"scattergeo\"}], \"scattergl\": [{\"marker\": {\"colorbar\": {\"outlinewidth\": 0, \"ticks\": \"\"}}, \"type\": \"scattergl\"}], \"scattermapbox\": [{\"marker\": {\"colorbar\": {\"outlinewidth\": 0, \"ticks\": \"\"}}, \"type\": \"scattermapbox\"}], \"scatterpolar\": [{\"marker\": {\"colorbar\": {\"outlinewidth\": 0, \"ticks\": \"\"}}, \"type\": \"scatterpolar\"}], \"scatterpolargl\": [{\"marker\": {\"colorbar\": {\"outlinewidth\": 0, \"ticks\": \"\"}}, \"type\": \"scatterpolargl\"}], \"scatterternary\": [{\"marker\": {\"colorbar\": {\"outlinewidth\": 0, \"ticks\": \"\"}}, \"type\": \"scatterternary\"}], \"surface\": [{\"colorbar\": {\"outlinewidth\": 0, \"ticks\": \"\"}, \"colorscale\": [[0.0, \"#0d0887\"], [0.1111111111111111, \"#46039f\"], [0.2222222222222222, \"#7201a8\"], [0.3333333333333333, \"#9c179e\"], [0.4444444444444444, \"#bd3786\"], [0.5555555555555556, \"#d8576b\"], [0.6666666666666666, \"#ed7953\"], [0.7777777777777778, \"#fb9f3a\"], [0.8888888888888888, \"#fdca26\"], [1.0, \"#f0f921\"]], \"type\": \"surface\"}], \"table\": [{\"cells\": {\"fill\": {\"color\": \"#EBF0F8\"}, \"line\": {\"color\": \"white\"}}, \"header\": {\"fill\": {\"color\": \"#C8D4E3\"}, \"line\": {\"color\": \"white\"}}, \"type\": \"table\"}]}, \"layout\": {\"annotationdefaults\": {\"arrowcolor\": \"#2a3f5f\", \"arrowhead\": 0, \"arrowwidth\": 1}, \"coloraxis\": {\"colorbar\": {\"outlinewidth\": 0, \"ticks\": \"\"}}, \"colorscale\": {\"diverging\": [[0, \"#8e0152\"], [0.1, \"#c51b7d\"], [0.2, \"#de77ae\"], [0.3, \"#f1b6da\"], [0.4, \"#fde0ef\"], [0.5, \"#f7f7f7\"], [0.6, \"#e6f5d0\"], [0.7, \"#b8e186\"], [0.8, \"#7fbc41\"], [0.9, \"#4d9221\"], [1, \"#276419\"]], \"sequential\": [[0.0, \"#0d0887\"], [0.1111111111111111, \"#46039f\"], [0.2222222222222222, \"#7201a8\"], [0.3333333333333333, \"#9c179e\"], [0.4444444444444444, \"#bd3786\"], [0.5555555555555556, \"#d8576b\"], [0.6666666666666666, \"#ed7953\"], [0.7777777777777778, \"#fb9f3a\"], [0.8888888888888888, \"#fdca26\"], [1.0, \"#f0f921\"]], \"sequentialminus\": [[0.0, \"#0d0887\"], [0.1111111111111111, \"#46039f\"], [0.2222222222222222, \"#7201a8\"], [0.3333333333333333, \"#9c179e\"], [0.4444444444444444, \"#bd3786\"], [0.5555555555555556, \"#d8576b\"], [0.6666666666666666, \"#ed7953\"], [0.7777777777777778, \"#fb9f3a\"], [0.8888888888888888, \"#fdca26\"], [1.0, \"#f0f921\"]]}, \"colorway\": [\"#636efa\", \"#EF553B\", \"#00cc96\", \"#ab63fa\", \"#FFA15A\", \"#19d3f3\", \"#FF6692\", \"#B6E880\", \"#FF97FF\", \"#FECB52\"], \"font\": {\"color\": \"#2a3f5f\"}, \"geo\": {\"bgcolor\": \"white\", \"lakecolor\": \"white\", \"landcolor\": \"#E5ECF6\", \"showlakes\": true, \"showland\": true, \"subunitcolor\": \"white\"}, \"hoverlabel\": {\"align\": \"left\"}, \"hovermode\": \"closest\", \"mapbox\": {\"style\": \"light\"}, \"paper_bgcolor\": \"white\", \"plot_bgcolor\": \"#E5ECF6\", \"polar\": {\"angularaxis\": {\"gridcolor\": \"white\", \"linecolor\": \"white\", \"ticks\": \"\"}, \"bgcolor\": \"#E5ECF6\", \"radialaxis\": {\"gridcolor\": \"white\", \"linecolor\": \"white\", \"ticks\": \"\"}}, \"scene\": {\"xaxis\": {\"backgroundcolor\": \"#E5ECF6\", \"gridcolor\": \"white\", \"gridwidth\": 2, \"linecolor\": \"white\", \"showbackground\": true, \"ticks\": \"\", \"zerolinecolor\": \"white\"}, \"yaxis\": {\"backgroundcolor\": \"#E5ECF6\", \"gridcolor\": \"white\", \"gridwidth\": 2, \"linecolor\": \"white\", \"showbackground\": true, \"ticks\": \"\", \"zerolinecolor\": \"white\"}, \"zaxis\": {\"backgroundcolor\": \"#E5ECF6\", \"gridcolor\": \"white\", \"gridwidth\": 2, \"linecolor\": \"white\", \"showbackground\": true, \"ticks\": \"\", \"zerolinecolor\": \"white\"}}, \"shapedefaults\": {\"line\": {\"color\": \"#2a3f5f\"}}, \"ternary\": {\"aaxis\": {\"gridcolor\": \"white\", \"linecolor\": \"white\", \"ticks\": \"\"}, \"baxis\": {\"gridcolor\": \"white\", \"linecolor\": \"white\", \"ticks\": \"\"}, \"bgcolor\": \"#E5ECF6\", \"caxis\": {\"gridcolor\": \"white\", \"linecolor\": \"white\", \"ticks\": \"\"}}, \"title\": {\"x\": 0.05}, \"xaxis\": {\"automargin\": true, \"gridcolor\": \"white\", \"linecolor\": \"white\", \"ticks\": \"\", \"title\": {\"standoff\": 15}, \"zerolinecolor\": \"white\", \"zerolinewidth\": 2}, \"yaxis\": {\"automargin\": true, \"gridcolor\": \"white\", \"linecolor\": \"white\", \"ticks\": \"\", \"title\": {\"standoff\": 15}, \"zerolinecolor\": \"white\", \"zerolinewidth\": 2}}}, \"xaxis\": {\"anchor\": \"y\", \"domain\": [0.0, 1.0], \"title\": {\"text\": \"Date\"}}, \"yaxis\": {\"anchor\": \"x\", \"domain\": [0.0, 1.0], \"title\": {\"text\": \"pct_of_baseline\"}}},\n",
       "                        {\"responsive\": true}\n",
       "                    ).then(function(){\n",
       "                            \n",
       "var gd = document.getElementById('cd98af7b-e922-4ea9-8646-8102df8e4f86');\n",
       "var x = new MutationObserver(function (mutations, observer) {{\n",
       "        var display = window.getComputedStyle(gd).display;\n",
       "        if (!display || display === 'none') {{\n",
       "            console.log([gd, 'removed!']);\n",
       "            Plotly.purge(gd);\n",
       "            observer.disconnect();\n",
       "        }}\n",
       "}});\n",
       "\n",
       "// Listen for the removal of the full notebook cells\n",
       "var notebookContainer = gd.closest('#notebook-container');\n",
       "if (notebookContainer) {{\n",
       "    x.observe(notebookContainer, {childList: true});\n",
       "}}\n",
       "\n",
       "// Listen for the clearing of the current output cell\n",
       "var outputEl = gd.closest('.output');\n",
       "if (outputEl) {{\n",
       "    x.observe(outputEl, {childList: true});\n",
       "}}\n",
       "\n",
       "                        })\n",
       "                };\n",
       "                });\n",
       "            </script>\n",
       "        </div>"
      ]
     },
     "metadata": {},
     "output_type": "display_data"
    }
   ],
   "source": [
    "import plotly.express as px\n",
    "#Make list of any cities to plot\n",
    "to_show = [\"Germany\"]\n",
    "\n",
    "#Plot\n",
    "df = mobility_countries_melted[mobility_countries_melted[\"region\"].isin(to_show)]\n",
    "fig = px.line(df, x=\"Date\", y=\"pct_of_baseline\", color=\"transportation_type\",\n",
    "              line_group=\"region\", hover_name=\"region\")\n",
    "fig.show()"
   ]
  },
  {
   "cell_type": "markdown",
   "metadata": {},
   "source": [
    "We visualize the data for the USA to compare the mobility data between Germany and the USA"
   ]
  },
  {
   "cell_type": "code",
   "execution_count": 58,
   "metadata": {},
   "outputs": [
    {
     "data": {
      "application/vnd.plotly.v1+json": {
       "config": {
        "plotlyServerURL": "https://plot.ly"
       },
       "data": [
        {
         "hovertemplate": "<b>%{hovertext}</b><br><br>transportation_type=driving<br>region=United States<br>Date=%{x}<br>pct_of_baseline=%{y}<extra></extra>",
         "hovertext": [
          "United States",
          "United States",
          "United States",
          "United States",
          "United States",
          "United States",
          "United States",
          "United States",
          "United States",
          "United States",
          "United States",
          "United States",
          "United States",
          "United States",
          "United States",
          "United States",
          "United States",
          "United States",
          "United States",
          "United States",
          "United States",
          "United States",
          "United States",
          "United States",
          "United States",
          "United States",
          "United States",
          "United States",
          "United States",
          "United States",
          "United States",
          "United States",
          "United States",
          "United States",
          "United States",
          "United States",
          "United States",
          "United States",
          "United States",
          "United States",
          "United States",
          "United States",
          "United States",
          "United States",
          "United States",
          "United States",
          "United States",
          "United States",
          "United States",
          "United States",
          "United States",
          "United States",
          "United States",
          "United States",
          "United States",
          "United States",
          "United States",
          "United States",
          "United States",
          "United States",
          "United States",
          "United States",
          "United States",
          "United States",
          "United States",
          "United States",
          "United States",
          "United States",
          "United States",
          "United States",
          "United States",
          "United States",
          "United States",
          "United States",
          "United States",
          "United States",
          "United States",
          "United States",
          "United States",
          "United States",
          "United States",
          "United States",
          "United States",
          "United States",
          "United States",
          "United States",
          "United States",
          "United States",
          "United States",
          "United States",
          "United States",
          "United States",
          "United States",
          "United States",
          "United States",
          "United States",
          "United States",
          "United States",
          "United States",
          "United States",
          "United States",
          "United States",
          "United States",
          "United States",
          "United States",
          "United States",
          "United States",
          "United States",
          "United States",
          "United States",
          "United States",
          "United States",
          "United States",
          "United States",
          "United States",
          "United States",
          "United States",
          "United States",
          "United States",
          "United States",
          "United States",
          "United States",
          "United States",
          "United States",
          "United States",
          "United States",
          "United States",
          "United States",
          "United States",
          "United States",
          "United States",
          "United States",
          "United States",
          "United States",
          "United States",
          "United States",
          "United States",
          "United States",
          "United States",
          "United States",
          "United States",
          "United States",
          "United States",
          "United States",
          "United States",
          "United States",
          "United States",
          "United States",
          "United States",
          "United States",
          "United States",
          "United States",
          "United States",
          "United States",
          "United States",
          "United States",
          "United States",
          "United States",
          "United States",
          "United States",
          "United States",
          "United States",
          "United States",
          "United States",
          "United States",
          "United States",
          "United States"
         ],
         "legendgroup": "driving",
         "line": {
          "color": "#636efa",
          "dash": "solid"
         },
         "mode": "lines",
         "name": "driving",
         "orientation": "v",
         "showlegend": true,
         "type": "scatter",
         "x": [
          "alternative_name",
          "sub-region",
          "country",
          "2020-01-13",
          "2020-01-14",
          "2020-01-15",
          "2020-01-16",
          "2020-01-17",
          "2020-01-18",
          "2020-01-19",
          "2020-01-20",
          "2020-01-21",
          "2020-01-22",
          "2020-01-23",
          "2020-01-24",
          "2020-01-25",
          "2020-01-26",
          "2020-01-27",
          "2020-01-28",
          "2020-01-29",
          "2020-01-30",
          "2020-01-31",
          "2020-02-01",
          "2020-02-02",
          "2020-02-03",
          "2020-02-04",
          "2020-02-05",
          "2020-02-06",
          "2020-02-07",
          "2020-02-08",
          "2020-02-09",
          "2020-02-10",
          "2020-02-11",
          "2020-02-12",
          "2020-02-13",
          "2020-02-14",
          "2020-02-15",
          "2020-02-16",
          "2020-02-17",
          "2020-02-18",
          "2020-02-19",
          "2020-02-20",
          "2020-02-21",
          "2020-02-22",
          "2020-02-23",
          "2020-02-24",
          "2020-02-25",
          "2020-02-26",
          "2020-02-27",
          "2020-02-28",
          "2020-02-29",
          "2020-03-01",
          "2020-03-02",
          "2020-03-03",
          "2020-03-04",
          "2020-03-05",
          "2020-03-06",
          "2020-03-07",
          "2020-03-08",
          "2020-03-09",
          "2020-03-10",
          "2020-03-11",
          "2020-03-12",
          "2020-03-13",
          "2020-03-14",
          "2020-03-15",
          "2020-03-16",
          "2020-03-17",
          "2020-03-18",
          "2020-03-19",
          "2020-03-20",
          "2020-03-21",
          "2020-03-22",
          "2020-03-23",
          "2020-03-24",
          "2020-03-25",
          "2020-03-26",
          "2020-03-27",
          "2020-03-28",
          "2020-03-29",
          "2020-03-30",
          "2020-03-31",
          "2020-04-01",
          "2020-04-02",
          "2020-04-03",
          "2020-04-04",
          "2020-04-05",
          "2020-04-06",
          "2020-04-07",
          "2020-04-08",
          "2020-04-09",
          "2020-04-10",
          "2020-04-11",
          "2020-04-12",
          "2020-04-13",
          "2020-04-14",
          "2020-04-15",
          "2020-04-16",
          "2020-04-17",
          "2020-04-18",
          "2020-04-19",
          "2020-04-20",
          "2020-04-21",
          "2020-04-22",
          "2020-04-23",
          "2020-04-24",
          "2020-04-25",
          "2020-04-26",
          "2020-04-27",
          "2020-04-28",
          "2020-04-29",
          "2020-04-30",
          "2020-05-01",
          "2020-05-02",
          "2020-05-03",
          "2020-05-04",
          "2020-05-05",
          "2020-05-06",
          "2020-05-07",
          "2020-05-08",
          "2020-05-09",
          "2020-05-10",
          "2020-05-11",
          "2020-05-12",
          "2020-05-13",
          "2020-05-14",
          "2020-05-15",
          "2020-05-16",
          "2020-05-17",
          "2020-05-18",
          "2020-05-19",
          "2020-05-20",
          "2020-05-21",
          "2020-05-22",
          "2020-05-23",
          "2020-05-24",
          "2020-05-25",
          "2020-05-26",
          "2020-05-27",
          "2020-05-28",
          "2020-05-29",
          "2020-05-30",
          "2020-05-31",
          "2020-06-01",
          "2020-06-02",
          "2020-06-03",
          "2020-06-04",
          "2020-06-05",
          "2020-06-06",
          "2020-06-07",
          "2020-06-08",
          "2020-06-09",
          "2020-06-10",
          "2020-06-11",
          "2020-06-12",
          "2020-06-13",
          "2020-06-14",
          "2020-06-15",
          "2020-06-16",
          "2020-06-17",
          "2020-06-18",
          "2020-06-19",
          "2020-06-20",
          "2020-06-21",
          "2020-06-22",
          "2020-06-23",
          "2020-06-24"
         ],
         "xaxis": "x",
         "y": [
          "USA",
          null,
          null,
          100,
          102.97,
          105.19,
          108.48,
          125.51,
          115.04,
          90.91,
          102.57,
          103.07,
          103.01,
          107.9,
          124.7,
          120.92,
          87.32,
          97.97,
          101.54,
          102.2,
          107.61,
          126.08,
          122.32,
          85.25,
          98.86,
          101.99,
          101.77,
          107.72,
          124.07,
          122.87,
          91.58,
          102.93,
          106.75,
          109.02,
          118.36,
          145.4,
          132.51,
          102.27,
          110.78,
          109.46,
          110.85,
          114.86,
          135.85,
          134.35,
          99.48,
          106.23,
          110.27,
          112.36,
          118.85,
          139.8,
          138.41,
          101.04,
          107.73,
          112.98,
          113.05,
          119.74,
          139.98,
          137.37,
          101.64,
          109.65,
          111.34,
          110.97,
          108.49,
          117.01,
          102.87,
          76.16,
          84.09,
          77.04,
          72.84,
          70.21,
          74.33,
          62.31,
          46.45,
          55.73,
          55.52,
          55.24,
          56.81,
          62.22,
          52.56,
          42.96,
          53.53,
          53.98,
          55.49,
          55.64,
          60.61,
          52.22,
          42.19,
          53.73,
          55.27,
          56.21,
          56.9,
          63.87,
          57.51,
          37.42,
          54.98,
          59.3,
          63.03,
          64.11,
          70.71,
          65.07,
          52.71,
          65.15,
          65,
          66.49,
          68,
          76.68,
          72.62,
          57.06,
          68.77,
          71.33,
          71.86,
          74.98,
          88.5,
          84.34,
          68.08,
          78.01,
          80.55,
          81.47,
          85.85,
          95.56,
          93.62,
          70.41,
          null,
          null,
          91.01,
          94.41,
          109.51,
          104.87,
          83.6,
          94.5,
          99.48,
          102.44,
          107.95,
          125.32,
          115.84,
          95.79,
          92.54,
          106.47,
          108.78,
          111.45,
          127.18,
          123.59,
          97.96,
          107.63,
          109.14,
          111.61,
          117.88,
          133.68,
          131.07,
          105.4,
          115.92,
          118.49,
          121.12,
          126.3,
          146.81,
          142.73,
          114.39,
          122.16,
          124.89,
          127.18,
          132.57,
          153.57,
          146.2,
          108.83,
          125.21,
          128.97,
          132.31
         ],
         "yaxis": "y"
        },
        {
         "hovertemplate": "<b>%{hovertext}</b><br><br>transportation_type=transit<br>region=United States<br>Date=%{x}<br>pct_of_baseline=%{y}<extra></extra>",
         "hovertext": [
          "United States",
          "United States",
          "United States",
          "United States",
          "United States",
          "United States",
          "United States",
          "United States",
          "United States",
          "United States",
          "United States",
          "United States",
          "United States",
          "United States",
          "United States",
          "United States",
          "United States",
          "United States",
          "United States",
          "United States",
          "United States",
          "United States",
          "United States",
          "United States",
          "United States",
          "United States",
          "United States",
          "United States",
          "United States",
          "United States",
          "United States",
          "United States",
          "United States",
          "United States",
          "United States",
          "United States",
          "United States",
          "United States",
          "United States",
          "United States",
          "United States",
          "United States",
          "United States",
          "United States",
          "United States",
          "United States",
          "United States",
          "United States",
          "United States",
          "United States",
          "United States",
          "United States",
          "United States",
          "United States",
          "United States",
          "United States",
          "United States",
          "United States",
          "United States",
          "United States",
          "United States",
          "United States",
          "United States",
          "United States",
          "United States",
          "United States",
          "United States",
          "United States",
          "United States",
          "United States",
          "United States",
          "United States",
          "United States",
          "United States",
          "United States",
          "United States",
          "United States",
          "United States",
          "United States",
          "United States",
          "United States",
          "United States",
          "United States",
          "United States",
          "United States",
          "United States",
          "United States",
          "United States",
          "United States",
          "United States",
          "United States",
          "United States",
          "United States",
          "United States",
          "United States",
          "United States",
          "United States",
          "United States",
          "United States",
          "United States",
          "United States",
          "United States",
          "United States",
          "United States",
          "United States",
          "United States",
          "United States",
          "United States",
          "United States",
          "United States",
          "United States",
          "United States",
          "United States",
          "United States",
          "United States",
          "United States",
          "United States",
          "United States",
          "United States",
          "United States",
          "United States",
          "United States",
          "United States",
          "United States",
          "United States",
          "United States",
          "United States",
          "United States",
          "United States",
          "United States",
          "United States",
          "United States",
          "United States",
          "United States",
          "United States",
          "United States",
          "United States",
          "United States",
          "United States",
          "United States",
          "United States",
          "United States",
          "United States",
          "United States",
          "United States",
          "United States",
          "United States",
          "United States",
          "United States",
          "United States",
          "United States",
          "United States",
          "United States",
          "United States",
          "United States",
          "United States",
          "United States",
          "United States",
          "United States",
          "United States",
          "United States",
          "United States",
          "United States",
          "United States",
          "United States",
          "United States",
          "United States"
         ],
         "legendgroup": "transit",
         "line": {
          "color": "#EF553B",
          "dash": "solid"
         },
         "mode": "lines",
         "name": "transit",
         "orientation": "v",
         "showlegend": true,
         "type": "scatter",
         "x": [
          "alternative_name",
          "sub-region",
          "country",
          "2020-01-13",
          "2020-01-14",
          "2020-01-15",
          "2020-01-16",
          "2020-01-17",
          "2020-01-18",
          "2020-01-19",
          "2020-01-20",
          "2020-01-21",
          "2020-01-22",
          "2020-01-23",
          "2020-01-24",
          "2020-01-25",
          "2020-01-26",
          "2020-01-27",
          "2020-01-28",
          "2020-01-29",
          "2020-01-30",
          "2020-01-31",
          "2020-02-01",
          "2020-02-02",
          "2020-02-03",
          "2020-02-04",
          "2020-02-05",
          "2020-02-06",
          "2020-02-07",
          "2020-02-08",
          "2020-02-09",
          "2020-02-10",
          "2020-02-11",
          "2020-02-12",
          "2020-02-13",
          "2020-02-14",
          "2020-02-15",
          "2020-02-16",
          "2020-02-17",
          "2020-02-18",
          "2020-02-19",
          "2020-02-20",
          "2020-02-21",
          "2020-02-22",
          "2020-02-23",
          "2020-02-24",
          "2020-02-25",
          "2020-02-26",
          "2020-02-27",
          "2020-02-28",
          "2020-02-29",
          "2020-03-01",
          "2020-03-02",
          "2020-03-03",
          "2020-03-04",
          "2020-03-05",
          "2020-03-06",
          "2020-03-07",
          "2020-03-08",
          "2020-03-09",
          "2020-03-10",
          "2020-03-11",
          "2020-03-12",
          "2020-03-13",
          "2020-03-14",
          "2020-03-15",
          "2020-03-16",
          "2020-03-17",
          "2020-03-18",
          "2020-03-19",
          "2020-03-20",
          "2020-03-21",
          "2020-03-22",
          "2020-03-23",
          "2020-03-24",
          "2020-03-25",
          "2020-03-26",
          "2020-03-27",
          "2020-03-28",
          "2020-03-29",
          "2020-03-30",
          "2020-03-31",
          "2020-04-01",
          "2020-04-02",
          "2020-04-03",
          "2020-04-04",
          "2020-04-05",
          "2020-04-06",
          "2020-04-07",
          "2020-04-08",
          "2020-04-09",
          "2020-04-10",
          "2020-04-11",
          "2020-04-12",
          "2020-04-13",
          "2020-04-14",
          "2020-04-15",
          "2020-04-16",
          "2020-04-17",
          "2020-04-18",
          "2020-04-19",
          "2020-04-20",
          "2020-04-21",
          "2020-04-22",
          "2020-04-23",
          "2020-04-24",
          "2020-04-25",
          "2020-04-26",
          "2020-04-27",
          "2020-04-28",
          "2020-04-29",
          "2020-04-30",
          "2020-05-01",
          "2020-05-02",
          "2020-05-03",
          "2020-05-04",
          "2020-05-05",
          "2020-05-06",
          "2020-05-07",
          "2020-05-08",
          "2020-05-09",
          "2020-05-10",
          "2020-05-11",
          "2020-05-12",
          "2020-05-13",
          "2020-05-14",
          "2020-05-15",
          "2020-05-16",
          "2020-05-17",
          "2020-05-18",
          "2020-05-19",
          "2020-05-20",
          "2020-05-21",
          "2020-05-22",
          "2020-05-23",
          "2020-05-24",
          "2020-05-25",
          "2020-05-26",
          "2020-05-27",
          "2020-05-28",
          "2020-05-29",
          "2020-05-30",
          "2020-05-31",
          "2020-06-01",
          "2020-06-02",
          "2020-06-03",
          "2020-06-04",
          "2020-06-05",
          "2020-06-06",
          "2020-06-07",
          "2020-06-08",
          "2020-06-09",
          "2020-06-10",
          "2020-06-11",
          "2020-06-12",
          "2020-06-13",
          "2020-06-14",
          "2020-06-15",
          "2020-06-16",
          "2020-06-17",
          "2020-06-18",
          "2020-06-19",
          "2020-06-20",
          "2020-06-21",
          "2020-06-22",
          "2020-06-23",
          "2020-06-24"
         ],
         "xaxis": "x",
         "y": [
          "USA",
          null,
          null,
          100,
          97.77,
          98.84,
          99.04,
          108.03,
          97.41,
          85.4,
          92.39,
          100.27,
          101.06,
          103.29,
          113.06,
          101.88,
          81.35,
          97.56,
          97.08,
          97.49,
          100.72,
          110.99,
          103.42,
          80.2,
          96.48,
          97.63,
          98.26,
          101.15,
          110.91,
          107.27,
          84.2,
          98.3,
          100.64,
          102.08,
          106.67,
          119.06,
          107.77,
          91.63,
          101.73,
          104.64,
          105.16,
          106.16,
          117.14,
          110.65,
          87.27,
          99.21,
          100.12,
          100.52,
          102.98,
          116.02,
          109.92,
          85.31,
          98.06,
          100.26,
          101.5,
          103.53,
          111.5,
          107.32,
          84.23,
          97.1,
          92.48,
          89.97,
          79.08,
          76.78,
          64.59,
          49.93,
          50.79,
          43.58,
          39.63,
          36.76,
          35.8,
          29.31,
          24.84,
          28.17,
          27.91,
          26.94,
          27.09,
          28.07,
          23.83,
          22.39,
          26.51,
          25.47,
          25.24,
          24.67,
          25.04,
          22.42,
          20.92,
          24.71,
          24.65,
          24.51,
          23.69,
          24.31,
          22.65,
          19.06,
          23.67,
          24.44,
          24.23,
          24.06,
          24.89,
          22.89,
          22.11,
          26.13,
          25.1,
          25.09,
          25.08,
          25.99,
          24.85,
          22.47,
          26.64,
          27.32,
          26.84,
          26.66,
          29.24,
          28.11,
          26.35,
          30,
          29.8,
          29.47,
          30.12,
          30.07,
          28.58,
          24.77,
          null,
          null,
          30.69,
          30.83,
          33.06,
          31.28,
          28.39,
          32.65,
          32.74,
          33.2,
          33.67,
          36.12,
          33.43,
          31.38,
          33.08,
          37.14,
          36.98,
          36.37,
          38.46,
          37.81,
          32.76,
          36.92,
          37.39,
          37.37,
          38.99,
          40.66,
          41.16,
          37.39,
          43.32,
          43.35,
          43.35,
          42.92,
          47.34,
          44.66,
          40.12,
          45.4,
          45.91,
          45.69,
          46.18,
          51.04,
          46.18,
          39.74,
          48.89,
          49.39,
          49.41
         ],
         "yaxis": "y"
        },
        {
         "hovertemplate": "<b>%{hovertext}</b><br><br>transportation_type=walking<br>region=United States<br>Date=%{x}<br>pct_of_baseline=%{y}<extra></extra>",
         "hovertext": [
          "United States",
          "United States",
          "United States",
          "United States",
          "United States",
          "United States",
          "United States",
          "United States",
          "United States",
          "United States",
          "United States",
          "United States",
          "United States",
          "United States",
          "United States",
          "United States",
          "United States",
          "United States",
          "United States",
          "United States",
          "United States",
          "United States",
          "United States",
          "United States",
          "United States",
          "United States",
          "United States",
          "United States",
          "United States",
          "United States",
          "United States",
          "United States",
          "United States",
          "United States",
          "United States",
          "United States",
          "United States",
          "United States",
          "United States",
          "United States",
          "United States",
          "United States",
          "United States",
          "United States",
          "United States",
          "United States",
          "United States",
          "United States",
          "United States",
          "United States",
          "United States",
          "United States",
          "United States",
          "United States",
          "United States",
          "United States",
          "United States",
          "United States",
          "United States",
          "United States",
          "United States",
          "United States",
          "United States",
          "United States",
          "United States",
          "United States",
          "United States",
          "United States",
          "United States",
          "United States",
          "United States",
          "United States",
          "United States",
          "United States",
          "United States",
          "United States",
          "United States",
          "United States",
          "United States",
          "United States",
          "United States",
          "United States",
          "United States",
          "United States",
          "United States",
          "United States",
          "United States",
          "United States",
          "United States",
          "United States",
          "United States",
          "United States",
          "United States",
          "United States",
          "United States",
          "United States",
          "United States",
          "United States",
          "United States",
          "United States",
          "United States",
          "United States",
          "United States",
          "United States",
          "United States",
          "United States",
          "United States",
          "United States",
          "United States",
          "United States",
          "United States",
          "United States",
          "United States",
          "United States",
          "United States",
          "United States",
          "United States",
          "United States",
          "United States",
          "United States",
          "United States",
          "United States",
          "United States",
          "United States",
          "United States",
          "United States",
          "United States",
          "United States",
          "United States",
          "United States",
          "United States",
          "United States",
          "United States",
          "United States",
          "United States",
          "United States",
          "United States",
          "United States",
          "United States",
          "United States",
          "United States",
          "United States",
          "United States",
          "United States",
          "United States",
          "United States",
          "United States",
          "United States",
          "United States",
          "United States",
          "United States",
          "United States",
          "United States",
          "United States",
          "United States",
          "United States",
          "United States",
          "United States",
          "United States",
          "United States",
          "United States",
          "United States",
          "United States",
          "United States",
          "United States",
          "United States",
          "United States"
         ],
         "legendgroup": "walking",
         "line": {
          "color": "#00cc96",
          "dash": "solid"
         },
         "mode": "lines",
         "name": "walking",
         "orientation": "v",
         "showlegend": true,
         "type": "scatter",
         "x": [
          "alternative_name",
          "sub-region",
          "country",
          "2020-01-13",
          "2020-01-14",
          "2020-01-15",
          "2020-01-16",
          "2020-01-17",
          "2020-01-18",
          "2020-01-19",
          "2020-01-20",
          "2020-01-21",
          "2020-01-22",
          "2020-01-23",
          "2020-01-24",
          "2020-01-25",
          "2020-01-26",
          "2020-01-27",
          "2020-01-28",
          "2020-01-29",
          "2020-01-30",
          "2020-01-31",
          "2020-02-01",
          "2020-02-02",
          "2020-02-03",
          "2020-02-04",
          "2020-02-05",
          "2020-02-06",
          "2020-02-07",
          "2020-02-08",
          "2020-02-09",
          "2020-02-10",
          "2020-02-11",
          "2020-02-12",
          "2020-02-13",
          "2020-02-14",
          "2020-02-15",
          "2020-02-16",
          "2020-02-17",
          "2020-02-18",
          "2020-02-19",
          "2020-02-20",
          "2020-02-21",
          "2020-02-22",
          "2020-02-23",
          "2020-02-24",
          "2020-02-25",
          "2020-02-26",
          "2020-02-27",
          "2020-02-28",
          "2020-02-29",
          "2020-03-01",
          "2020-03-02",
          "2020-03-03",
          "2020-03-04",
          "2020-03-05",
          "2020-03-06",
          "2020-03-07",
          "2020-03-08",
          "2020-03-09",
          "2020-03-10",
          "2020-03-11",
          "2020-03-12",
          "2020-03-13",
          "2020-03-14",
          "2020-03-15",
          "2020-03-16",
          "2020-03-17",
          "2020-03-18",
          "2020-03-19",
          "2020-03-20",
          "2020-03-21",
          "2020-03-22",
          "2020-03-23",
          "2020-03-24",
          "2020-03-25",
          "2020-03-26",
          "2020-03-27",
          "2020-03-28",
          "2020-03-29",
          "2020-03-30",
          "2020-03-31",
          "2020-04-01",
          "2020-04-02",
          "2020-04-03",
          "2020-04-04",
          "2020-04-05",
          "2020-04-06",
          "2020-04-07",
          "2020-04-08",
          "2020-04-09",
          "2020-04-10",
          "2020-04-11",
          "2020-04-12",
          "2020-04-13",
          "2020-04-14",
          "2020-04-15",
          "2020-04-16",
          "2020-04-17",
          "2020-04-18",
          "2020-04-19",
          "2020-04-20",
          "2020-04-21",
          "2020-04-22",
          "2020-04-23",
          "2020-04-24",
          "2020-04-25",
          "2020-04-26",
          "2020-04-27",
          "2020-04-28",
          "2020-04-29",
          "2020-04-30",
          "2020-05-01",
          "2020-05-02",
          "2020-05-03",
          "2020-05-04",
          "2020-05-05",
          "2020-05-06",
          "2020-05-07",
          "2020-05-08",
          "2020-05-09",
          "2020-05-10",
          "2020-05-11",
          "2020-05-12",
          "2020-05-13",
          "2020-05-14",
          "2020-05-15",
          "2020-05-16",
          "2020-05-17",
          "2020-05-18",
          "2020-05-19",
          "2020-05-20",
          "2020-05-21",
          "2020-05-22",
          "2020-05-23",
          "2020-05-24",
          "2020-05-25",
          "2020-05-26",
          "2020-05-27",
          "2020-05-28",
          "2020-05-29",
          "2020-05-30",
          "2020-05-31",
          "2020-06-01",
          "2020-06-02",
          "2020-06-03",
          "2020-06-04",
          "2020-06-05",
          "2020-06-06",
          "2020-06-07",
          "2020-06-08",
          "2020-06-09",
          "2020-06-10",
          "2020-06-11",
          "2020-06-12",
          "2020-06-13",
          "2020-06-14",
          "2020-06-15",
          "2020-06-16",
          "2020-06-17",
          "2020-06-18",
          "2020-06-19",
          "2020-06-20",
          "2020-06-21",
          "2020-06-22",
          "2020-06-23",
          "2020-06-24"
         ],
         "xaxis": "x",
         "y": [
          "USA",
          null,
          null,
          100,
          99.59,
          101.87,
          100.6,
          121.36,
          132.38,
          100.1,
          94.79,
          94.84,
          97.04,
          100.83,
          126.67,
          139.61,
          89.9,
          91.94,
          93.97,
          94.44,
          99.96,
          125.02,
          140.8,
          88.42,
          92.42,
          93.82,
          94.52,
          97.6,
          122.23,
          142.94,
          92.83,
          91.94,
          96.13,
          99.84,
          108.3,
          147.82,
          158.55,
          116.26,
          107.52,
          100.23,
          103.21,
          106.25,
          136.41,
          162.45,
          106.11,
          99.34,
          103.03,
          101.84,
          107.83,
          136.34,
          155.82,
          102.29,
          99.2,
          104.76,
          104.61,
          111.67,
          133.94,
          155.7,
          107.77,
          105.33,
          103.06,
          102.34,
          96.43,
          105.88,
          105.24,
          69.72,
          69.43,
          64.05,
          59.26,
          56.3,
          59.59,
          52.26,
          39.71,
          44.31,
          46.34,
          46.04,
          48.25,
          51.95,
          44.42,
          38.29,
          45.36,
          45.06,
          47.41,
          47.1,
          50.2,
          45.77,
          38.89,
          46.94,
          48.7,
          48.77,
          46.28,
          51.97,
          50.69,
          34.2,
          44.06,
          48.68,
          50.37,
          50.64,
          54.85,
          52.49,
          45.86,
          53.87,
          51.9,
          52.86,
          52.92,
          58.89,
          60,
          45.95,
          54.93,
          57.61,
          56.67,
          57.81,
          69.58,
          71.29,
          57.64,
          63.27,
          64.79,
          64.32,
          68.9,
          73.57,
          75.32,
          55.76,
          null,
          null,
          76.46,
          78.54,
          92.87,
          92.48,
          72.02,
          79.45,
          84.13,
          86.94,
          90.55,
          104.37,
          101.57,
          85.35,
          78.61,
          91.83,
          93.44,
          94.3,
          109.16,
          113.18,
          86.96,
          94.6,
          96.94,
          96.33,
          100.52,
          113.19,
          119.76,
          91.85,
          99.64,
          101.36,
          102.98,
          106.25,
          127.74,
          131.19,
          98.53,
          104.69,
          108.03,
          109.04,
          112.23,
          135.01,
          131.23,
          91.1,
          107.69,
          113.44,
          116.42
         ],
         "yaxis": "y"
        }
       ],
       "layout": {
        "legend": {
         "title": {
          "text": "transportation_type"
         },
         "tracegroupgap": 0
        },
        "margin": {
         "t": 60
        },
        "template": {
         "data": {
          "bar": [
           {
            "error_x": {
             "color": "#2a3f5f"
            },
            "error_y": {
             "color": "#2a3f5f"
            },
            "marker": {
             "line": {
              "color": "#E5ECF6",
              "width": 0.5
             }
            },
            "type": "bar"
           }
          ],
          "barpolar": [
           {
            "marker": {
             "line": {
              "color": "#E5ECF6",
              "width": 0.5
             }
            },
            "type": "barpolar"
           }
          ],
          "carpet": [
           {
            "aaxis": {
             "endlinecolor": "#2a3f5f",
             "gridcolor": "white",
             "linecolor": "white",
             "minorgridcolor": "white",
             "startlinecolor": "#2a3f5f"
            },
            "baxis": {
             "endlinecolor": "#2a3f5f",
             "gridcolor": "white",
             "linecolor": "white",
             "minorgridcolor": "white",
             "startlinecolor": "#2a3f5f"
            },
            "type": "carpet"
           }
          ],
          "choropleth": [
           {
            "colorbar": {
             "outlinewidth": 0,
             "ticks": ""
            },
            "type": "choropleth"
           }
          ],
          "contour": [
           {
            "colorbar": {
             "outlinewidth": 0,
             "ticks": ""
            },
            "colorscale": [
             [
              0,
              "#0d0887"
             ],
             [
              0.1111111111111111,
              "#46039f"
             ],
             [
              0.2222222222222222,
              "#7201a8"
             ],
             [
              0.3333333333333333,
              "#9c179e"
             ],
             [
              0.4444444444444444,
              "#bd3786"
             ],
             [
              0.5555555555555556,
              "#d8576b"
             ],
             [
              0.6666666666666666,
              "#ed7953"
             ],
             [
              0.7777777777777778,
              "#fb9f3a"
             ],
             [
              0.8888888888888888,
              "#fdca26"
             ],
             [
              1,
              "#f0f921"
             ]
            ],
            "type": "contour"
           }
          ],
          "contourcarpet": [
           {
            "colorbar": {
             "outlinewidth": 0,
             "ticks": ""
            },
            "type": "contourcarpet"
           }
          ],
          "heatmap": [
           {
            "colorbar": {
             "outlinewidth": 0,
             "ticks": ""
            },
            "colorscale": [
             [
              0,
              "#0d0887"
             ],
             [
              0.1111111111111111,
              "#46039f"
             ],
             [
              0.2222222222222222,
              "#7201a8"
             ],
             [
              0.3333333333333333,
              "#9c179e"
             ],
             [
              0.4444444444444444,
              "#bd3786"
             ],
             [
              0.5555555555555556,
              "#d8576b"
             ],
             [
              0.6666666666666666,
              "#ed7953"
             ],
             [
              0.7777777777777778,
              "#fb9f3a"
             ],
             [
              0.8888888888888888,
              "#fdca26"
             ],
             [
              1,
              "#f0f921"
             ]
            ],
            "type": "heatmap"
           }
          ],
          "heatmapgl": [
           {
            "colorbar": {
             "outlinewidth": 0,
             "ticks": ""
            },
            "colorscale": [
             [
              0,
              "#0d0887"
             ],
             [
              0.1111111111111111,
              "#46039f"
             ],
             [
              0.2222222222222222,
              "#7201a8"
             ],
             [
              0.3333333333333333,
              "#9c179e"
             ],
             [
              0.4444444444444444,
              "#bd3786"
             ],
             [
              0.5555555555555556,
              "#d8576b"
             ],
             [
              0.6666666666666666,
              "#ed7953"
             ],
             [
              0.7777777777777778,
              "#fb9f3a"
             ],
             [
              0.8888888888888888,
              "#fdca26"
             ],
             [
              1,
              "#f0f921"
             ]
            ],
            "type": "heatmapgl"
           }
          ],
          "histogram": [
           {
            "marker": {
             "colorbar": {
              "outlinewidth": 0,
              "ticks": ""
             }
            },
            "type": "histogram"
           }
          ],
          "histogram2d": [
           {
            "colorbar": {
             "outlinewidth": 0,
             "ticks": ""
            },
            "colorscale": [
             [
              0,
              "#0d0887"
             ],
             [
              0.1111111111111111,
              "#46039f"
             ],
             [
              0.2222222222222222,
              "#7201a8"
             ],
             [
              0.3333333333333333,
              "#9c179e"
             ],
             [
              0.4444444444444444,
              "#bd3786"
             ],
             [
              0.5555555555555556,
              "#d8576b"
             ],
             [
              0.6666666666666666,
              "#ed7953"
             ],
             [
              0.7777777777777778,
              "#fb9f3a"
             ],
             [
              0.8888888888888888,
              "#fdca26"
             ],
             [
              1,
              "#f0f921"
             ]
            ],
            "type": "histogram2d"
           }
          ],
          "histogram2dcontour": [
           {
            "colorbar": {
             "outlinewidth": 0,
             "ticks": ""
            },
            "colorscale": [
             [
              0,
              "#0d0887"
             ],
             [
              0.1111111111111111,
              "#46039f"
             ],
             [
              0.2222222222222222,
              "#7201a8"
             ],
             [
              0.3333333333333333,
              "#9c179e"
             ],
             [
              0.4444444444444444,
              "#bd3786"
             ],
             [
              0.5555555555555556,
              "#d8576b"
             ],
             [
              0.6666666666666666,
              "#ed7953"
             ],
             [
              0.7777777777777778,
              "#fb9f3a"
             ],
             [
              0.8888888888888888,
              "#fdca26"
             ],
             [
              1,
              "#f0f921"
             ]
            ],
            "type": "histogram2dcontour"
           }
          ],
          "mesh3d": [
           {
            "colorbar": {
             "outlinewidth": 0,
             "ticks": ""
            },
            "type": "mesh3d"
           }
          ],
          "parcoords": [
           {
            "line": {
             "colorbar": {
              "outlinewidth": 0,
              "ticks": ""
             }
            },
            "type": "parcoords"
           }
          ],
          "pie": [
           {
            "automargin": true,
            "type": "pie"
           }
          ],
          "scatter": [
           {
            "marker": {
             "colorbar": {
              "outlinewidth": 0,
              "ticks": ""
             }
            },
            "type": "scatter"
           }
          ],
          "scatter3d": [
           {
            "line": {
             "colorbar": {
              "outlinewidth": 0,
              "ticks": ""
             }
            },
            "marker": {
             "colorbar": {
              "outlinewidth": 0,
              "ticks": ""
             }
            },
            "type": "scatter3d"
           }
          ],
          "scattercarpet": [
           {
            "marker": {
             "colorbar": {
              "outlinewidth": 0,
              "ticks": ""
             }
            },
            "type": "scattercarpet"
           }
          ],
          "scattergeo": [
           {
            "marker": {
             "colorbar": {
              "outlinewidth": 0,
              "ticks": ""
             }
            },
            "type": "scattergeo"
           }
          ],
          "scattergl": [
           {
            "marker": {
             "colorbar": {
              "outlinewidth": 0,
              "ticks": ""
             }
            },
            "type": "scattergl"
           }
          ],
          "scattermapbox": [
           {
            "marker": {
             "colorbar": {
              "outlinewidth": 0,
              "ticks": ""
             }
            },
            "type": "scattermapbox"
           }
          ],
          "scatterpolar": [
           {
            "marker": {
             "colorbar": {
              "outlinewidth": 0,
              "ticks": ""
             }
            },
            "type": "scatterpolar"
           }
          ],
          "scatterpolargl": [
           {
            "marker": {
             "colorbar": {
              "outlinewidth": 0,
              "ticks": ""
             }
            },
            "type": "scatterpolargl"
           }
          ],
          "scatterternary": [
           {
            "marker": {
             "colorbar": {
              "outlinewidth": 0,
              "ticks": ""
             }
            },
            "type": "scatterternary"
           }
          ],
          "surface": [
           {
            "colorbar": {
             "outlinewidth": 0,
             "ticks": ""
            },
            "colorscale": [
             [
              0,
              "#0d0887"
             ],
             [
              0.1111111111111111,
              "#46039f"
             ],
             [
              0.2222222222222222,
              "#7201a8"
             ],
             [
              0.3333333333333333,
              "#9c179e"
             ],
             [
              0.4444444444444444,
              "#bd3786"
             ],
             [
              0.5555555555555556,
              "#d8576b"
             ],
             [
              0.6666666666666666,
              "#ed7953"
             ],
             [
              0.7777777777777778,
              "#fb9f3a"
             ],
             [
              0.8888888888888888,
              "#fdca26"
             ],
             [
              1,
              "#f0f921"
             ]
            ],
            "type": "surface"
           }
          ],
          "table": [
           {
            "cells": {
             "fill": {
              "color": "#EBF0F8"
             },
             "line": {
              "color": "white"
             }
            },
            "header": {
             "fill": {
              "color": "#C8D4E3"
             },
             "line": {
              "color": "white"
             }
            },
            "type": "table"
           }
          ]
         },
         "layout": {
          "annotationdefaults": {
           "arrowcolor": "#2a3f5f",
           "arrowhead": 0,
           "arrowwidth": 1
          },
          "coloraxis": {
           "colorbar": {
            "outlinewidth": 0,
            "ticks": ""
           }
          },
          "colorscale": {
           "diverging": [
            [
             0,
             "#8e0152"
            ],
            [
             0.1,
             "#c51b7d"
            ],
            [
             0.2,
             "#de77ae"
            ],
            [
             0.3,
             "#f1b6da"
            ],
            [
             0.4,
             "#fde0ef"
            ],
            [
             0.5,
             "#f7f7f7"
            ],
            [
             0.6,
             "#e6f5d0"
            ],
            [
             0.7,
             "#b8e186"
            ],
            [
             0.8,
             "#7fbc41"
            ],
            [
             0.9,
             "#4d9221"
            ],
            [
             1,
             "#276419"
            ]
           ],
           "sequential": [
            [
             0,
             "#0d0887"
            ],
            [
             0.1111111111111111,
             "#46039f"
            ],
            [
             0.2222222222222222,
             "#7201a8"
            ],
            [
             0.3333333333333333,
             "#9c179e"
            ],
            [
             0.4444444444444444,
             "#bd3786"
            ],
            [
             0.5555555555555556,
             "#d8576b"
            ],
            [
             0.6666666666666666,
             "#ed7953"
            ],
            [
             0.7777777777777778,
             "#fb9f3a"
            ],
            [
             0.8888888888888888,
             "#fdca26"
            ],
            [
             1,
             "#f0f921"
            ]
           ],
           "sequentialminus": [
            [
             0,
             "#0d0887"
            ],
            [
             0.1111111111111111,
             "#46039f"
            ],
            [
             0.2222222222222222,
             "#7201a8"
            ],
            [
             0.3333333333333333,
             "#9c179e"
            ],
            [
             0.4444444444444444,
             "#bd3786"
            ],
            [
             0.5555555555555556,
             "#d8576b"
            ],
            [
             0.6666666666666666,
             "#ed7953"
            ],
            [
             0.7777777777777778,
             "#fb9f3a"
            ],
            [
             0.8888888888888888,
             "#fdca26"
            ],
            [
             1,
             "#f0f921"
            ]
           ]
          },
          "colorway": [
           "#636efa",
           "#EF553B",
           "#00cc96",
           "#ab63fa",
           "#FFA15A",
           "#19d3f3",
           "#FF6692",
           "#B6E880",
           "#FF97FF",
           "#FECB52"
          ],
          "font": {
           "color": "#2a3f5f"
          },
          "geo": {
           "bgcolor": "white",
           "lakecolor": "white",
           "landcolor": "#E5ECF6",
           "showlakes": true,
           "showland": true,
           "subunitcolor": "white"
          },
          "hoverlabel": {
           "align": "left"
          },
          "hovermode": "closest",
          "mapbox": {
           "style": "light"
          },
          "paper_bgcolor": "white",
          "plot_bgcolor": "#E5ECF6",
          "polar": {
           "angularaxis": {
            "gridcolor": "white",
            "linecolor": "white",
            "ticks": ""
           },
           "bgcolor": "#E5ECF6",
           "radialaxis": {
            "gridcolor": "white",
            "linecolor": "white",
            "ticks": ""
           }
          },
          "scene": {
           "xaxis": {
            "backgroundcolor": "#E5ECF6",
            "gridcolor": "white",
            "gridwidth": 2,
            "linecolor": "white",
            "showbackground": true,
            "ticks": "",
            "zerolinecolor": "white"
           },
           "yaxis": {
            "backgroundcolor": "#E5ECF6",
            "gridcolor": "white",
            "gridwidth": 2,
            "linecolor": "white",
            "showbackground": true,
            "ticks": "",
            "zerolinecolor": "white"
           },
           "zaxis": {
            "backgroundcolor": "#E5ECF6",
            "gridcolor": "white",
            "gridwidth": 2,
            "linecolor": "white",
            "showbackground": true,
            "ticks": "",
            "zerolinecolor": "white"
           }
          },
          "shapedefaults": {
           "line": {
            "color": "#2a3f5f"
           }
          },
          "ternary": {
           "aaxis": {
            "gridcolor": "white",
            "linecolor": "white",
            "ticks": ""
           },
           "baxis": {
            "gridcolor": "white",
            "linecolor": "white",
            "ticks": ""
           },
           "bgcolor": "#E5ECF6",
           "caxis": {
            "gridcolor": "white",
            "linecolor": "white",
            "ticks": ""
           }
          },
          "title": {
           "x": 0.05
          },
          "xaxis": {
           "automargin": true,
           "gridcolor": "white",
           "linecolor": "white",
           "ticks": "",
           "title": {
            "standoff": 15
           },
           "zerolinecolor": "white",
           "zerolinewidth": 2
          },
          "yaxis": {
           "automargin": true,
           "gridcolor": "white",
           "linecolor": "white",
           "ticks": "",
           "title": {
            "standoff": 15
           },
           "zerolinecolor": "white",
           "zerolinewidth": 2
          }
         }
        },
        "xaxis": {
         "anchor": "y",
         "domain": [
          0,
          1
         ],
         "title": {
          "text": "Date"
         }
        },
        "yaxis": {
         "anchor": "x",
         "domain": [
          0,
          1
         ],
         "title": {
          "text": "pct_of_baseline"
         }
        }
       }
      },
      "text/html": [
       "<div>\n",
       "        \n",
       "        \n",
       "            <div id=\"6ca271fc-62c6-4fa1-9128-3be6e64ab286\" class=\"plotly-graph-div\" style=\"height:525px; width:100%;\"></div>\n",
       "            <script type=\"text/javascript\">\n",
       "                require([\"plotly\"], function(Plotly) {\n",
       "                    window.PLOTLYENV=window.PLOTLYENV || {};\n",
       "                    \n",
       "                if (document.getElementById(\"6ca271fc-62c6-4fa1-9128-3be6e64ab286\")) {\n",
       "                    Plotly.newPlot(\n",
       "                        '6ca271fc-62c6-4fa1-9128-3be6e64ab286',\n",
       "                        [{\"hovertemplate\": \"<b>%{hovertext}</b><br><br>transportation_type=driving<br>region=United States<br>Date=%{x}<br>pct_of_baseline=%{y}<extra></extra>\", \"hovertext\": [\"United States\", \"United States\", \"United States\", \"United States\", \"United States\", \"United States\", \"United States\", \"United States\", \"United States\", \"United States\", \"United States\", \"United States\", \"United States\", \"United States\", \"United States\", \"United States\", \"United States\", \"United States\", \"United States\", \"United States\", \"United States\", \"United States\", \"United States\", \"United States\", \"United States\", \"United States\", \"United States\", \"United States\", \"United States\", \"United States\", \"United States\", \"United States\", \"United States\", \"United States\", \"United States\", \"United States\", \"United States\", \"United States\", \"United States\", \"United States\", \"United States\", \"United States\", \"United States\", \"United States\", \"United States\", \"United States\", \"United States\", \"United States\", \"United States\", \"United States\", \"United States\", \"United States\", \"United States\", \"United States\", \"United States\", \"United States\", \"United States\", \"United States\", \"United States\", \"United States\", \"United States\", \"United States\", \"United States\", \"United States\", \"United States\", \"United States\", \"United States\", \"United States\", \"United States\", \"United States\", \"United States\", \"United States\", \"United States\", \"United States\", \"United States\", \"United States\", \"United States\", \"United States\", \"United States\", \"United States\", \"United States\", \"United States\", \"United States\", \"United States\", \"United States\", \"United States\", \"United States\", \"United States\", \"United States\", \"United States\", \"United States\", \"United States\", \"United States\", \"United States\", \"United States\", \"United States\", \"United States\", \"United States\", \"United States\", \"United States\", \"United States\", \"United States\", \"United States\", \"United States\", \"United States\", \"United States\", \"United States\", \"United States\", \"United States\", \"United States\", \"United States\", \"United States\", \"United States\", \"United States\", \"United States\", \"United States\", \"United States\", \"United States\", \"United States\", \"United States\", \"United States\", \"United States\", \"United States\", \"United States\", \"United States\", \"United States\", \"United States\", \"United States\", \"United States\", \"United States\", \"United States\", \"United States\", \"United States\", \"United States\", \"United States\", \"United States\", \"United States\", \"United States\", \"United States\", \"United States\", \"United States\", \"United States\", \"United States\", \"United States\", \"United States\", \"United States\", \"United States\", \"United States\", \"United States\", \"United States\", \"United States\", \"United States\", \"United States\", \"United States\", \"United States\", \"United States\", \"United States\", \"United States\", \"United States\", \"United States\", \"United States\", \"United States\", \"United States\", \"United States\", \"United States\", \"United States\", \"United States\"], \"legendgroup\": \"driving\", \"line\": {\"color\": \"#636efa\", \"dash\": \"solid\"}, \"mode\": \"lines\", \"name\": \"driving\", \"orientation\": \"v\", \"showlegend\": true, \"type\": \"scatter\", \"x\": [\"alternative_name\", \"sub-region\", \"country\", \"2020-01-13\", \"2020-01-14\", \"2020-01-15\", \"2020-01-16\", \"2020-01-17\", \"2020-01-18\", \"2020-01-19\", \"2020-01-20\", \"2020-01-21\", \"2020-01-22\", \"2020-01-23\", \"2020-01-24\", \"2020-01-25\", \"2020-01-26\", \"2020-01-27\", \"2020-01-28\", \"2020-01-29\", \"2020-01-30\", \"2020-01-31\", \"2020-02-01\", \"2020-02-02\", \"2020-02-03\", \"2020-02-04\", \"2020-02-05\", \"2020-02-06\", \"2020-02-07\", \"2020-02-08\", \"2020-02-09\", \"2020-02-10\", \"2020-02-11\", \"2020-02-12\", \"2020-02-13\", \"2020-02-14\", \"2020-02-15\", \"2020-02-16\", \"2020-02-17\", \"2020-02-18\", \"2020-02-19\", \"2020-02-20\", \"2020-02-21\", \"2020-02-22\", \"2020-02-23\", \"2020-02-24\", \"2020-02-25\", \"2020-02-26\", \"2020-02-27\", \"2020-02-28\", \"2020-02-29\", \"2020-03-01\", \"2020-03-02\", \"2020-03-03\", \"2020-03-04\", \"2020-03-05\", \"2020-03-06\", \"2020-03-07\", \"2020-03-08\", \"2020-03-09\", \"2020-03-10\", \"2020-03-11\", \"2020-03-12\", \"2020-03-13\", \"2020-03-14\", \"2020-03-15\", \"2020-03-16\", \"2020-03-17\", \"2020-03-18\", \"2020-03-19\", \"2020-03-20\", \"2020-03-21\", \"2020-03-22\", \"2020-03-23\", \"2020-03-24\", \"2020-03-25\", \"2020-03-26\", \"2020-03-27\", \"2020-03-28\", \"2020-03-29\", \"2020-03-30\", \"2020-03-31\", \"2020-04-01\", \"2020-04-02\", \"2020-04-03\", \"2020-04-04\", \"2020-04-05\", \"2020-04-06\", \"2020-04-07\", \"2020-04-08\", \"2020-04-09\", \"2020-04-10\", \"2020-04-11\", \"2020-04-12\", \"2020-04-13\", \"2020-04-14\", \"2020-04-15\", \"2020-04-16\", \"2020-04-17\", \"2020-04-18\", \"2020-04-19\", \"2020-04-20\", \"2020-04-21\", \"2020-04-22\", \"2020-04-23\", \"2020-04-24\", \"2020-04-25\", \"2020-04-26\", \"2020-04-27\", \"2020-04-28\", \"2020-04-29\", \"2020-04-30\", \"2020-05-01\", \"2020-05-02\", \"2020-05-03\", \"2020-05-04\", \"2020-05-05\", \"2020-05-06\", \"2020-05-07\", \"2020-05-08\", \"2020-05-09\", \"2020-05-10\", \"2020-05-11\", \"2020-05-12\", \"2020-05-13\", \"2020-05-14\", \"2020-05-15\", \"2020-05-16\", \"2020-05-17\", \"2020-05-18\", \"2020-05-19\", \"2020-05-20\", \"2020-05-21\", \"2020-05-22\", \"2020-05-23\", \"2020-05-24\", \"2020-05-25\", \"2020-05-26\", \"2020-05-27\", \"2020-05-28\", \"2020-05-29\", \"2020-05-30\", \"2020-05-31\", \"2020-06-01\", \"2020-06-02\", \"2020-06-03\", \"2020-06-04\", \"2020-06-05\", \"2020-06-06\", \"2020-06-07\", \"2020-06-08\", \"2020-06-09\", \"2020-06-10\", \"2020-06-11\", \"2020-06-12\", \"2020-06-13\", \"2020-06-14\", \"2020-06-15\", \"2020-06-16\", \"2020-06-17\", \"2020-06-18\", \"2020-06-19\", \"2020-06-20\", \"2020-06-21\", \"2020-06-22\", \"2020-06-23\", \"2020-06-24\"], \"xaxis\": \"x\", \"y\": [\"USA\", null, null, 100.0, 102.97, 105.19, 108.48, 125.51, 115.04, 90.91, 102.57, 103.07, 103.01, 107.9, 124.7, 120.92, 87.32, 97.97, 101.54, 102.2, 107.61, 126.08, 122.32, 85.25, 98.86, 101.99, 101.77, 107.72, 124.07, 122.87, 91.58, 102.93, 106.75, 109.02, 118.36, 145.4, 132.51, 102.27, 110.78, 109.46, 110.85, 114.86, 135.85, 134.35, 99.48, 106.23, 110.27, 112.36, 118.85, 139.8, 138.41, 101.04, 107.73, 112.98, 113.05, 119.74, 139.98, 137.37, 101.64, 109.65, 111.34, 110.97, 108.49, 117.01, 102.87, 76.16, 84.09, 77.04, 72.84, 70.21, 74.33, 62.31, 46.45, 55.73, 55.52, 55.24, 56.81, 62.22, 52.56, 42.96, 53.53, 53.98, 55.49, 55.64, 60.61, 52.22, 42.19, 53.73, 55.27, 56.21, 56.9, 63.87, 57.51, 37.42, 54.98, 59.3, 63.03, 64.11, 70.71, 65.07, 52.71, 65.15, 65.0, 66.49, 68.0, 76.68, 72.62, 57.06, 68.77, 71.33, 71.86, 74.98, 88.5, 84.34, 68.08, 78.01, 80.55, 81.47, 85.85, 95.56, 93.62, 70.41, null, null, 91.01, 94.41, 109.51, 104.87, 83.6, 94.5, 99.48, 102.44, 107.95, 125.32, 115.84, 95.79, 92.54, 106.47, 108.78, 111.45, 127.18, 123.59, 97.96, 107.63, 109.14, 111.61, 117.88, 133.68, 131.07, 105.4, 115.92, 118.49, 121.12, 126.3, 146.81, 142.73, 114.39, 122.16, 124.89, 127.18, 132.57, 153.57, 146.2, 108.83, 125.21, 128.97, 132.31], \"yaxis\": \"y\"}, {\"hovertemplate\": \"<b>%{hovertext}</b><br><br>transportation_type=transit<br>region=United States<br>Date=%{x}<br>pct_of_baseline=%{y}<extra></extra>\", \"hovertext\": [\"United States\", \"United States\", \"United States\", \"United States\", \"United States\", \"United States\", \"United States\", \"United States\", \"United States\", \"United States\", \"United States\", \"United States\", \"United States\", \"United States\", \"United States\", \"United States\", \"United States\", \"United States\", \"United States\", \"United States\", \"United States\", \"United States\", \"United States\", \"United States\", \"United States\", \"United States\", \"United States\", \"United States\", \"United States\", \"United States\", \"United States\", \"United States\", \"United States\", \"United States\", \"United States\", \"United States\", \"United States\", \"United States\", \"United States\", \"United States\", \"United States\", \"United States\", \"United States\", \"United States\", \"United States\", \"United States\", \"United States\", \"United States\", \"United States\", \"United States\", \"United States\", \"United States\", \"United States\", \"United States\", \"United States\", \"United States\", \"United States\", \"United States\", \"United States\", \"United States\", \"United States\", \"United States\", \"United States\", \"United States\", \"United States\", \"United States\", \"United States\", \"United States\", \"United States\", \"United States\", \"United States\", \"United States\", \"United States\", \"United States\", \"United States\", \"United States\", \"United States\", \"United States\", \"United States\", \"United States\", \"United States\", \"United States\", \"United States\", \"United States\", \"United States\", \"United States\", \"United States\", \"United States\", \"United States\", \"United States\", \"United States\", \"United States\", \"United States\", \"United States\", \"United States\", \"United States\", \"United States\", \"United States\", \"United States\", \"United States\", \"United States\", \"United States\", \"United States\", \"United States\", \"United States\", \"United States\", \"United States\", \"United States\", \"United States\", \"United States\", \"United States\", \"United States\", \"United States\", \"United States\", \"United States\", \"United States\", \"United States\", \"United States\", \"United States\", \"United States\", \"United States\", \"United States\", \"United States\", \"United States\", \"United States\", \"United States\", \"United States\", \"United States\", \"United States\", \"United States\", \"United States\", \"United States\", \"United States\", \"United States\", \"United States\", \"United States\", \"United States\", \"United States\", \"United States\", \"United States\", \"United States\", \"United States\", \"United States\", \"United States\", \"United States\", \"United States\", \"United States\", \"United States\", \"United States\", \"United States\", \"United States\", \"United States\", \"United States\", \"United States\", \"United States\", \"United States\", \"United States\", \"United States\", \"United States\", \"United States\", \"United States\", \"United States\", \"United States\", \"United States\", \"United States\", \"United States\", \"United States\"], \"legendgroup\": \"transit\", \"line\": {\"color\": \"#EF553B\", \"dash\": \"solid\"}, \"mode\": \"lines\", \"name\": \"transit\", \"orientation\": \"v\", \"showlegend\": true, \"type\": \"scatter\", \"x\": [\"alternative_name\", \"sub-region\", \"country\", \"2020-01-13\", \"2020-01-14\", \"2020-01-15\", \"2020-01-16\", \"2020-01-17\", \"2020-01-18\", \"2020-01-19\", \"2020-01-20\", \"2020-01-21\", \"2020-01-22\", \"2020-01-23\", \"2020-01-24\", \"2020-01-25\", \"2020-01-26\", \"2020-01-27\", \"2020-01-28\", \"2020-01-29\", \"2020-01-30\", \"2020-01-31\", \"2020-02-01\", \"2020-02-02\", \"2020-02-03\", \"2020-02-04\", \"2020-02-05\", \"2020-02-06\", \"2020-02-07\", \"2020-02-08\", \"2020-02-09\", \"2020-02-10\", \"2020-02-11\", \"2020-02-12\", \"2020-02-13\", \"2020-02-14\", \"2020-02-15\", \"2020-02-16\", \"2020-02-17\", \"2020-02-18\", \"2020-02-19\", \"2020-02-20\", \"2020-02-21\", \"2020-02-22\", \"2020-02-23\", \"2020-02-24\", \"2020-02-25\", \"2020-02-26\", \"2020-02-27\", \"2020-02-28\", \"2020-02-29\", \"2020-03-01\", \"2020-03-02\", \"2020-03-03\", \"2020-03-04\", \"2020-03-05\", \"2020-03-06\", \"2020-03-07\", \"2020-03-08\", \"2020-03-09\", \"2020-03-10\", \"2020-03-11\", \"2020-03-12\", \"2020-03-13\", \"2020-03-14\", \"2020-03-15\", \"2020-03-16\", \"2020-03-17\", \"2020-03-18\", \"2020-03-19\", \"2020-03-20\", \"2020-03-21\", \"2020-03-22\", \"2020-03-23\", \"2020-03-24\", \"2020-03-25\", \"2020-03-26\", \"2020-03-27\", \"2020-03-28\", \"2020-03-29\", \"2020-03-30\", \"2020-03-31\", \"2020-04-01\", \"2020-04-02\", \"2020-04-03\", \"2020-04-04\", \"2020-04-05\", \"2020-04-06\", \"2020-04-07\", \"2020-04-08\", \"2020-04-09\", \"2020-04-10\", \"2020-04-11\", \"2020-04-12\", \"2020-04-13\", \"2020-04-14\", \"2020-04-15\", \"2020-04-16\", \"2020-04-17\", \"2020-04-18\", \"2020-04-19\", \"2020-04-20\", \"2020-04-21\", \"2020-04-22\", \"2020-04-23\", \"2020-04-24\", \"2020-04-25\", \"2020-04-26\", \"2020-04-27\", \"2020-04-28\", \"2020-04-29\", \"2020-04-30\", \"2020-05-01\", \"2020-05-02\", \"2020-05-03\", \"2020-05-04\", \"2020-05-05\", \"2020-05-06\", \"2020-05-07\", \"2020-05-08\", \"2020-05-09\", \"2020-05-10\", \"2020-05-11\", \"2020-05-12\", \"2020-05-13\", \"2020-05-14\", \"2020-05-15\", \"2020-05-16\", \"2020-05-17\", \"2020-05-18\", \"2020-05-19\", \"2020-05-20\", \"2020-05-21\", \"2020-05-22\", \"2020-05-23\", \"2020-05-24\", \"2020-05-25\", \"2020-05-26\", \"2020-05-27\", \"2020-05-28\", \"2020-05-29\", \"2020-05-30\", \"2020-05-31\", \"2020-06-01\", \"2020-06-02\", \"2020-06-03\", \"2020-06-04\", \"2020-06-05\", \"2020-06-06\", \"2020-06-07\", \"2020-06-08\", \"2020-06-09\", \"2020-06-10\", \"2020-06-11\", \"2020-06-12\", \"2020-06-13\", \"2020-06-14\", \"2020-06-15\", \"2020-06-16\", \"2020-06-17\", \"2020-06-18\", \"2020-06-19\", \"2020-06-20\", \"2020-06-21\", \"2020-06-22\", \"2020-06-23\", \"2020-06-24\"], \"xaxis\": \"x\", \"y\": [\"USA\", null, null, 100.0, 97.77, 98.84, 99.04, 108.03, 97.41, 85.4, 92.39, 100.27, 101.06, 103.29, 113.06, 101.88, 81.35, 97.56, 97.08, 97.49, 100.72, 110.99, 103.42, 80.2, 96.48, 97.63, 98.26, 101.15, 110.91, 107.27, 84.2, 98.3, 100.64, 102.08, 106.67, 119.06, 107.77, 91.63, 101.73, 104.64, 105.16, 106.16, 117.14, 110.65, 87.27, 99.21, 100.12, 100.52, 102.98, 116.02, 109.92, 85.31, 98.06, 100.26, 101.5, 103.53, 111.5, 107.32, 84.23, 97.1, 92.48, 89.97, 79.08, 76.78, 64.59, 49.93, 50.79, 43.58, 39.63, 36.76, 35.8, 29.31, 24.84, 28.17, 27.91, 26.94, 27.09, 28.07, 23.83, 22.39, 26.51, 25.47, 25.24, 24.67, 25.04, 22.42, 20.92, 24.71, 24.65, 24.51, 23.69, 24.31, 22.65, 19.06, 23.67, 24.44, 24.23, 24.06, 24.89, 22.89, 22.11, 26.13, 25.1, 25.09, 25.08, 25.99, 24.85, 22.47, 26.64, 27.32, 26.84, 26.66, 29.24, 28.11, 26.35, 30.0, 29.8, 29.47, 30.12, 30.07, 28.58, 24.77, null, null, 30.69, 30.83, 33.06, 31.28, 28.39, 32.65, 32.74, 33.2, 33.67, 36.12, 33.43, 31.38, 33.08, 37.14, 36.98, 36.37, 38.46, 37.81, 32.76, 36.92, 37.39, 37.37, 38.99, 40.66, 41.16, 37.39, 43.32, 43.35, 43.35, 42.92, 47.34, 44.66, 40.12, 45.4, 45.91, 45.69, 46.18, 51.04, 46.18, 39.74, 48.89, 49.39, 49.41], \"yaxis\": \"y\"}, {\"hovertemplate\": \"<b>%{hovertext}</b><br><br>transportation_type=walking<br>region=United States<br>Date=%{x}<br>pct_of_baseline=%{y}<extra></extra>\", \"hovertext\": [\"United States\", \"United States\", \"United States\", \"United States\", \"United States\", \"United States\", \"United States\", \"United States\", \"United States\", \"United States\", \"United States\", \"United States\", \"United States\", \"United States\", \"United States\", \"United States\", \"United States\", \"United States\", \"United States\", \"United States\", \"United States\", \"United States\", \"United States\", \"United States\", \"United States\", \"United States\", \"United States\", \"United States\", \"United States\", \"United States\", \"United States\", \"United States\", \"United States\", \"United States\", \"United States\", \"United States\", \"United States\", \"United States\", \"United States\", \"United States\", \"United States\", \"United States\", \"United States\", \"United States\", \"United States\", \"United States\", \"United States\", \"United States\", \"United States\", \"United States\", \"United States\", \"United States\", \"United States\", \"United States\", \"United States\", \"United States\", \"United States\", \"United States\", \"United States\", \"United States\", \"United States\", \"United States\", \"United States\", \"United States\", \"United States\", \"United States\", \"United States\", \"United States\", \"United States\", \"United States\", \"United States\", \"United States\", \"United States\", \"United States\", \"United States\", \"United States\", \"United States\", \"United States\", \"United States\", \"United States\", \"United States\", \"United States\", \"United States\", \"United States\", \"United States\", \"United States\", \"United States\", \"United States\", \"United States\", \"United States\", \"United States\", \"United States\", \"United States\", \"United States\", \"United States\", \"United States\", \"United States\", \"United States\", \"United States\", \"United States\", \"United States\", \"United States\", \"United States\", \"United States\", \"United States\", \"United States\", \"United States\", \"United States\", \"United States\", \"United States\", \"United States\", \"United States\", \"United States\", \"United States\", \"United States\", \"United States\", \"United States\", \"United States\", \"United States\", \"United States\", \"United States\", \"United States\", \"United States\", \"United States\", \"United States\", \"United States\", \"United States\", \"United States\", \"United States\", \"United States\", \"United States\", \"United States\", \"United States\", \"United States\", \"United States\", \"United States\", \"United States\", \"United States\", \"United States\", \"United States\", \"United States\", \"United States\", \"United States\", \"United States\", \"United States\", \"United States\", \"United States\", \"United States\", \"United States\", \"United States\", \"United States\", \"United States\", \"United States\", \"United States\", \"United States\", \"United States\", \"United States\", \"United States\", \"United States\", \"United States\", \"United States\", \"United States\", \"United States\", \"United States\", \"United States\", \"United States\", \"United States\"], \"legendgroup\": \"walking\", \"line\": {\"color\": \"#00cc96\", \"dash\": \"solid\"}, \"mode\": \"lines\", \"name\": \"walking\", \"orientation\": \"v\", \"showlegend\": true, \"type\": \"scatter\", \"x\": [\"alternative_name\", \"sub-region\", \"country\", \"2020-01-13\", \"2020-01-14\", \"2020-01-15\", \"2020-01-16\", \"2020-01-17\", \"2020-01-18\", \"2020-01-19\", \"2020-01-20\", \"2020-01-21\", \"2020-01-22\", \"2020-01-23\", \"2020-01-24\", \"2020-01-25\", \"2020-01-26\", \"2020-01-27\", \"2020-01-28\", \"2020-01-29\", \"2020-01-30\", \"2020-01-31\", \"2020-02-01\", \"2020-02-02\", \"2020-02-03\", \"2020-02-04\", \"2020-02-05\", \"2020-02-06\", \"2020-02-07\", \"2020-02-08\", \"2020-02-09\", \"2020-02-10\", \"2020-02-11\", \"2020-02-12\", \"2020-02-13\", \"2020-02-14\", \"2020-02-15\", \"2020-02-16\", \"2020-02-17\", \"2020-02-18\", \"2020-02-19\", \"2020-02-20\", \"2020-02-21\", \"2020-02-22\", \"2020-02-23\", \"2020-02-24\", \"2020-02-25\", \"2020-02-26\", \"2020-02-27\", \"2020-02-28\", \"2020-02-29\", \"2020-03-01\", \"2020-03-02\", \"2020-03-03\", \"2020-03-04\", \"2020-03-05\", \"2020-03-06\", \"2020-03-07\", \"2020-03-08\", \"2020-03-09\", \"2020-03-10\", \"2020-03-11\", \"2020-03-12\", \"2020-03-13\", \"2020-03-14\", \"2020-03-15\", \"2020-03-16\", \"2020-03-17\", \"2020-03-18\", \"2020-03-19\", \"2020-03-20\", \"2020-03-21\", \"2020-03-22\", \"2020-03-23\", \"2020-03-24\", \"2020-03-25\", \"2020-03-26\", \"2020-03-27\", \"2020-03-28\", \"2020-03-29\", \"2020-03-30\", \"2020-03-31\", \"2020-04-01\", \"2020-04-02\", \"2020-04-03\", \"2020-04-04\", \"2020-04-05\", \"2020-04-06\", \"2020-04-07\", \"2020-04-08\", \"2020-04-09\", \"2020-04-10\", \"2020-04-11\", \"2020-04-12\", \"2020-04-13\", \"2020-04-14\", \"2020-04-15\", \"2020-04-16\", \"2020-04-17\", \"2020-04-18\", \"2020-04-19\", \"2020-04-20\", \"2020-04-21\", \"2020-04-22\", \"2020-04-23\", \"2020-04-24\", \"2020-04-25\", \"2020-04-26\", \"2020-04-27\", \"2020-04-28\", \"2020-04-29\", \"2020-04-30\", \"2020-05-01\", \"2020-05-02\", \"2020-05-03\", \"2020-05-04\", \"2020-05-05\", \"2020-05-06\", \"2020-05-07\", \"2020-05-08\", \"2020-05-09\", \"2020-05-10\", \"2020-05-11\", \"2020-05-12\", \"2020-05-13\", \"2020-05-14\", \"2020-05-15\", \"2020-05-16\", \"2020-05-17\", \"2020-05-18\", \"2020-05-19\", \"2020-05-20\", \"2020-05-21\", \"2020-05-22\", \"2020-05-23\", \"2020-05-24\", \"2020-05-25\", \"2020-05-26\", \"2020-05-27\", \"2020-05-28\", \"2020-05-29\", \"2020-05-30\", \"2020-05-31\", \"2020-06-01\", \"2020-06-02\", \"2020-06-03\", \"2020-06-04\", \"2020-06-05\", \"2020-06-06\", \"2020-06-07\", \"2020-06-08\", \"2020-06-09\", \"2020-06-10\", \"2020-06-11\", \"2020-06-12\", \"2020-06-13\", \"2020-06-14\", \"2020-06-15\", \"2020-06-16\", \"2020-06-17\", \"2020-06-18\", \"2020-06-19\", \"2020-06-20\", \"2020-06-21\", \"2020-06-22\", \"2020-06-23\", \"2020-06-24\"], \"xaxis\": \"x\", \"y\": [\"USA\", null, null, 100.0, 99.59, 101.87, 100.6, 121.36, 132.38, 100.1, 94.79, 94.84, 97.04, 100.83, 126.67, 139.61, 89.9, 91.94, 93.97, 94.44, 99.96, 125.02, 140.8, 88.42, 92.42, 93.82, 94.52, 97.6, 122.23, 142.94, 92.83, 91.94, 96.13, 99.84, 108.3, 147.82, 158.55, 116.26, 107.52, 100.23, 103.21, 106.25, 136.41, 162.45, 106.11, 99.34, 103.03, 101.84, 107.83, 136.34, 155.82, 102.29, 99.2, 104.76, 104.61, 111.67, 133.94, 155.7, 107.77, 105.33, 103.06, 102.34, 96.43, 105.88, 105.24, 69.72, 69.43, 64.05, 59.26, 56.3, 59.59, 52.26, 39.71, 44.31, 46.34, 46.04, 48.25, 51.95, 44.42, 38.29, 45.36, 45.06, 47.41, 47.1, 50.2, 45.77, 38.89, 46.94, 48.7, 48.77, 46.28, 51.97, 50.69, 34.2, 44.06, 48.68, 50.37, 50.64, 54.85, 52.49, 45.86, 53.87, 51.9, 52.86, 52.92, 58.89, 60.0, 45.95, 54.93, 57.61, 56.67, 57.81, 69.58, 71.29, 57.64, 63.27, 64.79, 64.32, 68.9, 73.57, 75.32, 55.76, null, null, 76.46, 78.54, 92.87, 92.48, 72.02, 79.45, 84.13, 86.94, 90.55, 104.37, 101.57, 85.35, 78.61, 91.83, 93.44, 94.3, 109.16, 113.18, 86.96, 94.6, 96.94, 96.33, 100.52, 113.19, 119.76, 91.85, 99.64, 101.36, 102.98, 106.25, 127.74, 131.19, 98.53, 104.69, 108.03, 109.04, 112.23, 135.01, 131.23, 91.1, 107.69, 113.44, 116.42], \"yaxis\": \"y\"}],\n",
       "                        {\"legend\": {\"title\": {\"text\": \"transportation_type\"}, \"tracegroupgap\": 0}, \"margin\": {\"t\": 60}, \"template\": {\"data\": {\"bar\": [{\"error_x\": {\"color\": \"#2a3f5f\"}, \"error_y\": {\"color\": \"#2a3f5f\"}, \"marker\": {\"line\": {\"color\": \"#E5ECF6\", \"width\": 0.5}}, \"type\": \"bar\"}], \"barpolar\": [{\"marker\": {\"line\": {\"color\": \"#E5ECF6\", \"width\": 0.5}}, \"type\": \"barpolar\"}], \"carpet\": [{\"aaxis\": {\"endlinecolor\": \"#2a3f5f\", \"gridcolor\": \"white\", \"linecolor\": \"white\", \"minorgridcolor\": \"white\", \"startlinecolor\": \"#2a3f5f\"}, \"baxis\": {\"endlinecolor\": \"#2a3f5f\", \"gridcolor\": \"white\", \"linecolor\": \"white\", \"minorgridcolor\": \"white\", \"startlinecolor\": \"#2a3f5f\"}, \"type\": \"carpet\"}], \"choropleth\": [{\"colorbar\": {\"outlinewidth\": 0, \"ticks\": \"\"}, \"type\": \"choropleth\"}], \"contour\": [{\"colorbar\": {\"outlinewidth\": 0, \"ticks\": \"\"}, \"colorscale\": [[0.0, \"#0d0887\"], [0.1111111111111111, \"#46039f\"], [0.2222222222222222, \"#7201a8\"], [0.3333333333333333, \"#9c179e\"], [0.4444444444444444, \"#bd3786\"], [0.5555555555555556, \"#d8576b\"], [0.6666666666666666, \"#ed7953\"], [0.7777777777777778, \"#fb9f3a\"], [0.8888888888888888, \"#fdca26\"], [1.0, \"#f0f921\"]], \"type\": \"contour\"}], \"contourcarpet\": [{\"colorbar\": {\"outlinewidth\": 0, \"ticks\": \"\"}, \"type\": \"contourcarpet\"}], \"heatmap\": [{\"colorbar\": {\"outlinewidth\": 0, \"ticks\": \"\"}, \"colorscale\": [[0.0, \"#0d0887\"], [0.1111111111111111, \"#46039f\"], [0.2222222222222222, \"#7201a8\"], [0.3333333333333333, \"#9c179e\"], [0.4444444444444444, \"#bd3786\"], [0.5555555555555556, \"#d8576b\"], [0.6666666666666666, \"#ed7953\"], [0.7777777777777778, \"#fb9f3a\"], [0.8888888888888888, \"#fdca26\"], [1.0, \"#f0f921\"]], \"type\": \"heatmap\"}], \"heatmapgl\": [{\"colorbar\": {\"outlinewidth\": 0, \"ticks\": \"\"}, \"colorscale\": [[0.0, \"#0d0887\"], [0.1111111111111111, \"#46039f\"], [0.2222222222222222, \"#7201a8\"], [0.3333333333333333, \"#9c179e\"], [0.4444444444444444, \"#bd3786\"], [0.5555555555555556, \"#d8576b\"], [0.6666666666666666, \"#ed7953\"], [0.7777777777777778, \"#fb9f3a\"], [0.8888888888888888, \"#fdca26\"], [1.0, \"#f0f921\"]], \"type\": \"heatmapgl\"}], \"histogram\": [{\"marker\": {\"colorbar\": {\"outlinewidth\": 0, \"ticks\": \"\"}}, \"type\": \"histogram\"}], \"histogram2d\": [{\"colorbar\": {\"outlinewidth\": 0, \"ticks\": \"\"}, \"colorscale\": [[0.0, \"#0d0887\"], [0.1111111111111111, \"#46039f\"], [0.2222222222222222, \"#7201a8\"], [0.3333333333333333, \"#9c179e\"], [0.4444444444444444, \"#bd3786\"], [0.5555555555555556, \"#d8576b\"], [0.6666666666666666, \"#ed7953\"], [0.7777777777777778, \"#fb9f3a\"], [0.8888888888888888, \"#fdca26\"], [1.0, \"#f0f921\"]], \"type\": \"histogram2d\"}], \"histogram2dcontour\": [{\"colorbar\": {\"outlinewidth\": 0, \"ticks\": \"\"}, \"colorscale\": [[0.0, \"#0d0887\"], [0.1111111111111111, \"#46039f\"], [0.2222222222222222, \"#7201a8\"], [0.3333333333333333, \"#9c179e\"], [0.4444444444444444, \"#bd3786\"], [0.5555555555555556, \"#d8576b\"], [0.6666666666666666, \"#ed7953\"], [0.7777777777777778, \"#fb9f3a\"], [0.8888888888888888, \"#fdca26\"], [1.0, \"#f0f921\"]], \"type\": \"histogram2dcontour\"}], \"mesh3d\": [{\"colorbar\": {\"outlinewidth\": 0, \"ticks\": \"\"}, \"type\": \"mesh3d\"}], \"parcoords\": [{\"line\": {\"colorbar\": {\"outlinewidth\": 0, \"ticks\": \"\"}}, \"type\": \"parcoords\"}], \"pie\": [{\"automargin\": true, \"type\": \"pie\"}], \"scatter\": [{\"marker\": {\"colorbar\": {\"outlinewidth\": 0, \"ticks\": \"\"}}, \"type\": \"scatter\"}], \"scatter3d\": [{\"line\": {\"colorbar\": {\"outlinewidth\": 0, \"ticks\": \"\"}}, \"marker\": {\"colorbar\": {\"outlinewidth\": 0, \"ticks\": \"\"}}, \"type\": \"scatter3d\"}], \"scattercarpet\": [{\"marker\": {\"colorbar\": {\"outlinewidth\": 0, \"ticks\": \"\"}}, \"type\": \"scattercarpet\"}], \"scattergeo\": [{\"marker\": {\"colorbar\": {\"outlinewidth\": 0, \"ticks\": \"\"}}, \"type\": \"scattergeo\"}], \"scattergl\": [{\"marker\": {\"colorbar\": {\"outlinewidth\": 0, \"ticks\": \"\"}}, \"type\": \"scattergl\"}], \"scattermapbox\": [{\"marker\": {\"colorbar\": {\"outlinewidth\": 0, \"ticks\": \"\"}}, \"type\": \"scattermapbox\"}], \"scatterpolar\": [{\"marker\": {\"colorbar\": {\"outlinewidth\": 0, \"ticks\": \"\"}}, \"type\": \"scatterpolar\"}], \"scatterpolargl\": [{\"marker\": {\"colorbar\": {\"outlinewidth\": 0, \"ticks\": \"\"}}, \"type\": \"scatterpolargl\"}], \"scatterternary\": [{\"marker\": {\"colorbar\": {\"outlinewidth\": 0, \"ticks\": \"\"}}, \"type\": \"scatterternary\"}], \"surface\": [{\"colorbar\": {\"outlinewidth\": 0, \"ticks\": \"\"}, \"colorscale\": [[0.0, \"#0d0887\"], [0.1111111111111111, \"#46039f\"], [0.2222222222222222, \"#7201a8\"], [0.3333333333333333, \"#9c179e\"], [0.4444444444444444, \"#bd3786\"], [0.5555555555555556, \"#d8576b\"], [0.6666666666666666, \"#ed7953\"], [0.7777777777777778, \"#fb9f3a\"], [0.8888888888888888, \"#fdca26\"], [1.0, \"#f0f921\"]], \"type\": \"surface\"}], \"table\": [{\"cells\": {\"fill\": {\"color\": \"#EBF0F8\"}, \"line\": {\"color\": \"white\"}}, \"header\": {\"fill\": {\"color\": \"#C8D4E3\"}, \"line\": {\"color\": \"white\"}}, \"type\": \"table\"}]}, \"layout\": {\"annotationdefaults\": {\"arrowcolor\": \"#2a3f5f\", \"arrowhead\": 0, \"arrowwidth\": 1}, \"coloraxis\": {\"colorbar\": {\"outlinewidth\": 0, \"ticks\": \"\"}}, \"colorscale\": {\"diverging\": [[0, \"#8e0152\"], [0.1, \"#c51b7d\"], [0.2, \"#de77ae\"], [0.3, \"#f1b6da\"], [0.4, \"#fde0ef\"], [0.5, \"#f7f7f7\"], [0.6, \"#e6f5d0\"], [0.7, \"#b8e186\"], [0.8, \"#7fbc41\"], [0.9, \"#4d9221\"], [1, \"#276419\"]], \"sequential\": [[0.0, \"#0d0887\"], [0.1111111111111111, \"#46039f\"], [0.2222222222222222, \"#7201a8\"], [0.3333333333333333, \"#9c179e\"], [0.4444444444444444, \"#bd3786\"], [0.5555555555555556, \"#d8576b\"], [0.6666666666666666, \"#ed7953\"], [0.7777777777777778, \"#fb9f3a\"], [0.8888888888888888, \"#fdca26\"], [1.0, \"#f0f921\"]], \"sequentialminus\": [[0.0, \"#0d0887\"], [0.1111111111111111, \"#46039f\"], [0.2222222222222222, \"#7201a8\"], [0.3333333333333333, \"#9c179e\"], [0.4444444444444444, \"#bd3786\"], [0.5555555555555556, \"#d8576b\"], [0.6666666666666666, \"#ed7953\"], [0.7777777777777778, \"#fb9f3a\"], [0.8888888888888888, \"#fdca26\"], [1.0, \"#f0f921\"]]}, \"colorway\": [\"#636efa\", \"#EF553B\", \"#00cc96\", \"#ab63fa\", \"#FFA15A\", \"#19d3f3\", \"#FF6692\", \"#B6E880\", \"#FF97FF\", \"#FECB52\"], \"font\": {\"color\": \"#2a3f5f\"}, \"geo\": {\"bgcolor\": \"white\", \"lakecolor\": \"white\", \"landcolor\": \"#E5ECF6\", \"showlakes\": true, \"showland\": true, \"subunitcolor\": \"white\"}, \"hoverlabel\": {\"align\": \"left\"}, \"hovermode\": \"closest\", \"mapbox\": {\"style\": \"light\"}, \"paper_bgcolor\": \"white\", \"plot_bgcolor\": \"#E5ECF6\", \"polar\": {\"angularaxis\": {\"gridcolor\": \"white\", \"linecolor\": \"white\", \"ticks\": \"\"}, \"bgcolor\": \"#E5ECF6\", \"radialaxis\": {\"gridcolor\": \"white\", \"linecolor\": \"white\", \"ticks\": \"\"}}, \"scene\": {\"xaxis\": {\"backgroundcolor\": \"#E5ECF6\", \"gridcolor\": \"white\", \"gridwidth\": 2, \"linecolor\": \"white\", \"showbackground\": true, \"ticks\": \"\", \"zerolinecolor\": \"white\"}, \"yaxis\": {\"backgroundcolor\": \"#E5ECF6\", \"gridcolor\": \"white\", \"gridwidth\": 2, \"linecolor\": \"white\", \"showbackground\": true, \"ticks\": \"\", \"zerolinecolor\": \"white\"}, \"zaxis\": {\"backgroundcolor\": \"#E5ECF6\", \"gridcolor\": \"white\", \"gridwidth\": 2, \"linecolor\": \"white\", \"showbackground\": true, \"ticks\": \"\", \"zerolinecolor\": \"white\"}}, \"shapedefaults\": {\"line\": {\"color\": \"#2a3f5f\"}}, \"ternary\": {\"aaxis\": {\"gridcolor\": \"white\", \"linecolor\": \"white\", \"ticks\": \"\"}, \"baxis\": {\"gridcolor\": \"white\", \"linecolor\": \"white\", \"ticks\": \"\"}, \"bgcolor\": \"#E5ECF6\", \"caxis\": {\"gridcolor\": \"white\", \"linecolor\": \"white\", \"ticks\": \"\"}}, \"title\": {\"x\": 0.05}, \"xaxis\": {\"automargin\": true, \"gridcolor\": \"white\", \"linecolor\": \"white\", \"ticks\": \"\", \"title\": {\"standoff\": 15}, \"zerolinecolor\": \"white\", \"zerolinewidth\": 2}, \"yaxis\": {\"automargin\": true, \"gridcolor\": \"white\", \"linecolor\": \"white\", \"ticks\": \"\", \"title\": {\"standoff\": 15}, \"zerolinecolor\": \"white\", \"zerolinewidth\": 2}}}, \"xaxis\": {\"anchor\": \"y\", \"domain\": [0.0, 1.0], \"title\": {\"text\": \"Date\"}}, \"yaxis\": {\"anchor\": \"x\", \"domain\": [0.0, 1.0], \"title\": {\"text\": \"pct_of_baseline\"}}},\n",
       "                        {\"responsive\": true}\n",
       "                    ).then(function(){\n",
       "                            \n",
       "var gd = document.getElementById('6ca271fc-62c6-4fa1-9128-3be6e64ab286');\n",
       "var x = new MutationObserver(function (mutations, observer) {{\n",
       "        var display = window.getComputedStyle(gd).display;\n",
       "        if (!display || display === 'none') {{\n",
       "            console.log([gd, 'removed!']);\n",
       "            Plotly.purge(gd);\n",
       "            observer.disconnect();\n",
       "        }}\n",
       "}});\n",
       "\n",
       "// Listen for the removal of the full notebook cells\n",
       "var notebookContainer = gd.closest('#notebook-container');\n",
       "if (notebookContainer) {{\n",
       "    x.observe(notebookContainer, {childList: true});\n",
       "}}\n",
       "\n",
       "// Listen for the clearing of the current output cell\n",
       "var outputEl = gd.closest('.output');\n",
       "if (outputEl) {{\n",
       "    x.observe(outputEl, {childList: true});\n",
       "}}\n",
       "\n",
       "                        })\n",
       "                };\n",
       "                });\n",
       "            </script>\n",
       "        </div>"
      ]
     },
     "metadata": {},
     "output_type": "display_data"
    }
   ],
   "source": [
    "import plotly.express as px\n",
    "#Make list of any cities to plot\n",
    "to_show = [\"United States\"]\n",
    "to_show1 = [\"Germany\"]\n",
    "\n",
    "#Plot\n",
    "df = mobility_countries_melted[mobility_countries_melted[\"region\"].isin(to_show)]\n",
    "fig = px.line(df, x=\"Date\", y=\"pct_of_baseline\", color=\"transportation_type\",\n",
    "              line_group=\"region\", hover_name=\"region\")\n",
    "\n",
    "\n",
    "\n",
    "#Plot\n",
    "\n",
    "fig.show()\n"
   ]
  },
  {
   "cell_type": "code",
   "execution_count": 57,
   "metadata": {},
   "outputs": [
    {
     "ename": "ValueError",
     "evalue": "\n    Invalid element(s) received for the 'data' property of \n        Invalid elements include: [Figure({\n    'data': [{'hovertemplate': 'transportation_type=driving<br>Date=%{x}<br>pct_of_baseline=%{y}<extra></extra>',\n              'legendgroup': 'driving',\n              'line': {'color': '#636efa', 'dash': 'solid'},\n              'mode': 'lines',\n              'name': 'driving',\n              'orientation': 'v',\n              'showlegend': True,\n              'type': 'scatter',\n              'x': array(['alternative_name', 'sub-region', 'country', '2020-01-13', '2020-01-14',\n                          '2020-01-15', '2020-01-16', '2020-01-17', '2020-01-18', '2020-01-19',\n                          '2020-01-20', '2020-01-21', '2020-01-22', '2020-01-23', '2020-01-24',\n                          '2020-01-25', '2020-01-26', '2020-01-27', '2020-01-28', '2020-01-29',\n                          '2020-01-30', '2020-01-31', '2020-02-01', '2020-02-02', '2020-02-03',\n                          '2020-02-04', '2020-02-05', '2020-02-06', '2020-02-07', '2020-02-08',\n                          '2020-02-09', '2020-02-10', '2020-02-11', '2020-02-12', '2020-02-13',\n                          '2020-02-14', '2020-02-15', '2020-02-16', '2020-02-17', '2020-02-18',\n                          '2020-02-19', '2020-02-20', '2020-02-21', '2020-02-22', '2020-02-23',\n                          '2020-02-24', '2020-02-25', '2020-02-26', '2020-02-27', '2020-02-28',\n                          '2020-02-29', '2020-03-01', '2020-03-02', '2020-03-03', '2020-03-04',\n                          '2020-03-05', '2020-03-06', '2020-03-07', '2020-03-08', '2020-03-09',\n                          '2020-03-10', '2020-03-11', '2020-03-12', '2020-03-13', '2020-03-14',\n                          '2020-03-15', '2020-03-16', '2020-03-17', '2020-03-18', '2020-03-19',\n                          '2020-03-20', '2020-03-21', '2020-03-22', '2020-03-23', '2020-03-24',\n                          '2020-03-25', '2020-03-26', '2020-03-27', '2020-03-28', '2020-03-29',\n                          '2020-03-30', '2020-03-31', '2020-04-01', '2020-04-02', '2020-04-03',\n                          '2020-04-04', '2020-04-05', '2020-04-06', '2020-04-07', '2020-04-08',\n                          '2020-04-09', '2020-04-10', '2020-04-11', '2020-04-12', '2020-04-13',\n                          '2020-04-14', '2020-04-15', '2020-04-16', '2020-04-17', '2020-04-18',\n                          '2020-04-19', '2020-04-20', '2020-04-21', '2020-04-22', '2020-04-23',\n                          '2020-04-24', '2020-04-25', '2020-04-26', '2020-04-27', '2020-04-28',\n                          '2020-04-29', '2020-04-30', '2020-05-01', '2020-05-02', '2020-05-03',\n                          '2020-05-04', '2020-05-05', '2020-05-06', '2020-05-07', '2020-05-08',\n                          '2020-05-09', '2020-05-10', '2020-05-11', '2020-05-12', '2020-05-13',\n                          '2020-05-14', '2020-05-15', '2020-05-16', '2020-05-17', '2020-05-18',\n                          '2020-05-19', '2020-05-20', '2020-05-21', '2020-05-22', '2020-05-23',\n                          '2020-05-24', '2020-05-25', '2020-05-26', '2020-05-27', '2020-05-28',\n                          '2020-05-29', '2020-05-30', '2020-05-31', '2020-06-01', '2020-06-02',\n                          '2020-06-03', '2020-06-04', '2020-06-05', '2020-06-06', '2020-06-07',\n                          '2020-06-08', '2020-06-09', '2020-06-10', '2020-06-11', '2020-06-12',\n                          '2020-06-13', '2020-06-14', '2020-06-15', '2020-06-16', '2020-06-17',\n                          '2020-06-18', '2020-06-19', '2020-06-20', '2020-06-21', '2020-06-22',\n                          '2020-06-23', '2020-06-24'], dtype=object),\n              'xaxis': 'x',\n              'y': array(['Deutschland', nan, nan, 100.0, 101.31, 102.82, 104.61, 114.38, 109.65,\n                          103.81, 100.54, 102.9, 102.65, 102.61, 112.68, 108.85, 102.26, 101.93,\n                          105.2, 102.84, 105.23, 119.14, 115.73, 106.1, 105.13, 107.72, 106.59,\n                          105.26, 120.68, 120.85, 105.91, 105.72, 108.42, 108.83, 112.43, 130.41,\n                          128.0, 109.63, 108.0, 109.42, 110.81, 108.14, 125.52, 119.65, 99.22,\n                          102.49, 105.39, 104.39, 110.47, 117.01, 115.16, 106.11, 101.52, 104.1,\n                          102.87, 105.34, 115.68, 112.85, 105.05, 99.11, 100.16, 97.05, 87.94,\n                          86.47, 78.32, 72.26, 68.97, 63.71, 59.52, 54.87, 50.87, 37.9, 39.75,\n                          45.1, 45.53, 46.48, 48.12, 49.58, 45.98, 42.18, 50.0, 52.68, 53.29,\n                          53.15, 51.46, 47.44, 55.02, 58.99, 60.26, 61.92, 58.89, 51.44, 51.05,\n                          46.1, 53.67, 61.19, 63.04, 65.48, 64.69, 57.58, 63.82, 66.95, 68.02,\n                          69.71, 70.28, 67.88, 62.8, 68.59, 70.08, 69.04, 70.61, 70.3, 62.46,\n                          65.91, 73.49, 75.92, 77.39, 79.3, 81.72, 84.77, 79.18, 78.63, nan, nan,\n                          84.55, 87.25, 92.03, 87.64, 93.4, 95.37, 97.63, 105.56, 102.46, 102.01,\n                          91.77, 100.28, 100.75, 102.28, 104.72, 109.93, 126.42, 114.01, 110.23,\n                          134.41, 121.2, 114.95, 111.66, 116.95, 112.64, 112.92, 113.83, 115.42,\n                          121.66, 124.56, 134.06, 116.11, 123.09, 117.11, 118.08, 119.46, 121.9,\n                          131.22, 123.26, 127.78, 121.89, 127.65, 128.77], dtype=object),\n              'yaxis': 'y'},\n             {'hovertemplate': 'transportation_type=transit<br>Date=%{x}<br>pct_of_baseline=%{y}<extra></extra>',\n              'legendgroup': 'transit',\n              'line': {'color': '#EF553B', 'dash': 'solid'},\n              'mode': 'lines',\n              'name': 'transit',\n              'orientation': 'v',\n              'showlegend': True,\n              'type': 'scatter',\n              'x': array(['alternative_name', 'sub-region', 'country', '2020-01-13', '2020-01-14',\n                          '2020-01-15', '2020-01-16', '2020-01-17', '2020-01-18', '2020-01-19',\n                          '2020-01-20', '2020-01-21', '2020-01-22', '2020-01-23', '2020-01-24',\n                          '2020-01-25', '2020-01-26', '2020-01-27', '2020-01-28', '2020-01-29',\n                          '2020-01-30', '2020-01-31', '2020-02-01', '2020-02-02', '2020-02-03',\n                          '2020-02-04', '2020-02-05', '2020-02-06', '2020-02-07', '2020-02-08',\n                          '2020-02-09', '2020-02-10', '2020-02-11', '2020-02-12', '2020-02-13',\n                          '2020-02-14', '2020-02-15', '2020-02-16', '2020-02-17', '2020-02-18',\n                          '2020-02-19', '2020-02-20', '2020-02-21', '2020-02-22', '2020-02-23',\n                          '2020-02-24', '2020-02-25', '2020-02-26', '2020-02-27', '2020-02-28',\n                          '2020-02-29', '2020-03-01', '2020-03-02', '2020-03-03', '2020-03-04',\n                          '2020-03-05', '2020-03-06', '2020-03-07', '2020-03-08', '2020-03-09',\n                          '2020-03-10', '2020-03-11', '2020-03-12', '2020-03-13', '2020-03-14',\n                          '2020-03-15', '2020-03-16', '2020-03-17', '2020-03-18', '2020-03-19',\n                          '2020-03-20', '2020-03-21', '2020-03-22', '2020-03-23', '2020-03-24',\n                          '2020-03-25', '2020-03-26', '2020-03-27', '2020-03-28', '2020-03-29',\n                          '2020-03-30', '2020-03-31', '2020-04-01', '2020-04-02', '2020-04-03',\n                          '2020-04-04', '2020-04-05', '2020-04-06', '2020-04-07', '2020-04-08',\n                          '2020-04-09', '2020-04-10', '2020-04-11', '2020-04-12', '2020-04-13',\n                          '2020-04-14', '2020-04-15', '2020-04-16', '2020-04-17', '2020-04-18',\n                          '2020-04-19', '2020-04-20', '2020-04-21', '2020-04-22', '2020-04-23',\n                          '2020-04-24', '2020-04-25', '2020-04-26', '2020-04-27', '2020-04-28',\n                          '2020-04-29', '2020-04-30', '2020-05-01', '2020-05-02', '2020-05-03',\n                          '2020-05-04', '2020-05-05', '2020-05-06', '2020-05-07', '2020-05-08',\n                          '2020-05-09', '2020-05-10', '2020-05-11', '2020-05-12', '2020-05-13',\n                          '2020-05-14', '2020-05-15', '2020-05-16', '2020-05-17', '2020-05-18',\n                          '2020-05-19', '2020-05-20', '2020-05-21', '2020-05-22', '2020-05-23',\n                          '2020-05-24', '2020-05-25', '2020-05-26', '2020-05-27', '2020-05-28',\n                          '2020-05-29', '2020-05-30', '2020-05-31', '2020-06-01', '2020-06-02',\n                          '2020-06-03', '2020-06-04', '2020-06-05', '2020-06-06', '2020-06-07',\n                          '2020-06-08', '2020-06-09', '2020-06-10', '2020-06-11', '2020-06-12',\n                          '2020-06-13', '2020-06-14', '2020-06-15', '2020-06-16', '2020-06-17',\n                          '2020-06-18', '2020-06-19', '2020-06-20', '2020-06-21', '2020-06-22',\n                          '2020-06-23', '2020-06-24'], dtype=object),\n              'xaxis': 'x',\n              'y': array(['Deutschland', nan, nan, 100.0, 102.85, 102.41, 105.37, 114.32, 116.37,\n                          102.26, 99.42, 101.25, 100.44, 103.03, 111.85, 117.24, 99.33, 101.54,\n                          101.07, 99.92, 102.77, 113.42, 115.02, 104.64, 104.37, 104.7, 101.33,\n                          101.98, 113.45, 117.99, 100.3, 104.99, 105.67, 106.43, 112.26, 121.04,\n                          125.2, 114.91, 157.64, 140.18, 132.15, 135.25, 145.98, 149.75, 127.86,\n                          129.82, 128.68, 123.84, 128.01, 138.23, 140.56, 123.28, 118.97, 116.1,\n                          114.82, 117.3, 127.44, 134.51, 115.27, 110.61, 106.74, 101.51, 91.75,\n                          82.21, 77.72, 63.99, 57.93, 50.68, 46.15, 39.17, 33.88, 29.1, 30.14,\n                          31.37, 31.0, 31.36, 31.4, 31.8, 31.88, 29.48, 32.39, 35.14, 33.52,\n                          33.82, 32.02, 33.02, 39.16, 40.67, 40.58, 39.96, 38.54, 40.24, 36.2,\n                          37.88, 38.77, 41.62, 43.22, 44.83, 43.47, 42.91, 46.65, 47.02, 44.89,\n                          46.87, 47.32, 44.47, 44.16, 49.81, 48.72, 46.4, 45.55, 45.07, 45.75,\n                          44.9, 53.31, 54.35, 54.6, 55.35, 56.71, 57.39, 56.13, 55.81, nan, nan,\n                          59.26, 60.24, 61.23, 61.89, 66.72, 68.3, 69.67, 69.97, 74.63, 68.55,\n                          64.35, 66.62, 74.08, 75.87, 77.79, 77.53, 80.63, 79.95, 78.92, 93.36,\n                          92.7, 89.61, 84.31, 86.59, 87.81, 83.7, 89.42, 90.4, 88.74, 95.02,\n                          102.48, 90.55, 92.71, 95.82, 96.68, 96.02, 93.76, 96.46, 94.71, 95.46,\n                          102.85, 106.91, 106.25], dtype=object),\n              'yaxis': 'y'},\n             {'hovertemplate': 'transportation_type=walking<br>Date=%{x}<br>pct_of_baseline=%{y}<extra></extra>',\n              'legendgroup': 'walking',\n              'line': {'color': '#00cc96', 'dash': 'solid'},\n              'mode': 'lines',\n              'name': 'walking',\n              'orientation': 'v',\n              'showlegend': True,\n              'type': 'scatter',\n              'x': array(['alternative_name', 'sub-region', 'country', '2020-01-13', '2020-01-14',\n                          '2020-01-15', '2020-01-16', '2020-01-17', '2020-01-18', '2020-01-19',\n                          '2020-01-20', '2020-01-21', '2020-01-22', '2020-01-23', '2020-01-24',\n                          '2020-01-25', '2020-01-26', '2020-01-27', '2020-01-28', '2020-01-29',\n                          '2020-01-30', '2020-01-31', '2020-02-01', '2020-02-02', '2020-02-03',\n                          '2020-02-04', '2020-02-05', '2020-02-06', '2020-02-07', '2020-02-08',\n                          '2020-02-09', '2020-02-10', '2020-02-11', '2020-02-12', '2020-02-13',\n                          '2020-02-14', '2020-02-15', '2020-02-16', '2020-02-17', '2020-02-18',\n                          '2020-02-19', '2020-02-20', '2020-02-21', '2020-02-22', '2020-02-23',\n                          '2020-02-24', '2020-02-25', '2020-02-26', '2020-02-27', '2020-02-28',\n                          '2020-02-29', '2020-03-01', '2020-03-02', '2020-03-03', '2020-03-04',\n                          '2020-03-05', '2020-03-06', '2020-03-07', '2020-03-08', '2020-03-09',\n                          '2020-03-10', '2020-03-11', '2020-03-12', '2020-03-13', '2020-03-14',\n                          '2020-03-15', '2020-03-16', '2020-03-17', '2020-03-18', '2020-03-19',\n                          '2020-03-20', '2020-03-21', '2020-03-22', '2020-03-23', '2020-03-24',\n                          '2020-03-25', '2020-03-26', '2020-03-27', '2020-03-28', '2020-03-29',\n                          '2020-03-30', '2020-03-31', '2020-04-01', '2020-04-02', '2020-04-03',\n                          '2020-04-04', '2020-04-05', '2020-04-06', '2020-04-07', '2020-04-08',\n                          '2020-04-09', '2020-04-10', '2020-04-11', '2020-04-12', '2020-04-13',\n                          '2020-04-14', '2020-04-15', '2020-04-16', '2020-04-17', '2020-04-18',\n                          '2020-04-19', '2020-04-20', '2020-04-21', '2020-04-22', '2020-04-23',\n                          '2020-04-24', '2020-04-25', '2020-04-26', '2020-04-27', '2020-04-28',\n                          '2020-04-29', '2020-04-30', '2020-05-01', '2020-05-02', '2020-05-03',\n                          '2020-05-04', '2020-05-05', '2020-05-06', '2020-05-07', '2020-05-08',\n                          '2020-05-09', '2020-05-10', '2020-05-11', '2020-05-12', '2020-05-13',\n                          '2020-05-14', '2020-05-15', '2020-05-16', '2020-05-17', '2020-05-18',\n                          '2020-05-19', '2020-05-20', '2020-05-21', '2020-05-22', '2020-05-23',\n                          '2020-05-24', '2020-05-25', '2020-05-26', '2020-05-27', '2020-05-28',\n                          '2020-05-29', '2020-05-30', '2020-05-31', '2020-06-01', '2020-06-02',\n                          '2020-06-03', '2020-06-04', '2020-06-05', '2020-06-06', '2020-06-07',\n                          '2020-06-08', '2020-06-09', '2020-06-10', '2020-06-11', '2020-06-12',\n                          '2020-06-13', '2020-06-14', '2020-06-15', '2020-06-16', '2020-06-17',\n                          '2020-06-18', '2020-06-19', '2020-06-20', '2020-06-21', '2020-06-22',\n                          '2020-06-23', '2020-06-24'], dtype=object),\n              'xaxis': 'x',\n              'y': array(['Deutschland', nan, nan, 100.0, 104.04, 107.18, 110.76, 124.13, 137.91,\n                          91.01, 99.26, 102.36, 100.62, 104.64, 119.37, 135.62, 89.33, 99.07,\n                          98.48, 99.88, 106.28, 127.99, 139.86, 91.42, 104.16, 105.5, 108.79,\n                          109.22, 128.59, 150.13, 86.21, 91.76, 104.04, 108.17, 112.38, 141.37,\n                          161.49, 98.68, 111.55, 115.71, 109.61, 121.49, 131.42, 149.93, 93.4,\n                          114.25, 106.82, 99.85, 104.58, 123.05, 138.07, 95.72, 102.74, 103.29,\n                          101.89, 102.6, 116.04, 140.22, 93.98, 96.92, 90.68, 96.4, 89.79, 88.28,\n                          95.38, 75.8, 71.25, 61.98, 57.99, 51.98, 45.37, 36.4, 42.76, 42.11,\n                          43.85, 43.83, 45.78, 52.26, 58.85, 33.95, 42.5, 47.88, 50.5, 50.82,\n                          48.24, 59.17, 75.42, 66.13, 66.37, 67.94, 65.26, 73.42, 67.61, 67.93,\n                          54.13, 55.07, 63.21, 69.23, 69.5, 69.57, 75.93, 66.52, 66.47, 68.86,\n                          72.15, 68.32, 72.98, 81.52, 70.04, 59.81, 59.04, 60.08, 59.29, 59.26,\n                          75.48, 67.46, 71.69, 76.51, 79.51, 83.97, 86.37, 67.66, nan, nan, 70.99,\n                          76.74, 81.74, 90.52, 90.51, 88.46, 92.02, 95.48, 115.17, 99.99, 86.18,\n                          76.8, 88.31, 96.16, 98.12, 100.55, 110.61, 124.97, 115.52, 130.53,\n                          118.8, 107.89, 95.61, 100.36, 115.09, 92.43, 106.73, 105.71, 107.56,\n                          117.11, 147.47, 124.84, 89.06, 104.74, 107.81, 107.9, 110.78, 118.48,\n                          131.78, 112.89, 115.69, 123.12, 122.28], dtype=object),\n              'yaxis': 'y'}],\n    'layout': {'legend': {'title': {'text': 'transportation_type'}, 'tracegroupgap': 0},\n               'margin': {'t': 60},\n               'template': '...',\n               'xaxis': {'anchor': 'y', 'domain': [0.0, 1.0], 'title': {'text': 'Date'}},\n               'yaxis': {'anchor': 'x', 'domain': [0.0, 1.0], 'title': {'text': 'pct_of_baseline'}}}\n})]\n\n    The 'data' property is a tuple of trace instances\n    that may be specified as:\n      - A list or tuple of trace instances\n        (e.g. [Scatter(...), Bar(...)])\n      - A single trace instance\n        (e.g. Scatter(...), Bar(...), etc.)\n      - A list or tuple of dicts of string/value properties where:\n        - The 'type' property specifies the trace type\n            One of: ['area', 'bar', 'barpolar', 'box',\n                     'candlestick', 'carpet', 'choropleth',\n                     'choroplethmapbox', 'cone', 'contour',\n                     'contourcarpet', 'densitymapbox', 'funnel',\n                     'funnelarea', 'heatmap', 'heatmapgl',\n                     'histogram', 'histogram2d',\n                     'histogram2dcontour', 'image', 'indicator',\n                     'isosurface', 'mesh3d', 'ohlc', 'parcats',\n                     'parcoords', 'pie', 'pointcloud', 'sankey',\n                     'scatter', 'scatter3d', 'scattercarpet',\n                     'scattergeo', 'scattergl', 'scattermapbox',\n                     'scatterpolar', 'scatterpolargl',\n                     'scatterternary', 'splom', 'streamtube',\n                     'sunburst', 'surface', 'table', 'treemap',\n                     'violin', 'volume', 'waterfall']\n\n        - All remaining properties are passed to the constructor of\n          the specified trace type\n\n        (e.g. [{'type': 'scatter', ...}, {'type': 'bar, ...}])",
     "output_type": "error",
     "traceback": [
      "\u001b[0;31m---------------------------------------------------------------------------\u001b[0m",
      "\u001b[0;31mValueError\u001b[0m                                Traceback (most recent call last)",
      "\u001b[0;32m<ipython-input-57-624bf666e404>\u001b[0m in \u001b[0;36m<module>\u001b[0;34m\u001b[0m\n\u001b[1;32m      9\u001b[0m fig = px.line(df, x=\"Date\", y=\"pct_of_baseline\", color=\"transportation_type\",\n\u001b[1;32m     10\u001b[0m               line_group=\"region\", hover_name=\"region\")\n\u001b[0;32m---> 11\u001b[0;31m \u001b[0mfig\u001b[0m\u001b[0;34m.\u001b[0m\u001b[0madd_trace\u001b[0m\u001b[0;34m(\u001b[0m\u001b[0mpx\u001b[0m\u001b[0;34m.\u001b[0m\u001b[0mline\u001b[0m\u001b[0;34m(\u001b[0m\u001b[0mdf1\u001b[0m\u001b[0;34m,\u001b[0m \u001b[0mx\u001b[0m\u001b[0;34m=\u001b[0m\u001b[0;34m\"Date\"\u001b[0m\u001b[0;34m,\u001b[0m \u001b[0my\u001b[0m\u001b[0;34m=\u001b[0m\u001b[0;34m\"pct_of_baseline\"\u001b[0m\u001b[0;34m,\u001b[0m \u001b[0mcolor\u001b[0m\u001b[0;34m=\u001b[0m\u001b[0;34m\"transportation_type\"\u001b[0m\u001b[0;34m)\u001b[0m\u001b[0;34m)\u001b[0m\u001b[0;34m\u001b[0m\u001b[0;34m\u001b[0m\u001b[0m\n\u001b[0m\u001b[1;32m     12\u001b[0m \u001b[0;34m\u001b[0m\u001b[0m\n\u001b[1;32m     13\u001b[0m \u001b[0;34m\u001b[0m\u001b[0m\n",
      "\u001b[0;32m~/opt/anaconda3/lib/python3.7/site-packages/plotly/basedatatypes.py\u001b[0m in \u001b[0;36madd_trace\u001b[0;34m(self, trace, row, col, secondary_y)\u001b[0m\n\u001b[1;32m   1648\u001b[0m             \u001b[0mrows\u001b[0m\u001b[0;34m=\u001b[0m\u001b[0;34m[\u001b[0m\u001b[0mrow\u001b[0m\u001b[0;34m]\u001b[0m \u001b[0;32mif\u001b[0m \u001b[0mrow\u001b[0m \u001b[0;32mis\u001b[0m \u001b[0;32mnot\u001b[0m \u001b[0;32mNone\u001b[0m \u001b[0;32melse\u001b[0m \u001b[0;32mNone\u001b[0m\u001b[0;34m,\u001b[0m\u001b[0;34m\u001b[0m\u001b[0;34m\u001b[0m\u001b[0m\n\u001b[1;32m   1649\u001b[0m             \u001b[0mcols\u001b[0m\u001b[0;34m=\u001b[0m\u001b[0;34m[\u001b[0m\u001b[0mcol\u001b[0m\u001b[0;34m]\u001b[0m \u001b[0;32mif\u001b[0m \u001b[0mcol\u001b[0m \u001b[0;32mis\u001b[0m \u001b[0;32mnot\u001b[0m \u001b[0;32mNone\u001b[0m \u001b[0;32melse\u001b[0m \u001b[0;32mNone\u001b[0m\u001b[0;34m,\u001b[0m\u001b[0;34m\u001b[0m\u001b[0;34m\u001b[0m\u001b[0m\n\u001b[0;32m-> 1650\u001b[0;31m             \u001b[0msecondary_ys\u001b[0m\u001b[0;34m=\u001b[0m\u001b[0;34m[\u001b[0m\u001b[0msecondary_y\u001b[0m\u001b[0;34m]\u001b[0m \u001b[0;32mif\u001b[0m \u001b[0msecondary_y\u001b[0m \u001b[0;32mis\u001b[0m \u001b[0;32mnot\u001b[0m \u001b[0;32mNone\u001b[0m \u001b[0;32melse\u001b[0m \u001b[0;32mNone\u001b[0m\u001b[0;34m,\u001b[0m\u001b[0;34m\u001b[0m\u001b[0;34m\u001b[0m\u001b[0m\n\u001b[0m\u001b[1;32m   1651\u001b[0m         )\n\u001b[1;32m   1652\u001b[0m \u001b[0;34m\u001b[0m\u001b[0m\n",
      "\u001b[0;32m~/opt/anaconda3/lib/python3.7/site-packages/plotly/basedatatypes.py\u001b[0m in \u001b[0;36madd_traces\u001b[0;34m(self, data, rows, cols, secondary_ys)\u001b[0m\n\u001b[1;32m   1711\u001b[0m \u001b[0;34m\u001b[0m\u001b[0m\n\u001b[1;32m   1712\u001b[0m         \u001b[0;31m# Validate traces\u001b[0m\u001b[0;34m\u001b[0m\u001b[0;34m\u001b[0m\u001b[0;34m\u001b[0m\u001b[0m\n\u001b[0;32m-> 1713\u001b[0;31m         \u001b[0mdata\u001b[0m \u001b[0;34m=\u001b[0m \u001b[0mself\u001b[0m\u001b[0;34m.\u001b[0m\u001b[0m_data_validator\u001b[0m\u001b[0;34m.\u001b[0m\u001b[0mvalidate_coerce\u001b[0m\u001b[0;34m(\u001b[0m\u001b[0mdata\u001b[0m\u001b[0;34m)\u001b[0m\u001b[0;34m\u001b[0m\u001b[0;34m\u001b[0m\u001b[0m\n\u001b[0m\u001b[1;32m   1714\u001b[0m \u001b[0;34m\u001b[0m\u001b[0m\n\u001b[1;32m   1715\u001b[0m         \u001b[0;31m# Set trace indexes\u001b[0m\u001b[0;34m\u001b[0m\u001b[0;34m\u001b[0m\u001b[0;34m\u001b[0m\u001b[0m\n",
      "\u001b[0;32m~/opt/anaconda3/lib/python3.7/site-packages/_plotly_utils/basevalidators.py\u001b[0m in \u001b[0;36mvalidate_coerce\u001b[0;34m(self, v, skip_invalid, _validate)\u001b[0m\n\u001b[1;32m   2671\u001b[0m \u001b[0;34m\u001b[0m\u001b[0m\n\u001b[1;32m   2672\u001b[0m             \u001b[0;32mif\u001b[0m \u001b[0minvalid_els\u001b[0m\u001b[0;34m:\u001b[0m\u001b[0;34m\u001b[0m\u001b[0;34m\u001b[0m\u001b[0m\n\u001b[0;32m-> 2673\u001b[0;31m                 \u001b[0mself\u001b[0m\u001b[0;34m.\u001b[0m\u001b[0mraise_invalid_elements\u001b[0m\u001b[0;34m(\u001b[0m\u001b[0minvalid_els\u001b[0m\u001b[0;34m)\u001b[0m\u001b[0;34m\u001b[0m\u001b[0;34m\u001b[0m\u001b[0m\n\u001b[0m\u001b[1;32m   2674\u001b[0m \u001b[0;34m\u001b[0m\u001b[0m\n\u001b[1;32m   2675\u001b[0m             \u001b[0mv\u001b[0m \u001b[0;34m=\u001b[0m \u001b[0mto_scalar_or_list\u001b[0m\u001b[0;34m(\u001b[0m\u001b[0mres\u001b[0m\u001b[0;34m)\u001b[0m\u001b[0;34m\u001b[0m\u001b[0;34m\u001b[0m\u001b[0m\n",
      "\u001b[0;32m~/opt/anaconda3/lib/python3.7/site-packages/_plotly_utils/basevalidators.py\u001b[0m in \u001b[0;36mraise_invalid_elements\u001b[0;34m(self, invalid_els)\u001b[0m\n\u001b[1;32m    298\u001b[0m                     \u001b[0mpname\u001b[0m\u001b[0;34m=\u001b[0m\u001b[0mself\u001b[0m\u001b[0;34m.\u001b[0m\u001b[0mparent_name\u001b[0m\u001b[0;34m,\u001b[0m\u001b[0;34m\u001b[0m\u001b[0;34m\u001b[0m\u001b[0m\n\u001b[1;32m    299\u001b[0m                     \u001b[0minvalid\u001b[0m\u001b[0;34m=\u001b[0m\u001b[0minvalid_els\u001b[0m\u001b[0;34m[\u001b[0m\u001b[0;34m:\u001b[0m\u001b[0;36m10\u001b[0m\u001b[0;34m]\u001b[0m\u001b[0;34m,\u001b[0m\u001b[0;34m\u001b[0m\u001b[0;34m\u001b[0m\u001b[0m\n\u001b[0;32m--> 300\u001b[0;31m                     \u001b[0mvalid_clr_desc\u001b[0m\u001b[0;34m=\u001b[0m\u001b[0mself\u001b[0m\u001b[0;34m.\u001b[0m\u001b[0mdescription\u001b[0m\u001b[0;34m(\u001b[0m\u001b[0;34m)\u001b[0m\u001b[0;34m,\u001b[0m\u001b[0;34m\u001b[0m\u001b[0;34m\u001b[0m\u001b[0m\n\u001b[0m\u001b[1;32m    301\u001b[0m                 )\n\u001b[1;32m    302\u001b[0m             )\n",
      "\u001b[0;31mValueError\u001b[0m: \n    Invalid element(s) received for the 'data' property of \n        Invalid elements include: [Figure({\n    'data': [{'hovertemplate': 'transportation_type=driving<br>Date=%{x}<br>pct_of_baseline=%{y}<extra></extra>',\n              'legendgroup': 'driving',\n              'line': {'color': '#636efa', 'dash': 'solid'},\n              'mode': 'lines',\n              'name': 'driving',\n              'orientation': 'v',\n              'showlegend': True,\n              'type': 'scatter',\n              'x': array(['alternative_name', 'sub-region', 'country', '2020-01-13', '2020-01-14',\n                          '2020-01-15', '2020-01-16', '2020-01-17', '2020-01-18', '2020-01-19',\n                          '2020-01-20', '2020-01-21', '2020-01-22', '2020-01-23', '2020-01-24',\n                          '2020-01-25', '2020-01-26', '2020-01-27', '2020-01-28', '2020-01-29',\n                          '2020-01-30', '2020-01-31', '2020-02-01', '2020-02-02', '2020-02-03',\n                          '2020-02-04', '2020-02-05', '2020-02-06', '2020-02-07', '2020-02-08',\n                          '2020-02-09', '2020-02-10', '2020-02-11', '2020-02-12', '2020-02-13',\n                          '2020-02-14', '2020-02-15', '2020-02-16', '2020-02-17', '2020-02-18',\n                          '2020-02-19', '2020-02-20', '2020-02-21', '2020-02-22', '2020-02-23',\n                          '2020-02-24', '2020-02-25', '2020-02-26', '2020-02-27', '2020-02-28',\n                          '2020-02-29', '2020-03-01', '2020-03-02', '2020-03-03', '2020-03-04',\n                          '2020-03-05', '2020-03-06', '2020-03-07', '2020-03-08', '2020-03-09',\n                          '2020-03-10', '2020-03-11', '2020-03-12', '2020-03-13', '2020-03-14',\n                          '2020-03-15', '2020-03-16', '2020-03-17', '2020-03-18', '2020-03-19',\n                          '2020-03-20', '2020-03-21', '2020-03-22', '2020-03-23', '2020-03-24',\n                          '2020-03-25', '2020-03-26', '2020-03-27', '2020-03-28', '2020-03-29',\n                          '2020-03-30', '2020-03-31', '2020-04-01', '2020-04-02', '2020-04-03',\n                          '2020-04-04', '2020-04-05', '2020-04-06', '2020-04-07', '2020-04-08',\n                          '2020-04-09', '2020-04-10', '2020-04-11', '2020-04-12', '2020-04-13',\n                          '2020-04-14', '2020-04-15', '2020-04-16', '2020-04-17', '2020-04-18',\n                          '2020-04-19', '2020-04-20', '2020-04-21', '2020-04-22', '2020-04-23',\n                          '2020-04-24', '2020-04-25', '2020-04-26', '2020-04-27', '2020-04-28',\n                          '2020-04-29', '2020-04-30', '2020-05-01', '2020-05-02', '2020-05-03',\n                          '2020-05-04', '2020-05-05', '2020-05-06', '2020-05-07', '2020-05-08',\n                          '2020-05-09', '2020-05-10', '2020-05-11', '2020-05-12', '2020-05-13',\n                          '2020-05-14', '2020-05-15', '2020-05-16', '2020-05-17', '2020-05-18',\n                          '2020-05-19', '2020-05-20', '2020-05-21', '2020-05-22', '2020-05-23',\n                          '2020-05-24', '2020-05-25', '2020-05-26', '2020-05-27', '2020-05-28',\n                          '2020-05-29', '2020-05-30', '2020-05-31', '2020-06-01', '2020-06-02',\n                          '2020-06-03', '2020-06-04', '2020-06-05', '2020-06-06', '2020-06-07',\n                          '2020-06-08', '2020-06-09', '2020-06-10', '2020-06-11', '2020-06-12',\n                          '2020-06-13', '2020-06-14', '2020-06-15', '2020-06-16', '2020-06-17',\n                          '2020-06-18', '2020-06-19', '2020-06-20', '2020-06-21', '2020-06-22',\n                          '2020-06-23', '2020-06-24'], dtype=object),\n              'xaxis': 'x',\n              'y': array(['Deutschland', nan, nan, 100.0, 101.31, 102.82, 104.61, 114.38, 109.65,\n                          103.81, 100.54, 102.9, 102.65, 102.61, 112.68, 108.85, 102.26, 101.93,\n                          105.2, 102.84, 105.23, 119.14, 115.73, 106.1, 105.13, 107.72, 106.59,\n                          105.26, 120.68, 120.85, 105.91, 105.72, 108.42, 108.83, 112.43, 130.41,\n                          128.0, 109.63, 108.0, 109.42, 110.81, 108.14, 125.52, 119.65, 99.22,\n                          102.49, 105.39, 104.39, 110.47, 117.01, 115.16, 106.11, 101.52, 104.1,\n                          102.87, 105.34, 115.68, 112.85, 105.05, 99.11, 100.16, 97.05, 87.94,\n                          86.47, 78.32, 72.26, 68.97, 63.71, 59.52, 54.87, 50.87, 37.9, 39.75,\n                          45.1, 45.53, 46.48, 48.12, 49.58, 45.98, 42.18, 50.0, 52.68, 53.29,\n                          53.15, 51.46, 47.44, 55.02, 58.99, 60.26, 61.92, 58.89, 51.44, 51.05,\n                          46.1, 53.67, 61.19, 63.04, 65.48, 64.69, 57.58, 63.82, 66.95, 68.02,\n                          69.71, 70.28, 67.88, 62.8, 68.59, 70.08, 69.04, 70.61, 70.3, 62.46,\n                          65.91, 73.49, 75.92, 77.39, 79.3, 81.72, 84.77, 79.18, 78.63, nan, nan,\n                          84.55, 87.25, 92.03, 87.64, 93.4, 95.37, 97.63, 105.56, 102.46, 102.01,\n                          91.77, 100.28, 100.75, 102.28, 104.72, 109.93, 126.42, 114.01, 110.23,\n                          134.41, 121.2, 114.95, 111.66, 116.95, 112.64, 112.92, 113.83, 115.42,\n                          121.66, 124.56, 134.06, 116.11, 123.09, 117.11, 118.08, 119.46, 121.9,\n                          131.22, 123.26, 127.78, 121.89, 127.65, 128.77], dtype=object),\n              'yaxis': 'y'},\n             {'hovertemplate': 'transportation_type=transit<br>Date=%{x}<br>pct_of_baseline=%{y}<extra></extra>',\n              'legendgroup': 'transit',\n              'line': {'color': '#EF553B', 'dash': 'solid'},\n              'mode': 'lines',\n              'name': 'transit',\n              'orientation': 'v',\n              'showlegend': True,\n              'type': 'scatter',\n              'x': array(['alternative_name', 'sub-region', 'country', '2020-01-13', '2020-01-14',\n                          '2020-01-15', '2020-01-16', '2020-01-17', '2020-01-18', '2020-01-19',\n                          '2020-01-20', '2020-01-21', '2020-01-22', '2020-01-23', '2020-01-24',\n                          '2020-01-25', '2020-01-26', '2020-01-27', '2020-01-28', '2020-01-29',\n                          '2020-01-30', '2020-01-31', '2020-02-01', '2020-02-02', '2020-02-03',\n                          '2020-02-04', '2020-02-05', '2020-02-06', '2020-02-07', '2020-02-08',\n                          '2020-02-09', '2020-02-10', '2020-02-11', '2020-02-12', '2020-02-13',\n                          '2020-02-14', '2020-02-15', '2020-02-16', '2020-02-17', '2020-02-18',\n                          '2020-02-19', '2020-02-20', '2020-02-21', '2020-02-22', '2020-02-23',\n                          '2020-02-24', '2020-02-25', '2020-02-26', '2020-02-27', '2020-02-28',\n                          '2020-02-29', '2020-03-01', '2020-03-02', '2020-03-03', '2020-03-04',\n                          '2020-03-05', '2020-03-06', '2020-03-07', '2020-03-08', '2020-03-09',\n                          '2020-03-10', '2020-03-11', '2020-03-12', '2020-03-13', '2020-03-14',\n                          '2020-03-15', '2020-03-16', '2020-03-17', '2020-03-18', '2020-03-19',\n                          '2020-03-20', '2020-03-21', '2020-03-22', '2020-03-23', '2020-03-24',\n                          '2020-03-25', '2020-03-26', '2020-03-27', '2020-03-28', '2020-03-29',\n                          '2020-03-30', '2020-03-31', '2020-04-01', '2020-04-02', '2020-04-03',\n                          '2020-04-04', '2020-04-05', '2020-04-06', '2020-04-07', '2020-04-08',\n                          '2020-04-09', '2020-04-10', '2020-04-11', '2020-04-12', '2020-04-13',\n                          '2020-04-14', '2020-04-15', '2020-04-16', '2020-04-17', '2020-04-18',\n                          '2020-04-19', '2020-04-20', '2020-04-21', '2020-04-22', '2020-04-23',\n                          '2020-04-24', '2020-04-25', '2020-04-26', '2020-04-27', '2020-04-28',\n                          '2020-04-29', '2020-04-30', '2020-05-01', '2020-05-02', '2020-05-03',\n                          '2020-05-04', '2020-05-05', '2020-05-06', '2020-05-07', '2020-05-08',\n                          '2020-05-09', '2020-05-10', '2020-05-11', '2020-05-12', '2020-05-13',\n                          '2020-05-14', '2020-05-15', '2020-05-16', '2020-05-17', '2020-05-18',\n                          '2020-05-19', '2020-05-20', '2020-05-21', '2020-05-22', '2020-05-23',\n                          '2020-05-24', '2020-05-25', '2020-05-26', '2020-05-27', '2020-05-28',\n                          '2020-05-29', '2020-05-30', '2020-05-31', '2020-06-01', '2020-06-02',\n                          '2020-06-03', '2020-06-04', '2020-06-05', '2020-06-06', '2020-06-07',\n                          '2020-06-08', '2020-06-09', '2020-06-10', '2020-06-11', '2020-06-12',\n                          '2020-06-13', '2020-06-14', '2020-06-15', '2020-06-16', '2020-06-17',\n                          '2020-06-18', '2020-06-19', '2020-06-20', '2020-06-21', '2020-06-22',\n                          '2020-06-23', '2020-06-24'], dtype=object),\n              'xaxis': 'x',\n              'y': array(['Deutschland', nan, nan, 100.0, 102.85, 102.41, 105.37, 114.32, 116.37,\n                          102.26, 99.42, 101.25, 100.44, 103.03, 111.85, 117.24, 99.33, 101.54,\n                          101.07, 99.92, 102.77, 113.42, 115.02, 104.64, 104.37, 104.7, 101.33,\n                          101.98, 113.45, 117.99, 100.3, 104.99, 105.67, 106.43, 112.26, 121.04,\n                          125.2, 114.91, 157.64, 140.18, 132.15, 135.25, 145.98, 149.75, 127.86,\n                          129.82, 128.68, 123.84, 128.01, 138.23, 140.56, 123.28, 118.97, 116.1,\n                          114.82, 117.3, 127.44, 134.51, 115.27, 110.61, 106.74, 101.51, 91.75,\n                          82.21, 77.72, 63.99, 57.93, 50.68, 46.15, 39.17, 33.88, 29.1, 30.14,\n                          31.37, 31.0, 31.36, 31.4, 31.8, 31.88, 29.48, 32.39, 35.14, 33.52,\n                          33.82, 32.02, 33.02, 39.16, 40.67, 40.58, 39.96, 38.54, 40.24, 36.2,\n                          37.88, 38.77, 41.62, 43.22, 44.83, 43.47, 42.91, 46.65, 47.02, 44.89,\n                          46.87, 47.32, 44.47, 44.16, 49.81, 48.72, 46.4, 45.55, 45.07, 45.75,\n                          44.9, 53.31, 54.35, 54.6, 55.35, 56.71, 57.39, 56.13, 55.81, nan, nan,\n                          59.26, 60.24, 61.23, 61.89, 66.72, 68.3, 69.67, 69.97, 74.63, 68.55,\n                          64.35, 66.62, 74.08, 75.87, 77.79, 77.53, 80.63, 79.95, 78.92, 93.36,\n                          92.7, 89.61, 84.31, 86.59, 87.81, 83.7, 89.42, 90.4, 88.74, 95.02,\n                          102.48, 90.55, 92.71, 95.82, 96.68, 96.02, 93.76, 96.46, 94.71, 95.46,\n                          102.85, 106.91, 106.25], dtype=object),\n              'yaxis': 'y'},\n             {'hovertemplate': 'transportation_type=walking<br>Date=%{x}<br>pct_of_baseline=%{y}<extra></extra>',\n              'legendgroup': 'walking',\n              'line': {'color': '#00cc96', 'dash': 'solid'},\n              'mode': 'lines',\n              'name': 'walking',\n              'orientation': 'v',\n              'showlegend': True,\n              'type': 'scatter',\n              'x': array(['alternative_name', 'sub-region', 'country', '2020-01-13', '2020-01-14',\n                          '2020-01-15', '2020-01-16', '2020-01-17', '2020-01-18', '2020-01-19',\n                          '2020-01-20', '2020-01-21', '2020-01-22', '2020-01-23', '2020-01-24',\n                          '2020-01-25', '2020-01-26', '2020-01-27', '2020-01-28', '2020-01-29',\n                          '2020-01-30', '2020-01-31', '2020-02-01', '2020-02-02', '2020-02-03',\n                          '2020-02-04', '2020-02-05', '2020-02-06', '2020-02-07', '2020-02-08',\n                          '2020-02-09', '2020-02-10', '2020-02-11', '2020-02-12', '2020-02-13',\n                          '2020-02-14', '2020-02-15', '2020-02-16', '2020-02-17', '2020-02-18',\n                          '2020-02-19', '2020-02-20', '2020-02-21', '2020-02-22', '2020-02-23',\n                          '2020-02-24', '2020-02-25', '2020-02-26', '2020-02-27', '2020-02-28',\n                          '2020-02-29', '2020-03-01', '2020-03-02', '2020-03-03', '2020-03-04',\n                          '2020-03-05', '2020-03-06', '2020-03-07', '2020-03-08', '2020-03-09',\n                          '2020-03-10', '2020-03-11', '2020-03-12', '2020-03-13', '2020-03-14',\n                          '2020-03-15', '2020-03-16', '2020-03-17', '2020-03-18', '2020-03-19',\n                          '2020-03-20', '2020-03-21', '2020-03-22', '2020-03-23', '2020-03-24',\n                          '2020-03-25', '2020-03-26', '2020-03-27', '2020-03-28', '2020-03-29',\n                          '2020-03-30', '2020-03-31', '2020-04-01', '2020-04-02', '2020-04-03',\n                          '2020-04-04', '2020-04-05', '2020-04-06', '2020-04-07', '2020-04-08',\n                          '2020-04-09', '2020-04-10', '2020-04-11', '2020-04-12', '2020-04-13',\n                          '2020-04-14', '2020-04-15', '2020-04-16', '2020-04-17', '2020-04-18',\n                          '2020-04-19', '2020-04-20', '2020-04-21', '2020-04-22', '2020-04-23',\n                          '2020-04-24', '2020-04-25', '2020-04-26', '2020-04-27', '2020-04-28',\n                          '2020-04-29', '2020-04-30', '2020-05-01', '2020-05-02', '2020-05-03',\n                          '2020-05-04', '2020-05-05', '2020-05-06', '2020-05-07', '2020-05-08',\n                          '2020-05-09', '2020-05-10', '2020-05-11', '2020-05-12', '2020-05-13',\n                          '2020-05-14', '2020-05-15', '2020-05-16', '2020-05-17', '2020-05-18',\n                          '2020-05-19', '2020-05-20', '2020-05-21', '2020-05-22', '2020-05-23',\n                          '2020-05-24', '2020-05-25', '2020-05-26', '2020-05-27', '2020-05-28',\n                          '2020-05-29', '2020-05-30', '2020-05-31', '2020-06-01', '2020-06-02',\n                          '2020-06-03', '2020-06-04', '2020-06-05', '2020-06-06', '2020-06-07',\n                          '2020-06-08', '2020-06-09', '2020-06-10', '2020-06-11', '2020-06-12',\n                          '2020-06-13', '2020-06-14', '2020-06-15', '2020-06-16', '2020-06-17',\n                          '2020-06-18', '2020-06-19', '2020-06-20', '2020-06-21', '2020-06-22',\n                          '2020-06-23', '2020-06-24'], dtype=object),\n              'xaxis': 'x',\n              'y': array(['Deutschland', nan, nan, 100.0, 104.04, 107.18, 110.76, 124.13, 137.91,\n                          91.01, 99.26, 102.36, 100.62, 104.64, 119.37, 135.62, 89.33, 99.07,\n                          98.48, 99.88, 106.28, 127.99, 139.86, 91.42, 104.16, 105.5, 108.79,\n                          109.22, 128.59, 150.13, 86.21, 91.76, 104.04, 108.17, 112.38, 141.37,\n                          161.49, 98.68, 111.55, 115.71, 109.61, 121.49, 131.42, 149.93, 93.4,\n                          114.25, 106.82, 99.85, 104.58, 123.05, 138.07, 95.72, 102.74, 103.29,\n                          101.89, 102.6, 116.04, 140.22, 93.98, 96.92, 90.68, 96.4, 89.79, 88.28,\n                          95.38, 75.8, 71.25, 61.98, 57.99, 51.98, 45.37, 36.4, 42.76, 42.11,\n                          43.85, 43.83, 45.78, 52.26, 58.85, 33.95, 42.5, 47.88, 50.5, 50.82,\n                          48.24, 59.17, 75.42, 66.13, 66.37, 67.94, 65.26, 73.42, 67.61, 67.93,\n                          54.13, 55.07, 63.21, 69.23, 69.5, 69.57, 75.93, 66.52, 66.47, 68.86,\n                          72.15, 68.32, 72.98, 81.52, 70.04, 59.81, 59.04, 60.08, 59.29, 59.26,\n                          75.48, 67.46, 71.69, 76.51, 79.51, 83.97, 86.37, 67.66, nan, nan, 70.99,\n                          76.74, 81.74, 90.52, 90.51, 88.46, 92.02, 95.48, 115.17, 99.99, 86.18,\n                          76.8, 88.31, 96.16, 98.12, 100.55, 110.61, 124.97, 115.52, 130.53,\n                          118.8, 107.89, 95.61, 100.36, 115.09, 92.43, 106.73, 105.71, 107.56,\n                          117.11, 147.47, 124.84, 89.06, 104.74, 107.81, 107.9, 110.78, 118.48,\n                          131.78, 112.89, 115.69, 123.12, 122.28], dtype=object),\n              'yaxis': 'y'}],\n    'layout': {'legend': {'title': {'text': 'transportation_type'}, 'tracegroupgap': 0},\n               'margin': {'t': 60},\n               'template': '...',\n               'xaxis': {'anchor': 'y', 'domain': [0.0, 1.0], 'title': {'text': 'Date'}},\n               'yaxis': {'anchor': 'x', 'domain': [0.0, 1.0], 'title': {'text': 'pct_of_baseline'}}}\n})]\n\n    The 'data' property is a tuple of trace instances\n    that may be specified as:\n      - A list or tuple of trace instances\n        (e.g. [Scatter(...), Bar(...)])\n      - A single trace instance\n        (e.g. Scatter(...), Bar(...), etc.)\n      - A list or tuple of dicts of string/value properties where:\n        - The 'type' property specifies the trace type\n            One of: ['area', 'bar', 'barpolar', 'box',\n                     'candlestick', 'carpet', 'choropleth',\n                     'choroplethmapbox', 'cone', 'contour',\n                     'contourcarpet', 'densitymapbox', 'funnel',\n                     'funnelarea', 'heatmap', 'heatmapgl',\n                     'histogram', 'histogram2d',\n                     'histogram2dcontour', 'image', 'indicator',\n                     'isosurface', 'mesh3d', 'ohlc', 'parcats',\n                     'parcoords', 'pie', 'pointcloud', 'sankey',\n                     'scatter', 'scatter3d', 'scattercarpet',\n                     'scattergeo', 'scattergl', 'scattermapbox',\n                     'scatterpolar', 'scatterpolargl',\n                     'scatterternary', 'splom', 'streamtube',\n                     'sunburst', 'surface', 'table', 'treemap',\n                     'violin', 'volume', 'waterfall']\n\n        - All remaining properties are passed to the constructor of\n          the specified trace type\n\n        (e.g. [{'type': 'scatter', ...}, {'type': 'bar, ...}])"
     ]
    }
   ],
   "source": [
    "import plotly.express as px\n",
    "#Make list of any cities to plot\n",
    "to_show = [\"United States\"]\n",
    "to_show1 = [\"Germany\"]\n",
    "\n",
    "#Plot\n",
    "df = mobility_countries_melted[mobility_countries_melted[\"region\"].isin(to_show)]\n",
    "df1 = mobility_countries_melted[mobility_countries_melted[\"region\"].isin(to_show1)]\n",
    "fig = px.line(df, x=\"Date\", y=\"pct_of_baseline\", color=\"transportation_type\",\n",
    "              line_group=\"region\", hover_name=\"region\")\n",
    "fig.add_trace(px.line(df1, x=\"Date\", y=\"pct_of_baseline\", color=\"transportation_type\",\n",
    "              line_group=\"region\", hover_name=\"region\"))\n",
    "\n",
    "\n",
    "\n",
    "#Plot\n",
    "\n",
    "fig.show()\n"
   ]
  },
  {
   "cell_type": "markdown",
   "metadata": {},
   "source": [
    "# Visualising the Data in Munich"
   ]
  },
  {
   "cell_type": "markdown",
   "metadata": {},
   "source": [
    "Now we visualize the Data in Munich.\n",
    "In the case of Munich, we notice the absence of transit mobility data. \n",
    "We also notice that the fluctuations are mostly constant untill the 8th  of march where they start dropping drastically untill the 21st. Afterwards the numbers start increasing."
   ]
  },
  {
   "cell_type": "code",
   "execution_count": 27,
   "metadata": {},
   "outputs": [
    {
     "data": {
      "application/vnd.plotly.v1+json": {
       "config": {
        "plotlyServerURL": "https://plot.ly"
       },
       "data": [
        {
         "hovertemplate": "<b>%{hovertext}</b><br><br>transportation_type=driving<br>region=Munich<br>Date=%{x}<br>pct_of_baseline=%{y}<extra></extra>",
         "hovertext": [
          "Munich",
          "Munich",
          "Munich",
          "Munich",
          "Munich",
          "Munich",
          "Munich",
          "Munich",
          "Munich",
          "Munich",
          "Munich",
          "Munich",
          "Munich",
          "Munich",
          "Munich",
          "Munich",
          "Munich",
          "Munich",
          "Munich",
          "Munich",
          "Munich",
          "Munich",
          "Munich",
          "Munich",
          "Munich",
          "Munich",
          "Munich",
          "Munich",
          "Munich",
          "Munich",
          "Munich",
          "Munich",
          "Munich",
          "Munich",
          "Munich",
          "Munich",
          "Munich",
          "Munich",
          "Munich",
          "Munich",
          "Munich",
          "Munich",
          "Munich",
          "Munich",
          "Munich",
          "Munich",
          "Munich",
          "Munich",
          "Munich",
          "Munich",
          "Munich",
          "Munich",
          "Munich",
          "Munich",
          "Munich",
          "Munich",
          "Munich",
          "Munich",
          "Munich",
          "Munich",
          "Munich",
          "Munich",
          "Munich",
          "Munich",
          "Munich",
          "Munich",
          "Munich",
          "Munich",
          "Munich",
          "Munich",
          "Munich",
          "Munich",
          "Munich",
          "Munich",
          "Munich",
          "Munich",
          "Munich",
          "Munich",
          "Munich",
          "Munich",
          "Munich",
          "Munich",
          "Munich",
          "Munich",
          "Munich",
          "Munich",
          "Munich",
          "Munich",
          "Munich",
          "Munich",
          "Munich",
          "Munich",
          "Munich",
          "Munich",
          "Munich",
          "Munich",
          "Munich",
          "Munich",
          "Munich",
          "Munich",
          "Munich",
          "Munich",
          "Munich",
          "Munich",
          "Munich",
          "Munich",
          "Munich",
          "Munich",
          "Munich",
          "Munich",
          "Munich",
          "Munich",
          "Munich",
          "Munich",
          "Munich",
          "Munich",
          "Munich",
          "Munich",
          "Munich",
          "Munich",
          "Munich",
          "Munich",
          "Munich",
          "Munich",
          "Munich",
          "Munich",
          "Munich",
          "Munich",
          "Munich",
          "Munich",
          "Munich",
          "Munich",
          "Munich",
          "Munich",
          "Munich",
          "Munich",
          "Munich",
          "Munich",
          "Munich",
          "Munich",
          "Munich",
          "Munich",
          "Munich",
          "Munich",
          "Munich",
          "Munich",
          "Munich",
          "Munich",
          "Munich",
          "Munich",
          "Munich",
          "Munich",
          "Munich",
          "Munich",
          "Munich",
          "Munich",
          "Munich",
          "Munich",
          "Munich",
          "Munich",
          "Munich",
          "Munich",
          "Munich",
          "Munich",
          "Munich",
          "Munich",
          "Munich"
         ],
         "legendgroup": "driving",
         "line": {
          "color": "#636efa",
          "dash": "solid"
         },
         "mode": "lines",
         "name": "driving",
         "orientation": "v",
         "showlegend": true,
         "type": "scatter",
         "x": [
          "alternative_name",
          "sub-region",
          "country",
          "2020-01-13",
          "2020-01-14",
          "2020-01-15",
          "2020-01-16",
          "2020-01-17",
          "2020-01-18",
          "2020-01-19",
          "2020-01-20",
          "2020-01-21",
          "2020-01-22",
          "2020-01-23",
          "2020-01-24",
          "2020-01-25",
          "2020-01-26",
          "2020-01-27",
          "2020-01-28",
          "2020-01-29",
          "2020-01-30",
          "2020-01-31",
          "2020-02-01",
          "2020-02-02",
          "2020-02-03",
          "2020-02-04",
          "2020-02-05",
          "2020-02-06",
          "2020-02-07",
          "2020-02-08",
          "2020-02-09",
          "2020-02-10",
          "2020-02-11",
          "2020-02-12",
          "2020-02-13",
          "2020-02-14",
          "2020-02-15",
          "2020-02-16",
          "2020-02-17",
          "2020-02-18",
          "2020-02-19",
          "2020-02-20",
          "2020-02-21",
          "2020-02-22",
          "2020-02-23",
          "2020-02-24",
          "2020-02-25",
          "2020-02-26",
          "2020-02-27",
          "2020-02-28",
          "2020-02-29",
          "2020-03-01",
          "2020-03-02",
          "2020-03-03",
          "2020-03-04",
          "2020-03-05",
          "2020-03-06",
          "2020-03-07",
          "2020-03-08",
          "2020-03-09",
          "2020-03-10",
          "2020-03-11",
          "2020-03-12",
          "2020-03-13",
          "2020-03-14",
          "2020-03-15",
          "2020-03-16",
          "2020-03-17",
          "2020-03-18",
          "2020-03-19",
          "2020-03-20",
          "2020-03-21",
          "2020-03-22",
          "2020-03-23",
          "2020-03-24",
          "2020-03-25",
          "2020-03-26",
          "2020-03-27",
          "2020-03-28",
          "2020-03-29",
          "2020-03-30",
          "2020-03-31",
          "2020-04-01",
          "2020-04-02",
          "2020-04-03",
          "2020-04-04",
          "2020-04-05",
          "2020-04-06",
          "2020-04-07",
          "2020-04-08",
          "2020-04-09",
          "2020-04-10",
          "2020-04-11",
          "2020-04-12",
          "2020-04-13",
          "2020-04-14",
          "2020-04-15",
          "2020-04-16",
          "2020-04-17",
          "2020-04-18",
          "2020-04-19",
          "2020-04-20",
          "2020-04-21",
          "2020-04-22",
          "2020-04-23",
          "2020-04-24",
          "2020-04-25",
          "2020-04-26",
          "2020-04-27",
          "2020-04-28",
          "2020-04-29",
          "2020-04-30",
          "2020-05-01",
          "2020-05-02",
          "2020-05-03",
          "2020-05-04",
          "2020-05-05",
          "2020-05-06",
          "2020-05-07",
          "2020-05-08",
          "2020-05-09",
          "2020-05-10",
          "2020-05-11",
          "2020-05-12",
          "2020-05-13",
          "2020-05-14",
          "2020-05-15",
          "2020-05-16",
          "2020-05-17",
          "2020-05-18",
          "2020-05-19",
          "2020-05-20",
          "2020-05-21",
          "2020-05-22",
          "2020-05-23",
          "2020-05-24",
          "2020-05-25",
          "2020-05-26",
          "2020-05-27",
          "2020-05-28",
          "2020-05-29",
          "2020-05-30",
          "2020-05-31",
          "2020-06-01",
          "2020-06-02",
          "2020-06-03",
          "2020-06-04",
          "2020-06-05",
          "2020-06-06",
          "2020-06-07",
          "2020-06-08",
          "2020-06-09",
          "2020-06-10",
          "2020-06-11",
          "2020-06-12",
          "2020-06-13",
          "2020-06-14",
          "2020-06-15",
          "2020-06-16",
          "2020-06-17",
          "2020-06-18",
          "2020-06-19",
          "2020-06-20",
          "2020-06-21",
          "2020-06-22",
          "2020-06-23",
          "2020-06-24"
         ],
         "xaxis": "x",
         "y": [
          "München",
          "Bavaria",
          "Germany",
          100,
          103.02,
          104.46,
          106,
          115.29,
          111.22,
          101.73,
          101.47,
          102.38,
          103.51,
          103.52,
          120.44,
          120.87,
          105.41,
          111.16,
          123.69,
          106.96,
          113.8,
          126.29,
          125.65,
          106.25,
          114.16,
          110.35,
          112.4,
          111.18,
          137.63,
          158.87,
          126.92,
          107.65,
          112.65,
          111.54,
          116.06,
          159.51,
          164.7,
          124.99,
          113.51,
          110.66,
          110.59,
          113.27,
          162.24,
          155.44,
          100.24,
          97.72,
          100.11,
          102.02,
          110.39,
          121.62,
          121.26,
          106.75,
          104.78,
          103.71,
          102.14,
          105.03,
          112.06,
          112.2,
          111.69,
          96.49,
          99.16,
          97.21,
          91.02,
          85.52,
          71.75,
          72.41,
          66.98,
          58.47,
          57.51,
          51.83,
          49.13,
          21.13,
          26.85,
          35.41,
          35.27,
          36.45,
          36.51,
          37.13,
          33.58,
          32.4,
          38.6,
          40.87,
          42.3,
          42.82,
          39.04,
          35.61,
          41.46,
          46.85,
          47.3,
          48.86,
          46.07,
          39.6,
          40.3,
          36.07,
          41.39,
          47.83,
          50.25,
          52.52,
          51.26,
          46.03,
          50.47,
          54.51,
          55.87,
          58.96,
          59.59,
          55.52,
          53.59,
          58.49,
          60.44,
          60.71,
          60.76,
          59.28,
          48.39,
          51.97,
          60.34,
          64.96,
          66.41,
          71.13,
          73.75,
          74.07,
          64.9,
          64.45,
          null,
          null,
          76.08,
          75.97,
          77.53,
          78.47,
          84.73,
          90.98,
          92.1,
          93.6,
          85.95,
          89.54,
          72.78,
          81.56,
          88.37,
          94.55,
          95.06,
          94.58,
          104.4,
          93.34,
          87.82,
          109.73,
          108.81,
          106.58,
          98.97,
          98.25,
          90.16,
          83.26,
          97.82,
          101.84,
          105.7,
          99.93,
          120.52,
          99.29,
          91.86,
          101.72,
          103.32,
          105.61,
          114.59,
          106.95,
          98.14,
          102.64,
          109.11,
          120.39,
          120.56
         ],
         "yaxis": "y"
        },
        {
         "hovertemplate": "<b>%{hovertext}</b><br><br>transportation_type=walking<br>region=Munich<br>Date=%{x}<br>pct_of_baseline=%{y}<extra></extra>",
         "hovertext": [
          "Munich",
          "Munich",
          "Munich",
          "Munich",
          "Munich",
          "Munich",
          "Munich",
          "Munich",
          "Munich",
          "Munich",
          "Munich",
          "Munich",
          "Munich",
          "Munich",
          "Munich",
          "Munich",
          "Munich",
          "Munich",
          "Munich",
          "Munich",
          "Munich",
          "Munich",
          "Munich",
          "Munich",
          "Munich",
          "Munich",
          "Munich",
          "Munich",
          "Munich",
          "Munich",
          "Munich",
          "Munich",
          "Munich",
          "Munich",
          "Munich",
          "Munich",
          "Munich",
          "Munich",
          "Munich",
          "Munich",
          "Munich",
          "Munich",
          "Munich",
          "Munich",
          "Munich",
          "Munich",
          "Munich",
          "Munich",
          "Munich",
          "Munich",
          "Munich",
          "Munich",
          "Munich",
          "Munich",
          "Munich",
          "Munich",
          "Munich",
          "Munich",
          "Munich",
          "Munich",
          "Munich",
          "Munich",
          "Munich",
          "Munich",
          "Munich",
          "Munich",
          "Munich",
          "Munich",
          "Munich",
          "Munich",
          "Munich",
          "Munich",
          "Munich",
          "Munich",
          "Munich",
          "Munich",
          "Munich",
          "Munich",
          "Munich",
          "Munich",
          "Munich",
          "Munich",
          "Munich",
          "Munich",
          "Munich",
          "Munich",
          "Munich",
          "Munich",
          "Munich",
          "Munich",
          "Munich",
          "Munich",
          "Munich",
          "Munich",
          "Munich",
          "Munich",
          "Munich",
          "Munich",
          "Munich",
          "Munich",
          "Munich",
          "Munich",
          "Munich",
          "Munich",
          "Munich",
          "Munich",
          "Munich",
          "Munich",
          "Munich",
          "Munich",
          "Munich",
          "Munich",
          "Munich",
          "Munich",
          "Munich",
          "Munich",
          "Munich",
          "Munich",
          "Munich",
          "Munich",
          "Munich",
          "Munich",
          "Munich",
          "Munich",
          "Munich",
          "Munich",
          "Munich",
          "Munich",
          "Munich",
          "Munich",
          "Munich",
          "Munich",
          "Munich",
          "Munich",
          "Munich",
          "Munich",
          "Munich",
          "Munich",
          "Munich",
          "Munich",
          "Munich",
          "Munich",
          "Munich",
          "Munich",
          "Munich",
          "Munich",
          "Munich",
          "Munich",
          "Munich",
          "Munich",
          "Munich",
          "Munich",
          "Munich",
          "Munich",
          "Munich",
          "Munich",
          "Munich",
          "Munich",
          "Munich",
          "Munich",
          "Munich",
          "Munich",
          "Munich",
          "Munich",
          "Munich",
          "Munich",
          "Munich"
         ],
         "legendgroup": "walking",
         "line": {
          "color": "#EF553B",
          "dash": "solid"
         },
         "mode": "lines",
         "name": "walking",
         "orientation": "v",
         "showlegend": true,
         "type": "scatter",
         "x": [
          "alternative_name",
          "sub-region",
          "country",
          "2020-01-13",
          "2020-01-14",
          "2020-01-15",
          "2020-01-16",
          "2020-01-17",
          "2020-01-18",
          "2020-01-19",
          "2020-01-20",
          "2020-01-21",
          "2020-01-22",
          "2020-01-23",
          "2020-01-24",
          "2020-01-25",
          "2020-01-26",
          "2020-01-27",
          "2020-01-28",
          "2020-01-29",
          "2020-01-30",
          "2020-01-31",
          "2020-02-01",
          "2020-02-02",
          "2020-02-03",
          "2020-02-04",
          "2020-02-05",
          "2020-02-06",
          "2020-02-07",
          "2020-02-08",
          "2020-02-09",
          "2020-02-10",
          "2020-02-11",
          "2020-02-12",
          "2020-02-13",
          "2020-02-14",
          "2020-02-15",
          "2020-02-16",
          "2020-02-17",
          "2020-02-18",
          "2020-02-19",
          "2020-02-20",
          "2020-02-21",
          "2020-02-22",
          "2020-02-23",
          "2020-02-24",
          "2020-02-25",
          "2020-02-26",
          "2020-02-27",
          "2020-02-28",
          "2020-02-29",
          "2020-03-01",
          "2020-03-02",
          "2020-03-03",
          "2020-03-04",
          "2020-03-05",
          "2020-03-06",
          "2020-03-07",
          "2020-03-08",
          "2020-03-09",
          "2020-03-10",
          "2020-03-11",
          "2020-03-12",
          "2020-03-13",
          "2020-03-14",
          "2020-03-15",
          "2020-03-16",
          "2020-03-17",
          "2020-03-18",
          "2020-03-19",
          "2020-03-20",
          "2020-03-21",
          "2020-03-22",
          "2020-03-23",
          "2020-03-24",
          "2020-03-25",
          "2020-03-26",
          "2020-03-27",
          "2020-03-28",
          "2020-03-29",
          "2020-03-30",
          "2020-03-31",
          "2020-04-01",
          "2020-04-02",
          "2020-04-03",
          "2020-04-04",
          "2020-04-05",
          "2020-04-06",
          "2020-04-07",
          "2020-04-08",
          "2020-04-09",
          "2020-04-10",
          "2020-04-11",
          "2020-04-12",
          "2020-04-13",
          "2020-04-14",
          "2020-04-15",
          "2020-04-16",
          "2020-04-17",
          "2020-04-18",
          "2020-04-19",
          "2020-04-20",
          "2020-04-21",
          "2020-04-22",
          "2020-04-23",
          "2020-04-24",
          "2020-04-25",
          "2020-04-26",
          "2020-04-27",
          "2020-04-28",
          "2020-04-29",
          "2020-04-30",
          "2020-05-01",
          "2020-05-02",
          "2020-05-03",
          "2020-05-04",
          "2020-05-05",
          "2020-05-06",
          "2020-05-07",
          "2020-05-08",
          "2020-05-09",
          "2020-05-10",
          "2020-05-11",
          "2020-05-12",
          "2020-05-13",
          "2020-05-14",
          "2020-05-15",
          "2020-05-16",
          "2020-05-17",
          "2020-05-18",
          "2020-05-19",
          "2020-05-20",
          "2020-05-21",
          "2020-05-22",
          "2020-05-23",
          "2020-05-24",
          "2020-05-25",
          "2020-05-26",
          "2020-05-27",
          "2020-05-28",
          "2020-05-29",
          "2020-05-30",
          "2020-05-31",
          "2020-06-01",
          "2020-06-02",
          "2020-06-03",
          "2020-06-04",
          "2020-06-05",
          "2020-06-06",
          "2020-06-07",
          "2020-06-08",
          "2020-06-09",
          "2020-06-10",
          "2020-06-11",
          "2020-06-12",
          "2020-06-13",
          "2020-06-14",
          "2020-06-15",
          "2020-06-16",
          "2020-06-17",
          "2020-06-18",
          "2020-06-19",
          "2020-06-20",
          "2020-06-21",
          "2020-06-22",
          "2020-06-23",
          "2020-06-24"
         ],
         "xaxis": "x",
         "y": [
          "München",
          "Bavaria",
          "Germany",
          100,
          106.97,
          110.12,
          107.98,
          129.5,
          125.08,
          82.58,
          99.78,
          99.66,
          101.06,
          105.38,
          129.42,
          162.32,
          100.26,
          111.97,
          105.1,
          106.25,
          111.34,
          125.7,
          142.02,
          87.23,
          96.47,
          107.16,
          117.52,
          119.34,
          139.29,
          169.22,
          120.82,
          91.77,
          102.01,
          109.56,
          124.33,
          150.02,
          166.21,
          110.54,
          120.75,
          120.05,
          111.66,
          120,
          142.95,
          164.07,
          87.62,
          103.66,
          100.78,
          95.03,
          100.46,
          118.45,
          140.44,
          102.79,
          106.55,
          101.01,
          104.39,
          104.92,
          121.93,
          136.66,
          112.14,
          93.85,
          88.06,
          99.45,
          96.23,
          87.97,
          89.21,
          86.21,
          65.27,
          50.46,
          53.66,
          48.68,
          43.92,
          17.55,
          28.63,
          30.41,
          31,
          29.53,
          30.22,
          41.25,
          53.19,
          28.54,
          30.41,
          35.11,
          39.77,
          43.12,
          42.39,
          51.83,
          67.19,
          47.71,
          46.78,
          46.74,
          46.78,
          60.27,
          54.35,
          56.69,
          46.79,
          37.9,
          46.34,
          52.48,
          56.09,
          60.41,
          61.05,
          47.6,
          48.74,
          55.39,
          56.72,
          53.56,
          67.39,
          73.75,
          53.83,
          44.42,
          43.59,
          46.71,
          41.46,
          42.7,
          62.45,
          53.16,
          55.6,
          65.9,
          71.13,
          72.53,
          66.63,
          53.13,
          null,
          null,
          49.69,
          57.08,
          60.61,
          76.47,
          80.53,
          82.21,
          81.72,
          77.38,
          83.19,
          84.27,
          54.26,
          66.54,
          68.15,
          77.36,
          82.3,
          75.33,
          83.04,
          90.98,
          81.33,
          101.69,
          103.72,
          99.07,
          77.24,
          81.98,
          97.97,
          51.35,
          82.1,
          81.79,
          78.78,
          90.93,
          133.65,
          113.21,
          53.53,
          70.12,
          83.4,
          85.59,
          98.74,
          87.5,
          97.65,
          85.37,
          94.86,
          110.79,
          112.21
         ],
         "yaxis": "y"
        }
       ],
       "layout": {
        "legend": {
         "title": {
          "text": "transportation_type"
         },
         "tracegroupgap": 0
        },
        "margin": {
         "t": 60
        },
        "template": {
         "data": {
          "bar": [
           {
            "error_x": {
             "color": "#2a3f5f"
            },
            "error_y": {
             "color": "#2a3f5f"
            },
            "marker": {
             "line": {
              "color": "#E5ECF6",
              "width": 0.5
             }
            },
            "type": "bar"
           }
          ],
          "barpolar": [
           {
            "marker": {
             "line": {
              "color": "#E5ECF6",
              "width": 0.5
             }
            },
            "type": "barpolar"
           }
          ],
          "carpet": [
           {
            "aaxis": {
             "endlinecolor": "#2a3f5f",
             "gridcolor": "white",
             "linecolor": "white",
             "minorgridcolor": "white",
             "startlinecolor": "#2a3f5f"
            },
            "baxis": {
             "endlinecolor": "#2a3f5f",
             "gridcolor": "white",
             "linecolor": "white",
             "minorgridcolor": "white",
             "startlinecolor": "#2a3f5f"
            },
            "type": "carpet"
           }
          ],
          "choropleth": [
           {
            "colorbar": {
             "outlinewidth": 0,
             "ticks": ""
            },
            "type": "choropleth"
           }
          ],
          "contour": [
           {
            "colorbar": {
             "outlinewidth": 0,
             "ticks": ""
            },
            "colorscale": [
             [
              0,
              "#0d0887"
             ],
             [
              0.1111111111111111,
              "#46039f"
             ],
             [
              0.2222222222222222,
              "#7201a8"
             ],
             [
              0.3333333333333333,
              "#9c179e"
             ],
             [
              0.4444444444444444,
              "#bd3786"
             ],
             [
              0.5555555555555556,
              "#d8576b"
             ],
             [
              0.6666666666666666,
              "#ed7953"
             ],
             [
              0.7777777777777778,
              "#fb9f3a"
             ],
             [
              0.8888888888888888,
              "#fdca26"
             ],
             [
              1,
              "#f0f921"
             ]
            ],
            "type": "contour"
           }
          ],
          "contourcarpet": [
           {
            "colorbar": {
             "outlinewidth": 0,
             "ticks": ""
            },
            "type": "contourcarpet"
           }
          ],
          "heatmap": [
           {
            "colorbar": {
             "outlinewidth": 0,
             "ticks": ""
            },
            "colorscale": [
             [
              0,
              "#0d0887"
             ],
             [
              0.1111111111111111,
              "#46039f"
             ],
             [
              0.2222222222222222,
              "#7201a8"
             ],
             [
              0.3333333333333333,
              "#9c179e"
             ],
             [
              0.4444444444444444,
              "#bd3786"
             ],
             [
              0.5555555555555556,
              "#d8576b"
             ],
             [
              0.6666666666666666,
              "#ed7953"
             ],
             [
              0.7777777777777778,
              "#fb9f3a"
             ],
             [
              0.8888888888888888,
              "#fdca26"
             ],
             [
              1,
              "#f0f921"
             ]
            ],
            "type": "heatmap"
           }
          ],
          "heatmapgl": [
           {
            "colorbar": {
             "outlinewidth": 0,
             "ticks": ""
            },
            "colorscale": [
             [
              0,
              "#0d0887"
             ],
             [
              0.1111111111111111,
              "#46039f"
             ],
             [
              0.2222222222222222,
              "#7201a8"
             ],
             [
              0.3333333333333333,
              "#9c179e"
             ],
             [
              0.4444444444444444,
              "#bd3786"
             ],
             [
              0.5555555555555556,
              "#d8576b"
             ],
             [
              0.6666666666666666,
              "#ed7953"
             ],
             [
              0.7777777777777778,
              "#fb9f3a"
             ],
             [
              0.8888888888888888,
              "#fdca26"
             ],
             [
              1,
              "#f0f921"
             ]
            ],
            "type": "heatmapgl"
           }
          ],
          "histogram": [
           {
            "marker": {
             "colorbar": {
              "outlinewidth": 0,
              "ticks": ""
             }
            },
            "type": "histogram"
           }
          ],
          "histogram2d": [
           {
            "colorbar": {
             "outlinewidth": 0,
             "ticks": ""
            },
            "colorscale": [
             [
              0,
              "#0d0887"
             ],
             [
              0.1111111111111111,
              "#46039f"
             ],
             [
              0.2222222222222222,
              "#7201a8"
             ],
             [
              0.3333333333333333,
              "#9c179e"
             ],
             [
              0.4444444444444444,
              "#bd3786"
             ],
             [
              0.5555555555555556,
              "#d8576b"
             ],
             [
              0.6666666666666666,
              "#ed7953"
             ],
             [
              0.7777777777777778,
              "#fb9f3a"
             ],
             [
              0.8888888888888888,
              "#fdca26"
             ],
             [
              1,
              "#f0f921"
             ]
            ],
            "type": "histogram2d"
           }
          ],
          "histogram2dcontour": [
           {
            "colorbar": {
             "outlinewidth": 0,
             "ticks": ""
            },
            "colorscale": [
             [
              0,
              "#0d0887"
             ],
             [
              0.1111111111111111,
              "#46039f"
             ],
             [
              0.2222222222222222,
              "#7201a8"
             ],
             [
              0.3333333333333333,
              "#9c179e"
             ],
             [
              0.4444444444444444,
              "#bd3786"
             ],
             [
              0.5555555555555556,
              "#d8576b"
             ],
             [
              0.6666666666666666,
              "#ed7953"
             ],
             [
              0.7777777777777778,
              "#fb9f3a"
             ],
             [
              0.8888888888888888,
              "#fdca26"
             ],
             [
              1,
              "#f0f921"
             ]
            ],
            "type": "histogram2dcontour"
           }
          ],
          "mesh3d": [
           {
            "colorbar": {
             "outlinewidth": 0,
             "ticks": ""
            },
            "type": "mesh3d"
           }
          ],
          "parcoords": [
           {
            "line": {
             "colorbar": {
              "outlinewidth": 0,
              "ticks": ""
             }
            },
            "type": "parcoords"
           }
          ],
          "pie": [
           {
            "automargin": true,
            "type": "pie"
           }
          ],
          "scatter": [
           {
            "marker": {
             "colorbar": {
              "outlinewidth": 0,
              "ticks": ""
             }
            },
            "type": "scatter"
           }
          ],
          "scatter3d": [
           {
            "line": {
             "colorbar": {
              "outlinewidth": 0,
              "ticks": ""
             }
            },
            "marker": {
             "colorbar": {
              "outlinewidth": 0,
              "ticks": ""
             }
            },
            "type": "scatter3d"
           }
          ],
          "scattercarpet": [
           {
            "marker": {
             "colorbar": {
              "outlinewidth": 0,
              "ticks": ""
             }
            },
            "type": "scattercarpet"
           }
          ],
          "scattergeo": [
           {
            "marker": {
             "colorbar": {
              "outlinewidth": 0,
              "ticks": ""
             }
            },
            "type": "scattergeo"
           }
          ],
          "scattergl": [
           {
            "marker": {
             "colorbar": {
              "outlinewidth": 0,
              "ticks": ""
             }
            },
            "type": "scattergl"
           }
          ],
          "scattermapbox": [
           {
            "marker": {
             "colorbar": {
              "outlinewidth": 0,
              "ticks": ""
             }
            },
            "type": "scattermapbox"
           }
          ],
          "scatterpolar": [
           {
            "marker": {
             "colorbar": {
              "outlinewidth": 0,
              "ticks": ""
             }
            },
            "type": "scatterpolar"
           }
          ],
          "scatterpolargl": [
           {
            "marker": {
             "colorbar": {
              "outlinewidth": 0,
              "ticks": ""
             }
            },
            "type": "scatterpolargl"
           }
          ],
          "scatterternary": [
           {
            "marker": {
             "colorbar": {
              "outlinewidth": 0,
              "ticks": ""
             }
            },
            "type": "scatterternary"
           }
          ],
          "surface": [
           {
            "colorbar": {
             "outlinewidth": 0,
             "ticks": ""
            },
            "colorscale": [
             [
              0,
              "#0d0887"
             ],
             [
              0.1111111111111111,
              "#46039f"
             ],
             [
              0.2222222222222222,
              "#7201a8"
             ],
             [
              0.3333333333333333,
              "#9c179e"
             ],
             [
              0.4444444444444444,
              "#bd3786"
             ],
             [
              0.5555555555555556,
              "#d8576b"
             ],
             [
              0.6666666666666666,
              "#ed7953"
             ],
             [
              0.7777777777777778,
              "#fb9f3a"
             ],
             [
              0.8888888888888888,
              "#fdca26"
             ],
             [
              1,
              "#f0f921"
             ]
            ],
            "type": "surface"
           }
          ],
          "table": [
           {
            "cells": {
             "fill": {
              "color": "#EBF0F8"
             },
             "line": {
              "color": "white"
             }
            },
            "header": {
             "fill": {
              "color": "#C8D4E3"
             },
             "line": {
              "color": "white"
             }
            },
            "type": "table"
           }
          ]
         },
         "layout": {
          "annotationdefaults": {
           "arrowcolor": "#2a3f5f",
           "arrowhead": 0,
           "arrowwidth": 1
          },
          "coloraxis": {
           "colorbar": {
            "outlinewidth": 0,
            "ticks": ""
           }
          },
          "colorscale": {
           "diverging": [
            [
             0,
             "#8e0152"
            ],
            [
             0.1,
             "#c51b7d"
            ],
            [
             0.2,
             "#de77ae"
            ],
            [
             0.3,
             "#f1b6da"
            ],
            [
             0.4,
             "#fde0ef"
            ],
            [
             0.5,
             "#f7f7f7"
            ],
            [
             0.6,
             "#e6f5d0"
            ],
            [
             0.7,
             "#b8e186"
            ],
            [
             0.8,
             "#7fbc41"
            ],
            [
             0.9,
             "#4d9221"
            ],
            [
             1,
             "#276419"
            ]
           ],
           "sequential": [
            [
             0,
             "#0d0887"
            ],
            [
             0.1111111111111111,
             "#46039f"
            ],
            [
             0.2222222222222222,
             "#7201a8"
            ],
            [
             0.3333333333333333,
             "#9c179e"
            ],
            [
             0.4444444444444444,
             "#bd3786"
            ],
            [
             0.5555555555555556,
             "#d8576b"
            ],
            [
             0.6666666666666666,
             "#ed7953"
            ],
            [
             0.7777777777777778,
             "#fb9f3a"
            ],
            [
             0.8888888888888888,
             "#fdca26"
            ],
            [
             1,
             "#f0f921"
            ]
           ],
           "sequentialminus": [
            [
             0,
             "#0d0887"
            ],
            [
             0.1111111111111111,
             "#46039f"
            ],
            [
             0.2222222222222222,
             "#7201a8"
            ],
            [
             0.3333333333333333,
             "#9c179e"
            ],
            [
             0.4444444444444444,
             "#bd3786"
            ],
            [
             0.5555555555555556,
             "#d8576b"
            ],
            [
             0.6666666666666666,
             "#ed7953"
            ],
            [
             0.7777777777777778,
             "#fb9f3a"
            ],
            [
             0.8888888888888888,
             "#fdca26"
            ],
            [
             1,
             "#f0f921"
            ]
           ]
          },
          "colorway": [
           "#636efa",
           "#EF553B",
           "#00cc96",
           "#ab63fa",
           "#FFA15A",
           "#19d3f3",
           "#FF6692",
           "#B6E880",
           "#FF97FF",
           "#FECB52"
          ],
          "font": {
           "color": "#2a3f5f"
          },
          "geo": {
           "bgcolor": "white",
           "lakecolor": "white",
           "landcolor": "#E5ECF6",
           "showlakes": true,
           "showland": true,
           "subunitcolor": "white"
          },
          "hoverlabel": {
           "align": "left"
          },
          "hovermode": "closest",
          "mapbox": {
           "style": "light"
          },
          "paper_bgcolor": "white",
          "plot_bgcolor": "#E5ECF6",
          "polar": {
           "angularaxis": {
            "gridcolor": "white",
            "linecolor": "white",
            "ticks": ""
           },
           "bgcolor": "#E5ECF6",
           "radialaxis": {
            "gridcolor": "white",
            "linecolor": "white",
            "ticks": ""
           }
          },
          "scene": {
           "xaxis": {
            "backgroundcolor": "#E5ECF6",
            "gridcolor": "white",
            "gridwidth": 2,
            "linecolor": "white",
            "showbackground": true,
            "ticks": "",
            "zerolinecolor": "white"
           },
           "yaxis": {
            "backgroundcolor": "#E5ECF6",
            "gridcolor": "white",
            "gridwidth": 2,
            "linecolor": "white",
            "showbackground": true,
            "ticks": "",
            "zerolinecolor": "white"
           },
           "zaxis": {
            "backgroundcolor": "#E5ECF6",
            "gridcolor": "white",
            "gridwidth": 2,
            "linecolor": "white",
            "showbackground": true,
            "ticks": "",
            "zerolinecolor": "white"
           }
          },
          "shapedefaults": {
           "line": {
            "color": "#2a3f5f"
           }
          },
          "ternary": {
           "aaxis": {
            "gridcolor": "white",
            "linecolor": "white",
            "ticks": ""
           },
           "baxis": {
            "gridcolor": "white",
            "linecolor": "white",
            "ticks": ""
           },
           "bgcolor": "#E5ECF6",
           "caxis": {
            "gridcolor": "white",
            "linecolor": "white",
            "ticks": ""
           }
          },
          "title": {
           "x": 0.05
          },
          "xaxis": {
           "automargin": true,
           "gridcolor": "white",
           "linecolor": "white",
           "ticks": "",
           "title": {
            "standoff": 15
           },
           "zerolinecolor": "white",
           "zerolinewidth": 2
          },
          "yaxis": {
           "automargin": true,
           "gridcolor": "white",
           "linecolor": "white",
           "ticks": "",
           "title": {
            "standoff": 15
           },
           "zerolinecolor": "white",
           "zerolinewidth": 2
          }
         }
        },
        "xaxis": {
         "anchor": "y",
         "domain": [
          0,
          1
         ],
         "title": {
          "text": "Date"
         }
        },
        "yaxis": {
         "anchor": "x",
         "domain": [
          0,
          1
         ],
         "title": {
          "text": "pct_of_baseline"
         }
        }
       }
      },
      "text/html": [
       "<div>\n",
       "        \n",
       "        \n",
       "            <div id=\"d41b996d-d5bd-4caf-b9c7-a43f45d195c1\" class=\"plotly-graph-div\" style=\"height:525px; width:100%;\"></div>\n",
       "            <script type=\"text/javascript\">\n",
       "                require([\"plotly\"], function(Plotly) {\n",
       "                    window.PLOTLYENV=window.PLOTLYENV || {};\n",
       "                    \n",
       "                if (document.getElementById(\"d41b996d-d5bd-4caf-b9c7-a43f45d195c1\")) {\n",
       "                    Plotly.newPlot(\n",
       "                        'd41b996d-d5bd-4caf-b9c7-a43f45d195c1',\n",
       "                        [{\"hovertemplate\": \"<b>%{hovertext}</b><br><br>transportation_type=driving<br>region=Munich<br>Date=%{x}<br>pct_of_baseline=%{y}<extra></extra>\", \"hovertext\": [\"Munich\", \"Munich\", \"Munich\", \"Munich\", \"Munich\", \"Munich\", \"Munich\", \"Munich\", \"Munich\", \"Munich\", \"Munich\", \"Munich\", \"Munich\", \"Munich\", \"Munich\", \"Munich\", \"Munich\", \"Munich\", \"Munich\", \"Munich\", \"Munich\", \"Munich\", \"Munich\", \"Munich\", \"Munich\", \"Munich\", \"Munich\", \"Munich\", \"Munich\", \"Munich\", \"Munich\", \"Munich\", \"Munich\", \"Munich\", \"Munich\", \"Munich\", \"Munich\", \"Munich\", \"Munich\", \"Munich\", \"Munich\", \"Munich\", \"Munich\", \"Munich\", \"Munich\", \"Munich\", \"Munich\", \"Munich\", \"Munich\", \"Munich\", \"Munich\", \"Munich\", \"Munich\", \"Munich\", \"Munich\", \"Munich\", \"Munich\", \"Munich\", \"Munich\", \"Munich\", \"Munich\", \"Munich\", \"Munich\", \"Munich\", \"Munich\", \"Munich\", \"Munich\", \"Munich\", \"Munich\", \"Munich\", \"Munich\", \"Munich\", \"Munich\", \"Munich\", \"Munich\", \"Munich\", \"Munich\", \"Munich\", \"Munich\", \"Munich\", \"Munich\", \"Munich\", \"Munich\", \"Munich\", \"Munich\", \"Munich\", \"Munich\", \"Munich\", \"Munich\", \"Munich\", \"Munich\", \"Munich\", \"Munich\", \"Munich\", \"Munich\", \"Munich\", \"Munich\", \"Munich\", \"Munich\", \"Munich\", \"Munich\", \"Munich\", \"Munich\", \"Munich\", \"Munich\", \"Munich\", \"Munich\", \"Munich\", \"Munich\", \"Munich\", \"Munich\", \"Munich\", \"Munich\", \"Munich\", \"Munich\", \"Munich\", \"Munich\", \"Munich\", \"Munich\", \"Munich\", \"Munich\", \"Munich\", \"Munich\", \"Munich\", \"Munich\", \"Munich\", \"Munich\", \"Munich\", \"Munich\", \"Munich\", \"Munich\", \"Munich\", \"Munich\", \"Munich\", \"Munich\", \"Munich\", \"Munich\", \"Munich\", \"Munich\", \"Munich\", \"Munich\", \"Munich\", \"Munich\", \"Munich\", \"Munich\", \"Munich\", \"Munich\", \"Munich\", \"Munich\", \"Munich\", \"Munich\", \"Munich\", \"Munich\", \"Munich\", \"Munich\", \"Munich\", \"Munich\", \"Munich\", \"Munich\", \"Munich\", \"Munich\", \"Munich\", \"Munich\", \"Munich\", \"Munich\", \"Munich\", \"Munich\"], \"legendgroup\": \"driving\", \"line\": {\"color\": \"#636efa\", \"dash\": \"solid\"}, \"mode\": \"lines\", \"name\": \"driving\", \"orientation\": \"v\", \"showlegend\": true, \"type\": \"scatter\", \"x\": [\"alternative_name\", \"sub-region\", \"country\", \"2020-01-13\", \"2020-01-14\", \"2020-01-15\", \"2020-01-16\", \"2020-01-17\", \"2020-01-18\", \"2020-01-19\", \"2020-01-20\", \"2020-01-21\", \"2020-01-22\", \"2020-01-23\", \"2020-01-24\", \"2020-01-25\", \"2020-01-26\", \"2020-01-27\", \"2020-01-28\", \"2020-01-29\", \"2020-01-30\", \"2020-01-31\", \"2020-02-01\", \"2020-02-02\", \"2020-02-03\", \"2020-02-04\", \"2020-02-05\", \"2020-02-06\", \"2020-02-07\", \"2020-02-08\", \"2020-02-09\", \"2020-02-10\", \"2020-02-11\", \"2020-02-12\", \"2020-02-13\", \"2020-02-14\", \"2020-02-15\", \"2020-02-16\", \"2020-02-17\", \"2020-02-18\", \"2020-02-19\", \"2020-02-20\", \"2020-02-21\", \"2020-02-22\", \"2020-02-23\", \"2020-02-24\", \"2020-02-25\", \"2020-02-26\", \"2020-02-27\", \"2020-02-28\", \"2020-02-29\", \"2020-03-01\", \"2020-03-02\", \"2020-03-03\", \"2020-03-04\", \"2020-03-05\", \"2020-03-06\", \"2020-03-07\", \"2020-03-08\", \"2020-03-09\", \"2020-03-10\", \"2020-03-11\", \"2020-03-12\", \"2020-03-13\", \"2020-03-14\", \"2020-03-15\", \"2020-03-16\", \"2020-03-17\", \"2020-03-18\", \"2020-03-19\", \"2020-03-20\", \"2020-03-21\", \"2020-03-22\", \"2020-03-23\", \"2020-03-24\", \"2020-03-25\", \"2020-03-26\", \"2020-03-27\", \"2020-03-28\", \"2020-03-29\", \"2020-03-30\", \"2020-03-31\", \"2020-04-01\", \"2020-04-02\", \"2020-04-03\", \"2020-04-04\", \"2020-04-05\", \"2020-04-06\", \"2020-04-07\", \"2020-04-08\", \"2020-04-09\", \"2020-04-10\", \"2020-04-11\", \"2020-04-12\", \"2020-04-13\", \"2020-04-14\", \"2020-04-15\", \"2020-04-16\", \"2020-04-17\", \"2020-04-18\", \"2020-04-19\", \"2020-04-20\", \"2020-04-21\", \"2020-04-22\", \"2020-04-23\", \"2020-04-24\", \"2020-04-25\", \"2020-04-26\", \"2020-04-27\", \"2020-04-28\", \"2020-04-29\", \"2020-04-30\", \"2020-05-01\", \"2020-05-02\", \"2020-05-03\", \"2020-05-04\", \"2020-05-05\", \"2020-05-06\", \"2020-05-07\", \"2020-05-08\", \"2020-05-09\", \"2020-05-10\", \"2020-05-11\", \"2020-05-12\", \"2020-05-13\", \"2020-05-14\", \"2020-05-15\", \"2020-05-16\", \"2020-05-17\", \"2020-05-18\", \"2020-05-19\", \"2020-05-20\", \"2020-05-21\", \"2020-05-22\", \"2020-05-23\", \"2020-05-24\", \"2020-05-25\", \"2020-05-26\", \"2020-05-27\", \"2020-05-28\", \"2020-05-29\", \"2020-05-30\", \"2020-05-31\", \"2020-06-01\", \"2020-06-02\", \"2020-06-03\", \"2020-06-04\", \"2020-06-05\", \"2020-06-06\", \"2020-06-07\", \"2020-06-08\", \"2020-06-09\", \"2020-06-10\", \"2020-06-11\", \"2020-06-12\", \"2020-06-13\", \"2020-06-14\", \"2020-06-15\", \"2020-06-16\", \"2020-06-17\", \"2020-06-18\", \"2020-06-19\", \"2020-06-20\", \"2020-06-21\", \"2020-06-22\", \"2020-06-23\", \"2020-06-24\"], \"xaxis\": \"x\", \"y\": [\"M\\u00fcnchen\", \"Bavaria\", \"Germany\", 100.0, 103.02, 104.46, 106.0, 115.29, 111.22, 101.73, 101.47, 102.38, 103.51, 103.52, 120.44, 120.87, 105.41, 111.16, 123.69, 106.96, 113.8, 126.29, 125.65, 106.25, 114.16, 110.35, 112.4, 111.18, 137.63, 158.87, 126.92, 107.65, 112.65, 111.54, 116.06, 159.51, 164.7, 124.99, 113.51, 110.66, 110.59, 113.27, 162.24, 155.44, 100.24, 97.72, 100.11, 102.02, 110.39, 121.62, 121.26, 106.75, 104.78, 103.71, 102.14, 105.03, 112.06, 112.2, 111.69, 96.49, 99.16, 97.21, 91.02, 85.52, 71.75, 72.41, 66.98, 58.47, 57.51, 51.83, 49.13, 21.13, 26.85, 35.41, 35.27, 36.45, 36.51, 37.13, 33.58, 32.4, 38.6, 40.87, 42.3, 42.82, 39.04, 35.61, 41.46, 46.85, 47.3, 48.86, 46.07, 39.6, 40.3, 36.07, 41.39, 47.83, 50.25, 52.52, 51.26, 46.03, 50.47, 54.51, 55.87, 58.96, 59.59, 55.52, 53.59, 58.49, 60.44, 60.71, 60.76, 59.28, 48.39, 51.97, 60.34, 64.96, 66.41, 71.13, 73.75, 74.07, 64.9, 64.45, null, null, 76.08, 75.97, 77.53, 78.47, 84.73, 90.98, 92.1, 93.6, 85.95, 89.54, 72.78, 81.56, 88.37, 94.55, 95.06, 94.58, 104.4, 93.34, 87.82, 109.73, 108.81, 106.58, 98.97, 98.25, 90.16, 83.26, 97.82, 101.84, 105.7, 99.93, 120.52, 99.29, 91.86, 101.72, 103.32, 105.61, 114.59, 106.95, 98.14, 102.64, 109.11, 120.39, 120.56], \"yaxis\": \"y\"}, {\"hovertemplate\": \"<b>%{hovertext}</b><br><br>transportation_type=walking<br>region=Munich<br>Date=%{x}<br>pct_of_baseline=%{y}<extra></extra>\", \"hovertext\": [\"Munich\", \"Munich\", \"Munich\", \"Munich\", \"Munich\", \"Munich\", \"Munich\", \"Munich\", \"Munich\", \"Munich\", \"Munich\", \"Munich\", \"Munich\", \"Munich\", \"Munich\", \"Munich\", \"Munich\", \"Munich\", \"Munich\", \"Munich\", \"Munich\", \"Munich\", \"Munich\", \"Munich\", \"Munich\", \"Munich\", \"Munich\", \"Munich\", \"Munich\", \"Munich\", \"Munich\", \"Munich\", \"Munich\", \"Munich\", \"Munich\", \"Munich\", \"Munich\", \"Munich\", \"Munich\", \"Munich\", \"Munich\", \"Munich\", \"Munich\", \"Munich\", \"Munich\", \"Munich\", \"Munich\", \"Munich\", \"Munich\", \"Munich\", \"Munich\", \"Munich\", \"Munich\", \"Munich\", \"Munich\", \"Munich\", \"Munich\", \"Munich\", \"Munich\", \"Munich\", \"Munich\", \"Munich\", \"Munich\", \"Munich\", \"Munich\", \"Munich\", \"Munich\", \"Munich\", \"Munich\", \"Munich\", \"Munich\", \"Munich\", \"Munich\", \"Munich\", \"Munich\", \"Munich\", \"Munich\", \"Munich\", \"Munich\", \"Munich\", \"Munich\", \"Munich\", \"Munich\", \"Munich\", \"Munich\", \"Munich\", \"Munich\", \"Munich\", \"Munich\", \"Munich\", \"Munich\", \"Munich\", \"Munich\", \"Munich\", \"Munich\", \"Munich\", \"Munich\", \"Munich\", \"Munich\", \"Munich\", \"Munich\", \"Munich\", \"Munich\", \"Munich\", \"Munich\", \"Munich\", \"Munich\", \"Munich\", \"Munich\", \"Munich\", \"Munich\", \"Munich\", \"Munich\", \"Munich\", \"Munich\", \"Munich\", \"Munich\", \"Munich\", \"Munich\", \"Munich\", \"Munich\", \"Munich\", \"Munich\", \"Munich\", \"Munich\", \"Munich\", \"Munich\", \"Munich\", \"Munich\", \"Munich\", \"Munich\", \"Munich\", \"Munich\", \"Munich\", \"Munich\", \"Munich\", \"Munich\", \"Munich\", \"Munich\", \"Munich\", \"Munich\", \"Munich\", \"Munich\", \"Munich\", \"Munich\", \"Munich\", \"Munich\", \"Munich\", \"Munich\", \"Munich\", \"Munich\", \"Munich\", \"Munich\", \"Munich\", \"Munich\", \"Munich\", \"Munich\", \"Munich\", \"Munich\", \"Munich\", \"Munich\", \"Munich\", \"Munich\", \"Munich\", \"Munich\", \"Munich\", \"Munich\"], \"legendgroup\": \"walking\", \"line\": {\"color\": \"#EF553B\", \"dash\": \"solid\"}, \"mode\": \"lines\", \"name\": \"walking\", \"orientation\": \"v\", \"showlegend\": true, \"type\": \"scatter\", \"x\": [\"alternative_name\", \"sub-region\", \"country\", \"2020-01-13\", \"2020-01-14\", \"2020-01-15\", \"2020-01-16\", \"2020-01-17\", \"2020-01-18\", \"2020-01-19\", \"2020-01-20\", \"2020-01-21\", \"2020-01-22\", \"2020-01-23\", \"2020-01-24\", \"2020-01-25\", \"2020-01-26\", \"2020-01-27\", \"2020-01-28\", \"2020-01-29\", \"2020-01-30\", \"2020-01-31\", \"2020-02-01\", \"2020-02-02\", \"2020-02-03\", \"2020-02-04\", \"2020-02-05\", \"2020-02-06\", \"2020-02-07\", \"2020-02-08\", \"2020-02-09\", \"2020-02-10\", \"2020-02-11\", \"2020-02-12\", \"2020-02-13\", \"2020-02-14\", \"2020-02-15\", \"2020-02-16\", \"2020-02-17\", \"2020-02-18\", \"2020-02-19\", \"2020-02-20\", \"2020-02-21\", \"2020-02-22\", \"2020-02-23\", \"2020-02-24\", \"2020-02-25\", \"2020-02-26\", \"2020-02-27\", \"2020-02-28\", \"2020-02-29\", \"2020-03-01\", \"2020-03-02\", \"2020-03-03\", \"2020-03-04\", \"2020-03-05\", \"2020-03-06\", \"2020-03-07\", \"2020-03-08\", \"2020-03-09\", \"2020-03-10\", \"2020-03-11\", \"2020-03-12\", \"2020-03-13\", \"2020-03-14\", \"2020-03-15\", \"2020-03-16\", \"2020-03-17\", \"2020-03-18\", \"2020-03-19\", \"2020-03-20\", \"2020-03-21\", \"2020-03-22\", \"2020-03-23\", \"2020-03-24\", \"2020-03-25\", \"2020-03-26\", \"2020-03-27\", \"2020-03-28\", \"2020-03-29\", \"2020-03-30\", \"2020-03-31\", \"2020-04-01\", \"2020-04-02\", \"2020-04-03\", \"2020-04-04\", \"2020-04-05\", \"2020-04-06\", \"2020-04-07\", \"2020-04-08\", \"2020-04-09\", \"2020-04-10\", \"2020-04-11\", \"2020-04-12\", \"2020-04-13\", \"2020-04-14\", \"2020-04-15\", \"2020-04-16\", \"2020-04-17\", \"2020-04-18\", \"2020-04-19\", \"2020-04-20\", \"2020-04-21\", \"2020-04-22\", \"2020-04-23\", \"2020-04-24\", \"2020-04-25\", \"2020-04-26\", \"2020-04-27\", \"2020-04-28\", \"2020-04-29\", \"2020-04-30\", \"2020-05-01\", \"2020-05-02\", \"2020-05-03\", \"2020-05-04\", \"2020-05-05\", \"2020-05-06\", \"2020-05-07\", \"2020-05-08\", \"2020-05-09\", \"2020-05-10\", \"2020-05-11\", \"2020-05-12\", \"2020-05-13\", \"2020-05-14\", \"2020-05-15\", \"2020-05-16\", \"2020-05-17\", \"2020-05-18\", \"2020-05-19\", \"2020-05-20\", \"2020-05-21\", \"2020-05-22\", \"2020-05-23\", \"2020-05-24\", \"2020-05-25\", \"2020-05-26\", \"2020-05-27\", \"2020-05-28\", \"2020-05-29\", \"2020-05-30\", \"2020-05-31\", \"2020-06-01\", \"2020-06-02\", \"2020-06-03\", \"2020-06-04\", \"2020-06-05\", \"2020-06-06\", \"2020-06-07\", \"2020-06-08\", \"2020-06-09\", \"2020-06-10\", \"2020-06-11\", \"2020-06-12\", \"2020-06-13\", \"2020-06-14\", \"2020-06-15\", \"2020-06-16\", \"2020-06-17\", \"2020-06-18\", \"2020-06-19\", \"2020-06-20\", \"2020-06-21\", \"2020-06-22\", \"2020-06-23\", \"2020-06-24\"], \"xaxis\": \"x\", \"y\": [\"M\\u00fcnchen\", \"Bavaria\", \"Germany\", 100.0, 106.97, 110.12, 107.98, 129.5, 125.08, 82.58, 99.78, 99.66, 101.06, 105.38, 129.42, 162.32, 100.26, 111.97, 105.1, 106.25, 111.34, 125.7, 142.02, 87.23, 96.47, 107.16, 117.52, 119.34, 139.29, 169.22, 120.82, 91.77, 102.01, 109.56, 124.33, 150.02, 166.21, 110.54, 120.75, 120.05, 111.66, 120.0, 142.95, 164.07, 87.62, 103.66, 100.78, 95.03, 100.46, 118.45, 140.44, 102.79, 106.55, 101.01, 104.39, 104.92, 121.93, 136.66, 112.14, 93.85, 88.06, 99.45, 96.23, 87.97, 89.21, 86.21, 65.27, 50.46, 53.66, 48.68, 43.92, 17.55, 28.63, 30.41, 31.0, 29.53, 30.22, 41.25, 53.19, 28.54, 30.41, 35.11, 39.77, 43.12, 42.39, 51.83, 67.19, 47.71, 46.78, 46.74, 46.78, 60.27, 54.35, 56.69, 46.79, 37.9, 46.34, 52.48, 56.09, 60.41, 61.05, 47.6, 48.74, 55.39, 56.72, 53.56, 67.39, 73.75, 53.83, 44.42, 43.59, 46.71, 41.46, 42.7, 62.45, 53.16, 55.6, 65.9, 71.13, 72.53, 66.63, 53.13, null, null, 49.69, 57.08, 60.61, 76.47, 80.53, 82.21, 81.72, 77.38, 83.19, 84.27, 54.26, 66.54, 68.15, 77.36, 82.3, 75.33, 83.04, 90.98, 81.33, 101.69, 103.72, 99.07, 77.24, 81.98, 97.97, 51.35, 82.1, 81.79, 78.78, 90.93, 133.65, 113.21, 53.53, 70.12, 83.4, 85.59, 98.74, 87.5, 97.65, 85.37, 94.86, 110.79, 112.21], \"yaxis\": \"y\"}],\n",
       "                        {\"legend\": {\"title\": {\"text\": \"transportation_type\"}, \"tracegroupgap\": 0}, \"margin\": {\"t\": 60}, \"template\": {\"data\": {\"bar\": [{\"error_x\": {\"color\": \"#2a3f5f\"}, \"error_y\": {\"color\": \"#2a3f5f\"}, \"marker\": {\"line\": {\"color\": \"#E5ECF6\", \"width\": 0.5}}, \"type\": \"bar\"}], \"barpolar\": [{\"marker\": {\"line\": {\"color\": \"#E5ECF6\", \"width\": 0.5}}, \"type\": \"barpolar\"}], \"carpet\": [{\"aaxis\": {\"endlinecolor\": \"#2a3f5f\", \"gridcolor\": \"white\", \"linecolor\": \"white\", \"minorgridcolor\": \"white\", \"startlinecolor\": \"#2a3f5f\"}, \"baxis\": {\"endlinecolor\": \"#2a3f5f\", \"gridcolor\": \"white\", \"linecolor\": \"white\", \"minorgridcolor\": \"white\", \"startlinecolor\": \"#2a3f5f\"}, \"type\": \"carpet\"}], \"choropleth\": [{\"colorbar\": {\"outlinewidth\": 0, \"ticks\": \"\"}, \"type\": \"choropleth\"}], \"contour\": [{\"colorbar\": {\"outlinewidth\": 0, \"ticks\": \"\"}, \"colorscale\": [[0.0, \"#0d0887\"], [0.1111111111111111, \"#46039f\"], [0.2222222222222222, \"#7201a8\"], [0.3333333333333333, \"#9c179e\"], [0.4444444444444444, \"#bd3786\"], [0.5555555555555556, \"#d8576b\"], [0.6666666666666666, \"#ed7953\"], [0.7777777777777778, \"#fb9f3a\"], [0.8888888888888888, \"#fdca26\"], [1.0, \"#f0f921\"]], \"type\": \"contour\"}], \"contourcarpet\": [{\"colorbar\": {\"outlinewidth\": 0, \"ticks\": \"\"}, \"type\": \"contourcarpet\"}], \"heatmap\": [{\"colorbar\": {\"outlinewidth\": 0, \"ticks\": \"\"}, \"colorscale\": [[0.0, \"#0d0887\"], [0.1111111111111111, \"#46039f\"], [0.2222222222222222, \"#7201a8\"], [0.3333333333333333, \"#9c179e\"], [0.4444444444444444, \"#bd3786\"], [0.5555555555555556, \"#d8576b\"], [0.6666666666666666, \"#ed7953\"], [0.7777777777777778, \"#fb9f3a\"], [0.8888888888888888, \"#fdca26\"], [1.0, \"#f0f921\"]], \"type\": \"heatmap\"}], \"heatmapgl\": [{\"colorbar\": {\"outlinewidth\": 0, \"ticks\": \"\"}, \"colorscale\": [[0.0, \"#0d0887\"], [0.1111111111111111, \"#46039f\"], [0.2222222222222222, \"#7201a8\"], [0.3333333333333333, \"#9c179e\"], [0.4444444444444444, \"#bd3786\"], [0.5555555555555556, \"#d8576b\"], [0.6666666666666666, \"#ed7953\"], [0.7777777777777778, \"#fb9f3a\"], [0.8888888888888888, \"#fdca26\"], [1.0, \"#f0f921\"]], \"type\": \"heatmapgl\"}], \"histogram\": [{\"marker\": {\"colorbar\": {\"outlinewidth\": 0, \"ticks\": \"\"}}, \"type\": \"histogram\"}], \"histogram2d\": [{\"colorbar\": {\"outlinewidth\": 0, \"ticks\": \"\"}, \"colorscale\": [[0.0, \"#0d0887\"], [0.1111111111111111, \"#46039f\"], [0.2222222222222222, \"#7201a8\"], [0.3333333333333333, \"#9c179e\"], [0.4444444444444444, \"#bd3786\"], [0.5555555555555556, \"#d8576b\"], [0.6666666666666666, \"#ed7953\"], [0.7777777777777778, \"#fb9f3a\"], [0.8888888888888888, \"#fdca26\"], [1.0, \"#f0f921\"]], \"type\": \"histogram2d\"}], \"histogram2dcontour\": [{\"colorbar\": {\"outlinewidth\": 0, \"ticks\": \"\"}, \"colorscale\": [[0.0, \"#0d0887\"], [0.1111111111111111, \"#46039f\"], [0.2222222222222222, \"#7201a8\"], [0.3333333333333333, \"#9c179e\"], [0.4444444444444444, \"#bd3786\"], [0.5555555555555556, \"#d8576b\"], [0.6666666666666666, \"#ed7953\"], [0.7777777777777778, \"#fb9f3a\"], [0.8888888888888888, \"#fdca26\"], [1.0, \"#f0f921\"]], \"type\": \"histogram2dcontour\"}], \"mesh3d\": [{\"colorbar\": {\"outlinewidth\": 0, \"ticks\": \"\"}, \"type\": \"mesh3d\"}], \"parcoords\": [{\"line\": {\"colorbar\": {\"outlinewidth\": 0, \"ticks\": \"\"}}, \"type\": \"parcoords\"}], \"pie\": [{\"automargin\": true, \"type\": \"pie\"}], \"scatter\": [{\"marker\": {\"colorbar\": {\"outlinewidth\": 0, \"ticks\": \"\"}}, \"type\": \"scatter\"}], \"scatter3d\": [{\"line\": {\"colorbar\": {\"outlinewidth\": 0, \"ticks\": \"\"}}, \"marker\": {\"colorbar\": {\"outlinewidth\": 0, \"ticks\": \"\"}}, \"type\": \"scatter3d\"}], \"scattercarpet\": [{\"marker\": {\"colorbar\": {\"outlinewidth\": 0, \"ticks\": \"\"}}, \"type\": \"scattercarpet\"}], \"scattergeo\": [{\"marker\": {\"colorbar\": {\"outlinewidth\": 0, \"ticks\": \"\"}}, \"type\": \"scattergeo\"}], \"scattergl\": [{\"marker\": {\"colorbar\": {\"outlinewidth\": 0, \"ticks\": \"\"}}, \"type\": \"scattergl\"}], \"scattermapbox\": [{\"marker\": {\"colorbar\": {\"outlinewidth\": 0, \"ticks\": \"\"}}, \"type\": \"scattermapbox\"}], \"scatterpolar\": [{\"marker\": {\"colorbar\": {\"outlinewidth\": 0, \"ticks\": \"\"}}, \"type\": \"scatterpolar\"}], \"scatterpolargl\": [{\"marker\": {\"colorbar\": {\"outlinewidth\": 0, \"ticks\": \"\"}}, \"type\": \"scatterpolargl\"}], \"scatterternary\": [{\"marker\": {\"colorbar\": {\"outlinewidth\": 0, \"ticks\": \"\"}}, \"type\": \"scatterternary\"}], \"surface\": [{\"colorbar\": {\"outlinewidth\": 0, \"ticks\": \"\"}, \"colorscale\": [[0.0, \"#0d0887\"], [0.1111111111111111, \"#46039f\"], [0.2222222222222222, \"#7201a8\"], [0.3333333333333333, \"#9c179e\"], [0.4444444444444444, \"#bd3786\"], [0.5555555555555556, \"#d8576b\"], [0.6666666666666666, \"#ed7953\"], [0.7777777777777778, \"#fb9f3a\"], [0.8888888888888888, \"#fdca26\"], [1.0, \"#f0f921\"]], \"type\": \"surface\"}], \"table\": [{\"cells\": {\"fill\": {\"color\": \"#EBF0F8\"}, \"line\": {\"color\": \"white\"}}, \"header\": {\"fill\": {\"color\": \"#C8D4E3\"}, \"line\": {\"color\": \"white\"}}, \"type\": \"table\"}]}, \"layout\": {\"annotationdefaults\": {\"arrowcolor\": \"#2a3f5f\", \"arrowhead\": 0, \"arrowwidth\": 1}, \"coloraxis\": {\"colorbar\": {\"outlinewidth\": 0, \"ticks\": \"\"}}, \"colorscale\": {\"diverging\": [[0, \"#8e0152\"], [0.1, \"#c51b7d\"], [0.2, \"#de77ae\"], [0.3, \"#f1b6da\"], [0.4, \"#fde0ef\"], [0.5, \"#f7f7f7\"], [0.6, \"#e6f5d0\"], [0.7, \"#b8e186\"], [0.8, \"#7fbc41\"], [0.9, \"#4d9221\"], [1, \"#276419\"]], \"sequential\": [[0.0, \"#0d0887\"], [0.1111111111111111, \"#46039f\"], [0.2222222222222222, \"#7201a8\"], [0.3333333333333333, \"#9c179e\"], [0.4444444444444444, \"#bd3786\"], [0.5555555555555556, \"#d8576b\"], [0.6666666666666666, \"#ed7953\"], [0.7777777777777778, \"#fb9f3a\"], [0.8888888888888888, \"#fdca26\"], [1.0, \"#f0f921\"]], \"sequentialminus\": [[0.0, \"#0d0887\"], [0.1111111111111111, \"#46039f\"], [0.2222222222222222, \"#7201a8\"], [0.3333333333333333, \"#9c179e\"], [0.4444444444444444, \"#bd3786\"], [0.5555555555555556, \"#d8576b\"], [0.6666666666666666, \"#ed7953\"], [0.7777777777777778, \"#fb9f3a\"], [0.8888888888888888, \"#fdca26\"], [1.0, \"#f0f921\"]]}, \"colorway\": [\"#636efa\", \"#EF553B\", \"#00cc96\", \"#ab63fa\", \"#FFA15A\", \"#19d3f3\", \"#FF6692\", \"#B6E880\", \"#FF97FF\", \"#FECB52\"], \"font\": {\"color\": \"#2a3f5f\"}, \"geo\": {\"bgcolor\": \"white\", \"lakecolor\": \"white\", \"landcolor\": \"#E5ECF6\", \"showlakes\": true, \"showland\": true, \"subunitcolor\": \"white\"}, \"hoverlabel\": {\"align\": \"left\"}, \"hovermode\": \"closest\", \"mapbox\": {\"style\": \"light\"}, \"paper_bgcolor\": \"white\", \"plot_bgcolor\": \"#E5ECF6\", \"polar\": {\"angularaxis\": {\"gridcolor\": \"white\", \"linecolor\": \"white\", \"ticks\": \"\"}, \"bgcolor\": \"#E5ECF6\", \"radialaxis\": {\"gridcolor\": \"white\", \"linecolor\": \"white\", \"ticks\": \"\"}}, \"scene\": {\"xaxis\": {\"backgroundcolor\": \"#E5ECF6\", \"gridcolor\": \"white\", \"gridwidth\": 2, \"linecolor\": \"white\", \"showbackground\": true, \"ticks\": \"\", \"zerolinecolor\": \"white\"}, \"yaxis\": {\"backgroundcolor\": \"#E5ECF6\", \"gridcolor\": \"white\", \"gridwidth\": 2, \"linecolor\": \"white\", \"showbackground\": true, \"ticks\": \"\", \"zerolinecolor\": \"white\"}, \"zaxis\": {\"backgroundcolor\": \"#E5ECF6\", \"gridcolor\": \"white\", \"gridwidth\": 2, \"linecolor\": \"white\", \"showbackground\": true, \"ticks\": \"\", \"zerolinecolor\": \"white\"}}, \"shapedefaults\": {\"line\": {\"color\": \"#2a3f5f\"}}, \"ternary\": {\"aaxis\": {\"gridcolor\": \"white\", \"linecolor\": \"white\", \"ticks\": \"\"}, \"baxis\": {\"gridcolor\": \"white\", \"linecolor\": \"white\", \"ticks\": \"\"}, \"bgcolor\": \"#E5ECF6\", \"caxis\": {\"gridcolor\": \"white\", \"linecolor\": \"white\", \"ticks\": \"\"}}, \"title\": {\"x\": 0.05}, \"xaxis\": {\"automargin\": true, \"gridcolor\": \"white\", \"linecolor\": \"white\", \"ticks\": \"\", \"title\": {\"standoff\": 15}, \"zerolinecolor\": \"white\", \"zerolinewidth\": 2}, \"yaxis\": {\"automargin\": true, \"gridcolor\": \"white\", \"linecolor\": \"white\", \"ticks\": \"\", \"title\": {\"standoff\": 15}, \"zerolinecolor\": \"white\", \"zerolinewidth\": 2}}}, \"xaxis\": {\"anchor\": \"y\", \"domain\": [0.0, 1.0], \"title\": {\"text\": \"Date\"}}, \"yaxis\": {\"anchor\": \"x\", \"domain\": [0.0, 1.0], \"title\": {\"text\": \"pct_of_baseline\"}}},\n",
       "                        {\"responsive\": true}\n",
       "                    ).then(function(){\n",
       "                            \n",
       "var gd = document.getElementById('d41b996d-d5bd-4caf-b9c7-a43f45d195c1');\n",
       "var x = new MutationObserver(function (mutations, observer) {{\n",
       "        var display = window.getComputedStyle(gd).display;\n",
       "        if (!display || display === 'none') {{\n",
       "            console.log([gd, 'removed!']);\n",
       "            Plotly.purge(gd);\n",
       "            observer.disconnect();\n",
       "        }}\n",
       "}});\n",
       "\n",
       "// Listen for the removal of the full notebook cells\n",
       "var notebookContainer = gd.closest('#notebook-container');\n",
       "if (notebookContainer) {{\n",
       "    x.observe(notebookContainer, {childList: true});\n",
       "}}\n",
       "\n",
       "// Listen for the clearing of the current output cell\n",
       "var outputEl = gd.closest('.output');\n",
       "if (outputEl) {{\n",
       "    x.observe(outputEl, {childList: true});\n",
       "}}\n",
       "\n",
       "                        })\n",
       "                };\n",
       "                });\n",
       "            </script>\n",
       "        </div>"
      ]
     },
     "metadata": {},
     "output_type": "display_data"
    }
   ],
   "source": [
    "\n",
    "import plotly.express as px\n",
    "#Make list of any cities to plot\n",
    "to_show = [\"Munich\"]\n",
    "\n",
    "#Plot\n",
    "df = mobility_cities_melted[mobility_cities_melted[\"region\"].isin(to_show)]\n",
    "fig = px.line(df, x=\"Date\", y=\"pct_of_baseline\", color=\"transportation_type\",\n",
    "              line_group=\"region\", hover_name=\"region\")\n",
    "fig.show()"
   ]
  }
 ],
 "metadata": {
  "kernelspec": {
   "display_name": "Python 3",
   "language": "python",
   "name": "python3"
  },
  "language_info": {
   "codemirror_mode": {
    "name": "ipython",
    "version": 3
   },
   "file_extension": ".py",
   "mimetype": "text/x-python",
   "name": "python",
   "nbconvert_exporter": "python",
   "pygments_lexer": "ipython3",
   "version": "3.7.4"
  }
 },
 "nbformat": 4,
 "nbformat_minor": 2
}
